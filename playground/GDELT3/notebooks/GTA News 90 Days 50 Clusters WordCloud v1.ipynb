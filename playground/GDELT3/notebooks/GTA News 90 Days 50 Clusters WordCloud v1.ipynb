{
 "cells": [
  {
   "cell_type": "markdown",
   "metadata": {},
   "source": [
    "#  GTA News 50 Clusters Chart"
   ]
  },
  {
   "cell_type": "markdown",
   "metadata": {},
   "source": [
    "## Set presentation parameters"
   ]
  },
  {
   "cell_type": "code",
   "execution_count": 1,
   "metadata": {},
   "outputs": [],
   "source": [
    "img_pix_x = 1600\n",
    "img_pix_y = 1200"
   ]
  },
  {
   "cell_type": "markdown",
   "metadata": {},
   "source": [
    "## Load 50 cluster dataframe"
   ]
  },
  {
   "cell_type": "code",
   "execution_count": 2,
   "metadata": {},
   "outputs": [],
   "source": [
    "import os\n",
    "from os import listdir\n",
    "from os.path import isfile, join\n",
    "import pandas as pd\n",
    "from collections import Counter\n",
    "\n",
    "# directories\n",
    "dir_path = os.getcwd()\n",
    "#print('Working dir: ' + dir_path)\n",
    "\n",
    "local_path = dir_path + '\\\\..\\\\gta-news\\\\doc2vec\\data\\\\'\n",
    "df = pd.read_pickle(local_path+'backup'+'-gta.50'+'.pickle')"
   ]
  },
  {
   "cell_type": "code",
   "execution_count": 3,
   "metadata": {},
   "outputs": [
    {
     "data": {
      "text/html": [
       "<div>\n",
       "<style scoped>\n",
       "    .dataframe tbody tr th:only-of-type {\n",
       "        vertical-align: middle;\n",
       "    }\n",
       "\n",
       "    .dataframe tbody tr th {\n",
       "        vertical-align: top;\n",
       "    }\n",
       "\n",
       "    .dataframe thead th {\n",
       "        text-align: right;\n",
       "    }\n",
       "</style>\n",
       "<table border=\"1\" class=\"dataframe\">\n",
       "  <thead>\n",
       "    <tr style=\"text-align: right;\">\n",
       "      <th></th>\n",
       "      <th>date</th>\n",
       "      <th>title</th>\n",
       "      <th>url</th>\n",
       "      <th>cluster</th>\n",
       "      <th>vector</th>\n",
       "    </tr>\n",
       "  </thead>\n",
       "  <tbody>\n",
       "    <tr>\n",
       "      <th>0</th>\n",
       "      <td>2019-04-20</td>\n",
       "      <td>\"this is why we can't have nice things in nyc,...</td>\n",
       "      <td>http://dagblog.com/reader-blogs/why-we-cant-ha...</td>\n",
       "      <td>13</td>\n",
       "      <td>[-0.47769657, 0.3672163, 0.23536347, 0.5756423...</td>\n",
       "    </tr>\n",
       "    <tr>\n",
       "      <th>1</th>\n",
       "      <td>2019-04-20</td>\n",
       "      <td>rural book borrowing in peril as libraries sla...</td>\n",
       "      <td>http://easternontarionetwork.com/2019/04/20/ru...</td>\n",
       "      <td>13</td>\n",
       "      <td>[-0.5722261, -0.26479113, -0.1152498, 0.664171...</td>\n",
       "    </tr>\n",
       "    <tr>\n",
       "      <th>2</th>\n",
       "      <td>2019-04-20</td>\n",
       "      <td>\"discussing canada's new us-focused cannabis e...</td>\n",
       "      <td>http://www.benzinga.com/markets/cannabis/19/04...</td>\n",
       "      <td>11</td>\n",
       "      <td>[0.54588157, -0.26139393, -0.18809983, -0.0384...</td>\n",
       "    </tr>\n",
       "    <tr>\n",
       "      <th>3</th>\n",
       "      <td>2019-04-20</td>\n",
       "      <td>serea restaurant slated to open in hotel del c...</td>\n",
       "      <td>http://www.coronadonewsca.com/news/coronado_ho...</td>\n",
       "      <td>25</td>\n",
       "      <td>[-0.28711024, -0.2106441, -0.61289483, 0.04533...</td>\n",
       "    </tr>\n",
       "    <tr>\n",
       "      <th>4</th>\n",
       "      <td>2019-04-20</td>\n",
       "      <td>federal trial of vernon man accused of abducti...</td>\n",
       "      <td>http://www.courant.com/news/connecticut/hc-new...</td>\n",
       "      <td>46</td>\n",
       "      <td>[0.062113207, 0.0157832, 0.23044105, 0.4720517...</td>\n",
       "    </tr>\n",
       "  </tbody>\n",
       "</table>\n",
       "</div>"
      ],
      "text/plain": [
       "        date                                              title  \\\n",
       "0 2019-04-20  \"this is why we can't have nice things in nyc,...   \n",
       "1 2019-04-20  rural book borrowing in peril as libraries sla...   \n",
       "2 2019-04-20  \"discussing canada's new us-focused cannabis e...   \n",
       "3 2019-04-20  serea restaurant slated to open in hotel del c...   \n",
       "4 2019-04-20  federal trial of vernon man accused of abducti...   \n",
       "\n",
       "                                                 url  cluster  \\\n",
       "0  http://dagblog.com/reader-blogs/why-we-cant-ha...       13   \n",
       "1  http://easternontarionetwork.com/2019/04/20/ru...       13   \n",
       "2  http://www.benzinga.com/markets/cannabis/19/04...       11   \n",
       "3  http://www.coronadonewsca.com/news/coronado_ho...       25   \n",
       "4  http://www.courant.com/news/connecticut/hc-new...       46   \n",
       "\n",
       "                                              vector  \n",
       "0  [-0.47769657, 0.3672163, 0.23536347, 0.5756423...  \n",
       "1  [-0.5722261, -0.26479113, -0.1152498, 0.664171...  \n",
       "2  [0.54588157, -0.26139393, -0.18809983, -0.0384...  \n",
       "3  [-0.28711024, -0.2106441, -0.61289483, 0.04533...  \n",
       "4  [0.062113207, 0.0157832, 0.23044105, 0.4720517...  "
      ]
     },
     "execution_count": 3,
     "metadata": {},
     "output_type": "execute_result"
    }
   ],
   "source": [
    "df.head()"
   ]
  },
  {
   "cell_type": "markdown",
   "metadata": {},
   "source": [
    "## Get cluster descriptions from titles"
   ]
  },
  {
   "cell_type": "code",
   "execution_count": 4,
   "metadata": {},
   "outputs": [
    {
     "name": "stdout",
     "output_type": "stream",
     "text": [
      "[nltk_data] Downloading package wordnet to\n",
      "[nltk_data]     C:\\Users\\ibaranov\\AppData\\Roaming\\nltk_data...\n",
      "[nltk_data]   Package wordnet is already up-to-date!\n",
      "[nltk_data] Downloading package stopwords to\n",
      "[nltk_data]     C:\\Users\\ibaranov\\AppData\\Roaming\\nltk_data...\n",
      "[nltk_data]   Package stopwords is already up-to-date!\n"
     ]
    }
   ],
   "source": [
    "import os\n",
    "import sys\n",
    "module_path = os.path.abspath(os.path.join('../gta-news/doc2vec'))\n",
    "if module_path not in sys.path:\n",
    "    sys.path.append(module_path)\n",
    "\n",
    "import d2v_utils\n",
    "skip_terms =['toronto','canada','canadian','ontario']\n",
    "cluster_descr = []\n",
    "clusters = df.groupby(['cluster'])['title']\n",
    "for cluster, titles in clusters:\n",
    "    #print(\"\\nCluster: \", cluster)\n",
    "    filtered_words = []\n",
    "    for title in titles:\n",
    "        t = title[0:-4]\n",
    "        #print(\">>>\", t)\n",
    "        tokens = d2v_utils.prepare_text_for_lda(t)\n",
    "        tokens = [word for word in tokens if word not in skip_terms and not word.isdigit()]\n",
    "        #print(\"  >\", tokens)\n",
    "        filtered_words = filtered_words + tokens\n",
    "    count = Counter(filtered_words)\n",
    "    current_clust_descr = count.most_common()[:10] \n",
    "    cluster_descr.append(current_clust_descr)\n",
    "\n",
    "clust_num = len(cluster_descr)"
   ]
  },
  {
   "cell_type": "code",
   "execution_count": 5,
   "metadata": {},
   "outputs": [
    {
     "name": "stdout",
     "output_type": "stream",
     "text": [
      "[('announce', 195), ('result', 47), ('cannabis', 44), ('project', 43), ('update', 43)]\n",
      "[('refugee', 54), ('asylum', 47), ('snowden', 46), ('shelter', 45), ('grant', 30)]\n",
      "[('weather', 22), ('winter', 21), ('storm', 16), ('school', 11), ('sweep', 9)]\n",
      "[('cannabis', 69), ('store', 26), ('legal', 17), ('medical', 14), ('illegal', 14)]\n",
      "[('woman', 21), ('survivor', 18), ('family', 16), ('years', 13), ('holocaust', 13)]\n",
      "[('research', 19), ('university', 18), ('innovation', 14), ('better', 13), ('company', 13)]\n"
     ]
    }
   ],
   "source": [
    "print(cluster_descr[0][0:5])\n",
    "print(cluster_descr[1][0:5])\n",
    "print(cluster_descr[2][0:5])\n",
    "print(cluster_descr[3][0:5])\n",
    "print(cluster_descr[4][0:5])\n",
    "print(cluster_descr[5][0:5])"
   ]
  },
  {
   "cell_type": "markdown",
   "metadata": {},
   "source": [
    "## TODO: Project clustering to 2D using PCA"
   ]
  },
  {
   "cell_type": "code",
   "execution_count": 6,
   "metadata": {},
   "outputs": [],
   "source": [
    "#from sklearn.decomposition import PCA\n",
    "#pca = PCA(n_components=2)\n",
    "#principalComponents = pca.fit_transform(x)\n",
    "#principalDf = pd.DataFrame(data = principalComponents\n",
    "#             , columns = ['principal component 1', 'principal component 2'])"
   ]
  },
  {
   "cell_type": "markdown",
   "metadata": {},
   "source": [
    "## Create clusters X,Y randomly"
   ]
  },
  {
   "cell_type": "code",
   "execution_count": 7,
   "metadata": {},
   "outputs": [
    {
     "data": {
      "text/html": [
       "<div>\n",
       "<style scoped>\n",
       "    .dataframe tbody tr th:only-of-type {\n",
       "        vertical-align: middle;\n",
       "    }\n",
       "\n",
       "    .dataframe tbody tr th {\n",
       "        vertical-align: top;\n",
       "    }\n",
       "\n",
       "    .dataframe thead th {\n",
       "        text-align: right;\n",
       "    }\n",
       "</style>\n",
       "<table border=\"1\" class=\"dataframe\">\n",
       "  <thead>\n",
       "    <tr style=\"text-align: right;\">\n",
       "      <th></th>\n",
       "      <th>date</th>\n",
       "      <th>cluster</th>\n",
       "      <th>count</th>\n",
       "      <th>x</th>\n",
       "      <th>y</th>\n",
       "    </tr>\n",
       "  </thead>\n",
       "  <tbody>\n",
       "    <tr>\n",
       "      <th>0</th>\n",
       "      <td>2019-01-21</td>\n",
       "      <td>0</td>\n",
       "      <td>8</td>\n",
       "      <td>0.515229</td>\n",
       "      <td>0.113290</td>\n",
       "    </tr>\n",
       "    <tr>\n",
       "      <th>1</th>\n",
       "      <td>2019-01-21</td>\n",
       "      <td>1</td>\n",
       "      <td>2</td>\n",
       "      <td>0.213407</td>\n",
       "      <td>0.675901</td>\n",
       "    </tr>\n",
       "    <tr>\n",
       "      <th>2</th>\n",
       "      <td>2019-01-21</td>\n",
       "      <td>2</td>\n",
       "      <td>3</td>\n",
       "      <td>0.103257</td>\n",
       "      <td>0.108141</td>\n",
       "    </tr>\n",
       "    <tr>\n",
       "      <th>3</th>\n",
       "      <td>2019-01-21</td>\n",
       "      <td>3</td>\n",
       "      <td>2</td>\n",
       "      <td>0.674396</td>\n",
       "      <td>0.802059</td>\n",
       "    </tr>\n",
       "    <tr>\n",
       "      <th>4</th>\n",
       "      <td>2019-01-21</td>\n",
       "      <td>4</td>\n",
       "      <td>1</td>\n",
       "      <td>0.142574</td>\n",
       "      <td>0.474956</td>\n",
       "    </tr>\n",
       "  </tbody>\n",
       "</table>\n",
       "</div>"
      ],
      "text/plain": [
       "        date  cluster  count         x         y\n",
       "0 2019-01-21        0      8  0.515229  0.113290\n",
       "1 2019-01-21        1      2  0.213407  0.675901\n",
       "2 2019-01-21        2      3  0.103257  0.108141\n",
       "3 2019-01-21        3      2  0.674396  0.802059\n",
       "4 2019-01-21        4      1  0.142574  0.474956"
      ]
     },
     "execution_count": 7,
     "metadata": {},
     "output_type": "execute_result"
    }
   ],
   "source": [
    "dfAggr = df[['date','cluster']].groupby(['date','cluster'])\\\n",
    "    .first().sort_values(['date','cluster']).reset_index()\n",
    "\n",
    "dfCount = df.groupby(['date','cluster'])['cluster']\\\n",
    "    .agg('count').to_frame('count')\\\n",
    "    .sort_values(['date','cluster']).reset_index()['count']\n",
    "\n",
    "dfAggr['count'] = dfCount\n",
    "\n",
    "# temporary RANDOM\n",
    "import random\n",
    "import numpy as np\n",
    "random.seed(11)\n",
    "dfAggr['x'] = 0.0\n",
    "dfAggr['y'] = 0.0\n",
    "sampl_x = np.random.uniform(low=0.0, high=1.0, size=(clust_num,))\n",
    "sampl_y = np.random.uniform(low=0.0, high=1.0, size=(clust_num,))\n",
    "for i, row in dfAggr.iterrows():\n",
    "    dfAggr.at[i,'x'] = sampl_x[row.cluster]\n",
    "    dfAggr.at[i,'y'] = sampl_y[row.cluster]\n",
    "\n",
    "dfAggr.head()"
   ]
  },
  {
   "cell_type": "markdown",
   "metadata": {},
   "source": [
    "## Add day column"
   ]
  },
  {
   "cell_type": "code",
   "execution_count": 8,
   "metadata": {},
   "outputs": [
    {
     "data": {
      "text/html": [
       "<div>\n",
       "<style scoped>\n",
       "    .dataframe tbody tr th:only-of-type {\n",
       "        vertical-align: middle;\n",
       "    }\n",
       "\n",
       "    .dataframe tbody tr th {\n",
       "        vertical-align: top;\n",
       "    }\n",
       "\n",
       "    .dataframe thead th {\n",
       "        text-align: right;\n",
       "    }\n",
       "</style>\n",
       "<table border=\"1\" class=\"dataframe\">\n",
       "  <thead>\n",
       "    <tr style=\"text-align: right;\">\n",
       "      <th></th>\n",
       "      <th>date</th>\n",
       "      <th>cluster</th>\n",
       "      <th>count</th>\n",
       "      <th>x</th>\n",
       "      <th>y</th>\n",
       "      <th>day</th>\n",
       "    </tr>\n",
       "  </thead>\n",
       "  <tbody>\n",
       "    <tr>\n",
       "      <th>4</th>\n",
       "      <td>2019-01-21</td>\n",
       "      <td>4</td>\n",
       "      <td>1</td>\n",
       "      <td>0.142574</td>\n",
       "      <td>0.474956</td>\n",
       "      <td>21</td>\n",
       "    </tr>\n",
       "    <tr>\n",
       "      <th>14</th>\n",
       "      <td>2019-01-21</td>\n",
       "      <td>16</td>\n",
       "      <td>1</td>\n",
       "      <td>0.892200</td>\n",
       "      <td>0.902983</td>\n",
       "      <td>21</td>\n",
       "    </tr>\n",
       "    <tr>\n",
       "      <th>15</th>\n",
       "      <td>2019-01-21</td>\n",
       "      <td>17</td>\n",
       "      <td>1</td>\n",
       "      <td>0.428275</td>\n",
       "      <td>0.405068</td>\n",
       "      <td>21</td>\n",
       "    </tr>\n",
       "    <tr>\n",
       "      <th>17</th>\n",
       "      <td>2019-01-21</td>\n",
       "      <td>19</td>\n",
       "      <td>1</td>\n",
       "      <td>0.340101</td>\n",
       "      <td>0.752801</td>\n",
       "      <td>21</td>\n",
       "    </tr>\n",
       "    <tr>\n",
       "      <th>20</th>\n",
       "      <td>2019-01-21</td>\n",
       "      <td>22</td>\n",
       "      <td>1</td>\n",
       "      <td>0.100062</td>\n",
       "      <td>0.786072</td>\n",
       "      <td>21</td>\n",
       "    </tr>\n",
       "  </tbody>\n",
       "</table>\n",
       "</div>"
      ],
      "text/plain": [
       "         date  cluster  count         x         y  day\n",
       "4  2019-01-21        4      1  0.142574  0.474956   21\n",
       "14 2019-01-21       16      1  0.892200  0.902983   21\n",
       "15 2019-01-21       17      1  0.428275  0.405068   21\n",
       "17 2019-01-21       19      1  0.340101  0.752801   21\n",
       "20 2019-01-21       22      1  0.100062  0.786072   21"
      ]
     },
     "execution_count": 8,
     "metadata": {},
     "output_type": "execute_result"
    }
   ],
   "source": [
    "dfChart = dfAggr[['date','cluster','count','x','y']].sort_values(['date','count'], ascending=[True,True])\n",
    "#dfChart = dfChart[dfChart['count'] > 2]\n",
    "\n",
    "#add 'day' column\n",
    "new_year_day = pd.Timestamp(year=2019, month=1, day=1)\n",
    "dfChart['day'] = 0\n",
    "for i, row in dfChart.iterrows():\n",
    "    dfChart.at[i,'day'] = (row['date'] - new_year_day).days + 1\n",
    "\n",
    "\n",
    "dfChart.head()"
   ]
  },
  {
   "cell_type": "markdown",
   "metadata": {},
   "source": [
    "## Plot"
   ]
  },
  {
   "cell_type": "code",
   "execution_count": 9,
   "metadata": {},
   "outputs": [],
   "source": [
    "# defines wordcloud circular mask positioned on image\n",
    "def create_circular_mask(w, h, center=None, radius=None):\n",
    "    if center is None: # use the middle of the image\n",
    "        center = [int(w/2), int(h/2)]\n",
    "    if radius is None: # use the smallest distance between the center and image walls\n",
    "        radius = min(center[0], center[1], w-center[0], h-center[1])\n",
    "    y, x = np.ogrid[:h, :w]\n",
    "    mask = (y - center[1]) ** 2 + (x - center[0]) ** 2 > radius ** 2\n",
    "    mask = 255 * mask.astype(int)\n",
    "    return mask"
   ]
  },
  {
   "cell_type": "code",
   "execution_count": 10,
   "metadata": {},
   "outputs": [
    {
     "name": "stdout",
     "output_type": "stream",
     "text": [
      "(66, 175, 175)\n",
      "(217, 47, 59)\n",
      "(37, 57, 187)\n",
      "(42, 175, 28)\n"
     ]
    }
   ],
   "source": [
    "import random\n",
    "random.seed(13)\n",
    " \n",
    "def get_colors(n):\n",
    "  ret = []\n",
    "  for i in range(n):\n",
    "    r = int(random.random() * 256)\n",
    "    g = int(random.random() * 256)\n",
    "    b = int(random.random() * 256)\n",
    "    r = int(r) % 256\n",
    "    g = int(g) % 256\n",
    "    b = int(b) % 256\n",
    "    ret.append((r,g,b)) \n",
    "  return ret\n",
    "\n",
    "colors = get_colors(clust_num)\n",
    "\n",
    "print(colors[0])\n",
    "print(colors[1])\n",
    "print(colors[2])\n",
    "print(colors[30])"
   ]
  },
  {
   "cell_type": "code",
   "execution_count": null,
   "metadata": {},
   "outputs": [],
   "source": [
    "import matplotlib.pyplot as plt\n",
    "from wordcloud import WordCloud\n",
    "import numpy\n",
    "import numpy.ma as ma\n",
    "#from PIL import Image\n",
    "\n",
    "radius_scale = 10\n",
    "x_scale = 1.0 * img_pix_x\n",
    "y_scale = 1.0 * img_pix_y\n",
    "\n",
    "img_pix_x = 1600\n",
    "img_pix_y = 1200\n",
    "\n",
    "# group by days\n",
    "grouped = dfChart.groupby(['date'])\n",
    "for date, group in grouped:\n",
    "    date_str = date.strftime('%Y-%m-%d')\n",
    "    print (date_str)\n",
    "    \n",
    "    # generate combined image of one day\n",
    "    first = True\n",
    "    for row_index, row in group.iterrows():\n",
    "\n",
    "        # skip clusters with low count\n",
    "        if row['count'] > 1:\n",
    "            print (\"...cl: {0}, x: {1}, y: {2}, count: {3}\".format(row.cluster, row.x, row.y, row['count']))\n",
    "        else:\n",
    "            print (\"...cl: {0}, skipping due to low count...\".format(row.cluster))\n",
    "            continue\n",
    "        \n",
    "        # masked wordcloud on a big canvas\n",
    "        mask = create_circular_mask(img_pix_x, img_pix_y, \n",
    "                                    [int(x_scale * float(row.x)), int(y_scale * float(row.y))],\n",
    "                                    int(radius_scale * float(row['count'])))\n",
    "        \n",
    "        try:\n",
    "            wc = WordCloud(background_color=\"white\", random_state=33, \n",
    "                           mask=mask,\n",
    "                           color_func=lambda *args, **kwargs: colors[row.cluster])\n",
    "\n",
    "            wc.generate_from_frequencies(dict(cluster_descr[row.cluster]))\n",
    "\n",
    "            # first step - just create a background image\n",
    "            if first:\n",
    "                print (\"...creating background\")\n",
    "                background = wc.to_image()\n",
    "                first = False\n",
    "                continue\n",
    "\n",
    "            # make white pix transparent\n",
    "            img = wc.to_image().convert('RGBA')\n",
    "            datas = img.getdata()\n",
    "            newData = []\n",
    "            for item in datas:\n",
    "                if item[0] == 255 and item[1] == 255 and item[2] == 255:\n",
    "                    newData.append((255, 255, 255, 0))\n",
    "                else:\n",
    "                    newData.append(item)\n",
    "            img.putdata(newData)\n",
    "\n",
    "            # combine images\n",
    "            background.paste(img, (0, 0), img)\n",
    "        \n",
    "        except:\n",
    "            #print (\"...cl: {0}, x: {1}, y: {2}, count: {3}\".format(row.cluster, row.x, row.y, row['count']))\n",
    "            print(\"Oops!\",sys.exc_info()[0],\"occured.\")\n",
    "        \n",
    "    # save one day combine image\n",
    "    background.save(\"wc/wc.{0}.png\".format(date_str), \"PNG\")"
   ]
  },
  {
   "cell_type": "markdown",
   "metadata": {},
   "source": [
    "## Preview the resulting video"
   ]
  },
  {
   "cell_type": "code",
   "execution_count": 13,
   "metadata": {},
   "outputs": [
    {
     "data": {
      "image/jpeg": "[encoded data removed]",
      "text/html": [
       "\n",
       "        <iframe\n",
       "            width=\"400\"\n",
       "            height=\"300\"\n",
       "            src=\"https://www.youtube.com/embed/IaGcme4d6ho\"\n",
       "            frameborder=\"0\"\n",
       "            allowfullscreen\n",
       "        ></iframe>\n",
       "        "
      ],
      "text/plain": [
       "<IPython.lib.display.YouTubeVideo at 0x1bed5b93128>"
      ]
     },
     "execution_count": 13,
     "metadata": {},
     "output_type": "execute_result"
    }
   ],
   "source": [
    "#https://youtu.be/IaGcme4d6ho\n",
    "from IPython.display import YouTubeVideo\n",
    "YouTubeVideo('IaGcme4d6ho')"
   ]
  }
 ],
 "metadata": {
  "kernelspec": {
   "display_name": "Python 3",
   "language": "python",
   "name": "python3"
  },
  "language_info": {
   "codemirror_mode": {
    "name": "ipython",
    "version": 3
   },
   "file_extension": ".py",
   "mimetype": "text/x-python",
   "name": "python",
   "nbconvert_exporter": "python",
   "pygments_lexer": "ipython3",
   "version": "3.5.5"
  }
 },
 "nbformat": 4,
 "nbformat_minor": 2
}
