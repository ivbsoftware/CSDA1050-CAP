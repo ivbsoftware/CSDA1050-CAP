{
 "cells": [
  {
   "cell_type": "markdown",
   "metadata": {},
   "source": [
    "#  GTA News 50 Clusters Chart"
   ]
  },
  {
   "cell_type": "markdown",
   "metadata": {},
   "source": [
    "## Load 50 cluster dataframe"
   ]
  },
  {
   "cell_type": "code",
   "execution_count": 1,
   "metadata": {},
   "outputs": [],
   "source": [
    "import os\n",
    "from os import listdir\n",
    "from os.path import isfile, join\n",
    "import pandas as pd\n",
    "from collections import Counter\n",
    "\n",
    "# directories\n",
    "dir_path = os.getcwd()\n",
    "#print('Working dir: ' + dir_path)\n",
    "\n",
    "local_path = dir_path + '\\\\..\\\\gta-news\\\\doc2vec\\data\\\\'\n",
    "df = pd.read_pickle(local_path+'backup'+'-gta.50'+'.pickle')"
   ]
  },
  {
   "cell_type": "code",
   "execution_count": 2,
   "metadata": {},
   "outputs": [
    {
     "data": {
      "text/html": [
       "<div>\n",
       "<style scoped>\n",
       "    .dataframe tbody tr th:only-of-type {\n",
       "        vertical-align: middle;\n",
       "    }\n",
       "\n",
       "    .dataframe tbody tr th {\n",
       "        vertical-align: top;\n",
       "    }\n",
       "\n",
       "    .dataframe thead th {\n",
       "        text-align: right;\n",
       "    }\n",
       "</style>\n",
       "<table border=\"1\" class=\"dataframe\">\n",
       "  <thead>\n",
       "    <tr style=\"text-align: right;\">\n",
       "      <th></th>\n",
       "      <th>date</th>\n",
       "      <th>title</th>\n",
       "      <th>url</th>\n",
       "      <th>cluster</th>\n",
       "      <th>vector</th>\n",
       "    </tr>\n",
       "  </thead>\n",
       "  <tbody>\n",
       "    <tr>\n",
       "      <th>0</th>\n",
       "      <td>2019-04-20</td>\n",
       "      <td>\"this is why we can't have nice things in nyc,...</td>\n",
       "      <td>http://dagblog.com/reader-blogs/why-we-cant-ha...</td>\n",
       "      <td>13</td>\n",
       "      <td>[-0.47769657, 0.3672163, 0.23536347, 0.5756423...</td>\n",
       "    </tr>\n",
       "    <tr>\n",
       "      <th>1</th>\n",
       "      <td>2019-04-20</td>\n",
       "      <td>rural book borrowing in peril as libraries sla...</td>\n",
       "      <td>http://easternontarionetwork.com/2019/04/20/ru...</td>\n",
       "      <td>13</td>\n",
       "      <td>[-0.5722261, -0.26479113, -0.1152498, 0.664171...</td>\n",
       "    </tr>\n",
       "    <tr>\n",
       "      <th>2</th>\n",
       "      <td>2019-04-20</td>\n",
       "      <td>\"discussing canada's new us-focused cannabis e...</td>\n",
       "      <td>http://www.benzinga.com/markets/cannabis/19/04...</td>\n",
       "      <td>11</td>\n",
       "      <td>[0.54588157, -0.26139393, -0.18809983, -0.0384...</td>\n",
       "    </tr>\n",
       "    <tr>\n",
       "      <th>3</th>\n",
       "      <td>2019-04-20</td>\n",
       "      <td>serea restaurant slated to open in hotel del c...</td>\n",
       "      <td>http://www.coronadonewsca.com/news/coronado_ho...</td>\n",
       "      <td>25</td>\n",
       "      <td>[-0.28711024, -0.2106441, -0.61289483, 0.04533...</td>\n",
       "    </tr>\n",
       "    <tr>\n",
       "      <th>4</th>\n",
       "      <td>2019-04-20</td>\n",
       "      <td>federal trial of vernon man accused of abducti...</td>\n",
       "      <td>http://www.courant.com/news/connecticut/hc-new...</td>\n",
       "      <td>46</td>\n",
       "      <td>[0.062113207, 0.0157832, 0.23044105, 0.4720517...</td>\n",
       "    </tr>\n",
       "  </tbody>\n",
       "</table>\n",
       "</div>"
      ],
      "text/plain": [
       "        date                                              title  \\\n",
       "0 2019-04-20  \"this is why we can't have nice things in nyc,...   \n",
       "1 2019-04-20  rural book borrowing in peril as libraries sla...   \n",
       "2 2019-04-20  \"discussing canada's new us-focused cannabis e...   \n",
       "3 2019-04-20  serea restaurant slated to open in hotel del c...   \n",
       "4 2019-04-20  federal trial of vernon man accused of abducti...   \n",
       "\n",
       "                                                 url  cluster  \\\n",
       "0  http://dagblog.com/reader-blogs/why-we-cant-ha...       13   \n",
       "1  http://easternontarionetwork.com/2019/04/20/ru...       13   \n",
       "2  http://www.benzinga.com/markets/cannabis/19/04...       11   \n",
       "3  http://www.coronadonewsca.com/news/coronado_ho...       25   \n",
       "4  http://www.courant.com/news/connecticut/hc-new...       46   \n",
       "\n",
       "                                              vector  \n",
       "0  [-0.47769657, 0.3672163, 0.23536347, 0.5756423...  \n",
       "1  [-0.5722261, -0.26479113, -0.1152498, 0.664171...  \n",
       "2  [0.54588157, -0.26139393, -0.18809983, -0.0384...  \n",
       "3  [-0.28711024, -0.2106441, -0.61289483, 0.04533...  \n",
       "4  [0.062113207, 0.0157832, 0.23044105, 0.4720517...  "
      ]
     },
     "execution_count": 2,
     "metadata": {},
     "output_type": "execute_result"
    }
   ],
   "source": [
    "df.head()"
   ]
  },
  {
   "cell_type": "markdown",
   "metadata": {},
   "source": [
    "## Get cluster descriptions from titles"
   ]
  },
  {
   "cell_type": "code",
   "execution_count": 3,
   "metadata": {},
   "outputs": [
    {
     "name": "stdout",
     "output_type": "stream",
     "text": [
      "[nltk_data] Downloading package wordnet to\n",
      "[nltk_data]     C:\\Users\\ibaranov\\AppData\\Roaming\\nltk_data...\n",
      "[nltk_data]   Package wordnet is already up-to-date!\n",
      "[nltk_data] Downloading package stopwords to\n",
      "[nltk_data]     C:\\Users\\ibaranov\\AppData\\Roaming\\nltk_data...\n",
      "[nltk_data]   Package stopwords is already up-to-date!\n"
     ]
    }
   ],
   "source": [
    "import os\n",
    "import sys\n",
    "module_path = os.path.abspath(os.path.join('../gta-news/doc2vec'))\n",
    "if module_path not in sys.path:\n",
    "    sys.path.append(module_path)\n",
    "\n",
    "import d2v_utils\n",
    "skip_terms =['toronto','canada','canadian','ontario']\n",
    "cluster_descr = []\n",
    "clusters = df.groupby(['cluster'])['title']\n",
    "for cluster, titles in clusters:\n",
    "    #print(\"\\nCluster: \", cluster)\n",
    "    filtered_words = []\n",
    "    for title in titles:\n",
    "        t = title[0:-4]\n",
    "        #print(\">>>\", t)\n",
    "        tokens = d2v_utils.prepare_text_for_lda(t)\n",
    "        tokens = [word for word in tokens if word not in skip_terms and not word.isdigit()]\n",
    "        #print(\"  >\", tokens)\n",
    "        filtered_words = filtered_words + tokens\n",
    "    count = Counter(filtered_words)\n",
    "    current_clust_descr = count.most_common()[:10] \n",
    "    cluster_descr.append(current_clust_descr)"
   ]
  },
  {
   "cell_type": "code",
   "execution_count": 4,
   "metadata": {},
   "outputs": [
    {
     "name": "stdout",
     "output_type": "stream",
     "text": [
      "[('announce', 195), ('result', 47), ('cannabis', 44), ('update', 43), ('project', 43)]\n",
      "[('refugee', 54), ('asylum', 47), ('snowden', 46), ('shelter', 45), ('grant', 30)]\n",
      "[('weather', 22), ('winter', 21), ('storm', 16), ('school', 11), ('sweep', 9)]\n",
      "[('cannabis', 69), ('store', 26), ('legal', 17), ('illegal', 14), ('medical', 14)]\n",
      "[('woman', 21), ('survivor', 18), ('family', 16), ('years', 13), ('holocaust', 13)]\n",
      "[('research', 19), ('university', 18), ('innovation', 14), ('company', 13), ('better', 13)]\n"
     ]
    }
   ],
   "source": [
    "print(cluster_descr[0][0:5])\n",
    "print(cluster_descr[1][0:5])\n",
    "print(cluster_descr[2][0:5])\n",
    "print(cluster_descr[3][0:5])\n",
    "print(cluster_descr[4][0:5])\n",
    "print(cluster_descr[5][0:5])"
   ]
  },
  {
   "cell_type": "code",
   "execution_count": 212,
   "metadata": {},
   "outputs": [],
   "source": [
    "def create_circular_mask(w, h, center=None, radius=None):\n",
    "\n",
    "    if center is None: # use the middle of the image\n",
    "        center = [int(w/2), int(h/2)]\n",
    "    if radius is None: # use the smallest distance between the center and image walls\n",
    "        radius = min(center[0], center[1], w-center[0], h-center[1])\n",
    "\n",
    "    y, x = np.ogrid[:h, :w]\n",
    "    mask = (y - center[1]) ** 2 + (x - center[0]) ** 2 > radius ** 2\n",
    "    mask = 255 * mask.astype(int)\n",
    "    \n",
    "    return mask"
   ]
  },
  {
   "cell_type": "code",
   "execution_count": 219,
   "metadata": {},
   "outputs": [
    {
     "data": {
      "image/png": "[encoded data removed]",
      "text/plain": [
       "<Figure size 432x288 with 1 Axes>"
      ]
     },
     "metadata": {},
     "output_type": "display_data"
    }
   ],
   "source": [
    "import numpy as np\n",
    "import matplotlib.pyplot as plt\n",
    "from wordcloud import WordCloud\n",
    "\n",
    "cloud_num = 1\n",
    "\n",
    "text = cluster_descr[cloud_num]\n",
    "mask = create_circular_mask(700, 500, [100,300], 100)\n",
    "\n",
    "wc = WordCloud(background_color=\"white\", mask=mask,random_state=33, scale=1)\n",
    "wc.generate_from_frequencies(dict(text))\n",
    "wc.to_file(\"gta.wc.{0}.png\".format(cloud_num))\n",
    "\n",
    "#plt.axis(\"off\")\n",
    "plt.imshow(wc, interpolation=\"bilinear\")\n",
    "plt.show()\n"
   ]
  },
  {
   "cell_type": "code",
   "execution_count": 251,
   "metadata": {},
   "outputs": [
    {
     "data": {
      "image/png": "[encoded data removed]",
      "text/plain": [
       "<Figure size 432x288 with 2 Axes>"
      ]
     },
     "metadata": {},
     "output_type": "display_data"
    }
   ],
   "source": [
    "#plot 2 clouds on one image\n",
    "\n",
    "fig = plt.figure()\n",
    "\n",
    "mask = create_circular_mask(500, 500)\n",
    "wc = WordCloud(background_color=\"white\", mask=mask,random_state=33)\n",
    "wc.generate_from_frequencies(dict(cluster_descr[0]))\n",
    "\n",
    "ax = fig.add_subplot(2,1,1)\n",
    "ax.imshow(wc, interpolation=\"bilinear\")\n",
    "ax.axis('off')\n",
    "\n",
    "mask = create_circular_mask(200, 200)\n",
    "wc2 = WordCloud(background_color=\"white\", mask=mask,random_state=33)\n",
    "wc2.generate_from_frequencies(dict(cluster_descr[1]))\n",
    "\n",
    "ax = fig.add_subplot(2,1,2)\n",
    "ax.imshow(wc2, interpolation=\"bilinear\")\n",
    "ax.axis('off')\n",
    "plt.show()\n"
   ]
  },
  {
   "cell_type": "code",
   "execution_count": 327,
   "metadata": {},
   "outputs": [
    {
     "data": {
      "image/png": "[encoded data removed]",
      "text/plain": [
       "<Figure size 432x288 with 1 Axes>"
      ]
     },
     "metadata": {},
     "output_type": "display_data"
    }
   ],
   "source": [
    "#plot 2 clouds on one image\n",
    "import numpy.ma as ma\n",
    "from PIL import Image\n",
    "\n",
    "fig = plt.figure()\n",
    "\n",
    "#plt.title('Wordcloud of GTA News')\n",
    "\n",
    "# image 1\n",
    "mask1 = create_circular_mask(1200, 500, [100,300], 100)\n",
    "wc = WordCloud(background_color=\"white\", mask=mask1, random_state=33, color_func=lambda *args, **kwargs: (0,100,0))\n",
    "wc.generate_from_frequencies(dict(cluster_descr[0]))\n",
    "\n",
    "# image 2\n",
    "mask2 = create_circular_mask(1200, 500, [600,300], 200)\n",
    "wc2 = WordCloud(background_color=\"white\", mask=mask2, random_state=33, color_func=lambda *args, **kwargs: \"black\")\n",
    "wc2.generate_from_frequencies(dict(cluster_descr[1]))\n",
    "\n",
    "# blend images\n",
    "# https://stackoverflow.com/questions/765736/using-pil-to-make-all-white-pixels-transparent\n",
    "\n",
    "background = wc.to_image()\n",
    "\n",
    "img = wc2.to_image().convert('RGBA')\n",
    "datas = img.getdata()\n",
    "\n",
    "newData = []\n",
    "for item in datas:\n",
    "    if item[0] == 255 and item[1] == 255 and item[2] == 255:\n",
    "        newData.append((255, 255, 255, 0))\n",
    "    else:\n",
    "        newData.append(item)\n",
    "\n",
    "img.putdata(newData)\n",
    "\n",
    "background.paste(img, (0, 0), img)\n",
    "\n",
    "cloud_num = 9\n",
    "background.save(\"gta.wc.{0}.png\".format(cloud_num), \"PNG\")\n",
    "\n",
    "\n",
    "plt.imshow(background, interpolation=\"bilinear\")\n",
    "plt.axis('off')\n",
    "\n",
    "plt.show()\n"
   ]
  },
  {
   "cell_type": "code",
   "execution_count": null,
   "metadata": {},
   "outputs": [],
   "source": [
    "decriptions = []\n",
    "for row in cluster_descr:\n",
    "    d=[]\n",
    "    for token in row:\n",
    "        d.append(token[0])\n",
    "    decriptions.append(d)\n",
    "\n",
    "data = df\n",
    "description = []\n",
    "for i, row in df.iterrows():\n",
    "    description.append(decriptions[row['cluster']])\n",
    "\n",
    "data['description'] = description"
   ]
  },
  {
   "cell_type": "markdown",
   "metadata": {},
   "source": [
    "## Prepare the dataset"
   ]
  },
  {
   "cell_type": "code",
   "execution_count": null,
   "metadata": {},
   "outputs": [],
   "source": [
    "df.head()"
   ]
  },
  {
   "cell_type": "code",
   "execution_count": null,
   "metadata": {},
   "outputs": [],
   "source": [
    "# need dfAggr:\n",
    "# date, cluster, count, description, x, y\n",
    "dfAggr = df[['date','cluster','description']].groupby(['date','cluster'])\\\n",
    "    .first().sort_values(['date','cluster']).reset_index()\n",
    "\n",
    "dfCount = df.groupby(['date','cluster'])['cluster']\\\n",
    "    .agg('count').to_frame('count')\\\n",
    "    .sort_values(['date','cluster']).reset_index()['count']\n",
    "\n",
    "dfAggr['count'] = dfCount\n",
    "\n",
    "# create topic string\n",
    "topics = []\n",
    "for i, row in dfAggr.iterrows():\n",
    "    topics.append(', '.join(row['description'][0:2]))\n",
    "dfAggr['topic'] = topics\n",
    "\n",
    "\n",
    "# temporary RANDOM\n",
    "import random\n",
    "import numpy as np\n",
    "random.seed(11)\n",
    "dfAggr['x'] = 0.0\n",
    "dfAggr['y'] = 0.0\n",
    "sampl_x = np.random.uniform(low=0.0, high=50.0, size=(50,))\n",
    "sampl_y = np.random.uniform(low=0.0, high=50.0, size=(50,))\n",
    "for i, row in dfAggr.iterrows():\n",
    "    dfAggr.at[i,'x'] = sampl_x[row.cluster]\n",
    "    dfAggr.at[i,'y'] = sampl_y[row.cluster]\n",
    "\n",
    "dfAggr.head(10)"
   ]
  },
  {
   "cell_type": "markdown",
   "metadata": {},
   "source": [
    "## Cleaning dataset"
   ]
  },
  {
   "cell_type": "code",
   "execution_count": null,
   "metadata": {},
   "outputs": [],
   "source": [
    "dfChart = dfAggr[['date','cluster','count','topic','x','y']].sort_values(['date','cluster'], ascending=[True,True])\n",
    "#dfChart = dfChart[dfChart['count'] > 2]\n",
    "\n",
    "#add 'day' column\n",
    "new_year_day = pd.Timestamp(year=2019, month=1, day=1)\n",
    "dfChart['day'] = 0\n",
    "for i, row in dfChart.iterrows():\n",
    "    dfChart.at[i,'day'] = (row['date'] - new_year_day).days + 1\n",
    "\n",
    "\n",
    "dfChart[dfChart.day == 110].head(50)"
   ]
  },
  {
   "cell_type": "markdown",
   "metadata": {},
   "source": [
    "## Add missing rows (chart is not working well without)"
   ]
  },
  {
   "cell_type": "code",
   "execution_count": null,
   "metadata": {},
   "outputs": [],
   "source": [
    "num_clusters = 50\n",
    "\n",
    "missing_rows = []\n",
    "cur_day = -1\n",
    "cl_num = 0\n",
    "len_total = len(dfChart.index)\n",
    "print(len_total)\n",
    "for i, row in dfChart.iterrows():\n",
    "\n",
    "    # day changed\n",
    "    if cur_day != row.day:\n",
    "        cur_day = row.day\n",
    "        cl_num = 0\n",
    "    \n",
    "    # create missing cluster row(s) before row.cluster\n",
    "    while cl_num != row.cluster:\n",
    "        desc = ', '.join(decriptions[cl_num][0:2])\n",
    "        d = pd.DataFrame(\n",
    "            {'date':[row.date],'cluster':[cl_num],'count':[0],'topic':[desc],\n",
    "             'x':[sampl_x[cl_num]],'y':[sampl_y[cl_num]],\n",
    "             'day':[row.day]}\n",
    "        )\n",
    "        missing_rows.append(d)\n",
    "        print (\"Created missing row: day:\" + str(row.day) + \", cluster:\" + str(cl_num) + \", topic:\" + desc)\n",
    "        cl_num += 1\n",
    "        if cl_num >= num_clusters:\n",
    "            break\n",
    "\n",
    "    # create missing cluster row(s) after row.cluster to end\n",
    "    if i < len_total:\n",
    "        if i == len_total -1:\n",
    "            next_day = -1\n",
    "        else:\n",
    "            next_day = dfChart.at[i+1,'day']\n",
    "        if next_day != cur_day:\n",
    "            cl_num += 1\n",
    "            while cl_num < num_clusters:\n",
    "                desc = ', '.join(decriptions[cl_num][0:2])\n",
    "                d = pd.DataFrame(\n",
    "                    {'date':[row.date],'cluster':[cl_num],'count':[0],'topic':[desc],\n",
    "                     'x':[sampl_x[cl_num]],'y':[sampl_y[cl_num]],\n",
    "                     'day':[row.day]}\n",
    "                )\n",
    "                missing_rows.append(d)\n",
    "                print (\"Created missing row: day:\" + str(row.day) + \", cluster:\" + str(cl_num) + \", topic:\" + desc)\n",
    "                cl_num += 1\n",
    "                if cl_num >= num_clusters:\n",
    "                    break\n",
    "            \n",
    "    cl_num += 1"
   ]
  },
  {
   "cell_type": "code",
   "execution_count": null,
   "metadata": {},
   "outputs": [],
   "source": [
    "dfChart2 = dfChart.append(missing_rows, sort=True)\n",
    "dfChart2 = dfChart2.sort_values(['day','cluster'], ascending=[True,True])\n",
    "dfChart2 = dfChart2.reset_index(drop=True)\n",
    "dfChart2[dfChart2.day == 110].head()"
   ]
  },
  {
   "cell_type": "markdown",
   "metadata": {},
   "source": [
    "## TODO: Project clustering to 2D using PCA"
   ]
  },
  {
   "cell_type": "code",
   "execution_count": null,
   "metadata": {},
   "outputs": [],
   "source": [
    "#from sklearn.decomposition import PCA\n",
    "#pca = PCA(n_components=2)\n",
    "#principalComponents = pca.fit_transform(x)\n",
    "#principalDf = pd.DataFrame(data = principalComponents\n",
    "#             , columns = ['principal component 1', 'principal component 2'])"
   ]
  },
  {
   "cell_type": "markdown",
   "metadata": {},
   "source": [
    "## Plot"
   ]
  },
  {
   "cell_type": "code",
   "execution_count": null,
   "metadata": {},
   "outputs": [],
   "source": [
    "import plotly_express as px\n",
    "px.scatter(dfChart2, x=\"x\", y=\"y\", animation_frame=\"day\", animation_group=\"topic\",\n",
    "           size=\"count\", color=\"topic\", hover_name=\"topic\",\n",
    "           size_max=150, range_x=[-5,55], range_y=[-5,55])"
   ]
  }
 ],
 "metadata": {
  "kernelspec": {
   "display_name": "Python 3",
   "language": "python",
   "name": "python3"
  },
  "language_info": {
   "codemirror_mode": {
    "name": "ipython",
    "version": 3
   },
   "file_extension": ".py",
   "mimetype": "text/x-python",
   "name": "python",
   "nbconvert_exporter": "python",
   "pygments_lexer": "ipython3",
   "version": "3.5.5"
  }
 },
 "nbformat": 4,
 "nbformat_minor": 2
}
