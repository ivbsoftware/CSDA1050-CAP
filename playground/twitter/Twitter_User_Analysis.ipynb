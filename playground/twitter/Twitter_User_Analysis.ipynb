{
 "cells": [
  {
   "cell_type": "code",
   "execution_count": 1,
   "metadata": {
    "collapsed": true
   },
   "outputs": [],
   "source": [
    "import numpy as np\n",
    "import pandas as pd\n",
    "import seaborn as sns\n",
    "import ast, json\n",
    "\n",
    "from datetime import datetime\n",
    "import matplotlib.pyplot as plt\n",
    "% matplotlib inline"
   ]
  },
  {
   "cell_type": "code",
   "execution_count": 6,
   "metadata": {},
   "outputs": [
    {
     "data": {
      "text/html": [
       "<div>\n",
       "<style scoped>\n",
       "    .dataframe tbody tr th:only-of-type {\n",
       "        vertical-align: middle;\n",
       "    }\n",
       "\n",
       "    .dataframe tbody tr th {\n",
       "        vertical-align: top;\n",
       "    }\n",
       "\n",
       "    .dataframe thead th {\n",
       "        text-align: right;\n",
       "    }\n",
       "</style>\n",
       "<table border=\"1\" class=\"dataframe\">\n",
       "  <thead>\n",
       "    <tr style=\"text-align: right;\">\n",
       "      <th></th>\n",
       "      <th>Unnamed: 0</th>\n",
       "      <th>contributors</th>\n",
       "      <th>coord</th>\n",
       "      <th>coordinates</th>\n",
       "      <th>country</th>\n",
       "      <th>created_at</th>\n",
       "      <th>display_text_range</th>\n",
       "      <th>entities</th>\n",
       "      <th>extended_entities</th>\n",
       "      <th>extended_tweet</th>\n",
       "      <th>...</th>\n",
       "      <th>user</th>\n",
       "      <th>user_display_name</th>\n",
       "      <th>user_favourites_count</th>\n",
       "      <th>user_followers_count</th>\n",
       "      <th>user_friends_count</th>\n",
       "      <th>user_language</th>\n",
       "      <th>user_location_name</th>\n",
       "      <th>user_screen_name</th>\n",
       "      <th>user_statuses_count</th>\n",
       "      <th>user_verfied</th>\n",
       "    </tr>\n",
       "  </thead>\n",
       "  <tbody>\n",
       "    <tr>\n",
       "      <th>0</th>\n",
       "      <td>0</td>\n",
       "      <td>NaN</td>\n",
       "      <td>NaN</td>\n",
       "      <td>NaN</td>\n",
       "      <td>United States</td>\n",
       "      <td>Sun Mar 31 14:32:21 +0000 2019</td>\n",
       "      <td>NaN</td>\n",
       "      <td>{'hashtags': [], 'urls': [{'url': 'https://t.c...</td>\n",
       "      <td>NaN</td>\n",
       "      <td>{'full_text': 'Barr is corrupt and he needs to...</td>\n",
       "      <td>...</td>\n",
       "      <td>{'id': 3885506301, 'id_str': '3885506301', 'na...</td>\n",
       "      <td>Marie Maduemezia</td>\n",
       "      <td>807</td>\n",
       "      <td>23</td>\n",
       "      <td>116</td>\n",
       "      <td>en</td>\n",
       "      <td>Albany, NY</td>\n",
       "      <td>MarieMaduemezi1</td>\n",
       "      <td>596</td>\n",
       "      <td>False</td>\n",
       "    </tr>\n",
       "    <tr>\n",
       "      <th>1</th>\n",
       "      <td>1</td>\n",
       "      <td>NaN</td>\n",
       "      <td>NaN</td>\n",
       "      <td>NaN</td>\n",
       "      <td>Canada</td>\n",
       "      <td>Sun Mar 31 14:32:23 +0000 2019</td>\n",
       "      <td>NaN</td>\n",
       "      <td>{'hashtags': [{'text': 'snow', 'indices': [124...</td>\n",
       "      <td>NaN</td>\n",
       "      <td>NaN</td>\n",
       "      <td>...</td>\n",
       "      <td>{'id': 2199856812, 'id_str': '2199856812', 'na...</td>\n",
       "      <td>Mike</td>\n",
       "      <td>219</td>\n",
       "      <td>2011</td>\n",
       "      <td>2194</td>\n",
       "      <td>en</td>\n",
       "      <td>Hamilton Ontario</td>\n",
       "      <td>MikeDaddyReal</td>\n",
       "      <td>775</td>\n",
       "      <td>False</td>\n",
       "    </tr>\n",
       "    <tr>\n",
       "      <th>2</th>\n",
       "      <td>2</td>\n",
       "      <td>NaN</td>\n",
       "      <td>NaN</td>\n",
       "      <td>NaN</td>\n",
       "      <td>Canada</td>\n",
       "      <td>Sun Mar 31 14:32:27 +0000 2019</td>\n",
       "      <td>[0, 77]</td>\n",
       "      <td>{'hashtags': [{'text': 'HamOnt', 'indices': [4...</td>\n",
       "      <td>{'media': [{'id': 1112362014494490629, 'id_str...</td>\n",
       "      <td>NaN</td>\n",
       "      <td>...</td>\n",
       "      <td>{'id': 1202255588, 'id_str': '1202255588', 'na...</td>\n",
       "      <td>Gary Yokoyama</td>\n",
       "      <td>264</td>\n",
       "      <td>1494</td>\n",
       "      <td>523</td>\n",
       "      <td>en</td>\n",
       "      <td>Hamilton,Ontario</td>\n",
       "      <td>Yokoatthespec</td>\n",
       "      <td>2202</td>\n",
       "      <td>False</td>\n",
       "    </tr>\n",
       "    <tr>\n",
       "      <th>3</th>\n",
       "      <td>3</td>\n",
       "      <td>NaN</td>\n",
       "      <td>NaN</td>\n",
       "      <td>NaN</td>\n",
       "      <td>United States</td>\n",
       "      <td>Sun Mar 31 14:32:28 +0000 2019</td>\n",
       "      <td>[27, 57]</td>\n",
       "      <td>{'hashtags': [], 'urls': [{'url': 'https://t.c...</td>\n",
       "      <td>NaN</td>\n",
       "      <td>NaN</td>\n",
       "      <td>...</td>\n",
       "      <td>{'id': 17695016, 'id_str': '17695016', 'name':...</td>\n",
       "      <td>NYFarmer</td>\n",
       "      <td>83037</td>\n",
       "      <td>27296</td>\n",
       "      <td>29841</td>\n",
       "      <td>en</td>\n",
       "      <td>New York State</td>\n",
       "      <td>NYFarmer</td>\n",
       "      <td>222317</td>\n",
       "      <td>False</td>\n",
       "    </tr>\n",
       "    <tr>\n",
       "      <th>4</th>\n",
       "      <td>4</td>\n",
       "      <td>NaN</td>\n",
       "      <td>NaN</td>\n",
       "      <td>NaN</td>\n",
       "      <td>United States</td>\n",
       "      <td>Sun Mar 31 14:32:33 +0000 2019</td>\n",
       "      <td>NaN</td>\n",
       "      <td>{'hashtags': [], 'urls': [{'url': 'https://t.c...</td>\n",
       "      <td>NaN</td>\n",
       "      <td>NaN</td>\n",
       "      <td>...</td>\n",
       "      <td>{'id': 2819120790, 'id_str': '2819120790', 'na...</td>\n",
       "      <td>Carol Schneider</td>\n",
       "      <td>2830</td>\n",
       "      <td>90</td>\n",
       "      <td>321</td>\n",
       "      <td>en</td>\n",
       "      <td>Dundee, NY</td>\n",
       "      <td>OneeghaCarol</td>\n",
       "      <td>854</td>\n",
       "      <td>False</td>\n",
       "    </tr>\n",
       "  </tbody>\n",
       "</table>\n",
       "<p>5 rows × 50 columns</p>\n",
       "</div>"
      ],
      "text/plain": [
       "   Unnamed: 0  contributors coord coordinates        country  \\\n",
       "0           0           NaN   NaN         NaN  United States   \n",
       "1           1           NaN   NaN         NaN         Canada   \n",
       "2           2           NaN   NaN         NaN         Canada   \n",
       "3           3           NaN   NaN         NaN  United States   \n",
       "4           4           NaN   NaN         NaN  United States   \n",
       "\n",
       "                       created_at display_text_range  \\\n",
       "0  Sun Mar 31 14:32:21 +0000 2019                NaN   \n",
       "1  Sun Mar 31 14:32:23 +0000 2019                NaN   \n",
       "2  Sun Mar 31 14:32:27 +0000 2019            [0, 77]   \n",
       "3  Sun Mar 31 14:32:28 +0000 2019           [27, 57]   \n",
       "4  Sun Mar 31 14:32:33 +0000 2019                NaN   \n",
       "\n",
       "                                            entities  \\\n",
       "0  {'hashtags': [], 'urls': [{'url': 'https://t.c...   \n",
       "1  {'hashtags': [{'text': 'snow', 'indices': [124...   \n",
       "2  {'hashtags': [{'text': 'HamOnt', 'indices': [4...   \n",
       "3  {'hashtags': [], 'urls': [{'url': 'https://t.c...   \n",
       "4  {'hashtags': [], 'urls': [{'url': 'https://t.c...   \n",
       "\n",
       "                                   extended_entities  \\\n",
       "0                                                NaN   \n",
       "1                                                NaN   \n",
       "2  {'media': [{'id': 1112362014494490629, 'id_str...   \n",
       "3                                                NaN   \n",
       "4                                                NaN   \n",
       "\n",
       "                                      extended_tweet      ...       \\\n",
       "0  {'full_text': 'Barr is corrupt and he needs to...      ...        \n",
       "1                                                NaN      ...        \n",
       "2                                                NaN      ...        \n",
       "3                                                NaN      ...        \n",
       "4                                                NaN      ...        \n",
       "\n",
       "                                                user  user_display_name  \\\n",
       "0  {'id': 3885506301, 'id_str': '3885506301', 'na...   Marie Maduemezia   \n",
       "1  {'id': 2199856812, 'id_str': '2199856812', 'na...               Mike   \n",
       "2  {'id': 1202255588, 'id_str': '1202255588', 'na...      Gary Yokoyama   \n",
       "3  {'id': 17695016, 'id_str': '17695016', 'name':...           NYFarmer   \n",
       "4  {'id': 2819120790, 'id_str': '2819120790', 'na...    Carol Schneider   \n",
       "\n",
       "   user_favourites_count user_followers_count user_friends_count  \\\n",
       "0                    807                   23                116   \n",
       "1                    219                 2011               2194   \n",
       "2                    264                 1494                523   \n",
       "3                  83037                27296              29841   \n",
       "4                   2830                   90                321   \n",
       "\n",
       "   user_language  user_location_name user_screen_name  user_statuses_count  \\\n",
       "0             en          Albany, NY  MarieMaduemezi1                  596   \n",
       "1             en    Hamilton Ontario    MikeDaddyReal                  775   \n",
       "2             en    Hamilton,Ontario    Yokoatthespec                 2202   \n",
       "3             en      New York State         NYFarmer               222317   \n",
       "4             en          Dundee, NY     OneeghaCarol                  854   \n",
       "\n",
       "   user_verfied  \n",
       "0         False  \n",
       "1         False  \n",
       "2         False  \n",
       "3         False  \n",
       "4         False  \n",
       "\n",
       "[5 rows x 50 columns]"
      ]
     },
     "execution_count": 6,
     "metadata": {},
     "output_type": "execute_result"
    }
   ],
   "source": [
    "#Import data \n",
    "tweets_df = pd.read_csv('twitter_dataframe3.csv')\n",
    "tweets_df.head()"
   ]
  },
  {
   "cell_type": "code",
   "execution_count": 5,
   "metadata": {},
   "outputs": [
    {
     "data": {
      "text/plain": [
       "(1504, 50)"
      ]
     },
     "execution_count": 5,
     "metadata": {},
     "output_type": "execute_result"
    }
   ],
   "source": [
    "tweets_df.shape"
   ]
  },
  {
   "cell_type": "code",
   "execution_count": 17,
   "metadata": {},
   "outputs": [
    {
     "data": {
      "text/plain": [
       "Index(['Unnamed: 0', 'contributors', 'coord', 'coordinates', 'country',\n",
       "       'created_at', 'display_text_range', 'entities', 'extended_entities',\n",
       "       'extended_tweet', 'extended_tweet-full_text', 'favorite_count',\n",
       "       'favorited', 'filter_level', 'geo', 'id', 'id_str',\n",
       "       'in_reply_to_screen_name', 'in_reply_to_status_id',\n",
       "       'in_reply_to_status_id_str', 'in_reply_to_user_id',\n",
       "       'in_reply_to_user_id_str', 'is_quote_status', 'lang', 'location_city',\n",
       "       'location_name', 'place', 'possibly_sensitive', 'quote_count',\n",
       "       'quoted_status', 'quoted_status_id', 'quoted_status_id_str',\n",
       "       'quoted_status_permalink', 'reply_count', 'retweet_count', 'retweeted',\n",
       "       'source', 'text', 'timestamp_ms', 'truncated', 'user',\n",
       "       'user_display_name', 'user_favourites_count', 'user_followers_count',\n",
       "       'user_friends_count', 'user_language', 'user_location_name',\n",
       "       'user_screen_name', 'user_statuses_count', 'user_verfied'],\n",
       "      dtype='object')"
      ]
     },
     "execution_count": 17,
     "metadata": {},
     "output_type": "execute_result"
    }
   ],
   "source": [
    "#See what columns exist in dataframe\n",
    "tweets_df.columns"
   ]
  },
  {
   "cell_type": "code",
   "execution_count": 173,
   "metadata": {},
   "outputs": [
    {
     "data": {
      "text/plain": [
       "'Sun Mar 31 14:32:21 +0000 2019'"
      ]
     },
     "execution_count": 173,
     "metadata": {},
     "output_type": "execute_result"
    }
   ],
   "source": [
    "#Oldest tweet in dataframe was collected on March 31, 2019\n",
    "tweets_df['created_at'].min()"
   ]
  },
  {
   "cell_type": "code",
   "execution_count": 174,
   "metadata": {},
   "outputs": [
    {
     "data": {
      "text/plain": [
       "'Wed Apr 03 02:59:04 +0000 2019'"
      ]
     },
     "execution_count": 174,
     "metadata": {},
     "output_type": "execute_result"
    }
   ],
   "source": [
    "#Newest tweet in dataframe was collected on April 03, 2019 \n",
    "tweets_df['created_at'].max()"
   ]
  },
  {
   "cell_type": "code",
   "execution_count": 150,
   "metadata": {},
   "outputs": [
    {
     "data": {
      "text/html": [
       "<div>\n",
       "<style scoped>\n",
       "    .dataframe tbody tr th:only-of-type {\n",
       "        vertical-align: middle;\n",
       "    }\n",
       "\n",
       "    .dataframe tbody tr th {\n",
       "        vertical-align: top;\n",
       "    }\n",
       "\n",
       "    .dataframe thead th {\n",
       "        text-align: right;\n",
       "    }\n",
       "</style>\n",
       "<table border=\"1\" class=\"dataframe\">\n",
       "  <thead>\n",
       "    <tr style=\"text-align: right;\">\n",
       "      <th></th>\n",
       "      <th>user_screen_name</th>\n",
       "      <th>user_display_name</th>\n",
       "      <th>user_statuses_count</th>\n",
       "      <th>user_favourites_count</th>\n",
       "      <th>user_followers_count</th>\n",
       "      <th>user_friends_count</th>\n",
       "      <th>user_language</th>\n",
       "      <th>location_city</th>\n",
       "      <th>user_verfied</th>\n",
       "    </tr>\n",
       "  </thead>\n",
       "  <tbody>\n",
       "    <tr>\n",
       "      <th>0</th>\n",
       "      <td>MarieMaduemezi1</td>\n",
       "      <td>Marie Maduemezia</td>\n",
       "      <td>596</td>\n",
       "      <td>807</td>\n",
       "      <td>23</td>\n",
       "      <td>116</td>\n",
       "      <td>en</td>\n",
       "      <td>NaN</td>\n",
       "      <td>False</td>\n",
       "    </tr>\n",
       "    <tr>\n",
       "      <th>1</th>\n",
       "      <td>MikeDaddyReal</td>\n",
       "      <td>Mike</td>\n",
       "      <td>775</td>\n",
       "      <td>219</td>\n",
       "      <td>2011</td>\n",
       "      <td>2194</td>\n",
       "      <td>en</td>\n",
       "      <td>Hamilton</td>\n",
       "      <td>False</td>\n",
       "    </tr>\n",
       "    <tr>\n",
       "      <th>2</th>\n",
       "      <td>Yokoatthespec</td>\n",
       "      <td>Gary Yokoyama</td>\n",
       "      <td>2202</td>\n",
       "      <td>264</td>\n",
       "      <td>1494</td>\n",
       "      <td>523</td>\n",
       "      <td>en</td>\n",
       "      <td>Hamilton</td>\n",
       "      <td>False</td>\n",
       "    </tr>\n",
       "    <tr>\n",
       "      <th>3</th>\n",
       "      <td>NYFarmer</td>\n",
       "      <td>NYFarmer</td>\n",
       "      <td>222317</td>\n",
       "      <td>83037</td>\n",
       "      <td>27296</td>\n",
       "      <td>29841</td>\n",
       "      <td>en</td>\n",
       "      <td>NaN</td>\n",
       "      <td>False</td>\n",
       "    </tr>\n",
       "    <tr>\n",
       "      <th>4</th>\n",
       "      <td>OneeghaCarol</td>\n",
       "      <td>Carol Schneider</td>\n",
       "      <td>854</td>\n",
       "      <td>2830</td>\n",
       "      <td>90</td>\n",
       "      <td>321</td>\n",
       "      <td>en</td>\n",
       "      <td>NaN</td>\n",
       "      <td>False</td>\n",
       "    </tr>\n",
       "  </tbody>\n",
       "</table>\n",
       "</div>"
      ],
      "text/plain": [
       "  user_screen_name user_display_name  user_statuses_count  \\\n",
       "0  MarieMaduemezi1  Marie Maduemezia                  596   \n",
       "1    MikeDaddyReal              Mike                  775   \n",
       "2    Yokoatthespec     Gary Yokoyama                 2202   \n",
       "3         NYFarmer          NYFarmer               222317   \n",
       "4     OneeghaCarol   Carol Schneider                  854   \n",
       "\n",
       "   user_favourites_count  user_followers_count  user_friends_count  \\\n",
       "0                    807                    23                 116   \n",
       "1                    219                  2011                2194   \n",
       "2                    264                  1494                 523   \n",
       "3                  83037                 27296               29841   \n",
       "4                   2830                    90                 321   \n",
       "\n",
       "  user_language location_city  user_verfied  \n",
       "0            en           NaN         False  \n",
       "1            en      Hamilton         False  \n",
       "2            en      Hamilton         False  \n",
       "3            en           NaN         False  \n",
       "4            en           NaN         False  "
      ]
     },
     "execution_count": 150,
     "metadata": {},
     "output_type": "execute_result"
    }
   ],
   "source": [
    "#Filter out columns that aren't user-specific\n",
    "twitter_users = tweets_df[['user_screen_name','user_display_name', 'user_statuses_count', 'user_favourites_count', 'user_followers_count', 'user_friends_count', 'user_language', 'location_city', 'user_verfied']]\n",
    "twitter_users.head()"
   ]
  },
  {
   "cell_type": "code",
   "execution_count": 151,
   "metadata": {},
   "outputs": [],
   "source": [
    "#Deleted duplicated users \n",
    "filtered_users = twitter_users.drop_duplicates(subset='user_screen_name', keep='first', inplace=False)"
   ]
  },
  {
   "cell_type": "code",
   "execution_count": 152,
   "metadata": {},
   "outputs": [
    {
     "data": {
      "text/plain": [
       "Index(['user_screen_name', 'user_display_name', 'user_statuses_count',\n",
       "       'user_favourites_count', 'user_followers_count', 'user_friends_count',\n",
       "       'user_language', 'location_city', 'user_verfied'],\n",
       "      dtype='object')"
      ]
     },
     "execution_count": 152,
     "metadata": {},
     "output_type": "execute_result"
    }
   ],
   "source": [
    "#Check to ensure that only user-specific columns remain\n",
    "filtered_users.columns"
   ]
  },
  {
   "cell_type": "code",
   "execution_count": 153,
   "metadata": {},
   "outputs": [
    {
     "data": {
      "text/plain": [
       "user_screen_name         483\n",
       "user_display_name        483\n",
       "user_statuses_count      483\n",
       "user_favourites_count    483\n",
       "user_followers_count     483\n",
       "user_friends_count       483\n",
       "user_language            483\n",
       "location_city            358\n",
       "user_verfied             483\n",
       "dtype: int64"
      ]
     },
     "execution_count": 153,
     "metadata": {},
     "output_type": "execute_result"
    }
   ],
   "source": [
    "#check to see how many rows exist for each column \n",
    "filtered_users.sort_values('user_statuses_count', ascending=False).count()"
   ]
  },
  {
   "cell_type": "code",
   "execution_count": 154,
   "metadata": {},
   "outputs": [
    {
     "data": {
      "image/png": "[encoded data removed]",
      "text/plain": [
       "<matplotlib.figure.Figure at 0x1a20b5f748>"
      ]
     },
     "metadata": {},
     "output_type": "display_data"
    }
   ],
   "source": [
    "#See how many users are verified vs not\n",
    "filtered_users.user_verfied.value_counts()\n",
    "filtered_users.user_verfied.value_counts().plot.bar()\n",
    "plt.title('Verified Twitter Users')\n",
    "plt.xlabel('Verified')\n",
    "plt.ylabel('Users')\n",
    "plt.show()"
   ]
  },
  {
   "cell_type": "code",
   "execution_count": 164,
   "metadata": {},
   "outputs": [
    {
     "data": {
      "text/html": [
       "<div>\n",
       "<style scoped>\n",
       "    .dataframe tbody tr th:only-of-type {\n",
       "        vertical-align: middle;\n",
       "    }\n",
       "\n",
       "    .dataframe tbody tr th {\n",
       "        vertical-align: top;\n",
       "    }\n",
       "\n",
       "    .dataframe thead th {\n",
       "        text-align: right;\n",
       "    }\n",
       "</style>\n",
       "<table border=\"1\" class=\"dataframe\">\n",
       "  <thead>\n",
       "    <tr style=\"text-align: right;\">\n",
       "      <th></th>\n",
       "      <th>user_statuses_count</th>\n",
       "    </tr>\n",
       "    <tr>\n",
       "      <th>location_city</th>\n",
       "      <th></th>\n",
       "    </tr>\n",
       "  </thead>\n",
       "  <tbody>\n",
       "    <tr>\n",
       "      <th>Ajax</th>\n",
       "      <td>109136</td>\n",
       "    </tr>\n",
       "    <tr>\n",
       "      <th>Brampton</th>\n",
       "      <td>584500</td>\n",
       "    </tr>\n",
       "    <tr>\n",
       "      <th>Hamilton</th>\n",
       "      <td>353224</td>\n",
       "    </tr>\n",
       "    <tr>\n",
       "      <th>Markham</th>\n",
       "      <td>24377</td>\n",
       "    </tr>\n",
       "    <tr>\n",
       "      <th>Mississauga</th>\n",
       "      <td>326162</td>\n",
       "    </tr>\n",
       "    <tr>\n",
       "      <th>Oakville</th>\n",
       "      <td>86174</td>\n",
       "    </tr>\n",
       "    <tr>\n",
       "      <th>Oshawa</th>\n",
       "      <td>7719</td>\n",
       "    </tr>\n",
       "    <tr>\n",
       "      <th>Pickering</th>\n",
       "      <td>17357</td>\n",
       "    </tr>\n",
       "    <tr>\n",
       "      <th>Richmond Hill</th>\n",
       "      <td>24165</td>\n",
       "    </tr>\n",
       "    <tr>\n",
       "      <th>St. Catharines</th>\n",
       "      <td>17244</td>\n",
       "    </tr>\n",
       "    <tr>\n",
       "      <th>Toronto</th>\n",
       "      <td>8157768</td>\n",
       "    </tr>\n",
       "    <tr>\n",
       "      <th>Vaughan</th>\n",
       "      <td>268265</td>\n",
       "    </tr>\n",
       "    <tr>\n",
       "      <th>Whitby</th>\n",
       "      <td>157830</td>\n",
       "    </tr>\n",
       "  </tbody>\n",
       "</table>\n",
       "</div>"
      ],
      "text/plain": [
       "                user_statuses_count\n",
       "location_city                      \n",
       "Ajax                         109136\n",
       "Brampton                     584500\n",
       "Hamilton                     353224\n",
       "Markham                       24377\n",
       "Mississauga                  326162\n",
       "Oakville                      86174\n",
       "Oshawa                         7719\n",
       "Pickering                     17357\n",
       "Richmond Hill                 24165\n",
       "St. Catharines                17244\n",
       "Toronto                     8157768\n",
       "Vaughan                      268265\n",
       "Whitby                       157830"
      ]
     },
     "execution_count": 164,
     "metadata": {},
     "output_type": "execute_result"
    }
   ],
   "source": [
    "#See how many tweets originated in which cities \n",
    "locations = filtered_users.groupby('location_city').sum()[['user_statuses_count']]\n",
    "locations"
   ]
  },
  {
   "cell_type": "code",
   "execution_count": 168,
   "metadata": {},
   "outputs": [
    {
     "data": {
      "image/png": "[encoded data removed]",
      "text/plain": [
       "<matplotlib.figure.Figure at 0x1a207d6cf8>"
      ]
     },
     "metadata": {},
     "output_type": "display_data"
    }
   ],
   "source": [
    "#Visualise the tweets/city ratios \n",
    "locations.plot.bar()\n",
    "plt.xlabel('City')\n",
    "plt.ylabel('Tweets')\n",
    "plt.show()"
   ]
  },
  {
   "cell_type": "code",
   "execution_count": 201,
   "metadata": {},
   "outputs": [
    {
     "data": {
      "text/html": [
       "<div>\n",
       "<style scoped>\n",
       "    .dataframe tbody tr th:only-of-type {\n",
       "        vertical-align: middle;\n",
       "    }\n",
       "\n",
       "    .dataframe tbody tr th {\n",
       "        vertical-align: top;\n",
       "    }\n",
       "\n",
       "    .dataframe thead th {\n",
       "        text-align: right;\n",
       "    }\n",
       "</style>\n",
       "<table border=\"1\" class=\"dataframe\">\n",
       "  <thead>\n",
       "    <tr style=\"text-align: right;\">\n",
       "      <th></th>\n",
       "      <th>user_statuses_count</th>\n",
       "    </tr>\n",
       "    <tr>\n",
       "      <th>user_language</th>\n",
       "      <th></th>\n",
       "    </tr>\n",
       "  </thead>\n",
       "  <tbody>\n",
       "    <tr>\n",
       "      <th>ar</th>\n",
       "      <td>11424</td>\n",
       "    </tr>\n",
       "    <tr>\n",
       "      <th>en</th>\n",
       "      <td>16471983</td>\n",
       "    </tr>\n",
       "    <tr>\n",
       "      <th>en-gb</th>\n",
       "      <td>5645</td>\n",
       "    </tr>\n",
       "    <tr>\n",
       "      <th>es</th>\n",
       "      <td>394916</td>\n",
       "    </tr>\n",
       "    <tr>\n",
       "      <th>ja</th>\n",
       "      <td>3253</td>\n",
       "    </tr>\n",
       "    <tr>\n",
       "      <th>pt</th>\n",
       "      <td>121554</td>\n",
       "    </tr>\n",
       "    <tr>\n",
       "      <th>th</th>\n",
       "      <td>4631</td>\n",
       "    </tr>\n",
       "    <tr>\n",
       "      <th>zh-CN</th>\n",
       "      <td>2918</td>\n",
       "    </tr>\n",
       "  </tbody>\n",
       "</table>\n",
       "</div>"
      ],
      "text/plain": [
       "               user_statuses_count\n",
       "user_language                     \n",
       "ar                           11424\n",
       "en                        16471983\n",
       "en-gb                         5645\n",
       "es                          394916\n",
       "ja                            3253\n",
       "pt                          121554\n",
       "th                            4631\n",
       "zh-CN                         2918"
      ]
     },
     "execution_count": 201,
     "metadata": {},
     "output_type": "execute_result"
    }
   ],
   "source": [
    "#Group tweets by language\n",
    "languages = filtered_users.groupby('user_language').sum()[['user_statuses_count']]\n",
    "languages"
   ]
  },
  {
   "cell_type": "code",
   "execution_count": 202,
   "metadata": {},
   "outputs": [
    {
     "data": {
      "image/png": "[encoded data removed]",
      "text/plain": [
       "<matplotlib.figure.Figure at 0x1166e8d30>"
      ]
     },
     "metadata": {},
     "output_type": "display_data"
    }
   ],
   "source": [
    "#Visualise the tweets/city ratios \n",
    "languages.plot.bar()\n",
    "plt.xlabel('language')\n",
    "plt.ylabel('Tweets')\n",
    "plt.show()"
   ]
  },
  {
   "cell_type": "code",
   "execution_count": 175,
   "metadata": {},
   "outputs": [
    {
     "data": {
      "image/png": "[encoded data removed]",
      "text/plain": [
       "<matplotlib.figure.Figure at 0x11302aa90>"
      ]
     },
     "metadata": {},
     "output_type": "display_data"
    }
   ],
   "source": [
    "#See friends vs. follower counts by user\n",
    "filtered_users.plot.scatter(x='user_followers_count',y='user_friends_count')\n",
    "plt.xlabel('Followers')\n",
    "plt.ylabel('Following')\n",
    "plt.show()"
   ]
  },
  {
   "cell_type": "code",
   "execution_count": 176,
   "metadata": {},
   "outputs": [
    {
     "data": {
      "image/png": "[encoded data removed]",
      "text/plain": [
       "<matplotlib.figure.Figure at 0x1165525c0>"
      ]
     },
     "metadata": {},
     "output_type": "display_data"
    }
   ],
   "source": [
    "#Remove the outliers so we can better see distribution of data\n",
    "new_users = filtered_users[np.abs(filtered_users.user_followers_count-filtered_users.user_followers_count.mean()) <= (3*filtered_users.user_followers_count.std())]\n",
    "new_users.plot.scatter(x='user_followers_count',y='user_friends_count')\n",
    "plt.xlabel('Followers')\n",
    "plt.ylabel('Following')\n",
    "plt.show()"
   ]
  },
  {
   "cell_type": "code",
   "execution_count": 177,
   "metadata": {},
   "outputs": [
    {
     "data": {
      "image/png": "[encoded data removed]",
      "text/plain": [
       "<matplotlib.figure.Figure at 0x1165855f8>"
      ]
     },
     "metadata": {},
     "output_type": "display_data"
    }
   ],
   "source": [
    "#See if status count impacts follower count\n",
    "#Outliers have been removed \n",
    "statuses = filtered_users[np.abs(filtered_users.user_statuses_count-filtered_users.user_statuses_count.mean()) <= (3*filtered_users.user_statuses_count.std())]\n",
    "statuses.plot.scatter(x='user_statuses_count',y='user_followers_count')\n",
    "plt.xlabel('Statuses')\n",
    "plt.ylabel('Followers')\n",
    "plt.show()"
   ]
  },
  {
   "cell_type": "code",
   "execution_count": 207,
   "metadata": {},
   "outputs": [
    {
     "data": {
      "image/png": "[encoded data removed]",
      "text/plain": [
       "<matplotlib.figure.Figure at 0x1a20687860>"
      ]
     },
     "metadata": {},
     "output_type": "display_data"
    }
   ],
   "source": [
    "#See if favouriting impacts follower count\n",
    "#Outliers have been removed \n",
    "favourites = filtered_users[np.abs(filtered_users.user_favourites_count-filtered_users.user_favourites_count.mean()) <= (3*filtered_users.user_favourites_count.std())]\n",
    "statuses.plot.scatter(x='user_favourites_count',y='user_followers_count')\n",
    "plt.xlabel('Favourites')\n",
    "plt.ylabel('Followers')\n",
    "plt.show()"
   ]
  },
  {
   "cell_type": "code",
   "execution_count": null,
   "metadata": {
    "collapsed": true
   },
   "outputs": [],
   "source": []
  }
 ],
 "metadata": {
  "kernelspec": {
   "display_name": "Python 3",
   "language": "python",
   "name": "python3"
  },
  "language_info": {
   "codemirror_mode": {
    "name": "ipython",
    "version": 3
   },
   "file_extension": ".py",
   "mimetype": "text/x-python",
   "name": "python",
   "nbconvert_exporter": "python",
   "pygments_lexer": "ipython3",
   "version": "3.6.4"
  }
 },
 "nbformat": 4,
 "nbformat_minor": 2
}
