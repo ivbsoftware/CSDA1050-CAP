{
 "cells": [
  {
   "cell_type": "markdown",
   "metadata": {},
   "source": [
    "# SPRINT 3 PLAN - TWITTER TWEETS\n",
    "Ariana Biagi \n",
    "\n",
    "##What has been done?\n",
    "\n",
    "1. Twitter data has been collected via Twitter API\n",
    "    - Data collected from March 31 - April 03 \n",
    "    - Data should have been collecting until April 09; file failed and did not restart \n",
    "\n",
    "    Next steps for Sprint 3: \n",
    "    - Combine with Twitter data pulled by Jennifer\n",
    "\n",
    "2. Data was cleaned \n",
    "    - Duplicates were removed \n",
    "    - Only relevant fields were kept \n",
    "    - Data was checked to ensure no data was missig \n",
    "    \n",
    "    Next steps for Sprint 3: \n",
    "    - Remove duplicates again once data is combined with Jennifer's \n",
    "    - Do not remove fields prior to analysis as some were disocovered to be valuable \n",
    "    \n",
    "3. Data was analysed to understand Twitter users \n",
    "    - Outliers were removed \n",
    "    - Created bar graph to view verified vs. non-verified users \n",
    "    - Created bar graph to view statuses by location \n",
    "    - Created bar graph to view statuses by language \n",
    "    - Created scatter plot to view potential relationship between followers and friends \n",
    "    - Created scatter plot to view potential relationship between followers and number of statuses \n",
    "    - Created scatter plot to view potential relationship between followers and favourites \n",
    "    \n",
    "    Next steps for Sprint 3: \n",
    "    - Remove additional outliers, plots were still impacted by one outlier\n",
    "    - Include additional analysis on: \n",
    "        - Are users tweeting from where they've listed their location? \n",
    "        - Twitter bio description \n",
    "        - Top users\n",
    "        - Top users' top tweets \n",
    "        - User sentiment labels  \n",
    "        - Frequency of tweets \n",
    "        - Age of Twitter accounts \n",
    "        - If bot or not \n",
    "        - Frequency of follow-backs "
   ]
  },
  {
   "cell_type": "code",
   "execution_count": null,
   "metadata": {
    "collapsed": true
   },
   "outputs": [],
   "source": []
  }
 ],
 "metadata": {
  "kernelspec": {
   "display_name": "Python 3",
   "language": "python",
   "name": "python3"
  },
  "language_info": {
   "codemirror_mode": {
    "name": "ipython",
    "version": 3
   },
   "file_extension": ".py",
   "mimetype": "text/x-python",
   "name": "python",
   "nbconvert_exporter": "python",
   "pygments_lexer": "ipython3",
   "version": "3.6.4"
  }
 },
 "nbformat": 4,
 "nbformat_minor": 2
}
