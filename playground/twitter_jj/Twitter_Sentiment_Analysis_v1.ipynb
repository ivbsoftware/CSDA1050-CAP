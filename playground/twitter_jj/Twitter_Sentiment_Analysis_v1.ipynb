{
 "cells": [
  {
   "cell_type": "markdown",
   "metadata": {},
   "source": [
    "# Twitter Sentiment Analysis"
   ]
  },
  {
   "cell_type": "markdown",
   "metadata": {},
   "source": [
    "Data used for sentiment analysis:\n",
    "- the polarity of the tweet (0=negative, 2=neutral, 4=positive)\n",
    "- id of the tweet ['id']\n",
    "- date of the tweet ['tweet_date']\n",
    "- the user that tweeted ['user_name']\n",
    "- the text of the tweet ['tweet_text']\n",
    "\n",
    "To get polarity, split ['sentiment'], use compound sentiment value:\n",
    "- if compound score >= 0.05 then 4 ('positive')\n",
    "- if compound score > -0.05 and < 0.05 then 2 ('neutral')\n",
    "- if compound score <= -0.05 then 0 ('negative')"
   ]
  },
  {
   "cell_type": "code",
   "execution_count": 7,
   "metadata": {},
   "outputs": [],
   "source": [
    "import pandas as pd\n",
    "import numpy as np\n",
    "import matplotlib.pyplot as plt\n",
    "plt.style.use('fivethirtyeight')"
   ]
  },
  {
   "cell_type": "code",
   "execution_count": 8,
   "metadata": {},
   "outputs": [],
   "source": [
    "%matplotlib inline\n",
    "%config InlineBackend.figure_format = 'retina'"
   ]
  },
  {
   "cell_type": "code",
   "execution_count": 9,
   "metadata": {},
   "outputs": [],
   "source": [
    "# Load dataframe\n",
    "tweets_df = pd.read_csv('D:/development/CSDA1050/playground/twitter_jj/twitter_tweets_new.csv')\n",
    "tweets_df = tweets_df[tweets_df['place_country']=='Canada']"
   ]
  },
  {
   "cell_type": "code",
   "execution_count": 10,
   "metadata": {},
   "outputs": [],
   "source": [
    "# Format datetime column\n",
    "tweets_df.tweet_date = pd.to_datetime(tweets_df['tweet_date'])"
   ]
  },
  {
   "cell_type": "code",
   "execution_count": 11,
   "metadata": {},
   "outputs": [],
   "source": [
    "# split sentiment into multiple columns (compound, neg, pos, neu)\n",
    "tweets_df['sentiment'] = tweets_df['sentiment'].apply(lambda x: dict(eval(x)))\n",
    "tweets_sent = tweets_df['sentiment'].apply(pd.Series)"
   ]
  },
  {
   "cell_type": "code",
   "execution_count": 4,
   "metadata": {},
   "outputs": [],
   "source": [
    "# Categorize tweets 0, 2, or 4 (negative, neutral, or positive)"
   ]
  },
  {
   "cell_type": "code",
   "execution_count": 5,
   "metadata": {},
   "outputs": [],
   "source": [
    "# Grab only the columns needed"
   ]
  }
 ],
 "metadata": {
  "kernelspec": {
   "display_name": "Python 3",
   "language": "python",
   "name": "python3"
  },
  "language_info": {
   "codemirror_mode": {
    "name": "ipython",
    "version": 3
   },
   "file_extension": ".py",
   "mimetype": "text/x-python",
   "name": "python",
   "nbconvert_exporter": "python",
   "pygments_lexer": "ipython3",
   "version": "3.6.4"
  }
 },
 "nbformat": 4,
 "nbformat_minor": 2
}
