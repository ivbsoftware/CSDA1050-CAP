{
 "cells": [
  {
   "cell_type": "markdown",
   "metadata": {},
   "source": [
    "# SPRINT 3 PLAN - TWITTER TWEETS\n",
    "Ariana Biagi \n",
    "\n",
    "##What has been done?\n",
    "\n",
    "###1. Twitter data has been collected via Twitter API\n",
    "    - Data collected from March 31 - April 03 \n",
    "    - Data should have been collecting until April 09; file failed and did not restart \n",
    "\n",
    "    Next steps for Sprint 3: \n",
    "    - Combine with Twitter data pulled by Jennifer. This will increase amount of data to anlayse. \n",
    "\n",
    "\n",
    "###2. Data was cleaned \n",
    "    - Duplicates were removed \n",
    "    - Only relevant fields were kept \n",
    "    - Data was checked to ensure no data was missing \n",
    "    \n",
    "    Next steps for Sprint 3: \n",
    "    - Remove duplicates again once data is combined with Jennifer's \n",
    "    - Do not remove fields prior to analysis as some were discovered to be valuable. Analyss was limited due to early removal of fields. \n",
    "    \n",
    "\n",
    "###3. Data was analysed to understand Twitter users \n",
    "    - Outliers were removed \n",
    "    - Created bar graph to view verified vs. non-verified users (identify which accounts have been deemed \"of public interest and authentic\" by Twitter.  \n",
    "    - Created bar graph to view statuses by location\n",
    "    - Created bar graph to view statuses by language (can be used to compare to census data - is tweeting proportional?) \n",
    "    - Created scatter plot to view potential relationship between followers and friends (Do people who follow more people get followed back more often?)\n",
    "    - Created scatter plot to view potential relationship between followers and number of statuses (Do people who tweet more have more followers?) \n",
    "    - Created scatter plot to view potential relationship between followers and favourites (Do people who favourite more have more followers?0\n",
    "    \n",
    "    Next steps for Sprint 3: \n",
    "    - Remove additional outliers, plots were still impacted by one outlier\n",
    "    - Include additional analysis on: \n",
    "        - Are users tweeting from where they've listed their location? \n",
    "        - Twitter bio description (used to help determine whether account is personal or business/org) \n",
    "        - Top users \n",
    "        - User sentiment labels (do people mostly post tweets with positive or negative sentiments?) \n",
    "        - Frequency of tweets (how active are twitter users in the GTA?) \n",
    "        - Age of Twitter accounts (how long have twitter accounts been active for?) \n",
    "        - If bot or not (what percentage of twitter users from dataset likely to be a bot?) \n",
    "        - Frequency of follow-backs (is it likely that users follow each other back?) "
   ]
  },
  {
   "cell_type": "code",
   "execution_count": null,
   "metadata": {
    "collapsed": true
   },
   "outputs": [],
   "source": []
  }
 ],
 "metadata": {
  "kernelspec": {
   "display_name": "Python 3",
   "language": "python",
   "name": "python3"
  },
  "language_info": {
   "codemirror_mode": {
    "name": "ipython",
    "version": 3
   },
   "file_extension": ".py",
   "mimetype": "text/x-python",
   "name": "python",
   "nbconvert_exporter": "python",
   "pygments_lexer": "ipython3",
   "version": "3.6.4"
  }
 },
 "nbformat": 4,
 "nbformat_minor": 2
}
