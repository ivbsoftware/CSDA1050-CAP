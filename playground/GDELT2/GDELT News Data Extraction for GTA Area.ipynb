{
 "cells": [
  {
   "cell_type": "markdown",
   "metadata": {},
   "source": [
    "# GDELT News Data Extraction for GTA Area"
   ]
  },
  {
   "cell_type": "markdown",
   "metadata": {},
   "source": [
    "## Download list of news files\n",
    "\n",
    "### Environment:\n",
    " - Python: 3.5.5\n",
    " - gensim\n",
    " - conda install -c conda-forge newspaper3k\n",
    " - spacy\n",
    " - conda install -c conda-forge pyldavis"
   ]
  },
  {
   "cell_type": "code",
   "execution_count": 1,
   "metadata": {},
   "outputs": [
    {
     "data": {
      "text/plain": [
       "['20190408.export.CSV.zip',\n",
       " '20190407.export.CSV.zip',\n",
       " '20190406.export.CSV.zip',\n",
       " '20190405.export.CSV.zip',\n",
       " '20190404.export.CSV.zip']"
      ]
     },
     "execution_count": 1,
     "metadata": {},
     "output_type": "execute_result"
    }
   ],
   "source": [
    "import warnings\n",
    "warnings.filterwarnings('ignore')\n",
    "\n",
    "import requests\n",
    "import lxml.html as lh\n",
    "\n",
    "gdelt_base_url = 'http://data.gdeltproject.org/events/'\n",
    "\n",
    "# get the list of all the links on the gdelt file page\n",
    "page = requests.get(gdelt_base_url+'index.html')\n",
    "doc = lh.fromstring(page.content)\n",
    "link_list = doc.xpath(\"//*/ul/li/a/@href\")\n",
    "\n",
    "# separate out those links that begin with four digits \n",
    "file_list = [x for x in link_list if str.isdigit(x[0:4])]\n",
    "\n",
    "# preview the list\n",
    "file_list[0:5]"
   ]
  },
  {
   "cell_type": "markdown",
   "metadata": {},
   "source": [
    "## Input Data"
   ]
  },
  {
   "cell_type": "code",
   "execution_count": 2,
   "metadata": {},
   "outputs": [],
   "source": [
    "# geo-fence\n",
    "lt1 = 43.403221\n",
    "lt2 = 43.855401\n",
    "lg1 = -79.639319\n",
    "lg2 = -78.905820\n",
    "\n",
    "# days back to process\n",
    "days_back = 1"
   ]
  },
  {
   "cell_type": "markdown",
   "metadata": {},
   "source": [
    "## Extract Relevant GDELT Rows"
   ]
  },
  {
   "cell_type": "code",
   "execution_count": 3,
   "metadata": {},
   "outputs": [
    {
     "name": "stdout",
     "output_type": "stream",
     "text": [
      "Working dir: C:\\Users\\ibaranov\\Downloads\\York\\group-projects\\CSDA1050-CAP\\playground\\GDELT2\n",
      "data\\20190408.export.CSV.zip\n",
      "...extracting,\n",
      "...parsing,\n",
      "done\n"
     ]
    }
   ],
   "source": [
    "import os.path\n",
    "import urllib\n",
    "import zipfile\n",
    "import glob\n",
    "import operator\n",
    "\n",
    "infilecounter = 0\n",
    "outfilecounter = 0\n",
    "\n",
    "dir_path = os.getcwd()\n",
    "print ('Working dir: ' + dir_path)\n",
    "                          \n",
    "# make some dirs\n",
    "local_path = dir_path + '\\\\'\n",
    "if not os.path.exists(local_path+'data'):\n",
    "    os.makedirs(local_path+'data')\n",
    "if not os.path.exists(local_path+'gta-data'):\n",
    "    os.makedirs(local_path+'gta-data')\n",
    "    \n",
    "for compressed_file in file_list[infilecounter:]:\n",
    "    print ('data\\\\'+compressed_file),\n",
    "    \n",
    "    # if we dont have the compressed file stored locally, go get it. Keep trying if necessary.\n",
    "    while not os.path.isfile(local_path+'data\\\\'+compressed_file): \n",
    "        print ('...downloading,'),\n",
    "        urllib.request.urlretrieve(url=gdelt_base_url+compressed_file, \n",
    "                                   filename=local_path+'data\\\\'+compressed_file)\n",
    "        \n",
    "    # extract the contents of the compressed file to a temporary directory    \n",
    "    print ('...extracting,'),\n",
    "    z = zipfile.ZipFile(file=local_path + 'data\\\\' + compressed_file, mode='r')    \n",
    "    z.extractall(path=local_path + 'tmp/')\n",
    "    \n",
    "    # parse each of the csv files in the working directory, \n",
    "    print ('...parsing,'),\n",
    "    for infile_name in glob.glob(local_path + 'tmp/*'):\n",
    "        outfile_name = local_path + 'gta-data\\\\' + 'gta' + '%04i.tsv'%outfilecounter    \n",
    "    \n",
    "        # open the infile and outfile\n",
    "        with open(infile_name,  mode='r', encoding=\"utf8\") as infile, \\\n",
    "             open(outfile_name, mode='w', encoding=\"utf8\") as outfile:\n",
    "            \n",
    "            for line in infile:\n",
    "                vals = line.split('\\t')\n",
    "                \n",
    "                # extract geo-coordinates\n",
    "                try:\n",
    "                    lat  = float(vals[53]) # ActionGeo_Lat\n",
    "                    long = float(vals[54]) # ActionGeo_Long\n",
    "                except Exception as e:\n",
    "                    # means no coordinates provided, skipping\n",
    "                    continue\n",
    "                \n",
    "                # only use events inside geo-fence\n",
    "                if  long >= lg1 and long <= lg2 and lat >= lt1 and lat <= lt2:\n",
    "                    outfile.write(line)\n",
    "                \n",
    "            outfilecounter +=1\n",
    "            \n",
    "        # delete the temporary file\n",
    "        os.remove(infile_name)\n",
    "        \n",
    "    infilecounter +=1\n",
    "    if infilecounter >= days_back:\n",
    "        print ('done')\n",
    "        break"
   ]
  },
  {
   "cell_type": "markdown",
   "metadata": {},
   "source": [
    "## Create dataframe with GDELT news info"
   ]
  },
  {
   "cell_type": "code",
   "execution_count": 4,
   "metadata": {},
   "outputs": [
    {
     "name": "stdout",
     "output_type": "stream",
     "text": [
      "C:\\Users\\ibaranov\\Downloads\\York\\group-projects\\CSDA1050-CAP\\playground\\GDELT2\\gta-data\\gta0000.tsv\n"
     ]
    }
   ],
   "source": [
    "import glob\n",
    "import pandas as pd\n",
    "\n",
    "# Get the GDELT field names from an external helper file\n",
    "colnames = pd.read_excel('CSV.header.fieldids.xlsx', sheet_name='Sheet1', \n",
    "                         index_col='Column ID', usecols=1)['Field Name']\n",
    "\n",
    "# Build DataFrames from each of the intermediary files\n",
    "files = glob.glob(local_path+'gta-data/'+'*')\n",
    "DFlist = []\n",
    "for active_file in files:\n",
    "    print (active_file)\n",
    "    DFlist.append(pd.read_csv(active_file, sep='\\t', header=None, dtype=str,\n",
    "                              names=colnames, index_col=['GLOBALEVENTID']))\n",
    "\n",
    "# Merge the file-based dataframes and serialize the dataframe\n",
    "DF = pd.concat(DFlist)\n",
    "DF.to_pickle(local_path+'backup'+'-gta'+'.pickle')    \n",
    "    \n",
    "# remove the temporary files\n",
    "for active_file in files:\n",
    "    os.remove(active_file)"
   ]
  },
  {
   "cell_type": "markdown",
   "metadata": {},
   "source": [
    "## Show the captured data structure"
   ]
  },
  {
   "cell_type": "code",
   "execution_count": 5,
   "metadata": {},
   "outputs": [
    {
     "data": {
      "text/plain": [
       "['SQLDATE',\n",
       " 'MonthYear',\n",
       " 'Year',\n",
       " 'FractionDate',\n",
       " 'Actor1Code',\n",
       " 'Actor1Name',\n",
       " 'Actor1CountryCode',\n",
       " 'Actor1KnownGroupCode',\n",
       " 'Actor1EthnicCode',\n",
       " 'Actor1Religion1Code',\n",
       " 'Actor1Religion2Code',\n",
       " 'Actor1Type1Code',\n",
       " 'Actor1Type2Code',\n",
       " 'Actor1Type3Code',\n",
       " 'Actor2Code',\n",
       " 'Actor2Name',\n",
       " 'Actor2CountryCode',\n",
       " 'Actor2KnownGroupCode',\n",
       " 'Actor2EthnicCode',\n",
       " 'Actor2Religion1Code',\n",
       " 'Actor2Religion2Code',\n",
       " 'Actor2Type1Code',\n",
       " 'Actor2Type2Code',\n",
       " 'Actor2Type3Code',\n",
       " 'IsRootEvent',\n",
       " 'EventCode',\n",
       " 'EventBaseCode',\n",
       " 'EventRootCode',\n",
       " 'QuadClass',\n",
       " 'GoldsteinScale',\n",
       " 'NumMentions',\n",
       " 'NumSources',\n",
       " 'NumArticles',\n",
       " 'AvgTone',\n",
       " 'Actor1Geo_Type',\n",
       " 'Actor1Geo_FullName',\n",
       " 'Actor1Geo_CountryCode',\n",
       " 'Actor1Geo_ADM1Code',\n",
       " 'Actor1Geo_Lat',\n",
       " 'Actor1Geo_Long',\n",
       " 'Actor1Geo_FeatureID',\n",
       " 'Actor2Geo_Type',\n",
       " 'Actor2Geo_FullName',\n",
       " 'Actor2Geo_CountryCode',\n",
       " 'Actor2Geo_ADM1Code',\n",
       " 'Actor2Geo_Lat',\n",
       " 'Actor2Geo_Long',\n",
       " 'Actor2Geo_FeatureID',\n",
       " 'ActionGeo_Type',\n",
       " 'ActionGeo_FullName',\n",
       " 'ActionGeo_CountryCode',\n",
       " 'ActionGeo_ADM1Code',\n",
       " 'ActionGeo_Lat',\n",
       " 'ActionGeo_Long',\n",
       " 'ActionGeo_FeatureID',\n",
       " 'DATEADDED',\n",
       " 'SOURCEURL']"
      ]
     },
     "execution_count": 5,
     "metadata": {},
     "output_type": "execute_result"
    }
   ],
   "source": [
    "list(DF)"
   ]
  },
  {
   "cell_type": "markdown",
   "metadata": {},
   "source": [
    "## Preview one news article extracted text"
   ]
  },
  {
   "cell_type": "code",
   "execution_count": 6,
   "metadata": {},
   "outputs": [
    {
     "name": "stdout",
     "output_type": "stream",
     "text": [
      "https://obj.ca/index.php/article/cmhc-looks-raise-extra-money-housing-outside-billions-government\n"
     ]
    },
    {
     "data": {
      "text/plain": [
       "'The chief executive of the Canada Mortgage and Housing Corp. says his agency wants to raise hundreds of millions more dollars to help Canadians afford places to live, adding to the billions already available in government funding.\\n\\nEvan Siddall said the aim is to raise $100 million more for housing, quickly and likely from private sources, because the money pledged by federal and provincial governments over the next decade or so isn\\'t enough to make housing affordable for everyone in the country.\\n\\nCMHC\\'s corporate plan, released last month, set the ambitious goal of providing all Canadians with homes they can afford and meet their needs by 2030.\\n\\nAn estimated 1.6 million Canadian households are considered in \"core housing need,\" meaning they live in places that are too expensive or aren\\'t really suitable for them.\\n\\nSiddall admitted the goal is a moon-shot, but it\\'s designed to force his agency and others to achieve more than is already eyed in the long-term national housing strategy, whose price tag is over $40 billion.\\n\\n\"As massive as those investments are by the government of Canada, and the investments similarly that provinces are making, they\\'re not going to be enough,\" Siddall said in a telephone interview from Victoria, where he had just addressed an affordable-housing conference.\\n\\nSiddall\\'s agency has been at the centre of housing moves the federal Liberals have made since taking office in late 2015, putting CMHC in charge of major aspects of the national housing strategy unveiled in late 2017.\\n\\nMany parts of the strategy have rolled out, but the federal cabinet will soon be asked to approve one component: a rental supplement that low-income people can use with private landlords if they decide to move out of social-housing units.\\n\\nAt issue for ministers is how portable the benefit will be, and under what circumstances a person would no longer be eligible for it.\\n\\nAnother Liberal pledge is to come into effect at the same time as the supplement: a program to have federal coffers pick up some of the cost of a mortgage for qualifying buyers.\\n\\nThe government\\'s latest budget says it will pick up five per cent of a mortgage on existing homes for households that earn under $120,000 a year, on a mortgage of no more than $480,000. For new homes, to spur construction, the government would be willing to cover 10 per cent.\\n\\nIn an interview after the budget was released last month, Social Development Minister Jean-Yves Duclos said the program parameters should prod developers to build homes first-time buyers \"are willing and interested and able to buy.\"\\n\\nThere are already housing providers in the country offering these \"shared-equity mortgages,\" making them minority owners of numerous units. When a house or condominium is sold for a profit, they share in the gains; the opposite is true when a unit is sold for a loss.\\n\\nBy the middle of this year, non-profit developer Options for Homes will have $20 million in such mortgages in the Toronto area; it offers to put up five to 15 per cent of the costs of condos in its developments. Chief executive Heather Tremain said any gains the company makes on its shares when the majority owners sell are used to offer more shared-equity mortgages, which the developer has done for more than two decades.\\n\\nTremain said the value and caps on the Liberals\\' housing incentive may change the kind of homes available for sale without juicing housing prices.\\n\\n\"Developers are attuned to the market,\" she said in a recent interview. \"This is going to potentially increase the number of customers that they have. Not in wild leaps and bounds, but it does open up a new demographic, potentially, that I think everyone in the market was seeing had shifted in the last little while.\"'"
      ]
     },
     "execution_count": 6,
     "metadata": {},
     "output_type": "execute_result"
    }
   ],
   "source": [
    "from newspaper import Article\n",
    "\n",
    "url = DF.iloc[129][-1]\n",
    "print (url)\n",
    "article = Article(url)\n",
    "article.download()\n",
    "article.parse()\n",
    "article.text"
   ]
  },
  {
   "cell_type": "markdown",
   "metadata": {},
   "source": [
    "## Text cleaning function"
   ]
  },
  {
   "cell_type": "code",
   "execution_count": 7,
   "metadata": {},
   "outputs": [],
   "source": [
    "import spacy\n",
    "from spacy.lang.en import English\n",
    "\n",
    "parser = English()\n",
    "def tokenize(text):\n",
    "    lda_tokens = []\n",
    "    tokens = parser(text)\n",
    "    for token in tokens:\n",
    "        if token.orth_.isspace():\n",
    "            continue\n",
    "        elif token.like_url:\n",
    "            lda_tokens.append('URL')\n",
    "        elif token.orth_.startswith('@'):\n",
    "            lda_tokens.append('SCREEN_NAME')\n",
    "        else:\n",
    "            lda_tokens.append(token.lower_)\n",
    "    return lda_tokens"
   ]
  },
  {
   "cell_type": "markdown",
   "metadata": {},
   "source": [
    "## Use NLTK’s Wordnet to find the meanings of words "
   ]
  },
  {
   "cell_type": "code",
   "execution_count": 8,
   "metadata": {},
   "outputs": [
    {
     "name": "stdout",
     "output_type": "stream",
     "text": [
      "[nltk_data] Downloading package wordnet to\n",
      "[nltk_data]     C:\\Users\\ibaranov\\AppData\\Roaming\\nltk_data...\n",
      "[nltk_data]   Package wordnet is already up-to-date!\n"
     ]
    }
   ],
   "source": [
    "import nltk\n",
    "nltk.download('wordnet')\n",
    "from nltk.corpus import wordnet as wn\n",
    "def get_lemma(word):\n",
    "    lemma = wn.morphy(word)\n",
    "    if lemma is None:\n",
    "        return word\n",
    "    else:\n",
    "        return lemma\n",
    "    \n",
    "from nltk.stem.wordnet import WordNetLemmatizer\n",
    "def get_lemma2(word):\n",
    "    return WordNetLemmatizer().lemmatize(word)"
   ]
  },
  {
   "cell_type": "markdown",
   "metadata": {},
   "source": [
    "## Filter out stop words"
   ]
  },
  {
   "cell_type": "code",
   "execution_count": 9,
   "metadata": {},
   "outputs": [
    {
     "name": "stdout",
     "output_type": "stream",
     "text": [
      "[nltk_data] Downloading package stopwords to\n",
      "[nltk_data]     C:\\Users\\ibaranov\\AppData\\Roaming\\nltk_data...\n",
      "[nltk_data]   Package stopwords is already up-to-date!\n"
     ]
    }
   ],
   "source": [
    "nltk.download('stopwords')\n",
    "en_stop = set(nltk.corpus.stopwords.words('english'))"
   ]
  },
  {
   "cell_type": "markdown",
   "metadata": {},
   "source": [
    "## Function to prepare the text for topic modelling"
   ]
  },
  {
   "cell_type": "code",
   "execution_count": 10,
   "metadata": {},
   "outputs": [],
   "source": [
    "def prepare_text_for_lda(text):\n",
    "    tokens = tokenize(text)\n",
    "    tokens = [token for token in tokens if len(token) > 4]\n",
    "    tokens = [token for token in tokens if token not in en_stop]\n",
    "    tokens = [get_lemma(token) for token in tokens]\n",
    "    return tokens"
   ]
  },
  {
   "cell_type": "markdown",
   "metadata": {},
   "source": [
    "## Check how the text data are converted"
   ]
  },
  {
   "cell_type": "code",
   "execution_count": 11,
   "metadata": {},
   "outputs": [
    {
     "name": "stdout",
     "output_type": "stream",
     "text": [
      "['chief', 'executive', 'canada', 'mortgage', 'housing', 'corp.', 'agency', 'want', 'raise', 'hundred', 'million', 'dollar', 'canadian', 'afford', 'place', 'add', 'billion', 'already', 'available', 'government', 'funding', 'siddall', 'raise', 'million', 'housing', 'quickly', 'likely', 'private', 'source', 'money', 'pledge', 'federal', 'provincial', 'government', 'decade', 'enough', 'housing', 'affordable', 'everyone', 'country', 'corporate', 'release', 'month', 'ambitious', 'provide', 'canadian', 'home', 'afford', 'need', 'estimate', 'million', 'canadian', 'household', 'consider', 'housing', 'meaning', 'place', 'expensive', 'really', 'suitable', 'siddall', 'admit', 'design', 'force', 'agency', 'others', 'achieve', 'already', 'national', 'housing', 'strategy', 'whose', 'price', 'billion', 'massive', 'investment', 'government', 'canada', 'investment', 'similarly', 'province', 'making', 'going', 'enough', 'siddall', 'telephone', 'interview', 'victoria', 'address', 'affordable', 'housing', 'conference', 'siddall', 'agency', 'centre', 'housing', 'move', 'federal', 'liberal', 'since', 'taking', 'office', 'putting', 'charge', 'major', 'aspect', 'national', 'housing', 'strategy', 'unveil', 'parts', 'strategy', 'roll', 'federal', 'cabinet', 'ask', 'approve', 'component', 'rental', 'supplement', 'income', 'people', 'private', 'landlord', 'decide', 'social', 'housing', 'unit', 'issue', 'minister', 'portable', 'benefit', 'circumstances', 'person', 'would', 'longer', 'eligible', 'another', 'liberal', 'pledge', 'effect', 'supplement', 'program', 'federal', 'coffer', 'mortgage', 'qualifying', 'buyer', 'government', 'latest', 'budget', 'mortgage', 'exist', 'home', 'household', '120,000', 'mortgage', '480,000', 'home', 'construction', 'government', 'would', 'willing', 'cover', 'interview', 'budget', 'release', 'month', 'social', 'development', 'minister', 'duclos', 'program', 'parameter', 'developer', 'build', 'home', 'first', 'buyer', 'willing', 'interest', 'already', 'housing', 'provider', 'country', 'offering', 'share', 'equity', 'mortgage', 'making', 'minority', 'owner', 'numerous', 'unit', 'house', 'condominium', 'profit', 'share', 'gain', 'opposite', 'middle', 'profit', 'developer', 'option', 'home', 'million', 'mortgage', 'toronto', 'offer', 'costs', 'condo', 'development', 'chief', 'executive', 'heather', 'tremain', 'gain', 'company', 'make', 'share', 'majority', 'owner', 'offer', 'share', 'equity', 'mortgage', 'developer', 'decade', 'tremain', 'value', 'liberal', 'housing', 'incentive', 'change', 'home', 'available', 'without', 'juicing', 'housing', 'price', 'developer', 'attune', 'market', 'recent', 'interview', 'going', 'potentially', 'increase', 'number', 'customer', 'leap', 'bounds', 'demographic', 'potentially', 'think', 'everyone', 'market', 'seeing', 'shift', 'little']\n"
     ]
    }
   ],
   "source": [
    "text_data = []\n",
    "tokens = prepare_text_for_lda(article.text)\n",
    "print(tokens)\n",
    "text_data.append(tokens)"
   ]
  },
  {
   "cell_type": "markdown",
   "metadata": {},
   "source": [
    "## LDA with Gensim"
   ]
  },
  {
   "cell_type": "code",
   "execution_count": 12,
   "metadata": {},
   "outputs": [],
   "source": [
    "from gensim import corpora\n",
    "dictionary = corpora.Dictionary(text_data)\n",
    "corpus = [dictionary.doc2bow(text) for text in text_data]"
   ]
  },
  {
   "cell_type": "markdown",
   "metadata": {},
   "source": [
    "## Serialize the dictionalry for future use"
   ]
  },
  {
   "cell_type": "code",
   "execution_count": 13,
   "metadata": {},
   "outputs": [],
   "source": [
    "import pickle\n",
    "pickle.dump(corpus, open('corpus.pkl', 'wb'))\n",
    "dictionary.save('dictionary.gensim')"
   ]
  },
  {
   "cell_type": "markdown",
   "metadata": {},
   "source": [
    "## LDA to find 5 topics in the data"
   ]
  },
  {
   "cell_type": "code",
   "execution_count": 14,
   "metadata": {},
   "outputs": [
    {
     "name": "stdout",
     "output_type": "stream",
     "text": [
      "(0, '0.006*\"housing\" + 0.006*\"home\" + 0.006*\"mortgage\" + 0.006*\"government\" + 0.006*\"million\" + 0.006*\"federal\" + 0.006*\"agency\" + 0.006*\"developer\"')\n",
      "(1, '0.042*\"housing\" + 0.025*\"mortgage\" + 0.021*\"home\" + 0.018*\"government\" + 0.014*\"share\" + 0.014*\"developer\" + 0.014*\"million\" + 0.014*\"siddall\"')\n",
      "(2, '0.006*\"housing\" + 0.006*\"mortgage\" + 0.006*\"home\" + 0.006*\"federal\" + 0.006*\"siddall\" + 0.006*\"government\" + 0.006*\"share\" + 0.006*\"liberal\"')\n",
      "(3, '0.006*\"housing\" + 0.006*\"mortgage\" + 0.006*\"home\" + 0.006*\"government\" + 0.006*\"developer\" + 0.006*\"share\" + 0.006*\"siddall\" + 0.006*\"federal\"')\n",
      "(4, '0.006*\"housing\" + 0.006*\"mortgage\" + 0.006*\"government\" + 0.006*\"siddall\" + 0.006*\"home\" + 0.006*\"federal\" + 0.006*\"chief\" + 0.006*\"agency\"')\n"
     ]
    }
   ],
   "source": [
    "import gensim\n",
    "NUM_TOPICS = 5\n",
    "ldamodel = gensim.models.ldamodel.LdaModel(corpus, num_topics = NUM_TOPICS, id2word=dictionary, passes=15)\n",
    "ldamodel.save('model5.gensim')\n",
    "topics = ldamodel.print_topics(num_words=8)\n",
    "for topic in topics:\n",
    "    print(topic)"
   ]
  },
  {
   "cell_type": "markdown",
   "metadata": {},
   "source": [
    "## Visualizing topics with pyLDAvis"
   ]
  },
  {
   "cell_type": "code",
   "execution_count": 16,
   "metadata": {},
   "outputs": [
    {
     "data": {
      "text/html": [
       "\n",
       "<link rel=\"stylesheet\" type=\"text/css\" href=\"https://cdn.rawgit.com/bmabey/pyLDAvis/files/ldavis.v1.0.0.css\">\n",
       "\n",
       "\n",
       "<div id=\"ldavis_el2802416425822360404530506130\"></div>\n",
       "<script type=\"text/javascript\">\n",
       "\n",
       "var ldavis_el2802416425822360404530506130_data = {\"tinfo\": {\"Category\": [\"Default\", \"Default\", \"Default\", \"Default\", \"Default\", \"Default\", \"Default\", \"Default\", \"Default\", \"Default\", \"Default\", \"Default\", \"Default\", \"Default\", \"Default\", \"Default\", \"Default\", \"Default\", \"Default\", \"Default\", \"Default\", \"Default\", \"Default\", \"Default\", \"Default\", \"Default\", \"Default\", \"Default\", \"Default\", \"Default\", \"Topic1\", \"Topic1\", \"Topic1\", \"Topic1\", \"Topic1\", \"Topic1\", \"Topic1\", \"Topic1\", \"Topic1\", \"Topic1\", \"Topic1\", \"Topic1\", \"Topic1\", \"Topic1\", \"Topic1\", \"Topic1\", \"Topic1\", \"Topic1\", \"Topic1\", \"Topic1\", \"Topic1\", \"Topic1\", \"Topic1\", \"Topic1\", \"Topic1\", \"Topic1\", \"Topic1\", \"Topic1\", \"Topic1\", \"Topic1\", \"Topic1\", \"Topic1\", \"Topic1\", \"Topic1\", \"Topic1\", \"Topic1\", \"Topic1\", \"Topic1\", \"Topic1\", \"Topic1\", \"Topic1\", \"Topic1\", \"Topic1\", \"Topic1\", \"Topic1\", \"Topic1\", \"Topic1\", \"Topic1\", \"Topic1\", \"Topic1\", \"Topic1\", \"Topic1\", \"Topic1\", \"Topic1\", \"Topic1\", \"Topic1\", \"Topic1\", \"Topic1\", \"Topic1\", \"Topic1\", \"Topic1\", \"Topic1\", \"Topic1\", \"Topic1\", \"Topic2\", \"Topic2\", \"Topic2\", \"Topic2\", \"Topic2\", \"Topic2\", \"Topic2\", \"Topic2\", \"Topic2\", \"Topic2\", \"Topic2\", \"Topic2\", \"Topic2\", \"Topic2\", \"Topic2\", \"Topic2\", \"Topic2\", \"Topic2\", \"Topic2\", \"Topic2\", \"Topic2\", \"Topic2\", \"Topic2\", \"Topic2\", \"Topic2\", \"Topic2\", \"Topic2\", \"Topic2\", \"Topic2\", \"Topic2\", \"Topic3\", \"Topic3\", \"Topic3\", \"Topic3\", \"Topic3\", \"Topic3\", \"Topic3\", \"Topic3\", \"Topic3\", \"Topic3\", \"Topic3\", \"Topic3\", \"Topic3\", \"Topic3\", \"Topic3\", \"Topic3\", \"Topic3\", \"Topic3\", \"Topic3\", \"Topic3\", \"Topic3\", \"Topic3\", \"Topic3\", \"Topic3\", \"Topic3\", \"Topic3\", \"Topic3\", \"Topic3\", \"Topic3\", \"Topic3\", \"Topic3\", \"Topic3\", \"Topic3\", \"Topic3\", \"Topic3\", \"Topic3\", \"Topic3\", \"Topic3\", \"Topic3\", \"Topic3\", \"Topic3\", \"Topic3\", \"Topic3\", \"Topic3\", \"Topic3\", \"Topic3\", \"Topic3\", \"Topic3\", \"Topic3\", \"Topic3\", \"Topic3\", \"Topic3\", \"Topic3\", \"Topic3\", \"Topic3\", \"Topic3\", \"Topic3\", \"Topic3\", \"Topic3\", \"Topic3\", \"Topic3\", \"Topic3\", \"Topic3\", \"Topic3\", \"Topic3\", \"Topic3\", \"Topic3\", \"Topic4\", \"Topic4\", \"Topic4\", \"Topic4\", \"Topic4\", \"Topic4\", \"Topic4\", \"Topic4\", \"Topic4\", \"Topic4\", \"Topic4\", \"Topic4\", \"Topic4\", \"Topic4\", \"Topic4\", \"Topic4\", \"Topic4\", \"Topic4\", \"Topic4\", \"Topic4\", \"Topic4\", \"Topic4\", \"Topic4\", \"Topic4\", \"Topic4\", \"Topic4\", \"Topic4\", \"Topic4\", \"Topic4\", \"Topic4\", \"Topic4\", \"Topic4\", \"Topic4\", \"Topic4\", \"Topic4\", \"Topic4\", \"Topic4\", \"Topic4\", \"Topic4\", \"Topic4\", \"Topic4\", \"Topic4\", \"Topic4\", \"Topic4\", \"Topic4\", \"Topic4\", \"Topic4\", \"Topic4\", \"Topic4\", \"Topic4\", \"Topic4\", \"Topic4\", \"Topic4\", \"Topic4\", \"Topic4\", \"Topic4\", \"Topic4\", \"Topic4\", \"Topic4\", \"Topic4\", \"Topic4\", \"Topic4\", \"Topic4\", \"Topic5\", \"Topic5\", \"Topic5\", \"Topic5\", \"Topic5\", \"Topic5\", \"Topic5\", \"Topic5\", \"Topic5\", \"Topic5\", \"Topic5\", \"Topic5\", \"Topic5\", \"Topic5\", \"Topic5\", \"Topic5\", \"Topic5\", \"Topic5\", \"Topic5\", \"Topic5\", \"Topic5\", \"Topic5\", \"Topic5\", \"Topic5\", \"Topic5\", \"Topic5\", \"Topic5\", \"Topic5\", \"Topic5\", \"Topic5\", \"Topic5\", \"Topic5\", \"Topic5\", \"Topic5\", \"Topic5\", \"Topic5\", \"Topic5\", \"Topic5\", \"Topic5\", \"Topic5\", \"Topic5\", \"Topic5\", \"Topic5\", \"Topic5\", \"Topic5\", \"Topic5\", \"Topic5\", \"Topic5\", \"Topic5\", \"Topic5\", \"Topic5\", \"Topic5\", \"Topic5\", \"Topic5\", \"Topic5\", \"Topic5\", \"Topic5\", \"Topic5\", \"Topic5\", \"Topic5\", \"Topic5\", \"Topic5\", \"Topic5\", \"Topic5\", \"Topic5\", \"Topic5\", \"Topic5\", \"Topic5\", \"Topic5\"], \"Freq\": [10.0, 6.0, 5.0, 4.0, 3.0, 3.0, 3.0, 3.0, 3.0, 2.0, 2.0, 2.0, 2.0, 2.0, 2.0, 1.0, 1.0, 1.0, 1.0, 1.0, 1.0, 1.0, 1.0, 1.0, 1.0, 1.0, 1.0, 1.0, 1.0, 1.0, 0.0012007828336209059, 0.0012005919124931097, 0.0012006167089566588, 0.0012005618773400784, 0.0012004823656752706, 0.0012005075113847852, 0.0012005314929410815, 0.0012005491880699992, 0.0012004162417724729, 0.0012003642041236162, 0.0012004756135866046, 0.0012003406882286072, 0.0012004638556391, 0.0012004295131191611, 0.0012003657175228, 0.0012003504671156406, 0.0012002899311482906, 0.0012002718867734075, 0.0012002978473901749, 0.0012003558222204447, 0.0012002619914710522, 0.0012002105358988047, 0.0012002743314951658, 0.001200213679112494, 0.0012001740979030728, 0.0012001824798062444, 0.0012000513961538672, 0.0012001629220321774, 0.0012000924907624722, 0.0012001224095001817, 0.0012000976130366325, 0.0012001252034679055, 0.0012001425493508577, 0.0012001397553831339, 0.0012197478208690882, 0.0012182919308543205, 0.0012121242471039295, 0.0012100040912628174, 0.0012080626329407096, 0.0012066048802807927, 0.0012064947513863444, 0.0012059230357408524, 0.0012058261781930923, 0.001205689157359302, 0.0012054485268890858, 0.0012049672659486532, 0.0012047711061313748, 0.0012046033516526222, 0.0012039991561323404, 0.0012039623688906431, 0.0012039522407576442, 0.001203924068249762, 0.0012036176631227136, 0.0012035928666591644, 0.0012035230174660683, 0.0012032367521896958, 0.0012031940277665854, 0.0012031430378556252, 0.0012030786601826549, 0.0012028425699099898, 0.00120280752889812, 0.0012026762124150991, 0.0012025879696011543, 0.0012025369796901941, 10.784907341003418, 6.365063190460205, 5.479574203491211, 4.596829414367676, 3.7129592895507812, 3.712984323501587, 3.7128565311431885, 3.7127795219421387, 3.712738275527954, 2.8289949893951416, 2.8289499282836914, 2.8289520740509033, 2.828845977783203, 2.828684091567993, 2.828483819961548, 1.945116400718689, 1.9450948238372803, 1.945050597190857, 1.9450531005859375, 1.945029616355896, 1.94500732421875, 1.9449703693389893, 1.9450035095214844, 1.9449752569198608, 1.9449548721313477, 1.9449467658996582, 1.9449195861816406, 1.9448916912078857, 1.944894552230835, 1.9449098110198975, 0.0012012611841782928, 0.0012011812068521976, 0.001201145350933075, 0.0012011572252959013, 0.0012012773659080267, 0.001201070030219853, 0.0012010643258690834, 0.0012010845821350813, 0.0012011146172881126, 0.0012011375511065125, 0.0012010924983769655, 0.0012011363869532943, 0.001201067352667451, 0.0012010838836431503, 0.0012011053040623665, 0.0012010829523205757, 0.0012011061189696193, 0.0012009843485429883, 0.0012011214857921004, 0.0012009841157123446, 0.0012009723577648401, 0.001200999366119504, 0.0012009463971480727, 0.0012009853962808847, 0.0012010576901957393, 0.0012009904021397233, 0.001200950238853693, 0.0012009962229058146, 0.0012009002966806293, 0.001201038365252316, 0.0012010432546958327, 0.001201021601445973, 0.0012010222999379039, 0.0012010372010990977, 0.0012010143836960196, 0.0012010163627564907, 0.0012009888887405396, 0.0012103528715670109, 0.001204645144753158, 0.0012043726164847612, 0.001203894498758018, 0.001203762018121779, 0.001203120220452547, 0.0012029929785057902, 0.0012026821495965123, 0.001202670857310295, 0.001202595536597073, 0.0012025199830532074, 0.00120250484906137, 0.001202290179207921, 0.0012022641021758318, 0.0012022396549582481, 0.0012022261507809162, 0.0012022120645269752, 0.0012020454742014408, 0.001202029176056385, 0.0012019799323752522, 0.001201976672746241, 0.001201925566419959, 0.001201896695420146, 0.0012018828419968486, 0.00120184023398906, 0.0012018169509246945, 0.0012017925037071109, 0.0012017893604934216, 0.00120175676420331, 0.0012017510598525405, 0.0012006337055936456, 0.0012005758471786976, 0.001200527185574174, 0.0012005406897515059, 0.001200457918457687, 0.0012003968004137278, 0.0012002995936200023, 0.0012003289302811027, 0.0012002040166407824, 0.0012003463925793767, 0.0012002595467492938, 0.0012002619914710522, 0.0012002880685031414, 0.0012002140283584595, 0.0012002085568383336, 0.001200230559334159, 0.0012002424336969852, 0.0012001862050965428, 0.0012001616414636374, 0.0012000832939520478, 0.001200065016746521, 0.0012000182177871466, 0.001200108788907528, 0.0011999934213235974, 0.0011999851558357477, 0.001199944643303752, 0.0011999245034530759, 0.001199914957396686, 0.0011999051785096526, 0.0011998231057077646, 0.0011998963309451938, 0.0011999399866908789, 0.0011999168200418353, 0.001232975977472961, 0.001217725919559598, 0.001217016950249672, 0.0012111089890822768, 0.0012094757985323668, 0.0012092441320419312, 0.001209195121191442, 0.0012085763737559319, 0.001208049594424665, 0.0012067556381225586, 0.0012064996408298612, 0.001205815584398806, 0.0012053254758939147, 0.001204933156259358, 0.0012043246533721685, 0.001204217318445444, 0.0012040677247568965, 0.001203875639475882, 0.001203815103508532, 0.0012036236003041267, 0.0012035794788971543, 0.0012035254621878266, 0.0012034570099785924, 0.0012034219689667225, 0.001203359803184867, 0.0012033249950036407, 0.0012030578218400478, 0.001202786690555513, 0.001202671672217548, 0.0012026069452986121, 0.0012012989027425647, 0.001201308099552989, 0.0012010972714051604, 0.0012011142680421472, 0.001201170263811946, 0.0012011367361992598, 0.0012011241633445024, 0.0012012476800009608, 0.0012011051876470447, 0.001201234175823629, 0.0012010509381070733, 0.0012010583886876702, 0.0012009774800390005, 0.0012010083300992846, 0.001201039063744247, 0.0012009602505713701, 0.0012010704958811402, 0.001200932078063488, 0.0012009788770228624, 0.0012010122882202268, 0.001201010076329112, 0.0012009897036477923, 0.0012010234640911222, 0.001200962346047163, 0.0012010256759822369, 0.0012009646743535995, 0.0012010560603812337, 0.0012009954079985619, 0.0012010574573650956, 0.0012011780636385083, 0.0012011391809210181, 0.001201055129058659, 0.0012010812060907483, 0.0012010624632239342, 0.001201028935611248, 0.0012010325444862247, 0.0012010594364255667, 0.0012010540813207626, 0.0012010111240670085, 0.0012089781230315566, 0.0012044297764077783, 0.0012034474639222026, 0.0012029614299535751, 0.0012028986820951104, 0.001202811487019062, 0.001202611718326807, 0.001202598912641406, 0.0012025729520246387, 0.001202564686536789, 0.0012025339528918266, 0.0012025267351418734, 0.0012024544412270188, 0.0012023395393043756, 0.001202319166623056, 0.001202185987494886, 0.001202162355184555, 0.001202122657559812, 0.0012020827271044254, 0.0012020671274513006, 0.0012020161375403404, 0.001201966661028564, 0.001201963284984231, 0.0012019560672342777, 0.0012018701527267694, 0.001201856997795403, 0.0012018552515655756, 0.0012018053093925118, 0.001201760838739574, 0.001201748033054173], \"Term\": [\"housing\", \"mortgage\", \"home\", \"government\", \"federal\", \"siddall\", \"million\", \"developer\", \"share\", \"agency\", \"canadian\", \"already\", \"strategy\", \"interview\", \"liberal\", \"affordable\", \"country\", \"national\", \"supplement\", \"potentially\", \"development\", \"place\", \"owner\", \"willing\", \"private\", \"enough\", \"offer\", \"raise\", \"pledge\", \"executive\", \"ambitious\", \"suitable\", \"others\", \"conference\", \"admit\", \"leap\", \"really\", \"design\", \"numerous\", \"taking\", \"attune\", \"seeing\", \"funding\", \"juicing\", \"parts\", \"option\", \"income\", \"make\", \"person\", \"provide\", \"office\", \"coffer\", \"cover\", \"decide\", \"cabinet\", \"bounds\", \"exist\", \"change\", \"major\", \"province\", \"source\", \"parameter\", \"quickly\", \"house\", \"housing\", \"home\", \"mortgage\", \"government\", \"million\", \"federal\", \"agency\", \"developer\", \"canadian\", \"siddall\", \"share\", \"interview\", \"affordable\", \"enough\", \"liberal\", \"place\", \"unit\", \"raise\", \"supplement\", \"available\", \"chief\", \"release\", \"already\", \"strategy\", \"development\", \"country\", \"gain\", \"tremain\", \"market\", \"afford\", \"housing\", \"mortgage\", \"home\", \"government\", \"developer\", \"share\", \"million\", \"siddall\", \"federal\", \"liberal\", \"strategy\", \"interview\", \"already\", \"canadian\", \"agency\", \"going\", \"month\", \"household\", \"budget\", \"everyone\", \"billion\", \"canada\", \"making\", \"program\", \"unit\", \"afford\", \"buyer\", \"minister\", \"social\", \"gain\", \"others\", \"without\", \"move\", \"need\", \"provide\", \"landlord\", \"admit\", \"condominium\", \"whose\", \"estimate\", \"bounds\", \"middle\", \"conference\", \"address\", \"think\", \"charge\", \"effect\", \"ask\", \"interest\", \"benefit\", \"victoria\", \"shift\", \"rental\", \"income\", \"approve\", \"costs\", \"corp.\", \"hundred\", \"similarly\", \"unveil\", \"circumstances\", \"offering\", \"telephone\", \"build\", \"consider\", \"component\", \"latest\", \"housing\", \"mortgage\", \"home\", \"federal\", \"siddall\", \"government\", \"share\", \"liberal\", \"developer\", \"strategy\", \"million\", \"canadian\", \"agency\", \"country\", \"market\", \"already\", \"interview\", \"price\", \"chief\", \"potentially\", \"owner\", \"investment\", \"supplement\", \"national\", \"decade\", \"place\", \"minister\", \"buyer\", \"affordable\", \"tremain\", \"move\", \"exist\", \"landlord\", \"without\", \"ask\", \"provider\", \"similarly\", \"heather\", \"suitable\", \"eligible\", \"first\", \"rental\", \"minority\", \"massive\", \"major\", \"estimate\", \"480,000\", \"putting\", \"money\", \"source\", \"victoria\", \"taking\", \"toronto\", \"condominium\", \"make\", \"need\", \"cabinet\", \"majority\", \"benefit\", \"admit\", \"seeing\", \"think\", \"want\", \"housing\", \"mortgage\", \"home\", \"government\", \"developer\", \"share\", \"siddall\", \"federal\", \"million\", \"already\", \"strategy\", \"agency\", \"canadian\", \"liberal\", \"interview\", \"private\", \"potentially\", \"national\", \"offer\", \"executive\", \"equity\", \"pledge\", \"country\", \"willing\", \"investment\", \"owner\", \"profit\", \"decade\", \"supplement\", \"development\", \"need\", \"dollar\", \"exist\", \"similarly\", \"decide\", \"benefit\", \"whose\", \"interest\", \"office\", \"add\", \"ask\", \"massive\", \"admit\", \"taking\", \"majority\", \"landlord\", \"shift\", \"suitable\", \"without\", \"coffer\", \"rental\", \"condominium\", \"bounds\", \"move\", \"putting\", \"ambitious\", \"opposite\", \"corp.\", \"longer\", \"provincial\", \"demographic\", \"value\", \"house\", \"customer\", \"middle\", \"another\", \"increase\", \"condo\", \"cover\", \"housing\", \"mortgage\", \"government\", \"siddall\", \"home\", \"federal\", \"chief\", \"agency\", \"already\", \"social\", \"share\", \"interview\", \"million\", \"tremain\", \"developer\", \"canadian\", \"development\", \"liberal\", \"willing\", \"enough\", \"would\", \"place\", \"going\", \"affordable\", \"household\", \"investment\", \"owner\", \"strategy\", \"pledge\", \"market\"], \"logprob\": [30.0, 29.0, 28.0, 27.0, 26.0, 25.0, 24.0, 23.0, 22.0, 21.0, 20.0, 19.0, 18.0, 17.0, 16.0, 15.0, 14.0, 13.0, 12.0, 11.0, 10.0, 9.0, 8.0, 7.0, 6.0, 5.0, 4.0, 3.0, 2.0, 1.0, -5.112400054931641, -5.112599849700928, -5.112599849700928, -5.112599849700928, -5.11269998550415, -5.11269998550415, -5.11269998550415, -5.112599849700928, -5.112800121307373, -5.112800121307373, -5.11269998550415, -5.112800121307373, -5.11269998550415, -5.11269998550415, -5.112800121307373, -5.112800121307373, -5.1128997802734375, -5.1128997802734375, -5.112800121307373, -5.112800121307373, -5.1128997802734375, -5.1128997802734375, -5.1128997802734375, -5.1128997802734375, -5.11299991607666, -5.1128997802734375, -5.113100051879883, -5.11299991607666, -5.11299991607666, -5.11299991607666, -5.11299991607666, -5.11299991607666, -5.11299991607666, -5.11299991607666, -5.096799850463867, -5.0980000495910645, -5.103000164031982, -5.104800224304199, -5.106400012969971, -5.107600212097168, -5.107699871063232, -5.1082000732421875, -5.10830020904541, -5.108399868011475, -5.10860013961792, -5.109000205993652, -5.109099864959717, -5.109300136566162, -5.109799861907959, -5.109799861907959, -5.109799861907959, -5.109799861907959, -5.110099792480469, -5.110099792480469, -5.110199928283691, -5.110400199890137, -5.110400199890137, -5.110499858856201, -5.110499858856201, -5.1107001304626465, -5.110799789428711, -5.110899925231934, -5.110899925231934, -5.111000061035156, -3.179500102996826, -3.7067999839782715, -3.856600046157837, -4.032199859619141, -4.245800018310547, -4.245800018310547, -4.245800018310547, -4.245800018310547, -4.245800018310547, -4.5177001953125, -4.5177001953125, -4.5177001953125, -4.5177001953125, -4.5177998542785645, -4.517899990081787, -4.892300128936768, -4.892300128936768, -4.892300128936768, -4.892300128936768, -4.892300128936768, -4.892300128936768, -4.892399787902832, -4.892300128936768, -4.892399787902832, -4.892399787902832, -4.892399787902832, -4.892399787902832, -4.892399787902832, -4.892399787902832, -4.892399787902832, -5.111999988555908, -5.112100124359131, -5.112100124359131, -5.112100124359131, -5.111999988555908, -5.112199783325195, -5.112199783325195, -5.112199783325195, -5.112199783325195, -5.112100124359131, -5.112199783325195, -5.112100124359131, -5.112199783325195, -5.112199783325195, -5.112199783325195, -5.112199783325195, -5.112199783325195, -5.112299919128418, -5.112199783325195, -5.112299919128418, -5.112299919128418, -5.112299919128418, -5.112299919128418, -5.112299919128418, -5.112199783325195, -5.112299919128418, -5.112299919128418, -5.112299919128418, -5.112299919128418, -5.112199783325195, -5.112199783325195, -5.112199783325195, -5.112199783325195, -5.112199783325195, -5.112199783325195, -5.112199783325195, -5.112299919128418, -5.104499816894531, -5.1092000007629395, -5.109499931335449, -5.109799861907959, -5.110000133514404, -5.110499858856201, -5.110599994659424, -5.110899925231934, -5.110899925231934, -5.110899925231934, -5.111000061035156, -5.111000061035156, -5.111199855804443, -5.111199855804443, -5.111199855804443, -5.111199855804443, -5.111199855804443, -5.111400127410889, -5.111400127410889, -5.111400127410889, -5.111400127410889, -5.111499786376953, -5.111499786376953, -5.111499786376953, -5.111599922180176, -5.111599922180176, -5.111599922180176, -5.111599922180176, -5.111599922180176, -5.111599922180176, -5.112599849700928, -5.112599849700928, -5.11269998550415, -5.112599849700928, -5.11269998550415, -5.112800121307373, -5.1128997802734375, -5.112800121307373, -5.1128997802734375, -5.112800121307373, -5.1128997802734375, -5.1128997802734375, -5.1128997802734375, -5.1128997802734375, -5.1128997802734375, -5.1128997802734375, -5.1128997802734375, -5.1128997802734375, -5.11299991607666, -5.11299991607666, -5.11299991607666, -5.113100051879883, -5.11299991607666, -5.113100051879883, -5.113100051879883, -5.113100051879883, -5.1132001876831055, -5.1132001876831055, -5.1132001876831055, -5.1132001876831055, -5.1132001876831055, -5.1132001876831055, -5.1132001876831055, -5.085999965667725, -5.098400115966797, -5.098999977111816, -5.103899955749512, -5.105199813842773, -5.105400085449219, -5.105500221252441, -5.105999946594238, -5.106400012969971, -5.107500076293945, -5.107699871063232, -5.10830020904541, -5.108699798583984, -5.109000205993652, -5.109499931335449, -5.109600067138672, -5.1097002029418945, -5.109899997711182, -5.109899997711182, -5.110099792480469, -5.110099792480469, -5.110199928283691, -5.110199928283691, -5.110300064086914, -5.110300064086914, -5.110300064086914, -5.110599994659424, -5.110799789428711, -5.110899925231934, -5.110899925231934, -5.111999988555908, -5.111999988555908, -5.112199783325195, -5.112199783325195, -5.112100124359131, -5.112100124359131, -5.112199783325195, -5.111999988555908, -5.112199783325195, -5.112100124359131, -5.112199783325195, -5.112199783325195, -5.112299919128418, -5.112199783325195, -5.112199783325195, -5.112299919128418, -5.112199783325195, -5.112299919128418, -5.112299919128418, -5.112199783325195, -5.112199783325195, -5.112299919128418, -5.112199783325195, -5.112299919128418, -5.112199783325195, -5.112299919128418, -5.112199783325195, -5.112299919128418, -5.112199783325195, -5.112100124359131, -5.112100124359131, -5.112199783325195, -5.112199783325195, -5.112199783325195, -5.112199783325195, -5.112199783325195, -5.112199783325195, -5.112199783325195, -5.112199783325195, -5.105599880218506, -5.109399795532227, -5.110199928283691, -5.110599994659424, -5.1107001304626465, -5.1107001304626465, -5.110899925231934, -5.110899925231934, -5.110899925231934, -5.111000061035156, -5.111000061035156, -5.111000061035156, -5.111000061035156, -5.111100196838379, -5.111199855804443, -5.111299991607666, -5.111299991607666, -5.111299991607666, -5.111400127410889, -5.111400127410889, -5.111400127410889, -5.111499786376953, -5.111499786376953, -5.111499786376953, -5.111499786376953, -5.111499786376953, -5.111499786376953, -5.111599922180176, -5.111599922180176, -5.111599922180176], \"Total\": [10.0, 6.0, 5.0, 4.0, 3.0, 3.0, 3.0, 3.0, 3.0, 2.0, 2.0, 2.0, 2.0, 2.0, 2.0, 1.0, 1.0, 1.0, 1.0, 1.0, 1.0, 1.0, 1.0, 1.0, 1.0, 1.0, 1.0, 1.0, 1.0, 1.0, 1.0656177997589111, 1.0655630826950073, 1.0656276941299438, 1.0656484365463257, 1.0655853748321533, 1.0656564235687256, 1.0656967163085938, 1.0657572746276855, 1.06564462184906, 1.065619707107544, 1.0657449960708618, 1.0656538009643555, 1.0657949447631836, 1.0657665729522705, 1.0657219886779785, 1.065711259841919, 1.0656791925430298, 1.06566321849823, 1.065691351890564, 1.0657445192337036, 1.0656614303588867, 1.0656415224075317, 1.0657132863998413, 1.0656646490097046, 1.0656448602676392, 1.0656583309173584, 1.065567970275879, 1.0656747817993164, 1.0656510591506958, 1.065677523612976, 1.065663456916809, 1.065724492073059, 1.0657647848129272, 1.0657615661621094, 10.789779663085938, 5.484416961669922, 6.36990213394165, 4.601657390594482, 3.717677593231201, 3.717560052871704, 2.833301067352295, 3.7177796363830566, 2.8335001468658447, 3.7176012992858887, 3.7178046703338623, 2.833765983581543, 1.949345350265503, 1.9495316743850708, 2.833808660507202, 1.9494963884353638, 1.9497624635696411, 1.9495551586151123, 1.9494540691375732, 1.9496732950210571, 1.9495960474014282, 1.9496020078659058, 2.8336610794067383, 2.833763837814331, 1.949472427368164, 1.949397087097168, 1.9497177600860596, 1.9496634006500244, 1.9496804475784302, 1.9497544765472412, 10.789779663085938, 6.36990213394165, 5.484416961669922, 4.601657390594482, 3.7177796363830566, 3.7178046703338623, 3.717677593231201, 3.7176012992858887, 3.717560052871704, 2.833808660507202, 2.833763837814331, 2.833765983581543, 2.8336610794067383, 2.8335001468658447, 2.833301067352295, 1.9499229192733765, 1.9499014616012573, 1.949857473373413, 1.9498600959777832, 1.9498367309570312, 1.9498144388198853, 1.9497777223587036, 1.9498108625411987, 1.9497826099395752, 1.9497624635696411, 1.9497544765472412, 1.9497274160385132, 1.9496996402740479, 1.9497026205062866, 1.9497177600860596, 1.0656276941299438, 1.065609097480774, 1.0656077861785889, 1.0656278133392334, 1.0657445192337036, 1.0655800104141235, 1.0655853748321533, 1.0656263828277588, 1.065653681755066, 1.0656919479370117, 1.0656583309173584, 1.0657094717025757, 1.0656484365463257, 1.0657025575637817, 1.0657291412353516, 1.0657187700271606, 1.065741777420044, 1.0656471252441406, 1.0657739639282227, 1.0656540393829346, 1.0656486749649048, 1.065684199333191, 1.065639853477478, 1.0656791925430298, 1.0657449960708618, 1.0656871795654297, 1.0656516551971436, 1.0656936168670654, 1.0656105279922485, 1.0657386779785156, 1.0657495260238647, 1.0657496452331543, 1.0657647848129272, 1.0657944679260254, 1.065793752670288, 1.0658153295516968, 1.0657999515533447, 10.789779663085938, 6.36990213394165, 5.484416961669922, 3.717560052871704, 3.7176012992858887, 4.601657390594482, 3.7178046703338623, 2.833808660507202, 3.7177796363830566, 2.833763837814331, 3.717677593231201, 2.8335001468658447, 2.833301067352295, 1.949397087097168, 1.9496804475784302, 2.8336610794067383, 2.833765983581543, 1.949648141860962, 1.9495960474014282, 1.949454665184021, 1.94949209690094, 1.9496289491653442, 1.9494540691375732, 1.9494367837905884, 1.949642539024353, 1.9494963884353638, 1.9496996402740479, 1.9497274160385132, 1.949345350265503, 1.9496634006500244, 1.0656077861785889, 1.065567970275879, 1.0655800104141235, 1.065609097480774, 1.0656471252441406, 1.0656936168670654, 1.0656105279922485, 1.065645456314087, 1.0655630826950073, 1.0656968355178833, 1.0656346082687378, 1.065639853477478, 1.065698266029358, 1.0656557083129883, 1.0656510591506958, 1.0656919479370117, 1.0657083988189697, 1.065664291381836, 1.0657235383987427, 1.065663456916809, 1.0656486749649048, 1.065619707107544, 1.0657097101211548, 1.0656263828277588, 1.06566321849823, 1.0656278133392334, 1.0656448602676392, 1.0656490325927734, 1.0656540393829346, 1.0655853748321533, 1.0656538009643555, 1.0657291412353516, 1.0657048225402832, 10.789779663085938, 6.36990213394165, 5.484416961669922, 4.601657390594482, 3.7177796363830566, 3.7178046703338623, 3.7176012992858887, 3.717560052871704, 3.717677593231201, 2.8336610794067383, 2.833763837814331, 2.833301067352295, 2.8335001468658447, 2.833808660507202, 2.833765983581543, 1.9495221376419067, 1.949454665184021, 1.9494367837905884, 1.9495364427566528, 1.9495853185653687, 1.9496184587478638, 1.9495717287063599, 1.949397087097168, 1.949501633644104, 1.9496289491653442, 1.94949209690094, 1.9496616125106812, 1.949642539024353, 1.9494540691375732, 1.949472427368164, 1.0656278133392334, 1.065664529800415, 1.065567970275879, 1.0656105279922485, 1.0656646490097046, 1.0656540393829346, 1.065653681755066, 1.0657739639282227, 1.0656614303588867, 1.065794587135315, 1.0656471252441406, 1.0656557083129883, 1.0655853748321533, 1.065619707107544, 1.0656490325927734, 1.0655800104141235, 1.065684199333191, 1.0655630826950073, 1.065609097480774, 1.0656415224075317, 1.065639853477478, 1.0656263828277588, 1.0656583309173584, 1.0656077861785889, 1.065664291381836, 1.0656177997589111, 1.065704107284546, 1.0656516551971436, 1.0657182931900024, 1.0658293962478638, 1.0658100843429565, 1.0657228231430054, 1.0657615661621094, 1.065757393836975, 1.0657094717025757, 1.0657185316085815, 1.0657994747161865, 1.0658200979232788, 1.0657132863998413, 10.789779663085938, 6.36990213394165, 4.601657390594482, 3.7176012992858887, 5.484416961669922, 3.717560052871704, 1.9495960474014282, 2.833301067352295, 2.8336610794067383, 1.9497026205062866, 3.7178046703338623, 2.833765983581543, 3.717677593231201, 1.9496634006500244, 3.7177796363830566, 2.8335001468658447, 1.949472427368164, 2.833808660507202, 1.949501633644104, 1.9495316743850708, 1.9496616125106812, 1.9494963884353638, 1.9499229192733765, 1.949345350265503, 1.949857473373413, 1.9496289491653442, 1.94949209690094, 2.833763837814331, 1.9495717287063599, 1.9496804475784302], \"loglift\": [30.0, 29.0, 28.0, 27.0, 26.0, 25.0, 24.0, 23.0, 22.0, 21.0, 20.0, 19.0, 18.0, 17.0, 16.0, 15.0, 14.0, 13.0, 12.0, 11.0, 10.0, 9.0, 8.0, 7.0, 6.0, 5.0, 4.0, 3.0, 2.0, 1.0, 0.3847000002861023, 0.3846000134944916, 0.38449999690055847, 0.38449999690055847, 0.38449999690055847, 0.38440001010894775, 0.38440001010894775, 0.38440001010894775, 0.38440001010894775, 0.38429999351501465, 0.38429999351501465, 0.38429999351501465, 0.38420000672340393, 0.38420000672340393, 0.38420000672340393, 0.38420000672340393, 0.38420000672340393, 0.38420000672340393, 0.38420000672340393, 0.38420000672340393, 0.38420000672340393, 0.38420000672340393, 0.38420000672340393, 0.38420000672340393, 0.3840999901294708, 0.3840999901294708, 0.3840999901294708, 0.3840999901294708, 0.3840999901294708, 0.3840999901294708, 0.3840999901294708, 0.3840000033378601, 0.3840000033378601, 0.3840000033378601, -1.9147000312805176, -1.2391999959945679, -1.3939000368118286, -1.0705000162124634, -0.8587999939918518, -0.8600000143051147, -0.5885000228881836, -0.8605999946594238, -0.5891000032424927, -0.86080002784729, -0.8610000014305115, -0.589900016784668, -0.2159000039100647, -0.21619999408721924, -0.5906999707221985, -0.2167000025510788, -0.2168000042438507, -0.2168000042438507, -0.21699999272823334, -0.21709999442100525, -0.21709999442100525, -0.21729999780654907, -0.5913000106811523, -0.5914000272750854, -0.21739999949932098, -0.2176000028848648, -0.21780000627040863, -0.21780000627040863, -0.21789999306201935, -0.21799999475479126, 0.0026000000070780516, 0.002300000051036477, 0.002199999988079071, 0.0020000000949949026, 0.0017999999690800905, 0.0017999999690800905, 0.0017999999690800905, 0.0017999999690800905, 0.0017999999690800905, 0.00139999995008111, 0.00139999995008111, 0.00139999995008111, 0.00139999995008111, 0.00139999995008111, 0.00139999995008111, 0.0006000000284984708, 0.0006000000284984708, 0.0006000000284984708, 0.0006000000284984708, 0.0006000000284984708, 0.0006000000284984708, 0.0006000000284984708, 0.0006000000284984708, 0.0006000000284984708, 0.0006000000284984708, 0.0006000000284984708, 0.0006000000284984708, 0.0006000000284984708, 0.0006000000284984708, 0.0006000000284984708, 0.38510000705718994, 0.38499999046325684, 0.38499999046325684, 0.38499999046325684, 0.38499999046325684, 0.38499999046325684, 0.38499999046325684, 0.3849000036716461, 0.3849000036716461, 0.3849000036716461, 0.3849000036716461, 0.3849000036716461, 0.3849000036716461, 0.3849000036716461, 0.3849000036716461, 0.384799987077713, 0.384799987077713, 0.384799987077713, 0.384799987077713, 0.384799987077713, 0.384799987077713, 0.384799987077713, 0.384799987077713, 0.384799987077713, 0.384799987077713, 0.384799987077713, 0.384799987077713, 0.384799987077713, 0.384799987077713, 0.384799987077713, 0.384799987077713, 0.384799987077713, 0.384799987077713, 0.3847000002861023, 0.3847000002861023, 0.3847000002861023, 0.3847000002861023, -1.9223999977111816, -1.4000999927520752, -1.2506999969482422, -0.8622000217437744, -0.8623999953269958, -1.076200008392334, -0.863099992275238, -0.5917999744415283, -0.8633000254631042, -0.5918999910354614, -0.8633999824523926, -0.5917999744415283, -0.5918999910354614, -0.21799999475479126, -0.21819999814033508, -0.5921000242233276, -0.592199981212616, -0.2184000015258789, -0.218299999833107, -0.218299999833107, -0.218299999833107, -0.2184000015258789, -0.2184000015258789, -0.2184000015258789, -0.21850000321865082, -0.21850000321865082, -0.21860000491142273, -0.21860000491142273, -0.2184000015258789, -0.21860000491142273, 0.3846000134944916, 0.3846000134944916, 0.38449999690055847, 0.38449999690055847, 0.38440001010894775, 0.38429999351501465, 0.38429999351501465, 0.38429999351501465, 0.38420000672340393, 0.38420000672340393, 0.38420000672340393, 0.38420000672340393, 0.38420000672340393, 0.38420000672340393, 0.38420000672340393, 0.3840999901294708, 0.3840999901294708, 0.3840999901294708, 0.3840999901294708, 0.3840999901294708, 0.3840999901294708, 0.3840000033378601, 0.3840000033378601, 0.3840000033378601, 0.3840000033378601, 0.3840000033378601, 0.383899986743927, 0.383899986743927, 0.383899986743927, 0.383899986743927, 0.383899986743927, 0.383899986743927, 0.383899986743927, -1.9039000272750854, -1.389299988746643, -1.2402000427246094, -1.069599986076355, -0.857699990272522, -0.8579000234603882, -0.8579000234603882, -0.8583999872207642, -0.8587999939918518, -0.5884000062942505, -0.5885999798774719, -0.5889999866485596, -0.5895000100135803, -0.589900016784668, -0.590399980545044, -0.21649999916553497, -0.21660000085830688, -0.2167000025510788, -0.2168000042438507, -0.21699999272823334, -0.21709999442100525, -0.21709999442100525, -0.21709999442100525, -0.21709999442100525, -0.21729999780654907, -0.21719999611377716, -0.2175000011920929, -0.21770000457763672, -0.21770000457763672, -0.21780000627040863, 0.38510000705718994, 0.38510000705718994, 0.38499999046325684, 0.38499999046325684, 0.38499999046325684, 0.38499999046325684, 0.3849000036716461, 0.3849000036716461, 0.3849000036716461, 0.3849000036716461, 0.3849000036716461, 0.3849000036716461, 0.3849000036716461, 0.3849000036716461, 0.3849000036716461, 0.3849000036716461, 0.3849000036716461, 0.3849000036716461, 0.3849000036716461, 0.3849000036716461, 0.3849000036716461, 0.3849000036716461, 0.3849000036716461, 0.384799987077713, 0.384799987077713, 0.384799987077713, 0.384799987077713, 0.384799987077713, 0.384799987077713, 0.384799987077713, 0.384799987077713, 0.384799987077713, 0.384799987077713, 0.384799987077713, 0.384799987077713, 0.384799987077713, 0.3847000002861023, 0.3847000002861023, 0.384799987077713, -1.9235999584197998, -1.4003000259399414, -1.0759999752044678, -0.8629999756813049, -1.2518999576568604, -0.863099992275238, -0.21789999306201935, -0.59170001745224, -0.5917999744415283, -0.21789999306201935, -0.8633999824523926, -0.5918999910354614, -0.8634999990463257, -0.21809999644756317, -0.8636000156402588, -0.5921000242233276, -0.21819999814033508, -0.5922999978065491, -0.21819999814033508, -0.218299999833107, -0.2184000015258789, -0.218299999833107, -0.21860000491142273, -0.218299999833107, -0.21860000491142273, -0.21850000321865082, -0.2184000015258789, -0.5924999713897705, -0.21860000491142273, -0.21860000491142273]}, \"lambda.step\": 0.01, \"mdsDat\": {\"y\": [0.0, -0.0, -0.0, -0.0, 0.0], \"topics\": [1, 2, 3, 4, 5], \"x\": [0.006406408138061331, -0.025904839669142584, 0.006584790705601122, 0.006315837261272125, 0.0065978035642080095], \"cluster\": [1, 1, 1, 1, 1], \"Freq\": [0.07670050114393234, 99.69317626953125, 0.07669985294342041, 0.07670066505670547, 0.07669980078935623]}, \"R\": 30, \"topic.order\": [1, 2, 3, 4, 5], \"plot.opts\": {\"xlab\": \"PC1\", \"ylab\": \"PC2\"}, \"token.table\": {\"Topic\": [2, 2, 2, 2, 2, 2, 2, 2, 2, 2, 2, 2, 2, 2, 2, 2, 2, 2, 2, 2, 2, 2, 2, 2, 2, 2, 2, 2, 2, 2, 2, 2, 2, 2, 2, 2, 2, 2, 2, 2, 2, 2, 2, 2, 2, 2, 2, 2, 2, 2, 2, 2, 2, 2, 2, 2, 2, 2, 2, 2, 2, 2, 2, 2, 2, 2, 2, 2, 2, 2, 2, 2, 2, 2, 2, 2, 2, 2, 2, 2, 2, 2, 2, 2, 2, 2, 2, 2, 2, 2, 2, 2, 2, 2, 2, 2, 2, 2, 2, 2, 2, 2, 2, 2, 2, 2, 2, 2, 2, 2, 2, 2, 2, 2, 2, 2, 2, 2, 2, 2, 2, 2, 2, 2, 2, 2, 2, 2, 2, 2, 2, 2, 2, 2, 2, 2, 2, 2, 2, 2, 2, 2, 2, 2], \"Freq\": [0.9383429884910583, 0.9382671117782593, 0.938348114490509, 0.9384512901306152, 1.0257701873779297, 1.0259854793548584, 1.0588356256484985, 1.0587010383605957, 0.9384227395057678, 0.938334047794342, 0.9383107423782349, 0.9383969306945801, 0.9383107423782349, 1.0258128643035889, 0.938390851020813, 1.0257385969161987, 0.9383870959281921, 1.025714635848999, 0.9382672309875488, 1.0257843732833862, 0.9383989572525024, 1.025757908821106, 1.0587612390518188, 0.9383726119995117, 0.9383338689804077, 1.0258535146713257, 0.9383067488670349, 0.9384018778800964, 0.938248872756958, 0.938244640827179, 0.9384152293205261, 0.9383957982063293, 0.9382678270339966, 0.9383929371833801, 0.938361644744873, 1.0259581804275513, 0.9383386969566345, 0.938299834728241, 1.0258290767669678, 0.9383814930915833, 0.9382534623146057, 0.9382999539375305, 1.075911045074463, 1.0259186029434204, 0.9383816123008728, 0.9383136034011841, 0.9383531808853149, 1.025887370109558, 1.0258417129516602, 0.9383574724197388, 1.0257269144058228, 1.0258592367172241, 0.9384666681289673, 1.0759745836257935, 0.9384079575538635, 0.9382668137550354, 1.025789499282837, 1.0256816148757935, 1.0865650177001953, 0.9383984208106995, 0.9116739630699158, 0.9382961988449097, 1.025715947151184, 1.0194833278656006, 0.9383559823036194, 0.9383686780929565, 0.9382628202438354, 0.938285231590271, 1.0586618185043335, 1.0258362293243408, 0.9382917881011963, 0.9384560585021973, 0.938262403011322, 0.9383887648582458, 1.0586459636688232, 0.9383342862129211, 0.9383934736251831, 0.9383952617645264, 0.9383827447891235, 1.0257405042648315, 1.0258091688156128, 0.9383893609046936, 0.9383420348167419, 1.075940489768982, 1.025799036026001, 0.9383519291877747, 0.9383296370506287, 1.0256928205490112, 0.9419296979904175, 0.9384315609931946, 1.0259373188018799, 0.9384139180183411, 0.9383991360664368, 1.0258848667144775, 0.9383066892623901, 0.9383843541145325, 0.9383467435836792, 0.9383404850959778, 0.9384140372276306, 1.0259082317352295, 0.9383288025856018, 0.9383310079574585, 0.9383580088615417, 1.025905966758728, 1.0258663892745972, 1.0259279012680054, 1.025826096534729, 1.0258923768997192, 1.0258190631866455, 1.0257554054260254, 0.9383111596107483, 0.9383559823036194, 0.9383701682090759, 0.9382364749908447, 0.9383818507194519, 0.9382933378219604, 1.0258750915527344, 0.9383533000946045, 1.0258504152297974, 0.9384033679962158, 0.9383910894393921, 1.0759037733078003, 0.9383642673492432, 1.0759626626968384, 0.9384291768074036, 1.0257974863052368, 0.9383825659751892, 1.0586626529693604, 0.9384709596633911, 1.025928258895874, 0.9384210705757141, 0.9382933378219604, 0.9383247494697571, 0.9383418560028076, 1.025818109512329, 1.0257660150527954, 0.9383163452148438, 0.9383302927017212, 0.9383955597877502, 0.9383461475372314, 0.9383911490440369, 1.0259032249450684, 0.9384304285049438, 1.0258190631866455], \"Term\": [\"480,000\", \"add\", \"address\", \"admit\", \"afford\", \"affordable\", \"agency\", \"already\", \"ambitious\", \"another\", \"approve\", \"ask\", \"attune\", \"available\", \"benefit\", \"billion\", \"bounds\", \"budget\", \"build\", \"buyer\", \"cabinet\", \"canada\", \"canadian\", \"change\", \"charge\", \"chief\", \"circumstances\", \"coffer\", \"component\", \"condo\", \"condominium\", \"conference\", \"consider\", \"corp.\", \"costs\", \"country\", \"cover\", \"customer\", \"decade\", \"decide\", \"demographic\", \"design\", \"developer\", \"development\", \"dollar\", \"effect\", \"eligible\", \"enough\", \"equity\", \"estimate\", \"everyone\", \"executive\", \"exist\", \"federal\", \"first\", \"funding\", \"gain\", \"going\", \"government\", \"heather\", \"home\", \"house\", \"household\", \"housing\", \"hundred\", \"income\", \"increase\", \"interest\", \"interview\", \"investment\", \"juicing\", \"landlord\", \"latest\", \"leap\", \"liberal\", \"longer\", \"major\", \"majority\", \"make\", \"making\", \"market\", \"massive\", \"middle\", \"million\", \"minister\", \"minority\", \"money\", \"month\", \"mortgage\", \"move\", \"national\", \"need\", \"numerous\", \"offer\", \"offering\", \"office\", \"opposite\", \"option\", \"others\", \"owner\", \"parameter\", \"parts\", \"person\", \"place\", \"pledge\", \"potentially\", \"price\", \"private\", \"profit\", \"program\", \"provide\", \"provider\", \"province\", \"provincial\", \"putting\", \"quickly\", \"raise\", \"really\", \"release\", \"rental\", \"seeing\", \"share\", \"shift\", \"siddall\", \"similarly\", \"social\", \"source\", \"strategy\", \"suitable\", \"supplement\", \"taking\", \"telephone\", \"think\", \"toronto\", \"tremain\", \"unit\", \"unveil\", \"value\", \"victoria\", \"want\", \"whose\", \"willing\", \"without\", \"would\"]}};\n",
       "\n",
       "function LDAvis_load_lib(url, callback){\n",
       "  var s = document.createElement('script');\n",
       "  s.src = url;\n",
       "  s.async = true;\n",
       "  s.onreadystatechange = s.onload = callback;\n",
       "  s.onerror = function(){console.warn(\"failed to load library \" + url);};\n",
       "  document.getElementsByTagName(\"head\")[0].appendChild(s);\n",
       "}\n",
       "\n",
       "if(typeof(LDAvis) !== \"undefined\"){\n",
       "   // already loaded: just create the visualization\n",
       "   !function(LDAvis){\n",
       "       new LDAvis(\"#\" + \"ldavis_el2802416425822360404530506130\", ldavis_el2802416425822360404530506130_data);\n",
       "   }(LDAvis);\n",
       "}else if(typeof define === \"function\" && define.amd){\n",
       "   // require.js is available: use it to load d3/LDAvis\n",
       "   require.config({paths: {d3: \"https://cdnjs.cloudflare.com/ajax/libs/d3/3.5.5/d3.min\"}});\n",
       "   require([\"d3\"], function(d3){\n",
       "      window.d3 = d3;\n",
       "      LDAvis_load_lib(\"https://cdn.rawgit.com/bmabey/pyLDAvis/files/ldavis.v1.0.0.js\", function(){\n",
       "        new LDAvis(\"#\" + \"ldavis_el2802416425822360404530506130\", ldavis_el2802416425822360404530506130_data);\n",
       "      });\n",
       "    });\n",
       "}else{\n",
       "    // require.js not available: dynamically load d3 & LDAvis\n",
       "    LDAvis_load_lib(\"https://cdnjs.cloudflare.com/ajax/libs/d3/3.5.5/d3.min.js\", function(){\n",
       "         LDAvis_load_lib(\"https://cdn.rawgit.com/bmabey/pyLDAvis/files/ldavis.v1.0.0.js\", function(){\n",
       "                 new LDAvis(\"#\" + \"ldavis_el2802416425822360404530506130\", ldavis_el2802416425822360404530506130_data);\n",
       "            })\n",
       "         });\n",
       "}\n",
       "</script>"
      ],
      "text/plain": [
       "<IPython.core.display.HTML object>"
      ]
     },
     "execution_count": 16,
     "metadata": {},
     "output_type": "execute_result"
    }
   ],
   "source": [
    "dictionary = gensim.corpora.Dictionary.load('dictionary.gensim')\n",
    "corpus = pickle.load(open('corpus.pkl', 'rb'))\n",
    "lda = gensim.models.ldamodel.LdaModel.load('model5.gensim')\n",
    "\n",
    "import pyLDAvis.gensim\n",
    "lda_display = pyLDAvis.gensim.prepare(lda, corpus, dictionary, sort_topics=False)\n",
    "pyLDAvis.display(lda_display)"
   ]
  },
  {
   "cell_type": "markdown",
   "metadata": {},
   "source": [
    "## Sentiment analysis"
   ]
  },
  {
   "cell_type": "code",
   "execution_count": 19,
   "metadata": {},
   "outputs": [
    {
     "data": {
      "text/plain": [
       "Sentiment(polarity=0.1346626643796455, subjectivity=0.47124070897655784)"
      ]
     },
     "execution_count": 19,
     "metadata": {},
     "output_type": "execute_result"
    }
   ],
   "source": [
    "from textblob import TextBlob\n",
    "\n",
    "blob = TextBlob(article.text)\n",
    "#print (blob)\n",
    "blob.sentiment"
   ]
  }
 ],
 "metadata": {
  "kernelspec": {
   "display_name": "Python 3",
   "language": "python",
   "name": "python3"
  },
  "language_info": {
   "codemirror_mode": {
    "name": "ipython",
    "version": 3
   },
   "file_extension": ".py",
   "mimetype": "text/x-python",
   "name": "python",
   "nbconvert_exporter": "python",
   "pygments_lexer": "ipython3",
   "version": "3.5.5"
  }
 },
 "nbformat": 4,
 "nbformat_minor": 2
}
