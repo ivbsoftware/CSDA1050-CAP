{
 "cells": [
  {
   "cell_type": "markdown",
   "metadata": {},
   "source": [
    "# GDELT News Data Extraction for GTA Area"
   ]
  },
  {
   "cell_type": "code",
   "execution_count": 1,
   "metadata": {},
   "outputs": [
    {
     "data": {
      "text/plain": [
       "['20190407.export.CSV.zip',\n",
       " '20190406.export.CSV.zip',\n",
       " '20190405.export.CSV.zip',\n",
       " '20190404.export.CSV.zip',\n",
       " '20190403.export.CSV.zip']"
      ]
     },
     "execution_count": 1,
     "metadata": {},
     "output_type": "execute_result"
    }
   ],
   "source": [
    "import requests\n",
    "import lxml.html as lh\n",
    "\n",
    "gdelt_base_url = 'http://data.gdeltproject.org/events/'\n",
    "\n",
    "# get the list of all the links on the gdelt file page\n",
    "page = requests.get(gdelt_base_url+'index.html')\n",
    "doc = lh.fromstring(page.content)\n",
    "link_list = doc.xpath(\"//*/ul/li/a/@href\")\n",
    "\n",
    "# separate out those links that begin with four digits \n",
    "file_list = [x for x in link_list if str.isdigit(x[0:4])]\n",
    "\n",
    "# preview the list\n",
    "file_list[0:5]"
   ]
  },
  {
   "cell_type": "code",
   "execution_count": 2,
   "metadata": {},
   "outputs": [],
   "source": [
    "# geo-fence\n",
    "lt1 = 43.403221\n",
    "lt2 = 43.855401\n",
    "lg1 = -79.639319\n",
    "lg2 = -78.905820\n",
    "\n",
    "# days back to process\n",
    "days_back = 1"
   ]
  },
  {
   "cell_type": "code",
   "execution_count": 7,
   "metadata": {},
   "outputs": [
    {
     "name": "stdout",
     "output_type": "stream",
     "text": [
      "C:\\Users\\ibaranov\\Downloads\\York\\group-projects\\CSDA1050-CAP\\GDELT2\n",
      "20190407.export.CSV.zip\n",
      "...extracting,\n",
      "...parsing,\n",
      "done\n"
     ]
    }
   ],
   "source": [
    "import os.path\n",
    "import urllib\n",
    "import zipfile\n",
    "import glob\n",
    "import operator\n",
    "\n",
    "infilecounter = 0\n",
    "outfilecounter = 0\n",
    "\n",
    "dir_path = os.getcwd()\n",
    "print (dir_path)\n",
    "                           \n",
    "local_path = dir_path + '\\\\'\n",
    "for compressed_file in file_list[infilecounter:]:\n",
    "    print (compressed_file),\n",
    "    \n",
    "    # if we dont have the compressed file stored locally, go get it. Keep trying if necessary.\n",
    "    while not os.path.isfile(local_path+compressed_file): \n",
    "        print ('...downloading,'),\n",
    "        urllib.request.urlretrieve(url=gdelt_base_url+compressed_file, \n",
    "                                   filename=local_path+compressed_file)\n",
    "        \n",
    "    # extract the contents of the compressed file to a temporary directory    \n",
    "    print ('...extracting,'),\n",
    "    z = zipfile.ZipFile(file=local_path+compressed_file, mode='r')    \n",
    "    z.extractall(path=local_path+'tmp/')\n",
    "    \n",
    "    # parse each of the csv files in the working directory, \n",
    "    print ('...parsing,'),\n",
    "    for infile_name in glob.glob(local_path + 'tmp/*'):\n",
    "        outfile_name = local_path + 'gta_data\\\\' + 'gta' + '%04i.tsv'%outfilecounter    \n",
    "    \n",
    "        # open the infile and outfile\n",
    "        with open(infile_name,  mode='r', encoding=\"utf8\") as infile, \\\n",
    "             open(outfile_name, mode='w', encoding=\"utf8\") as outfile:\n",
    "            \n",
    "            for line in infile:\n",
    "                vals = line.split('\\t')\n",
    "                \n",
    "                # extract geo-coordinates\n",
    "                try:\n",
    "                    lat  = float(vals[53]) # ActionGeo_Lat\n",
    "                    long = float(vals[54]) # ActionGeo_Long\n",
    "                except Exception as e:\n",
    "                    # means no coordinates provided, skipping\n",
    "                    continue\n",
    "                \n",
    "                # only use events inside geo-fence\n",
    "                if  long >= lg1 and long <= lg2 and lat >= lt1 and lat <= lt2:\n",
    "                    outfile.write(line)\n",
    "                \n",
    "            outfilecounter +=1\n",
    "            \n",
    "        # delete the temporary file\n",
    "        os.remove(infile_name)\n",
    "        \n",
    "    infilecounter +=1\n",
    "    if infilecounter >= days_back:\n",
    "        print ('done')\n",
    "        break"
   ]
  },
  {
   "cell_type": "code",
   "execution_count": 8,
   "metadata": {},
   "outputs": [
    {
     "name": "stdout",
     "output_type": "stream",
     "text": [
      "C:\\Users\\ibaranov\\Downloads\\York\\group-projects\\CSDA1050-CAP\\GDELT2\\gta_data\\gta0000.tsv\n"
     ]
    }
   ],
   "source": [
    "import glob\n",
    "import pandas as pd\n",
    "\n",
    "# Get the GDELT field names from an external helper file\n",
    "colnames = pd.read_excel('CSV.header.fieldids.xlsx', sheet_name='Sheet1', \n",
    "                         index_col='Column ID', usecols=1)['Field Name']\n",
    "\n",
    "# Build DataFrames from each of the intermediary files\n",
    "files = glob.glob(local_path+'gta_data/'+'*')\n",
    "DFlist = []\n",
    "for active_file in files:\n",
    "    print (active_file)\n",
    "    DFlist.append(pd.read_csv(active_file, sep='\\t', header=None, dtype=str,\n",
    "                              names=colnames, index_col=['GLOBALEVENTID']))\n",
    "\n",
    "# Merge the file-based dataframes and serialize the dataframe\n",
    "DF = pd.concat(DFlist)\n",
    "DF.to_pickle(local_path+'backup'+'-gta'+'.pickle')    \n",
    "    \n",
    "# remove the temporary files\n",
    "for active_file in files:\n",
    "    os.remove(active_file)"
   ]
  },
  {
   "cell_type": "code",
   "execution_count": 9,
   "metadata": {},
   "outputs": [
    {
     "name": "stdout",
     "output_type": "stream",
     "text": [
      "SQLDATE                                                           20190407\n",
      "MonthYear                                                           201904\n",
      "Year                                                                  2019\n",
      "FractionDate                                                     2019.2658\n",
      "Actor1Code                                                             NaN\n",
      "Actor1Name                                                             NaN\n",
      "Actor1CountryCode                                                      NaN\n",
      "Actor1KnownGroupCode                                                   NaN\n",
      "Actor1EthnicCode                                                       NaN\n",
      "Actor1Religion1Code                                                    NaN\n",
      "Actor1Religion2Code                                                    NaN\n",
      "Actor1Type1Code                                                        NaN\n",
      "Actor1Type2Code                                                        NaN\n",
      "Actor1Type3Code                                                        NaN\n",
      "Actor2Code                                                             EDU\n",
      "Actor2Name                                                          SCHOOL\n",
      "Actor2CountryCode                                                      NaN\n",
      "Actor2KnownGroupCode                                                   NaN\n",
      "Actor2EthnicCode                                                       NaN\n",
      "Actor2Religion1Code                                                    NaN\n",
      "Actor2Religion2Code                                                    NaN\n",
      "Actor2Type1Code                                                        EDU\n",
      "Actor2Type2Code                                                        NaN\n",
      "Actor2Type3Code                                                        NaN\n",
      "IsRootEvent                                                              0\n",
      "EventCode                                                              141\n",
      "EventBaseCode                                                          141\n",
      "EventRootCode                                                           14\n",
      "QuadClass                                                                3\n",
      "GoldsteinScale                                                        -6.5\n",
      "NumMentions                                                             10\n",
      "NumSources                                                               1\n",
      "NumArticles                                                             10\n",
      "AvgTone                                                   -2.9940119760479\n",
      "Actor1Geo_Type                                                           0\n",
      "Actor1Geo_FullName                                                     NaN\n",
      "Actor1Geo_CountryCode                                                  NaN\n",
      "Actor1Geo_ADM1Code                                                     NaN\n",
      "Actor1Geo_Lat                                                          NaN\n",
      "Actor1Geo_Long                                                         NaN\n",
      "Actor1Geo_FeatureID                                                    NaN\n",
      "Actor2Geo_Type                                                           4\n",
      "Actor2Geo_FullName                                Toronto, Ontario, Canada\n",
      "Actor2Geo_CountryCode                                                   CA\n",
      "Actor2Geo_ADM1Code                                                    CA08\n",
      "Actor2Geo_Lat                                                      43.6667\n",
      "Actor2Geo_Long                                                    -79.4167\n",
      "Actor2Geo_FeatureID                                                -574890\n",
      "ActionGeo_Type                                                           4\n",
      "ActionGeo_FullName                                Toronto, Ontario, Canada\n",
      "ActionGeo_CountryCode                                                   CA\n",
      "ActionGeo_ADM1Code                                                    CA08\n",
      "ActionGeo_Lat                                                      43.6667\n",
      "ActionGeo_Long                                                    -79.4167\n",
      "ActionGeo_FeatureID                                                -574890\n",
      "DATEADDED                                                         20190407\n",
      "SOURCEURL                https://edmontonsun.com/news/provincial/massiv...\n",
      "Name: 836503453, dtype: object\n"
     ]
    }
   ],
   "source": [
    "#list(DF)\n",
    "print(DF.iloc[0])"
   ]
  }
 ],
 "metadata": {
  "kernelspec": {
   "display_name": "Python 3",
   "language": "python",
   "name": "python3"
  },
  "language_info": {
   "codemirror_mode": {
    "name": "ipython",
    "version": 3
   },
   "file_extension": ".py",
   "mimetype": "text/x-python",
   "name": "python",
   "nbconvert_exporter": "python",
   "pygments_lexer": "ipython3",
   "version": "3.6.5"
  }
 },
 "nbformat": 4,
 "nbformat_minor": 2
}
