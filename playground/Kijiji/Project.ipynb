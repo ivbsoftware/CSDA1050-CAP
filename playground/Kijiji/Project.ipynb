{
 "cells": [
  {
   "cell_type": "code",
   "execution_count": 25,
   "metadata": {
    "collapsed": true
   },
   "outputs": [],
   "source": [
    "import pandas as pd\n",
    "import numpy as np\n",
    "import sqlalchemy\n",
    "import matplotlib.pyplot as plt\n",
    "import seaborn as sns\n",
    "import geopandas as gpd\n",
    "import missingno as msno\n",
    "from bs4 import BeautifulSoup\n",
    "import requests\n",
    "import psycopg2\n",
    "import regex\n",
    "import pandas.io.sql as sqlio\n",
    "from scipy import stats\n",
    "import numpy as np\n",
    "from shapely.geometry import Point\n",
    "\n",
    "sns.set(style='ticks') \n",
    "sns.mpl.rc('figure', figsize=(10,6))"
   ]
  },
  {
   "cell_type": "code",
   "execution_count": 65,
   "metadata": {
    "collapsed": false
   },
   "outputs": [
    {
     "name": "stdout",
     "output_type": "stream",
     "text": [
      "        ad_id                                              title    postdate  \\\n0  1427365611  Furnished room in renovated condo near York U ...  2019-04-14   \n1  1427365545    Small room for rent for may 1st only $600/month  2019-04-14   \n2  1427365531  Fully Furnished First Floor (Master Bedroom) R...  2019-04-14   \n\n  adbedrooms adbathrooms adsqft adfurnish adpet  \\\n0                                     Yes    No   \n1                                     Yes    No   \n2                                     Yes    No   \n\n                                         description province           city  \\\n0  Bigsizefurnishedmasterbedroomin3bdrmcompletely...  Ontario  Toronto (GTA)   \n1  Smallroomforrentinamassive4bedroomapartmentfor...  Ontario  Toronto (GTA)   \n2  FullyfurnishedLargeFirstFloor(MasterBedroom)Ro...  Ontario  Toronto (GTA)   \n\n                      region    price  \\\n0            City of Toronto  $825.00   \n1            City of Toronto  $600.00   \n2  Mississauga / Peel Region  $600.00   \n\n                                            address      geolan  \\\n0      4645 Jane St, North York, ON M3N 2K9, Canada               \n1  392 Royal York Rd, Etobicoke, ON M8Y 2R3, Canada  43.6189553   \n2  209 McMurchy Ave S, Brampton, ON L6Y 1Z2, Canada  43.6699734   \n\n               geolng  \n0                      \n1         -79.4997611  \n2  -79.75100619999999  \n"
     ]
    }
   ],
   "source": [
    "sql1=\"select * from gtarent_s;\"\n",
    "connection = psycopg2.connect(user='postgres', password='csda1050',\n",
    "                                  host=\"127.0.0.1\",\n",
    "                                  port=\"5432\",\n",
    "                                  database='postgres')\n",
    "    \n",
    "df = sqlio.read_sql_query(sql1, connection)\n",
    "    \n",
    "print (df.head(3))\n",
    "    \n",
    "connection= None\n",
    "    \n",
    "    #cursor = connection.cursor()\n",
    "    # Print PostgreSQL Connection properties\n",
    "    #print ( connection.get_dsn_parameters(),\"\\n\")\n",
    "    # Print PostgreSQL version\n",
    "    #cursor.execute(myQuery)\n",
    "    #result=cursor.fetchall()\n",
    "    #for row in result:\n",
    "       # print (\"Rent_Kijiji\", result[0])\n",
    "#except (Exception, psycopg2.Error) as error :\n",
    "    #print (\"Error while connecting to PostgreSQL\", error)"
   ]
  },
  {
   "cell_type": "code",
   "execution_count": 66,
   "metadata": {
    "collapsed": false
   },
   "outputs": [
    {
     "name": "stdout",
     "output_type": "stream",
     "text": [
      "Data Types:\nad_id           int64\ntitle          object\npostdate       object\nadbedrooms     object\nadbathrooms    object\nadsqft         object\nadfurnish      object\nadpet          object\ndescription    object\nprovince       object\ncity           object\nregion         object\nprice          object\naddress        object\ngeolan         object\ngeolng         object\ndtype: object\n\r\nDimensions of data (7397, 16)\n"
     ]
    }
   ],
   "source": [
    "print(\"Data Types:\")\n",
    "print(df.dtypes)\n",
    "print(\"\\r\\n\" \"Dimensions of data\", df.shape)"
   ]
  },
  {
   "cell_type": "code",
   "execution_count": 67,
   "metadata": {},
   "outputs": [
    {
     "data": {
      "text/plain": [
       "True"
      ]
     },
     "execution_count": 67,
     "metadata": {},
     "output_type": "execute_result"
    }
   ],
   "source": [
    "len(df.ad_id)==len(set(df.ad_id))"
   ]
  },
  {
   "cell_type": "code",
   "execution_count": 96,
   "metadata": {},
   "outputs": [],
   "source": [
    "df2 = df.sort_values('postdate', ascending=True)"
   ]
  },
  {
   "cell_type": "code",
   "execution_count": 97,
   "metadata": {
    "collapsed": true
   },
   "outputs": [
    {
     "name": "stdout",
     "output_type": "stream",
     "text": [
      "7396    2600.00\n7387          0\n7388    1100.00\n7389    1900.00\n7390    2000.00\nName: price, dtype: object\n"
     ]
    }
   ],
   "source": [
    "#df2['price']=df2['price'].to_string().replace(\"$\",\"\")\n",
    "df_st1=df2\n",
    "df_st1.price= [x.replace('$','') for x in df_st1.price]\n",
    "df_st1.price= [y.replace(',', '') for y in df_st1.price]\n",
    "print (df_st1.price.head(5))\n",
    "df_st1.price =df_st1['price'].astype(str).astype(float)\n"
   ]
  },
  {
   "cell_type": "code",
   "execution_count": 98,
   "metadata": {
    "collapsed": true
   },
   "outputs": [
    {
     "name": "stdout",
     "output_type": "stream",
     "text": [
      "7396     2\n7387     1\n7388     2\n7389     2\n7390     2\n7299     1\n7392     1\n7391     2\n7364      \n7363      \n7361      \n7360     2\n7359     2\n7358     1\n7357     2\n7356     2\n7355     2\n7354     2\n7353      \n7352     2\n7351      \n7350    4+\n7349     1\n7348     1\n7346     2\n4592      \n7320     2\n7365     2\n7366     2\n7347     2\nName: adbedrooms, dtype: object\n7396    2\n7387    1\n7388    2\n7389    2\n7390    2\n7299    1\n7392    1\n7391    2\n7364    0\n7363    0\n7361    0\n7360    2\n7359    2\n7358    1\n7357    2\n7356    2\n7355    2\n7354    2\n7353    0\n7352    2\n7351    0\n7350    4\n7349    1\n7348    1\n7346    2\n4592    0\n7320    2\n7365    2\n7366    2\n7347    2\nName: adbedrooms, dtype: object\nad_id            int64\ntitle           object\npostdate        object\nadbedrooms     float64\nadbathrooms     object\nadsqft          object\nadfurnish       object\nadpet           object\ndescription     object\nprovince        object\ncity            object\nregion          object\nprice          float64\naddress         object\ngeolan          object\ngeolng          object\ndtype: object\n"
     ]
    }
   ],
   "source": [
    "print(df_st1['adbedrooms'].head(30))\n",
    "df_t=df_st1\n",
    "\n",
    "#df_t['adbedrooms']=df_t['adbedrooms'].replace('', 0)\n",
    "df_t['adbedrooms']=[z.replace('+','') for z in df_t['adbedrooms']]\n",
    "df_t['adbedrooms']=df_t['adbedrooms'].replace('', 0)\n",
    "df_t['adbedrooms']=df_t['adbedrooms'].replace('Studio', 0)\n",
    "df_t['adbedrooms']=df_t['adbedrooms'].replace('Bachelor', 0)\n",
    "#df_st1['adbedrooms']= [z.replace('+','') for z in df_st1['adbedrooms']]\n",
    "#df_t.adbedrooms=df_t.adbedrooms.replace('+','')\n",
    "print(df_t['adbedrooms'].head(30))\n",
    "df_st1['adbedrooms']=df_t['adbedrooms'].astype(float)\n",
    "print(df_st1.dtypes)\n"
   ]
  },
  {
   "cell_type": "code",
   "execution_count": 99,
   "metadata": {
    "collapsed": true
   },
   "outputs": [
    {
     "name": "stdout",
     "output_type": "stream",
     "text": [
      "7396    1.5\n7387      1\n7388      1\n7389      1\n7390      1\n7299      1\n7392      1\n7391      1\n7364       \n7363       \n7361       \n7360      1\n7359      1\n7358      1\n7357      1\n7356      1\n7355      1\n7354      1\n7353       \n7352      1\n7351       \n7350      2\n7349      1\n7348      1\n7346      1\n4592       \n7320      1\n7365      1\n7366      2\n7347      1\nName: adbathrooms, dtype: object\n7396    1.5\n7387      1\n7388      1\n7389      1\n7390      1\n7299      1\n7392      1\n7391      1\n7364      0\n7363      0\n7361      0\n7360      1\n7359      1\n7358      1\n7357      1\n7356      1\n7355      1\n7354      1\n7353      0\n7352      1\n7351      0\n7350      2\n7349      1\n7348      1\n7346      1\n4592      0\n7320      1\n7365      1\n7366      2\n7347      1\nName: adbathrooms, dtype: object\nad_id            int64\ntitle           object\npostdate        object\nadbedrooms     float64\nadbathrooms    float64\nadsqft          object\nadfurnish       object\nadpet           object\ndescription     object\nprovince        object\ncity            object\nregion          object\nprice          float64\naddress         object\ngeolan          object\ngeolng          object\ndtype: object\n"
     ]
    }
   ],
   "source": [
    "print(df_st1['adbathrooms'].head(30))\n",
    "df_t1=df2\n",
    "df_t1['adbathrooms']=df_t1['adbathrooms'].replace('',0)\n",
    "print(df_t1['adbathrooms'].head(30))\n",
    "df_st1['adbathrooms']=df_t1['adbathrooms'].astype(float)\n",
    "print(df_st1.dtypes)"
   ]
  },
  {
   "cell_type": "code",
   "execution_count": 100,
   "metadata": {
    "collapsed": true
   },
   "outputs": [
    {
     "name": "stdout",
     "output_type": "stream",
     "text": [
      "ad_id            int64\ntitle           object\npostdate        object\nadbedrooms     float64\nadbathrooms    float64\nadsqft         float64\nadfurnish       object\nadpet           object\ndescription     object\nprovince        object\ncity            object\nregion          object\nprice          float64\naddress         object\ngeolan          object\ngeolng          object\ndtype: object\n"
     ]
    }
   ],
   "source": [
    "df_t2=df2\n",
    "#print(df_t2['adsqft'].head(30))\n",
    "df_t2['adsqft']=[z1.replace('+','') for z1 in df_t2['adsqft']]\n",
    "df_t2['adsqft']=[z2.replace(',','') for z2 in df_t2['adsqft']]\n",
    "df_t2['adsqft']=df_t2['adsqft'].replace('',0)\n",
    "\n",
    "df_st1['adsqft']=df_t2['adsqft'].astype(float)\n",
    "print(df_st1.dtypes)"
   ]
  },
  {
   "cell_type": "code",
   "execution_count": 101,
   "metadata": {
    "collapsed": false
   },
   "outputs": [
    {
     "name": "stdout",
     "output_type": "stream",
     "text": [
      "7396            43.664045\n7387            43.723033\n7388           43.7231621\n7389           43.7367948\n7390                     \n7299           43.7683779\n7392            43.467517\n7391           43.6794463\n7364                     \n7363           43.7375604\n7361            43.682253\n7360           43.6179934\n7359                     \n7358                     \n7357           43.7962073\n7356           43.5743239\n7355           43.6207315\n7354           43.6645808\n7353           43.6535884\n7352                     \n7351           43.7710056\n7350                     \n7349                     \n7348                     \n7346            43.660526\n4592                     \n7320           44.0580234\n7365            43.786439\n7366    43.67024310000001\n7347           43.6850522\nName: geolan, dtype: object\n7396            43.664045\n7387            43.723033\n7388           43.7231621\n7389           43.7367948\n7390                    0\n7299           43.7683779\n7392            43.467517\n7391           43.6794463\n7364                    0\n7363           43.7375604\n7361            43.682253\n7360           43.6179934\n7359                    0\n7358                    0\n7357           43.7962073\n7356           43.5743239\n7355           43.6207315\n7354           43.6645808\n7353           43.6535884\n7352                    0\n7351           43.7710056\n7350                    0\n7349                    0\n7348                    0\n7346            43.660526\n4592                    0\n7320           44.0580234\n7365            43.786439\n7366    43.67024310000001\n7347           43.6850522\nName: geolan, dtype: object\nad_id            int64\ntitle           object\npostdate        object\nadbedrooms     float64\nadbathrooms    float64\nadsqft         float64\nadfurnish       object\nadpet           object\ndescription     object\nprovince        object\ncity            object\nregion          object\nprice          float64\naddress         object\ngeolan         float64\ngeolng          object\ndtype: object\n"
     ]
    }
   ],
   "source": [
    "df_t3=df2\n",
    "print(df_t3['geolan'].head(30))\n",
    "df_t3['geolan']=[z1.replace('+','') for z1 in df_t3['geolan']]\n",
    "df_t3['geolan']=[z2.replace(',','') for z2 in df_t3['geolan']]\n",
    "df_t3['geolan']=df_t3['geolan'].str.strip().replace('',0)\n",
    "print(df_t3['geolan'].head(30))\n",
    "df_st1['geolan']=df_t3['geolan'].astype(float)\n",
    "print(df_st1.dtypes)"
   ]
  },
  {
   "cell_type": "code",
   "execution_count": 102,
   "metadata": {},
   "outputs": [
    {
     "name": "stdout",
     "output_type": "stream",
     "text": [
      "7396            -79.402898\n7387    -79.78551499999999\n7388           -79.7156522\n7389           -79.2285279\n7390                      \n7299           -79.3480518\n7392           -79.6876659\n7391           -79.3497167\n7364                      \n7363           -79.3415563\n7361           -79.3287148\n7360           -79.4890743\n7359                      \n7358                      \n7357           -79.4253336\n7356           -79.7869611\n7355           -79.6432368\n7354    -79.38229559999999\n7353           -79.7256809\n7352                      \n7351           -79.4524232\n7350                      \n7349                      \n7348                      \n7346    -79.44008319999999\n4592                      \n7320           -79.4347151\n7365           -79.4353321\n7366    -79.37624269999999\n7347           -79.4504742\nName: geolng, dtype: object\n7396            -79.402898\n7387    -79.78551499999999\n7388           -79.7156522\n7389           -79.2285279\n7390                     0\n7299           -79.3480518\n7392           -79.6876659\n7391           -79.3497167\n7364                     0\n7363           -79.3415563\n7361           -79.3287148\n7360           -79.4890743\n7359                     0\n7358                     0\n7357           -79.4253336\n7356           -79.7869611\n7355           -79.6432368\n7354    -79.38229559999999\n7353           -79.7256809\n7352                     0\n7351           -79.4524232\n7350                     0\n7349                     0\n7348                     0\n7346    -79.44008319999999\n4592                     0\n7320           -79.4347151\n7365           -79.4353321\n7366    -79.37624269999999\n7347           -79.4504742\nName: geolng, dtype: object\nad_id            int64\ntitle           object\npostdate        object\nadbedrooms     float64\nadbathrooms    float64\nadsqft         float64\nadfurnish       object\nadpet           object\ndescription     object\nprovince        object\ncity            object\nregion          object\nprice          float64\naddress         object\ngeolan         float64\ngeolng         float64\ndtype: object\n"
     ]
    }
   ],
   "source": [
    "df_t4=df2\n",
    "print(df_t4['geolng'].head(30))\n",
    "df_t4['geolng']=[z1.replace('+','') for z1 in df_t4['geolng']]\n",
    "df_t4['geolng']=[z2.replace(',','') for z2 in df_t4['geolng']]\n",
    "df_t4['geolng']=df_t4['geolng'].str.strip().replace('',0)\n",
    "print(df_t4['geolng'].head(30))\n",
    "df_st1['geolng']=df_t4['geolng'].astype(float)\n",
    "print(df_st1.dtypes)"
   ]
  },
  {
   "cell_type": "code",
   "execution_count": 103,
   "metadata": {},
   "outputs": [
    {
     "data": {
      "text/html": [
       "<div>\n",
       "<style scoped>\n",
       "    .dataframe tbody tr th:only-of-type {\n",
       "        vertical-align: middle;\n",
       "    }\n",
       "\n",
       "    .dataframe tbody tr th {\n",
       "        vertical-align: top;\n",
       "    }\n",
       "\n",
       "    .dataframe thead th {\n",
       "        text-align: right;\n",
       "    }\n",
       "</style>\n",
       "<table border=\"1\" class=\"dataframe\">\n",
       "  <thead>\n",
       "    <tr style=\"text-align: right;\">\n",
       "      <th></th>\n",
       "      <th>adbedrooms</th>\n",
       "      <th>price</th>\n",
       "    </tr>\n",
       "  </thead>\n",
       "  <tbody>\n",
       "    <tr>\n",
       "      <th>count</th>\n",
       "      <td>7397.000000</td>\n",
       "      <td>7.397000e+03</td>\n",
       "    </tr>\n",
       "    <tr>\n",
       "      <th>mean</th>\n",
       "      <td>1.161958</td>\n",
       "      <td>5.853518e+03</td>\n",
       "    </tr>\n",
       "    <tr>\n",
       "      <th>std</th>\n",
       "      <td>1.253550</td>\n",
       "      <td>2.341581e+05</td>\n",
       "    </tr>\n",
       "    <tr>\n",
       "      <th>min</th>\n",
       "      <td>0.000000</td>\n",
       "      <td>0.000000e+00</td>\n",
       "    </tr>\n",
       "    <tr>\n",
       "      <th>25%</th>\n",
       "      <td>0.000000</td>\n",
       "      <td>5.000000e+02</td>\n",
       "    </tr>\n",
       "    <tr>\n",
       "      <th>50%</th>\n",
       "      <td>1.000000</td>\n",
       "      <td>1.050000e+03</td>\n",
       "    </tr>\n",
       "    <tr>\n",
       "      <th>75%</th>\n",
       "      <td>2.000000</td>\n",
       "      <td>1.800000e+03</td>\n",
       "    </tr>\n",
       "    <tr>\n",
       "      <th>max</th>\n",
       "      <td>6.000000</td>\n",
       "      <td>1.400200e+07</td>\n",
       "    </tr>\n",
       "  </tbody>\n",
       "</table>\n",
       "</div>"
      ],
      "text/plain": [
       "<div>\n",
       "<style scoped>\n",
       "    .dataframe tbody tr th:only-of-type {\n",
       "        vertical-align: middle;\n",
       "    }\n",
       "\n",
       "    .dataframe tbody tr th {\n",
       "        vertical-align: top;\n",
       "    }\n",
       "\n",
       "    .dataframe thead th {\n",
       "        text-align: right;\n",
       "    }\n",
       "</style>\n",
       "<table border=\"1\" class=\"dataframe\">\n",
       "  <thead>\n",
       "    <tr style=\"text-align: right;\">\n",
       "      <th></th>\n",
       "      <th>adbedrooms</th>\n",
       "      <th>price</th>\n",
       "    </tr>\n",
       "  </thead>\n",
       "  <tbody>\n",
       "    <tr>\n",
       "      <th>count</th>\n",
       "      <td>7397.000000</td>\n",
       "      <td>7.397000e+03</td>\n",
       "    </tr>\n",
       "    <tr>\n",
       "      <th>mean</th>\n",
       "      <td>1.161958</td>\n",
       "      <td>5.853518e+03</td>\n",
       "    </tr>\n",
       "    <tr>\n",
       "      <th>std</th>\n",
       "      <td>1.253550</td>\n",
       "      <td>2.341581e+05</td>\n",
       "    </tr>\n",
       "    <tr>\n",
       "      <th>min</th>\n",
       "      <td>0.000000</td>\n",
       "      <td>0.000000e+00</td>\n",
       "    </tr>\n",
       "    <tr>\n",
       "      <th>25%</th>\n",
       "      <td>0.000000</td>\n",
       "      <td>5.000000e+02</td>\n",
       "    </tr>\n",
       "    <tr>\n",
       "      <th>50%</th>\n",
       "      <td>1.000000</td>\n",
       "      <td>1.050000e+03</td>\n",
       "    </tr>\n",
       "    <tr>\n",
       "      <th>75%</th>\n",
       "      <td>2.000000</td>\n",
       "      <td>1.800000e+03</td>\n",
       "    </tr>\n",
       "    <tr>\n",
       "      <th>max</th>\n",
       "      <td>6.000000</td>\n",
       "      <td>1.400200e+07</td>\n",
       "    </tr>\n",
       "  </tbody>\n",
       "</table>\n",
       "</div>"
      ]
     },
     "execution_count": 103,
     "metadata": {},
     "output_type": "execute_result"
    }
   ],
   "source": [
    "df_st1[['region','adbedrooms','price']].describe()"
   ]
  },
  {
   "cell_type": "code",
   "execution_count": 37,
   "metadata": {},
   "outputs": [
    {
     "data": {
      "text/plain": [
       "<matplotlib.axes._subplots.AxesSubplot at 0x7fbfde023ba8>"
      ]
     },
     "execution_count": 37,
     "metadata": {},
     "output_type": "execute_result"
    },
    {
     "data": {
      "image/png": "[encoded data removed]",
      "text/plain": [
       "<Figure size 1800x720 with 2 Axes>"
      ]
     },
     "metadata": {},
     "output_type": "display_data"
    }
   ],
   "source": [
    "msno.matrix(df_st1)"
   ]
  },
  {
   "cell_type": "code",
   "execution_count": 38,
   "metadata": {},
   "outputs": [
    {
     "name": "stdout",
     "output_type": "stream",
     "text": [
      "7396    2.0\n7387    1.0\n7388    2.0\n7389    2.0\n7390    2.0\n7299    1.0\n7392    1.0\n7391    2.0\n7364    0.0\n7363    0.0\nName: adbedrooms, dtype: float64\n7396    2600.0\n7387       0.0\n7388    1100.0\n7389    1900.0\n7390    2000.0\n7299     555.0\n7392       0.0\n7391    2700.0\n7364     750.0\n7363       0.0\nName: price, dtype: float64\n"
     ]
    },
    {
     "ename": "ValueError",
     "evalue": "zero-size array to reduction operation minimum which has no identity",
     "traceback": [
      "\u001b[0;31m---------------------------------------------------------------------------\u001b[0m",
      "\u001b[0;31mValueError\u001b[0m                                Traceback (most recent call last)",
      "\u001b[0;32m<ipython-input-38-b49a11010b02>\u001b[0m in \u001b[0;36m<module>\u001b[0;34m\u001b[0m\n\u001b[1;32m      1\u001b[0m \u001b[0mprint\u001b[0m\u001b[0;34m(\u001b[0m\u001b[0mdf_st1\u001b[0m\u001b[0;34m[\u001b[0m\u001b[0;34m'adbedrooms'\u001b[0m\u001b[0;34m]\u001b[0m\u001b[0;34m.\u001b[0m\u001b[0mhead\u001b[0m\u001b[0;34m(\u001b[0m\u001b[0;36m10\u001b[0m\u001b[0;34m)\u001b[0m\u001b[0;34m)\u001b[0m\u001b[0;34m\u001b[0m\u001b[0;34m\u001b[0m\u001b[0m\n\u001b[1;32m      2\u001b[0m \u001b[0mprint\u001b[0m\u001b[0;34m(\u001b[0m\u001b[0mdf_st1\u001b[0m\u001b[0;34m[\u001b[0m\u001b[0;34m'price'\u001b[0m\u001b[0;34m]\u001b[0m\u001b[0;34m.\u001b[0m\u001b[0mhead\u001b[0m\u001b[0;34m(\u001b[0m\u001b[0;36m10\u001b[0m\u001b[0;34m)\u001b[0m\u001b[0;34m)\u001b[0m\u001b[0;34m\u001b[0m\u001b[0;34m\u001b[0m\u001b[0m\n\u001b[0;32m----> 3\u001b[0;31m \u001b[0mmsno\u001b[0m\u001b[0;34m.\u001b[0m\u001b[0mheatmap\u001b[0m\u001b[0;34m(\u001b[0m\u001b[0mdf_st1\u001b[0m\u001b[0;34m[\u001b[0m\u001b[0;34m[\u001b[0m\u001b[0;34m'adbedrooms'\u001b[0m\u001b[0;34m,\u001b[0m\u001b[0;34m'postdate'\u001b[0m\u001b[0;34m,\u001b[0m\u001b[0;34m'price'\u001b[0m\u001b[0;34m]\u001b[0m\u001b[0;34m]\u001b[0m\u001b[0;34m)\u001b[0m\u001b[0;34m\u001b[0m\u001b[0;34m\u001b[0m\u001b[0m\n\u001b[0m",
      "\u001b[0;32m~/PycharmProjects/untitled/venv/lib/python3.6/site-packages/missingno/missingno.py\u001b[0m in \u001b[0;36mheatmap\u001b[0;34m(df, inline, filter, n, p, sort, figsize, fontsize, labels, cmap)\u001b[0m\n\u001b[1;32m    307\u001b[0m     \u001b[0;32mif\u001b[0m \u001b[0mlabels\u001b[0m\u001b[0;34m:\u001b[0m\u001b[0;34m\u001b[0m\u001b[0;34m\u001b[0m\u001b[0m\n\u001b[1;32m    308\u001b[0m         sns.heatmap(corr_mat, mask=mask, cmap=cmap, ax=ax0, cbar=False,\n\u001b[0;32m--> 309\u001b[0;31m                     annot=True, annot_kws={'size': fontsize - 2})\n\u001b[0m\u001b[1;32m    310\u001b[0m     \u001b[0;32melse\u001b[0m\u001b[0;34m:\u001b[0m\u001b[0;34m\u001b[0m\u001b[0;34m\u001b[0m\u001b[0m\n\u001b[1;32m    311\u001b[0m         \u001b[0msns\u001b[0m\u001b[0;34m.\u001b[0m\u001b[0mheatmap\u001b[0m\u001b[0;34m(\u001b[0m\u001b[0mcorr_mat\u001b[0m\u001b[0;34m,\u001b[0m \u001b[0mmask\u001b[0m\u001b[0;34m=\u001b[0m\u001b[0mmask\u001b[0m\u001b[0;34m,\u001b[0m \u001b[0mcmap\u001b[0m\u001b[0;34m=\u001b[0m\u001b[0mcmap\u001b[0m\u001b[0;34m,\u001b[0m \u001b[0max\u001b[0m\u001b[0;34m=\u001b[0m\u001b[0max0\u001b[0m\u001b[0;34m,\u001b[0m \u001b[0mcbar\u001b[0m\u001b[0;34m=\u001b[0m\u001b[0;32mFalse\u001b[0m\u001b[0;34m)\u001b[0m\u001b[0;34m\u001b[0m\u001b[0;34m\u001b[0m\u001b[0m\n",
      "\u001b[0;32m~/PycharmProjects/untitled/venv/lib/python3.6/site-packages/seaborn/matrix.py\u001b[0m in \u001b[0;36mheatmap\u001b[0;34m(data, vmin, vmax, cmap, center, robust, annot, fmt, annot_kws, linewidths, linecolor, cbar, cbar_kws, cbar_ax, square, xticklabels, yticklabels, mask, ax, **kwargs)\u001b[0m\n\u001b[1;32m    515\u001b[0m     plotter = _HeatMapper(data, vmin, vmax, cmap, center, robust, annot, fmt,\n\u001b[1;32m    516\u001b[0m                           \u001b[0mannot_kws\u001b[0m\u001b[0;34m,\u001b[0m \u001b[0mcbar\u001b[0m\u001b[0;34m,\u001b[0m \u001b[0mcbar_kws\u001b[0m\u001b[0;34m,\u001b[0m \u001b[0mxticklabels\u001b[0m\u001b[0;34m,\u001b[0m\u001b[0;34m\u001b[0m\u001b[0;34m\u001b[0m\u001b[0m\n\u001b[0;32m--> 517\u001b[0;31m                           yticklabels, mask)\n\u001b[0m\u001b[1;32m    518\u001b[0m \u001b[0;34m\u001b[0m\u001b[0m\n\u001b[1;32m    519\u001b[0m     \u001b[0;31m# Add the pcolormesh kwargs here\u001b[0m\u001b[0;34m\u001b[0m\u001b[0;34m\u001b[0m\u001b[0;34m\u001b[0m\u001b[0m\n",
      "\u001b[0;32m~/PycharmProjects/untitled/venv/lib/python3.6/site-packages/seaborn/matrix.py\u001b[0m in \u001b[0;36m__init__\u001b[0;34m(self, data, vmin, vmax, cmap, center, robust, annot, fmt, annot_kws, cbar, cbar_kws, xticklabels, yticklabels, mask)\u001b[0m\n\u001b[1;32m    165\u001b[0m         \u001b[0;31m# Determine good default values for the colormapping\u001b[0m\u001b[0;34m\u001b[0m\u001b[0;34m\u001b[0m\u001b[0;34m\u001b[0m\u001b[0m\n\u001b[1;32m    166\u001b[0m         self._determine_cmap_params(plot_data, vmin, vmax,\n\u001b[0;32m--> 167\u001b[0;31m                                     cmap, center, robust)\n\u001b[0m\u001b[1;32m    168\u001b[0m \u001b[0;34m\u001b[0m\u001b[0m\n\u001b[1;32m    169\u001b[0m         \u001b[0;31m# Sort out the annotations\u001b[0m\u001b[0;34m\u001b[0m\u001b[0;34m\u001b[0m\u001b[0;34m\u001b[0m\u001b[0m\n",
      "\u001b[0;32m~/PycharmProjects/untitled/venv/lib/python3.6/site-packages/seaborn/matrix.py\u001b[0m in \u001b[0;36m_determine_cmap_params\u001b[0;34m(self, plot_data, vmin, vmax, cmap, center, robust)\u001b[0m\n\u001b[1;32m    204\u001b[0m         \u001b[0mcalc_data\u001b[0m \u001b[0;34m=\u001b[0m \u001b[0mplot_data\u001b[0m\u001b[0;34m.\u001b[0m\u001b[0mdata\u001b[0m\u001b[0;34m[\u001b[0m\u001b[0;34m~\u001b[0m\u001b[0mnp\u001b[0m\u001b[0;34m.\u001b[0m\u001b[0misnan\u001b[0m\u001b[0;34m(\u001b[0m\u001b[0mplot_data\u001b[0m\u001b[0;34m.\u001b[0m\u001b[0mdata\u001b[0m\u001b[0;34m)\u001b[0m\u001b[0;34m]\u001b[0m\u001b[0;34m\u001b[0m\u001b[0;34m\u001b[0m\u001b[0m\n\u001b[1;32m    205\u001b[0m         \u001b[0;32mif\u001b[0m \u001b[0mvmin\u001b[0m \u001b[0;32mis\u001b[0m \u001b[0;32mNone\u001b[0m\u001b[0;34m:\u001b[0m\u001b[0;34m\u001b[0m\u001b[0;34m\u001b[0m\u001b[0m\n\u001b[0;32m--> 206\u001b[0;31m             \u001b[0mvmin\u001b[0m \u001b[0;34m=\u001b[0m \u001b[0mnp\u001b[0m\u001b[0;34m.\u001b[0m\u001b[0mpercentile\u001b[0m\u001b[0;34m(\u001b[0m\u001b[0mcalc_data\u001b[0m\u001b[0;34m,\u001b[0m \u001b[0;36m2\u001b[0m\u001b[0;34m)\u001b[0m \u001b[0;32mif\u001b[0m \u001b[0mrobust\u001b[0m \u001b[0;32melse\u001b[0m \u001b[0mcalc_data\u001b[0m\u001b[0;34m.\u001b[0m\u001b[0mmin\u001b[0m\u001b[0;34m(\u001b[0m\u001b[0;34m)\u001b[0m\u001b[0;34m\u001b[0m\u001b[0;34m\u001b[0m\u001b[0m\n\u001b[0m\u001b[1;32m    207\u001b[0m         \u001b[0;32mif\u001b[0m \u001b[0mvmax\u001b[0m \u001b[0;32mis\u001b[0m \u001b[0;32mNone\u001b[0m\u001b[0;34m:\u001b[0m\u001b[0;34m\u001b[0m\u001b[0;34m\u001b[0m\u001b[0m\n\u001b[1;32m    208\u001b[0m             \u001b[0mvmax\u001b[0m \u001b[0;34m=\u001b[0m \u001b[0mnp\u001b[0m\u001b[0;34m.\u001b[0m\u001b[0mpercentile\u001b[0m\u001b[0;34m(\u001b[0m\u001b[0mcalc_data\u001b[0m\u001b[0;34m,\u001b[0m \u001b[0;36m98\u001b[0m\u001b[0;34m)\u001b[0m \u001b[0;32mif\u001b[0m \u001b[0mrobust\u001b[0m \u001b[0;32melse\u001b[0m \u001b[0mcalc_data\u001b[0m\u001b[0;34m.\u001b[0m\u001b[0mmax\u001b[0m\u001b[0;34m(\u001b[0m\u001b[0;34m)\u001b[0m\u001b[0;34m\u001b[0m\u001b[0;34m\u001b[0m\u001b[0m\n",
      "\u001b[0;32m~/PycharmProjects/untitled/venv/lib/python3.6/site-packages/numpy/core/_methods.py\u001b[0m in \u001b[0;36m_amin\u001b[0;34m(a, axis, out, keepdims, initial)\u001b[0m\n\u001b[1;32m     30\u001b[0m def _amin(a, axis=None, out=None, keepdims=False,\n\u001b[1;32m     31\u001b[0m           initial=_NoValue):\n\u001b[0;32m---> 32\u001b[0;31m     \u001b[0;32mreturn\u001b[0m \u001b[0mumr_minimum\u001b[0m\u001b[0;34m(\u001b[0m\u001b[0ma\u001b[0m\u001b[0;34m,\u001b[0m \u001b[0maxis\u001b[0m\u001b[0;34m,\u001b[0m \u001b[0;32mNone\u001b[0m\u001b[0;34m,\u001b[0m \u001b[0mout\u001b[0m\u001b[0;34m,\u001b[0m \u001b[0mkeepdims\u001b[0m\u001b[0;34m,\u001b[0m \u001b[0minitial\u001b[0m\u001b[0;34m)\u001b[0m\u001b[0;34m\u001b[0m\u001b[0;34m\u001b[0m\u001b[0m\n\u001b[0m\u001b[1;32m     33\u001b[0m \u001b[0;34m\u001b[0m\u001b[0m\n\u001b[1;32m     34\u001b[0m def _sum(a, axis=None, dtype=None, out=None, keepdims=False,\n",
      "\u001b[0;31mValueError\u001b[0m: zero-size array to reduction operation minimum which has no identity"
     ],
     "output_type": "error"
    },
    {
     "data": {
      "image/png": "[encoded data removed]",
      "text/plain": [
       "<Figure size 1440x864 with 1 Axes>"
      ]
     },
     "metadata": {},
     "output_type": "display_data"
    }
   ],
   "source": [
    "print(df_st1['adbedrooms'].head(10))\n",
    "print(df_st1['price'].head(10))\n",
    "msno.heatmap(df_st1[['adbedrooms','postdate','price']])"
   ]
  },
  {
   "cell_type": "code",
   "execution_count": 39,
   "metadata": {},
   "outputs": [
    {
     "data": {
      "image/png": "[encoded data removed]",
      "text/plain": [
       "<Figure size 864x432 with 1 Axes>"
      ]
     },
     "metadata": {},
     "output_type": "display_data"
    }
   ],
   "source": [
    "sns.set_style('ticks')\n",
    "fig, ax = plt.subplots()\n",
    "fig.set_size_inches(12, 6)\n",
    "g = sns.boxplot(data = df_st1,x = 'adbedrooms', y = 'price')\n",
    "g.set(xlabel='Number of Bedrooms', ylabel='Monthly Rent',title='Rental Costs by Bedroom Count')\n",
    "plt.show()"
   ]
  },
  {
   "cell_type": "code",
   "execution_count": 104,
   "metadata": {},
   "outputs": [
    {
     "name": "stdout",
     "output_type": "stream",
     "text": [
      "{'init': 'epsg:4326'}\n"
     ]
    }
   ],
   "source": [
    "fp = 'NEIGHBORHOODS_WGS84.shp'\n",
    "\n",
    "map_df = gpd.read_file(fp)\n",
    "print(map_df.crs)\n",
    "# map_df=map_df.to_crs({'init': 'epsg:2019'})"
   ]
  },
  {
   "cell_type": "code",
   "execution_count": 105,
   "metadata": {},
   "outputs": [
    {
     "data": {
      "text/plain": [
       "<matplotlib.axes._subplots.AxesSubplot at 0x7fbfe27e17b8>"
      ]
     },
     "execution_count": 105,
     "metadata": {},
     "output_type": "execute_result"
    },
    {
     "data": {
      "image/png": "[encoded data removed]",
      "text/plain": [
       "<Figure size 720x432 with 1 Axes>"
      ]
     },
     "metadata": {},
     "output_type": "display_data"
    }
   ],
   "source": [
    "#Preview shapefile\n",
    "map_df.plot()"
   ]
  },
  {
   "cell_type": "code",
   "execution_count": 106,
   "metadata": {},
   "outputs": [
    {
     "name": "stdout",
     "output_type": "stream",
     "text": [
      "7396            (-79.402898, 43.664045)\n7387    (-79.78551499999999, 43.723033)\n7388          (-79.7156522, 43.7231621)\n7389          (-79.2285279, 43.7367948)\n7390                         (0.0, 0.0)\n7299          (-79.3480518, 43.7683779)\n7392           (-79.6876659, 43.467517)\n7391          (-79.3497167, 43.6794463)\n7364                         (0.0, 0.0)\n7363          (-79.3415563, 43.7375604)\nName: coordinates, dtype: object\n7396            (-79.402898, 43.664045)\n7387    (-79.78551499999999, 43.723033)\n7388          (-79.7156522, 43.7231621)\n7389          (-79.2285279, 43.7367948)\n7299          (-79.3480518, 43.7683779)\n7392           (-79.6876659, 43.467517)\n7391          (-79.3497167, 43.6794463)\n7363          (-79.3415563, 43.7375604)\n7361           (-79.3287148, 43.682253)\n7360          (-79.4890743, 43.6179934)\nName: coordinates, dtype: object\n"
     ]
    },
    {
     "name": "stderr",
     "output_type": "stream",
     "text": [
      "/home/forest7/PycharmProjects/untitled/venv/lib/python3.6/site-packages/pandas/core/generic.py:5096: SettingWithCopyWarning: \nA value is trying to be set on a copy of a slice from a DataFrame.\nTry using .loc[row_indexer,col_indexer] = value instead\n\nSee the caveats in the documentation: http://pandas.pydata.org/pandas-docs/stable/indexing.html#indexing-view-versus-copy\n  self[name] = value\n"
     ]
    },
    {
     "data": {
      "text/html": [
       "<div>\n",
       "<style scoped>\n",
       "    .dataframe tbody tr th:only-of-type {\n",
       "        vertical-align: middle;\n",
       "    }\n",
       "\n",
       "    .dataframe tbody tr th {\n",
       "        vertical-align: top;\n",
       "    }\n",
       "\n",
       "    .dataframe thead th {\n",
       "        text-align: right;\n",
       "    }\n",
       "</style>\n",
       "<table border=\"1\" class=\"dataframe\">\n",
       "  <thead>\n",
       "    <tr style=\"text-align: right;\">\n",
       "      <th></th>\n",
       "      <th>ad_id</th>\n",
       "      <th>title</th>\n",
       "      <th>postdate</th>\n",
       "      <th>adbedrooms</th>\n",
       "      <th>adbathrooms</th>\n",
       "      <th>adsqft</th>\n",
       "      <th>adfurnish</th>\n",
       "      <th>adpet</th>\n",
       "      <th>description</th>\n",
       "      <th>province</th>\n",
       "      <th>city</th>\n",
       "      <th>region</th>\n",
       "      <th>price</th>\n",
       "      <th>address</th>\n",
       "      <th>geolan</th>\n",
       "      <th>geolng</th>\n",
       "      <th>coordinates</th>\n",
       "    </tr>\n",
       "  </thead>\n",
       "  <tbody>\n",
       "    <tr>\n",
       "      <th>7396</th>\n",
       "      <td>1421849452</td>\n",
       "      <td>TWO BEDROOM APARTMENT FOR RENT DOWNTOWN TORONTO</td>\n",
       "      <td>2019-03-20</td>\n",
       "      <td>2.0</td>\n",
       "      <td>1.5</td>\n",
       "      <td>0.0</td>\n",
       "      <td>Yes</td>\n",
       "      <td>No</td>\n",
       "      <td>TwobedroomapartmentnearSpadinastationandtheUni...</td>\n",
       "      <td>Ontario</td>\n",
       "      <td>Toronto (GTA)</td>\n",
       "      <td>City of Toronto</td>\n",
       "      <td>2600.0</td>\n",
       "      <td>666 Spadina Ave, Toronto, ON M5S 2H8, Canada</td>\n",
       "      <td>43.664045</td>\n",
       "      <td>-79.402898</td>\n",
       "      <td>POINT (-79.40289799999999 43.664045)</td>\n",
       "    </tr>\n",
       "    <tr>\n",
       "      <th>7387</th>\n",
       "      <td>1421880653</td>\n",
       "      <td>Wanted: Wanted 1 or 2 bedroom apartment in bra...</td>\n",
       "      <td>2019-03-20</td>\n",
       "      <td>1.0</td>\n",
       "      <td>1.0</td>\n",
       "      <td>0.0</td>\n",
       "      <td>No</td>\n",
       "      <td>No</td>\n",
       "      <td>Wearelookingfora1or2bedroominbramptonplzcall64...</td>\n",
       "      <td>Ontario</td>\n",
       "      <td>Toronto (GTA)</td>\n",
       "      <td>Mississauga / Peel Region</td>\n",
       "      <td>0.0</td>\n",
       "      <td>4 Cochrane Ave, Brampton, ON L6Z 4J4, Canada</td>\n",
       "      <td>43.723033</td>\n",
       "      <td>-79.785515</td>\n",
       "      <td>POINT (-79.78551499999999 43.723033)</td>\n",
       "    </tr>\n",
       "    <tr>\n",
       "      <th>7388</th>\n",
       "      <td>1421903645</td>\n",
       "      <td>Wanted: Wantd: 2 bedroom Apartment/Basemnt nea...</td>\n",
       "      <td>2019-03-20</td>\n",
       "      <td>2.0</td>\n",
       "      <td>1.0</td>\n",
       "      <td>0.0</td>\n",
       "      <td>Yes</td>\n",
       "      <td>No</td>\n",
       "      <td>Weare3people(acoupleandagirl)lookingfora2bedro...</td>\n",
       "      <td>Ontario</td>\n",
       "      <td>Toronto (GTA)</td>\n",
       "      <td>Mississauga / Peel Region</td>\n",
       "      <td>1100.0</td>\n",
       "      <td>Bramalea Road, Brampton, L6T2X3</td>\n",
       "      <td>43.723162</td>\n",
       "      <td>-79.715652</td>\n",
       "      <td>POINT (-79.71565219999999 43.7231621)</td>\n",
       "    </tr>\n",
       "    <tr>\n",
       "      <th>7389</th>\n",
       "      <td>1421894809</td>\n",
       "      <td>Wanted: Small family of 2 with a toddler looki...</td>\n",
       "      <td>2019-03-20</td>\n",
       "      <td>2.0</td>\n",
       "      <td>1.0</td>\n",
       "      <td>0.0</td>\n",
       "      <td>No</td>\n",
       "      <td></td>\n",
       "      <td>Smallfamilyof2withatoddlerlookingfora2bedroomh...</td>\n",
       "      <td>Ontario</td>\n",
       "      <td>Toronto (GTA)</td>\n",
       "      <td>City of Toronto</td>\n",
       "      <td>1900.0</td>\n",
       "      <td>30 Glen Muir Dr, Scarborough, ON M1M 2C8, Canada</td>\n",
       "      <td>43.736795</td>\n",
       "      <td>-79.228528</td>\n",
       "      <td>POINT (-79.2285279 43.7367948)</td>\n",
       "    </tr>\n",
       "    <tr>\n",
       "      <th>7299</th>\n",
       "      <td>1421836700</td>\n",
       "      <td>space available in 1 bed spacious apt near fai...</td>\n",
       "      <td>2019-03-20</td>\n",
       "      <td>1.0</td>\n",
       "      <td>1.0</td>\n",
       "      <td>0.0</td>\n",
       "      <td>Yes</td>\n",
       "      <td>Yes</td>\n",
       "      <td>Spaceavailableforoneguyinonebedroomspaciousapa...</td>\n",
       "      <td>Ontario</td>\n",
       "      <td>Toronto (GTA)</td>\n",
       "      <td>City of Toronto</td>\n",
       "      <td>555.0</td>\n",
       "      <td>75 Havenbrook Blvd, North York, ON M2J 1A8, Ca...</td>\n",
       "      <td>43.768378</td>\n",
       "      <td>-79.348052</td>\n",
       "      <td>POINT (-79.34805179999999 43.7683779)</td>\n",
       "    </tr>\n",
       "  </tbody>\n",
       "</table>\n",
       "</div>"
      ],
      "text/plain": [
       "<div>\n",
       "<style scoped>\n",
       "    .dataframe tbody tr th:only-of-type {\n",
       "        vertical-align: middle;\n",
       "    }\n",
       "\n",
       "    .dataframe tbody tr th {\n",
       "        vertical-align: top;\n",
       "    }\n",
       "\n",
       "    .dataframe thead th {\n",
       "        text-align: right;\n",
       "    }\n",
       "</style>\n",
       "<table border=\"1\" class=\"dataframe\">\n",
       "  <thead>\n",
       "    <tr style=\"text-align: right;\">\n",
       "      <th></th>\n",
       "      <th>ad_id</th>\n",
       "      <th>title</th>\n",
       "      <th>postdate</th>\n",
       "      <th>adbedrooms</th>\n",
       "      <th>adbathrooms</th>\n",
       "      <th>adsqft</th>\n",
       "      <th>adfurnish</th>\n",
       "      <th>adpet</th>\n",
       "      <th>description</th>\n",
       "      <th>province</th>\n",
       "      <th>city</th>\n",
       "      <th>region</th>\n",
       "      <th>price</th>\n",
       "      <th>address</th>\n",
       "      <th>geolan</th>\n",
       "      <th>geolng</th>\n",
       "      <th>coordinates</th>\n",
       "    </tr>\n",
       "  </thead>\n",
       "  <tbody>\n",
       "    <tr>\n",
       "      <th>7396</th>\n",
       "      <td>1421849452</td>\n",
       "      <td>TWO BEDROOM APARTMENT FOR RENT DOWNTOWN TORONTO</td>\n",
       "      <td>2019-03-20</td>\n",
       "      <td>2.0</td>\n",
       "      <td>1.5</td>\n",
       "      <td>0.0</td>\n",
       "      <td>Yes</td>\n",
       "      <td>No</td>\n",
       "      <td>TwobedroomapartmentnearSpadinastationandtheUni...</td>\n",
       "      <td>Ontario</td>\n",
       "      <td>Toronto (GTA)</td>\n",
       "      <td>City of Toronto</td>\n",
       "      <td>2600.0</td>\n",
       "      <td>666 Spadina Ave, Toronto, ON M5S 2H8, Canada</td>\n",
       "      <td>43.664045</td>\n",
       "      <td>-79.402898</td>\n",
       "      <td>POINT (-79.40289799999999 43.664045)</td>\n",
       "    </tr>\n",
       "    <tr>\n",
       "      <th>7387</th>\n",
       "      <td>1421880653</td>\n",
       "      <td>Wanted: Wanted 1 or 2 bedroom apartment in bra...</td>\n",
       "      <td>2019-03-20</td>\n",
       "      <td>1.0</td>\n",
       "      <td>1.0</td>\n",
       "      <td>0.0</td>\n",
       "      <td>No</td>\n",
       "      <td>No</td>\n",
       "      <td>Wearelookingfora1or2bedroominbramptonplzcall64...</td>\n",
       "      <td>Ontario</td>\n",
       "      <td>Toronto (GTA)</td>\n",
       "      <td>Mississauga / Peel Region</td>\n",
       "      <td>0.0</td>\n",
       "      <td>4 Cochrane Ave, Brampton, ON L6Z 4J4, Canada</td>\n",
       "      <td>43.723033</td>\n",
       "      <td>-79.785515</td>\n",
       "      <td>POINT (-79.78551499999999 43.723033)</td>\n",
       "    </tr>\n",
       "    <tr>\n",
       "      <th>7388</th>\n",
       "      <td>1421903645</td>\n",
       "      <td>Wanted: Wantd: 2 bedroom Apartment/Basemnt nea...</td>\n",
       "      <td>2019-03-20</td>\n",
       "      <td>2.0</td>\n",
       "      <td>1.0</td>\n",
       "      <td>0.0</td>\n",
       "      <td>Yes</td>\n",
       "      <td>No</td>\n",
       "      <td>Weare3people(acoupleandagirl)lookingfora2bedro...</td>\n",
       "      <td>Ontario</td>\n",
       "      <td>Toronto (GTA)</td>\n",
       "      <td>Mississauga / Peel Region</td>\n",
       "      <td>1100.0</td>\n",
       "      <td>Bramalea Road, Brampton, L6T2X3</td>\n",
       "      <td>43.723162</td>\n",
       "      <td>-79.715652</td>\n",
       "      <td>POINT (-79.71565219999999 43.7231621)</td>\n",
       "    </tr>\n",
       "    <tr>\n",
       "      <th>7389</th>\n",
       "      <td>1421894809</td>\n",
       "      <td>Wanted: Small family of 2 with a toddler looki...</td>\n",
       "      <td>2019-03-20</td>\n",
       "      <td>2.0</td>\n",
       "      <td>1.0</td>\n",
       "      <td>0.0</td>\n",
       "      <td>No</td>\n",
       "      <td></td>\n",
       "      <td>Smallfamilyof2withatoddlerlookingfora2bedroomh...</td>\n",
       "      <td>Ontario</td>\n",
       "      <td>Toronto (GTA)</td>\n",
       "      <td>City of Toronto</td>\n",
       "      <td>1900.0</td>\n",
       "      <td>30 Glen Muir Dr, Scarborough, ON M1M 2C8, Canada</td>\n",
       "      <td>43.736795</td>\n",
       "      <td>-79.228528</td>\n",
       "      <td>POINT (-79.2285279 43.7367948)</td>\n",
       "    </tr>\n",
       "    <tr>\n",
       "      <th>7299</th>\n",
       "      <td>1421836700</td>\n",
       "      <td>space available in 1 bed spacious apt near fai...</td>\n",
       "      <td>2019-03-20</td>\n",
       "      <td>1.0</td>\n",
       "      <td>1.0</td>\n",
       "      <td>0.0</td>\n",
       "      <td>Yes</td>\n",
       "      <td>Yes</td>\n",
       "      <td>Spaceavailableforoneguyinonebedroomspaciousapa...</td>\n",
       "      <td>Ontario</td>\n",
       "      <td>Toronto (GTA)</td>\n",
       "      <td>City of Toronto</td>\n",
       "      <td>555.0</td>\n",
       "      <td>75 Havenbrook Blvd, North York, ON M2J 1A8, Ca...</td>\n",
       "      <td>43.768378</td>\n",
       "      <td>-79.348052</td>\n",
       "      <td>POINT (-79.34805179999999 43.7683779)</td>\n",
       "    </tr>\n",
       "  </tbody>\n",
       "</table>\n",
       "</div>"
      ]
     },
     "execution_count": 106,
     "metadata": {},
     "output_type": "execute_result"
    }
   ],
   "source": [
    "df_geo=df_st1\n",
    "df_geo['coordinates']=list(zip(df_geo.geolng, df_geo.geolan))\n",
    "print(df_geo['coordinates'].head(10))\n",
    "df_geo=df_geo[(df_geo['coordinates'])!= (0.0, 0.0)]\n",
    "print(df_geo['coordinates'].head(10))\n",
    "df_geo.coordinates = df_geo['coordinates'].apply(Point)\n",
    "crs = {'init': 'epsg:4326'}\n",
    "gdf = gpd.GeoDataFrame(df_geo, crs=crs,geometry='coordinates')\n",
    "gdf.head()"
   ]
  },
  {
   "cell_type": "code",
   "execution_count": 43,
   "metadata": {},
   "outputs": [],
   "source": []
  },
  {
   "cell_type": "code",
   "execution_count": null,
   "metadata": {},
   "outputs": [],
   "source": []
  }
 ],
 "metadata": {
  "kernelspec": {
   "display_name": "Python 2",
   "language": "python",
   "name": "python2"
  },
  "language_info": {
   "codemirror_mode": {
    "name": "ipython",
    "version": 2
   },
   "file_extension": ".py",
   "mimetype": "text/x-python",
   "name": "python",
   "nbconvert_exporter": "python",
   "pygments_lexer": "ipython2",
   "version": "2.7.6"
  }
 },
 "nbformat": 4,
 "nbformat_minor": 0
}
