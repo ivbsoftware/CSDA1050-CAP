{
 "cells": [
  {
   "cell_type": "markdown",
   "metadata": {},
   "source": [
    "# Twitter Topic Modeling: Toronto Tweets\n",
    "By: Jennifer Johnson\n",
    "\n",
    "Twitter data filtered for Toronto Only\n",
    "Reference: https://towardsdatascience.com/topic-modeling-in-pythoon-with-nltk-and-gensim-4ef03213cd21"
   ]
  },
  {
   "cell_type": "code",
   "execution_count": 1,
   "metadata": {},
   "outputs": [],
   "source": [
    "import pandas as pd\n",
    "import re\n",
    "import spacy\n",
    "import nltk\n",
    "import string\n",
    "import ast\n",
    "import numpy as np\n",
    "import seaborn as sns\n",
    "\n",
    "import missingno as msno\n",
    "\n",
    "from datetime import datetime\n",
    "from wordcloud import WordCloud\n",
    "import matplotlib.pyplot as plt\n",
    "%matplotlib inline\n",
    "\n",
    "sns.set(style=\"whitegrid\") "
   ]
  },
  {
   "cell_type": "code",
   "execution_count": 2,
   "metadata": {},
   "outputs": [
    {
     "name": "stderr",
     "output_type": "stream",
     "text": [
      "[nltk_data] Downloading package wordnet to\n",
      "[nltk_data]     C:\\Users\\Jennifer\\AppData\\Roaming\\nltk_data...\n",
      "[nltk_data]   Package wordnet is already up-to-date!\n",
      "[nltk_data] Downloading package stopwords to\n",
      "[nltk_data]     C:\\Users\\Jennifer\\AppData\\Roaming\\nltk_data...\n",
      "[nltk_data]   Package stopwords is already up-to-date!\n",
      "[nltk_data] Downloading package punkt to\n",
      "[nltk_data]     C:\\Users\\Jennifer\\AppData\\Roaming\\nltk_data...\n",
      "[nltk_data]   Package punkt is already up-to-date!\n"
     ]
    },
    {
     "data": {
      "text/plain": [
       "True"
      ]
     },
     "execution_count": 2,
     "metadata": {},
     "output_type": "execute_result"
    }
   ],
   "source": [
    "spacy.load('en')\n",
    "nltk.download('wordnet')\n",
    "nltk.download('stopwords')\n",
    "nltk.download('punkt')"
   ]
  },
  {
   "cell_type": "code",
   "execution_count": 3,
   "metadata": {},
   "outputs": [],
   "source": [
    "from spacy.lang.en import English\n",
    "from nltk.corpus import wordnet as wn\n",
    "from nltk.stem.wordnet import WordNetLemmatizer\n",
    "from translate import Translator\n",
    "\n",
    "parser = English()\n",
    "translator = Translator(to_lang=\"English\")"
   ]
  },
  {
   "cell_type": "code",
   "execution_count": 4,
   "metadata": {},
   "outputs": [],
   "source": [
    "def get_lemma(word):\n",
    "    lemma = wn.morphy(word)\n",
    "    if lemma is None:\n",
    "        return word\n",
    "    else:\n",
    "        return lemma"
   ]
  },
  {
   "cell_type": "code",
   "execution_count": 5,
   "metadata": {},
   "outputs": [],
   "source": [
    "# Filter out stopwords\n",
    "en_stop = set(nltk.corpus.stopwords.words('english'))"
   ]
  },
  {
   "cell_type": "code",
   "execution_count": 6,
   "metadata": {},
   "outputs": [],
   "source": [
    "def processTweet(tweet):\n",
    "    # process the tweets\n",
    "    translator = str.maketrans('', '', string.punctuation)\n",
    "\n",
    "    #Convert to lower case\n",
    "    tweet = tweet.lower()\n",
    "    \n",
    "    #Convert www.* or https?://* to URL\n",
    "    tweet = re.sub('((www\\.[^\\s]+)|(https?://[^\\s]+))','URL',tweet)\n",
    "    \n",
    "    #Convert @username to AT_USER\n",
    "    tweet = re.sub('@[^\\s]+','USER',tweet)\n",
    "    \n",
    "    #Remove additional white spaces\n",
    "    tweet = re.sub('[\\s]+', ' ', tweet)\n",
    "    \n",
    "    #Replace #word with word\n",
    "    tweet = re.sub(r'#([^\\s]+)', r'\\1', tweet)\n",
    "    \n",
    "    #trim\n",
    "    tweet = tweet.strip('\\'\"')\n",
    "    \n",
    "    #remove punctuation from text\n",
    "    tweet = tweet.translate(translator)\n",
    "    \n",
    "    tweet = tweet.split()\n",
    "    tweet = [get_lemma(token) for token in tweet]\n",
    "    tweet = [token for token in tweet if token not in en_stop]\n",
    "    tweet = ' '.join(tweet)\n",
    "    return tweet"
   ]
  },
  {
   "cell_type": "code",
   "execution_count": 7,
   "metadata": {
    "scrolled": true
   },
   "outputs": [
    {
     "data": {
      "text/plain": [
       "(299111, 24)"
      ]
     },
     "execution_count": 7,
     "metadata": {},
     "output_type": "execute_result"
    }
   ],
   "source": [
    "# Load dataframe\n",
    "tweets_df = pd.read_csv('D:/development/CSDA1050/playground/twitter_jj/twitter_tweets_new.csv')\n",
    "tweets_df = tweets_df[tweets_df['place_country']=='Canada']\n",
    "tweets_df.shape"
   ]
  },
  {
   "cell_type": "code",
   "execution_count": 8,
   "metadata": {},
   "outputs": [],
   "source": [
    "# changing tweet_text to String column (returned error about 'float')\n",
    "# when full dataset was used\n",
    "tweets_df['tweet_text'] = tweets_df['tweet_text'].astype(str)\n",
    "tweets_df['tweet_clean'] = tweets_df['tweet_text'].apply(processTweet)"
   ]
  },
  {
   "cell_type": "code",
   "execution_count": 9,
   "metadata": {},
   "outputs": [],
   "source": [
    "import pytz"
   ]
  },
  {
   "cell_type": "code",
   "execution_count": 10,
   "metadata": {},
   "outputs": [],
   "source": [
    "def getTZ(tweet_date):\n",
    "    est = pytz.timezone('US/Eastern')\n",
    "    \n",
    "    tweet_date = pd.Timestamp(tweet_date).tz_localize('UTC')\n",
    "    tweet_date = tweet_date.astimezone(est)\n",
    "    \n",
    "    return tweet_date"
   ]
  },
  {
   "cell_type": "code",
   "execution_count": 11,
   "metadata": {},
   "outputs": [],
   "source": [
    "# changing tweet_date to DateTime column\n",
    "tweets_df.tweet_date = pd.to_datetime(tweets_df['tweet_date'])\n",
    "tweets_df['tweet_date'] = tweets_df['tweet_date'].apply(getTZ)"
   ]
  },
  {
   "cell_type": "code",
   "execution_count": 12,
   "metadata": {
    "scrolled": true
   },
   "outputs": [
    {
     "data": {
      "text/html": [
       "<div>\n",
       "<style scoped>\n",
       "    .dataframe tbody tr th:only-of-type {\n",
       "        vertical-align: middle;\n",
       "    }\n",
       "\n",
       "    .dataframe tbody tr th {\n",
       "        vertical-align: top;\n",
       "    }\n",
       "\n",
       "    .dataframe thead th {\n",
       "        text-align: right;\n",
       "    }\n",
       "</style>\n",
       "<table border=\"1\" class=\"dataframe\">\n",
       "  <thead>\n",
       "    <tr style=\"text-align: right;\">\n",
       "      <th></th>\n",
       "      <th>emojis</th>\n",
       "      <th>hashtags</th>\n",
       "      <th>id</th>\n",
       "      <th>language</th>\n",
       "      <th>latitude</th>\n",
       "      <th>longitude</th>\n",
       "      <th>mentions</th>\n",
       "      <th>place_bbcoordinates</th>\n",
       "      <th>place_bbtype</th>\n",
       "      <th>place_country</th>\n",
       "      <th>...</th>\n",
       "      <th>reply_to_status</th>\n",
       "      <th>reply_to_user</th>\n",
       "      <th>sensitive</th>\n",
       "      <th>sentiment</th>\n",
       "      <th>source</th>\n",
       "      <th>tweet_date</th>\n",
       "      <th>tweet_text</th>\n",
       "      <th>user_id</th>\n",
       "      <th>user_name</th>\n",
       "      <th>tweet_clean</th>\n",
       "    </tr>\n",
       "  </thead>\n",
       "  <tbody>\n",
       "    <tr>\n",
       "      <th>0</th>\n",
       "      <td>[':red_heart:']</td>\n",
       "      <td>NaN</td>\n",
       "      <td>1107369998148788224</td>\n",
       "      <td>en</td>\n",
       "      <td>NaN</td>\n",
       "      <td>NaN</td>\n",
       "      <td>NaN</td>\n",
       "      <td>[[[-79.583667, 43.550871], [-79.583667, 43.550...</td>\n",
       "      <td>Polygon</td>\n",
       "      <td>Canada</td>\n",
       "      <td>...</td>\n",
       "      <td>NaN</td>\n",
       "      <td>NaN</td>\n",
       "      <td>False</td>\n",
       "      <td>{'neg': 0.0, 'neu': 0.506, 'pos': 0.494, 'comp...</td>\n",
       "      <td>Twitter for iPhone</td>\n",
       "      <td>2019-03-17 15:55:56.155000-04:00</td>\n",
       "      <td>Loving the vibes :red_heart:️ https://t.co/X8v...</td>\n",
       "      <td>908049944040361984</td>\n",
       "      <td>wikki_87</td>\n",
       "      <td>love vibes redheart️ URL</td>\n",
       "    </tr>\n",
       "    <tr>\n",
       "      <th>1</th>\n",
       "      <td>[]</td>\n",
       "      <td>NaN</td>\n",
       "      <td>1107370010182324229</td>\n",
       "      <td>und</td>\n",
       "      <td>NaN</td>\n",
       "      <td>NaN</td>\n",
       "      <td>['Rosalestri', 'Cnyari']</td>\n",
       "      <td>[[[-80.248423, 43.050553], [-80.248423, 43.470...</td>\n",
       "      <td>Polygon</td>\n",
       "      <td>Canada</td>\n",
       "      <td>...</td>\n",
       "      <td>1.107354e+18</td>\n",
       "      <td>Rosalestri</td>\n",
       "      <td>False</td>\n",
       "      <td>{'neg': 0.0, 'neu': 1.0, 'pos': 0.0, 'compound...</td>\n",
       "      <td>Twitter for Android</td>\n",
       "      <td>2019-03-17 15:55:59.024000-04:00</td>\n",
       "      <td>@Rosalestri @Cnyari Olé</td>\n",
       "      <td>16801721</td>\n",
       "      <td>njsh2008</td>\n",
       "      <td>USER USER olé</td>\n",
       "    </tr>\n",
       "    <tr>\n",
       "      <th>4</th>\n",
       "      <td>[':fearful_face:', ':fearful_face:', ':flushed...</td>\n",
       "      <td>NaN</td>\n",
       "      <td>1107370005883023360</td>\n",
       "      <td>ko</td>\n",
       "      <td>NaN</td>\n",
       "      <td>NaN</td>\n",
       "      <td>['BTS_twt']</td>\n",
       "      <td>[[[-95.155898, 41.676329], [-95.155898, 56.852...</td>\n",
       "      <td>Polygon</td>\n",
       "      <td>Canada</td>\n",
       "      <td>...</td>\n",
       "      <td>NaN</td>\n",
       "      <td>BTS_twt</td>\n",
       "      <td>False</td>\n",
       "      <td>{'neg': 0.187, 'neu': 0.51, 'pos': 0.304, 'com...</td>\n",
       "      <td>Twitter for iPhone</td>\n",
       "      <td>2019-03-17 15:55:57.999000-04:00</td>\n",
       "      <td>@BTS_twt 김태형, 밴드에이드? :fearful_face::fearful_fa...</td>\n",
       "      <td>828139192035196928</td>\n",
       "      <td>BangtanBabeXO</td>\n",
       "      <td>USER 김태형 밴드에이드 fearfulfacefearfulface wa cut h...</td>\n",
       "    </tr>\n",
       "    <tr>\n",
       "      <th>5</th>\n",
       "      <td>[]</td>\n",
       "      <td>NaN</td>\n",
       "      <td>1107370047134224384</td>\n",
       "      <td>en</td>\n",
       "      <td>NaN</td>\n",
       "      <td>NaN</td>\n",
       "      <td>['MazharAbbasGEO']</td>\n",
       "      <td>[[[-79.810142, 43.373074], [-79.810142, 43.737...</td>\n",
       "      <td>Polygon</td>\n",
       "      <td>Canada</td>\n",
       "      <td>...</td>\n",
       "      <td>1.107348e+18</td>\n",
       "      <td>MazharAbbasGEO</td>\n",
       "      <td>False</td>\n",
       "      <td>{'neg': 0.423, 'neu': 0.577, 'pos': 0.0, 'comp...</td>\n",
       "      <td>Twitter for Android</td>\n",
       "      <td>2019-03-17 15:56:07.834000-04:00</td>\n",
       "      <td>@MazharAbbasGEO WHAT ABOUT THIS SHAMELESS http...</td>\n",
       "      <td>127687121</td>\n",
       "      <td>ZA_chaudhry</td>\n",
       "      <td>USER shameless URL</td>\n",
       "    </tr>\n",
       "    <tr>\n",
       "      <th>6</th>\n",
       "      <td>[]</td>\n",
       "      <td>['torontocontractors', 'renovation', 'interior...</td>\n",
       "      <td>1107370085608538113</td>\n",
       "      <td>en</td>\n",
       "      <td>43.7166</td>\n",
       "      <td>-79.3407</td>\n",
       "      <td>NaN</td>\n",
       "      <td>[[[-79.639319, 43.403221], [-79.639319, 43.855...</td>\n",
       "      <td>Polygon</td>\n",
       "      <td>Canada</td>\n",
       "      <td>...</td>\n",
       "      <td>NaN</td>\n",
       "      <td>NaN</td>\n",
       "      <td>False</td>\n",
       "      <td>{'neg': 0.0, 'neu': 1.0, 'pos': 0.0, 'compound...</td>\n",
       "      <td>Instagram</td>\n",
       "      <td>2019-03-17 15:56:17.007000-04:00</td>\n",
       "      <td>Before and after, big different....\\n.\\n.\\n.\\n...</td>\n",
       "      <td>349291874</td>\n",
       "      <td>905RENO</td>\n",
       "      <td>big different torontocontractors renovation in...</td>\n",
       "    </tr>\n",
       "  </tbody>\n",
       "</table>\n",
       "<p>5 rows × 25 columns</p>\n",
       "</div>"
      ],
      "text/plain": [
       "                                              emojis  \\\n",
       "0                                    [':red_heart:']   \n",
       "1                                                 []   \n",
       "4  [':fearful_face:', ':fearful_face:', ':flushed...   \n",
       "5                                                 []   \n",
       "6                                                 []   \n",
       "\n",
       "                                            hashtags                   id  \\\n",
       "0                                                NaN  1107369998148788224   \n",
       "1                                                NaN  1107370010182324229   \n",
       "4                                                NaN  1107370005883023360   \n",
       "5                                                NaN  1107370047134224384   \n",
       "6  ['torontocontractors', 'renovation', 'interior...  1107370085608538113   \n",
       "\n",
       "  language  latitude  longitude                  mentions  \\\n",
       "0       en       NaN        NaN                       NaN   \n",
       "1      und       NaN        NaN  ['Rosalestri', 'Cnyari']   \n",
       "4       ko       NaN        NaN               ['BTS_twt']   \n",
       "5       en       NaN        NaN        ['MazharAbbasGEO']   \n",
       "6       en   43.7166   -79.3407                       NaN   \n",
       "\n",
       "                                 place_bbcoordinates place_bbtype  \\\n",
       "0  [[[-79.583667, 43.550871], [-79.583667, 43.550...      Polygon   \n",
       "1  [[[-80.248423, 43.050553], [-80.248423, 43.470...      Polygon   \n",
       "4  [[[-95.155898, 41.676329], [-95.155898, 56.852...      Polygon   \n",
       "5  [[[-79.810142, 43.373074], [-79.810142, 43.737...      Polygon   \n",
       "6  [[[-79.639319, 43.403221], [-79.639319, 43.855...      Polygon   \n",
       "\n",
       "  place_country  ... reply_to_status   reply_to_user  sensitive  \\\n",
       "0        Canada  ...             NaN             NaN      False   \n",
       "1        Canada  ...    1.107354e+18      Rosalestri      False   \n",
       "4        Canada  ...             NaN         BTS_twt      False   \n",
       "5        Canada  ...    1.107348e+18  MazharAbbasGEO      False   \n",
       "6        Canada  ...             NaN             NaN      False   \n",
       "\n",
       "                                           sentiment               source  \\\n",
       "0  {'neg': 0.0, 'neu': 0.506, 'pos': 0.494, 'comp...   Twitter for iPhone   \n",
       "1  {'neg': 0.0, 'neu': 1.0, 'pos': 0.0, 'compound...  Twitter for Android   \n",
       "4  {'neg': 0.187, 'neu': 0.51, 'pos': 0.304, 'com...   Twitter for iPhone   \n",
       "5  {'neg': 0.423, 'neu': 0.577, 'pos': 0.0, 'comp...  Twitter for Android   \n",
       "6  {'neg': 0.0, 'neu': 1.0, 'pos': 0.0, 'compound...            Instagram   \n",
       "\n",
       "                        tweet_date  \\\n",
       "0 2019-03-17 15:55:56.155000-04:00   \n",
       "1 2019-03-17 15:55:59.024000-04:00   \n",
       "4 2019-03-17 15:55:57.999000-04:00   \n",
       "5 2019-03-17 15:56:07.834000-04:00   \n",
       "6 2019-03-17 15:56:17.007000-04:00   \n",
       "\n",
       "                                          tweet_text             user_id  \\\n",
       "0  Loving the vibes :red_heart:️ https://t.co/X8v...  908049944040361984   \n",
       "1                            @Rosalestri @Cnyari Olé            16801721   \n",
       "4  @BTS_twt 김태형, 밴드에이드? :fearful_face::fearful_fa...  828139192035196928   \n",
       "5  @MazharAbbasGEO WHAT ABOUT THIS SHAMELESS http...           127687121   \n",
       "6  Before and after, big different....\\n.\\n.\\n.\\n...           349291874   \n",
       "\n",
       "       user_name                                        tweet_clean  \n",
       "0       wikki_87                           love vibes redheart️ URL  \n",
       "1       njsh2008                                      USER USER olé  \n",
       "4  BangtanBabeXO  USER 김태형 밴드에이드 fearfulfacefearfulface wa cut h...  \n",
       "5    ZA_chaudhry                                 USER shameless URL  \n",
       "6        905RENO  big different torontocontractors renovation in...  \n",
       "\n",
       "[5 rows x 25 columns]"
      ]
     },
     "execution_count": 12,
     "metadata": {},
     "output_type": "execute_result"
    }
   ],
   "source": [
    "tweets_df.head()"
   ]
  },
  {
   "cell_type": "markdown",
   "metadata": {},
   "source": [
    "##### Topic Model Periods\n",
    "Solid periods, days without interruption in streaming\n",
    "- 2019-03-19 to 2019-03-20 (2 days)\n",
    "- 2019-03-23 to 2019-03-26 (4 days)\n",
    "- 2019-04-01 to 2019-04-10 (9 days)"
   ]
  },
  {
   "cell_type": "code",
   "execution_count": 13,
   "metadata": {},
   "outputs": [],
   "source": [
    "p1_start = '03-19-2019 00:00:00'\n",
    "p1_end = '03-20-2019 23:59:59'\n",
    "\n",
    "p2_start = '03-23-2019 00:00:00'\n",
    "p2_end = '03-26-2019 23:59:59'\n",
    "\n",
    "p3_start = '04-01-2019 00:00:00'\n",
    "p3_end = '04-10-2019 23:59:59'"
   ]
  },
  {
   "cell_type": "code",
   "execution_count": 14,
   "metadata": {},
   "outputs": [
    {
     "data": {
      "text/plain": [
       "(32621, 25)"
      ]
     },
     "execution_count": 14,
     "metadata": {},
     "output_type": "execute_result"
    }
   ],
   "source": [
    "start_date = p1_start\n",
    "end_date = p1_end\n",
    "mask = (tweets_df['tweet_date'] > start_date) & (tweets_df['tweet_date'] < end_date)\n",
    "in_range_df = tweets_df.loc[mask]\n",
    "in_range_df.shape"
   ]
  },
  {
   "cell_type": "code",
   "execution_count": 22,
   "metadata": {},
   "outputs": [],
   "source": [
    "def tokenize(text):\n",
    "    lda_tokens = []\n",
    "    tokens = parser(text)\n",
    "    for token in tokens:\n",
    "        if token.orth_.isspace():\n",
    "            continue\n",
    "        else:\n",
    "            lda_tokens.append(token.lower_)\n",
    "    return lda_tokens"
   ]
  },
  {
   "cell_type": "code",
   "execution_count": 23,
   "metadata": {},
   "outputs": [],
   "source": [
    "text_data = []\n",
    "for index, row in in_range_df.iterrows():\n",
    "    tweet = row['tweet_clean']\n",
    "    tokens = tokenize(tweet)\n",
    "    tokens = [token for token in tokens if len(token) > 4]\n",
    "    text_data.append(tokens)"
   ]
  },
  {
   "cell_type": "code",
   "execution_count": 24,
   "metadata": {},
   "outputs": [],
   "source": [
    "from gensim import corpora\n",
    "import pickle\n",
    "import gensim\n",
    "import pyLDAvis.gensim"
   ]
  },
  {
   "cell_type": "code",
   "execution_count": 25,
   "metadata": {},
   "outputs": [],
   "source": [
    "dictionary = corpora.Dictionary(text_data)\n",
    "corpus = [dictionary.doc2bow(text) for text in text_data]\n",
    "pickle.dump(corpus, open('corpus.pkl', 'wb'))\n",
    "dictionary.save('dictionary.gensim')"
   ]
  },
  {
   "cell_type": "code",
   "execution_count": 26,
   "metadata": {
    "scrolled": true
   },
   "outputs": [
    {
     "name": "stdout",
     "output_type": "stream",
     "text": [
      "(0, '0.105*\"toronto\" + 0.040*\"ontario\" + 0.018*\"check\" + 0.014*\"mississauga\"')\n",
      "(1, '0.017*\"little\" + 0.014*\"celebrate\" + 0.011*\"tomorrow\" + 0.010*\"season\"')\n",
      "(2, '0.017*\"thanks\" + 0.017*\"great\" + 0.015*\"tonight\" + 0.015*\"first\"')\n",
      "(3, '0.022*\"trump\" + 0.014*\"right\" + 0.010*\"wethenorth\" + 0.010*\"crazy\"')\n",
      "(4, '0.039*\"general\" + 0.037*\"dispatch\" + 0.031*\"200319\" + 0.024*\"street\"')\n",
      "(5, '0.012*\"going\" + 0.011*\"people\" + 0.010*\"please\" + 0.010*\"hahaha\"')\n",
      "(6, '0.046*\"happy\" + 0.022*\"canada\" + 0.018*\"woman\" + 0.013*\"birthday\"')\n",
      "(7, '0.042*\"would\" + 0.033*\"spring\" + 0.028*\"really\" + 0.016*\"think\"')\n",
      "(8, '0.029*\"people\" + 0.017*\"world\" + 0.014*\"awesome\" + 0.014*\"medium\"')\n",
      "(9, '0.014*\"thank\" + 0.013*\"could\" + 0.011*\"follow\" + 0.011*\"story\"')\n"
     ]
    }
   ],
   "source": [
    "NUM_TOPICS=10\n",
    "ldamodel = gensim.models.ldamodel.LdaModel(corpus, \n",
    "                                           num_topics=NUM_TOPICS, \n",
    "                                           id2word=dictionary, \n",
    "                                           passes=15\n",
    "                                          )\n",
    "ldamodel.save('model5.gensim')\n",
    "topics = ldamodel.print_topics(num_words=4)\n",
    "for topic in topics:\n",
    "    print(topic)"
   ]
  },
  {
   "cell_type": "code",
   "execution_count": 27,
   "metadata": {},
   "outputs": [
    {
     "name": "stderr",
     "output_type": "stream",
     "text": [
      "C:\\ProgramData\\Anaconda3\\lib\\site-packages\\pyLDAvis\\_prepare.py:257: FutureWarning: Sorting because non-concatenation axis is not aligned. A future version\n",
      "of pandas will change to not sort by default.\n",
      "\n",
      "To accept the future behavior, pass 'sort=False'.\n",
      "\n",
      "To retain the current behavior and silence the warning, pass 'sort=True'.\n",
      "\n",
      "  return pd.concat([default_term_info] + list(topic_dfs))\n"
     ]
    },
    {
     "data": {
      "text/html": [
       "\n",
       "<link rel=\"stylesheet\" type=\"text/css\" href=\"https://cdn.rawgit.com/bmabey/pyLDAvis/files/ldavis.v1.0.0.css\">\n",
       "\n",
       "\n",
       "<div id=\"ldavis_el5198423249905339448137244109\"></div>\n",
       "<script type=\"text/javascript\">\n",
       "\n",
       "var ldavis_el5198423249905339448137244109_data = {\"mdsDat\": {\"x\": [0.09996639261849175, 0.09337185122219586, -0.26808237148438696, 0.10328997629694188, 0.1675033809540275, -0.17843340526235404, 0.03435599171706293, -0.10150346066743401, 0.07994376876231303, -0.030412124156857793], \"y\": [0.3072911822579057, -0.07589727905830866, 0.007110178209178512, -0.06598457979789393, -0.08472923994523796, 0.06036872060832709, 0.007511074939316856, -0.14086066726080565, -0.04487764415979056, 0.030068254207308957], \"topics\": [1, 2, 3, 4, 5, 6, 7, 8, 9, 10], \"cluster\": [1, 1, 1, 1, 1, 1, 1, 1, 1, 1], \"Freq\": [10.715801239013672, 7.811336994171143, 16.71650505065918, 6.841497898101807, 8.302685737609863, 14.066268920898438, 8.736434936523438, 10.420145988464355, 6.282203674316406, 10.107118606567383]}, \"tinfo\": {\"Category\": [\"Default\", \"Default\", \"Default\", \"Default\", \"Default\", \"Default\", \"Default\", \"Default\", \"Default\", \"Default\", \"Default\", \"Default\", \"Default\", \"Default\", \"Default\", \"Default\", \"Default\", \"Default\", \"Default\", \"Default\", \"Default\", \"Default\", \"Default\", \"Default\", \"Default\", \"Default\", \"Default\", \"Default\", \"Default\", \"Default\", \"Topic1\", \"Topic1\", \"Topic1\", \"Topic1\", \"Topic1\", \"Topic1\", \"Topic1\", \"Topic1\", \"Topic1\", \"Topic1\", \"Topic1\", \"Topic1\", \"Topic1\", \"Topic1\", \"Topic1\", \"Topic1\", \"Topic1\", \"Topic1\", \"Topic1\", \"Topic1\", \"Topic1\", \"Topic1\", \"Topic1\", \"Topic1\", \"Topic1\", \"Topic1\", \"Topic1\", \"Topic1\", \"Topic1\", \"Topic1\", \"Topic1\", \"Topic1\", \"Topic1\", \"Topic1\", \"Topic1\", \"Topic1\", \"Topic2\", \"Topic2\", \"Topic2\", \"Topic2\", \"Topic2\", \"Topic2\", \"Topic2\", \"Topic2\", \"Topic2\", \"Topic2\", \"Topic2\", \"Topic2\", \"Topic2\", \"Topic2\", \"Topic2\", \"Topic2\", \"Topic2\", \"Topic2\", \"Topic2\", \"Topic2\", \"Topic2\", \"Topic2\", \"Topic2\", \"Topic2\", \"Topic2\", \"Topic2\", \"Topic2\", \"Topic2\", \"Topic2\", \"Topic2\", \"Topic2\", \"Topic2\", \"Topic2\", \"Topic2\", \"Topic2\", \"Topic2\", \"Topic2\", \"Topic2\", \"Topic2\", \"Topic2\", \"Topic2\", \"Topic3\", \"Topic3\", \"Topic3\", \"Topic3\", \"Topic3\", \"Topic3\", \"Topic3\", \"Topic3\", \"Topic3\", \"Topic3\", \"Topic3\", \"Topic3\", \"Topic3\", \"Topic3\", \"Topic3\", \"Topic3\", \"Topic3\", \"Topic3\", \"Topic3\", \"Topic3\", \"Topic3\", \"Topic3\", \"Topic3\", \"Topic3\", \"Topic3\", \"Topic3\", \"Topic3\", \"Topic3\", \"Topic3\", \"Topic3\", \"Topic3\", \"Topic3\", \"Topic3\", \"Topic3\", \"Topic3\", \"Topic3\", \"Topic3\", \"Topic3\", \"Topic3\", \"Topic3\", \"Topic3\", \"Topic3\", \"Topic3\", \"Topic3\", \"Topic3\", \"Topic3\", \"Topic3\", \"Topic3\", \"Topic3\", \"Topic3\", \"Topic4\", \"Topic4\", \"Topic4\", \"Topic4\", \"Topic4\", \"Topic4\", \"Topic4\", \"Topic4\", \"Topic4\", \"Topic4\", \"Topic4\", \"Topic4\", \"Topic4\", \"Topic4\", \"Topic4\", \"Topic4\", \"Topic4\", \"Topic4\", \"Topic4\", \"Topic4\", \"Topic4\", \"Topic4\", \"Topic4\", \"Topic4\", \"Topic4\", \"Topic4\", \"Topic4\", \"Topic4\", \"Topic4\", \"Topic4\", \"Topic4\", \"Topic4\", \"Topic4\", \"Topic4\", \"Topic5\", \"Topic5\", \"Topic5\", \"Topic5\", \"Topic5\", \"Topic5\", \"Topic5\", \"Topic5\", \"Topic5\", \"Topic5\", \"Topic5\", \"Topic5\", \"Topic5\", \"Topic5\", \"Topic5\", \"Topic5\", \"Topic5\", \"Topic5\", \"Topic5\", \"Topic5\", \"Topic5\", \"Topic5\", \"Topic5\", \"Topic5\", \"Topic5\", \"Topic5\", \"Topic5\", \"Topic5\", \"Topic5\", \"Topic5\", \"Topic5\", \"Topic5\", \"Topic5\", \"Topic5\", \"Topic5\", \"Topic6\", \"Topic6\", \"Topic6\", \"Topic6\", \"Topic6\", \"Topic6\", \"Topic6\", \"Topic6\", \"Topic6\", \"Topic6\", \"Topic6\", \"Topic6\", \"Topic6\", \"Topic6\", \"Topic6\", \"Topic6\", \"Topic6\", \"Topic6\", \"Topic6\", \"Topic6\", \"Topic6\", \"Topic6\", \"Topic6\", \"Topic6\", \"Topic6\", \"Topic6\", \"Topic6\", \"Topic6\", \"Topic6\", \"Topic6\", \"Topic6\", \"Topic6\", \"Topic6\", \"Topic6\", \"Topic6\", \"Topic6\", \"Topic6\", \"Topic6\", \"Topic6\", \"Topic6\", \"Topic6\", \"Topic6\", \"Topic6\", \"Topic6\", \"Topic6\", \"Topic6\", \"Topic6\", \"Topic6\", \"Topic6\", \"Topic6\", \"Topic6\", \"Topic7\", \"Topic7\", \"Topic7\", \"Topic7\", \"Topic7\", \"Topic7\", \"Topic7\", \"Topic7\", \"Topic7\", \"Topic7\", \"Topic7\", \"Topic7\", \"Topic7\", \"Topic7\", \"Topic7\", \"Topic7\", \"Topic7\", \"Topic7\", \"Topic7\", \"Topic7\", \"Topic7\", \"Topic7\", \"Topic7\", \"Topic7\", \"Topic7\", \"Topic7\", \"Topic7\", \"Topic7\", \"Topic7\", \"Topic7\", \"Topic7\", \"Topic7\", \"Topic7\", \"Topic7\", \"Topic7\", \"Topic7\", \"Topic7\", \"Topic7\", \"Topic7\", \"Topic7\", \"Topic7\", \"Topic7\", \"Topic7\", \"Topic7\", \"Topic8\", \"Topic8\", \"Topic8\", \"Topic8\", \"Topic8\", \"Topic8\", \"Topic8\", \"Topic8\", \"Topic8\", \"Topic8\", \"Topic8\", \"Topic8\", \"Topic8\", \"Topic8\", \"Topic8\", \"Topic8\", \"Topic8\", \"Topic8\", \"Topic8\", \"Topic8\", \"Topic8\", \"Topic8\", \"Topic8\", \"Topic8\", \"Topic8\", \"Topic8\", \"Topic8\", \"Topic8\", \"Topic8\", \"Topic8\", \"Topic8\", \"Topic8\", \"Topic8\", \"Topic8\", \"Topic8\", \"Topic8\", \"Topic8\", \"Topic8\", \"Topic8\", \"Topic8\", \"Topic8\", \"Topic8\", \"Topic9\", \"Topic9\", \"Topic9\", \"Topic9\", \"Topic9\", \"Topic9\", \"Topic9\", \"Topic9\", \"Topic9\", \"Topic9\", \"Topic9\", \"Topic9\", \"Topic9\", \"Topic9\", \"Topic9\", \"Topic9\", \"Topic9\", \"Topic9\", \"Topic9\", \"Topic9\", \"Topic9\", \"Topic9\", \"Topic9\", \"Topic9\", \"Topic9\", \"Topic9\", \"Topic9\", \"Topic9\", \"Topic9\", \"Topic9\", \"Topic9\", \"Topic9\", \"Topic9\", \"Topic9\", \"Topic9\", \"Topic9\", \"Topic9\", \"Topic10\", \"Topic10\", \"Topic10\", \"Topic10\", \"Topic10\", \"Topic10\", \"Topic10\", \"Topic10\", \"Topic10\", \"Topic10\", \"Topic10\", \"Topic10\", \"Topic10\", \"Topic10\", \"Topic10\", \"Topic10\", \"Topic10\", \"Topic10\", \"Topic10\", \"Topic10\", \"Topic10\", \"Topic10\", \"Topic10\", \"Topic10\", \"Topic10\", \"Topic10\", \"Topic10\", \"Topic10\", \"Topic10\", \"Topic10\", \"Topic10\", \"Topic10\", \"Topic10\", \"Topic10\", \"Topic10\", \"Topic10\", \"Topic10\", \"Topic10\", \"Topic10\", \"Topic10\", \"Topic10\", \"Topic10\", \"Topic10\"], \"Freq\": [2123.0, 764.0, 821.0, 824.0, 621.0, 643.0, 580.0, 890.0, 550.0, 491.0, 553.0, 687.0, 422.0, 357.0, 487.0, 604.0, 505.0, 285.0, 695.0, 296.0, 634.0, 289.0, 277.0, 256.0, 736.0, 612.0, 357.0, 599.0, 271.0, 277.0, 2122.47216796875, 274.5350341796875, 218.9909210205078, 217.6375274658203, 209.57568359375, 177.98939514160156, 170.0439453125, 155.94691467285156, 149.4835662841797, 146.19003295898438, 145.92372131347656, 133.23558044433594, 114.54410552978516, 111.857177734375, 108.64813995361328, 107.78350067138672, 106.46172332763672, 98.20024108886719, 77.89420318603516, 76.41534423828125, 69.6937026977539, 67.48307800292969, 66.59485626220703, 63.17356872558594, 62.91043472290039, 61.07527542114258, 61.042266845703125, 60.49079513549805, 59.29692840576172, 57.119163513183594, 802.0691528320312, 359.7071228027344, 139.111083984375, 217.3788604736328, 74.23493957519531, 71.49903106689453, 255.33309936523438, 205.99513244628906, 167.25180053710938, 144.0170135498047, 123.88417053222656, 123.63615417480469, 113.67305755615234, 112.14397430419922, 108.86239624023438, 104.98072814941406, 92.63116455078125, 86.390869140625, 72.45814514160156, 70.28528594970703, 68.98849487304688, 68.9759750366211, 66.7822265625, 65.45491027832031, 63.39055633544922, 60.679996490478516, 60.580265045166016, 59.15929412841797, 58.203758239746094, 56.30604553222656, 56.1431999206543, 54.62602996826172, 52.74795150756836, 52.463294982910156, 50.52687454223633, 50.05569076538086, 75.094482421875, 153.22694396972656, 74.91622161865234, 119.33483123779297, 99.92976379394531, 90.04693603515625, 84.75090789794922, 86.43498229980469, 92.27391052246094, 70.40149688720703, 84.8989486694336, 553.0298461914062, 486.59613037109375, 356.5467834472656, 247.32498168945312, 220.05984497070312, 180.81564331054688, 172.37652587890625, 168.0527801513672, 167.15794372558594, 159.2170867919922, 157.2023468017578, 156.5942840576172, 143.80560302734375, 127.13138580322266, 125.9080810546875, 123.58422088623047, 122.11244201660156, 118.64523315429688, 114.93428802490234, 113.02552032470703, 104.86336517333984, 104.21345520019531, 103.48724365234375, 102.0589599609375, 101.36019134521484, 101.27580261230469, 96.8111801147461, 91.0073013305664, 90.72669219970703, 90.45643615722656, 385.93963623046875, 470.7815856933594, 319.0520935058594, 291.6123962402344, 337.0953674316406, 524.5860595703125, 447.4817810058594, 245.24375915527344, 237.43704223632812, 145.55299377441406, 166.8460693359375, 336.74969482421875, 189.3544464111328, 220.58399963378906, 281.63592529296875, 180.53012084960938, 250.8114471435547, 147.10360717773438, 148.9611053466797, 147.99020385742188, 284.5644836425781, 135.0080108642578, 132.72653198242188, 121.6435317993164, 118.67901611328125, 114.12635803222656, 111.95085906982422, 99.90608978271484, 96.26986694335938, 89.79563903808594, 85.91931915283203, 80.27593994140625, 73.18533325195312, 65.47132873535156, 64.07479858398438, 61.33761978149414, 61.3238639831543, 60.724273681640625, 60.51177978515625, 58.388816833496094, 56.84134292602539, 56.84135437011719, 56.59368133544922, 56.32057189941406, 54.390621185302734, 54.0738525390625, 52.99698257446289, 50.017276763916016, 49.31708908081055, 48.51882553100586, 179.97625732421875, 65.71710205078125, 64.6898193359375, 58.14390563964844, 620.6417846679688, 579.3043823242188, 490.7813720703125, 357.0614013671875, 288.3334655761719, 276.0711364746094, 208.532470703125, 205.33779907226562, 175.66983032226562, 144.38406372070312, 133.5523223876953, 122.79340362548828, 111.03172302246094, 108.08918762207031, 107.50459289550781, 102.46453094482422, 84.91620635986328, 73.7242202758789, 69.30158996582031, 69.21562194824219, 68.9489517211914, 67.08128356933594, 66.56631469726562, 61.129573822021484, 59.439483642578125, 58.77831268310547, 56.941253662109375, 55.85321044921875, 55.8060188293457, 51.93537902832031, 379.5627136230469, 101.48506927490234, 108.52901458740234, 93.5908432006836, 67.49714660644531, 261.4422912597656, 197.60887145996094, 193.99896240234375, 183.9352264404297, 175.19175720214844, 151.9768524169922, 148.61801147460938, 131.94985961914062, 131.920166015625, 124.3865966796875, 120.50049591064453, 118.00645446777344, 100.29676818847656, 100.0759506225586, 97.18401336669922, 97.03424835205078, 94.0754165649414, 91.23001098632812, 87.80567932128906, 83.94530487060547, 83.5716781616211, 81.62700653076172, 79.39019775390625, 76.66341400146484, 75.02581024169922, 74.02189636230469, 73.85746765136719, 73.65733337402344, 73.62039947509766, 72.61148071289062, 146.5955810546875, 246.21978759765625, 170.33375549316406, 263.7325439453125, 106.11221313476562, 331.3713684082031, 150.15635681152344, 161.32569885253906, 102.08798217773438, 122.11442565917969, 175.8526153564453, 290.03326416015625, 240.53663635253906, 107.14697265625, 113.93956756591797, 166.29115295410156, 110.9094467163086, 151.29872131347656, 145.1549530029297, 115.82988739013672, 107.68401336669922, 763.7689208984375, 296.0013732910156, 216.69265747070312, 197.9205322265625, 151.2602081298828, 127.79965209960938, 127.65338134765625, 126.4404067993164, 118.19059753417969, 103.30232238769531, 92.31273651123047, 85.52357482910156, 80.18270111083984, 79.23170471191406, 77.3564224243164, 73.61782836914062, 71.11239624023438, 64.10289764404297, 62.2426643371582, 61.11809539794922, 58.927833557128906, 57.29557418823242, 54.92041778564453, 54.726829528808594, 54.294036865234375, 53.9578971862793, 53.10153579711914, 51.95293045043945, 51.630558013916016, 51.352691650390625, 134.29086303710938, 103.1263198852539, 150.96115112304688, 356.6632080078125, 174.54083251953125, 120.41840362548828, 101.09223175048828, 128.65533447265625, 121.18660736083984, 73.6216049194336, 132.8383331298828, 69.15747833251953, 82.9072494506836, 70.09928131103516, 820.2086181640625, 642.6242065429688, 549.3738403320312, 276.6817932128906, 182.44131469726562, 169.60374450683594, 164.93736267089844, 160.04574584960938, 143.3054962158203, 122.5833969116211, 116.88355255126953, 116.35099792480469, 112.08875274658203, 110.1662368774414, 108.58966827392578, 102.1490707397461, 98.46613311767578, 95.5169677734375, 91.73834228515625, 88.71233367919922, 87.65400695800781, 85.17829895019531, 83.43456268310547, 81.61409759521484, 81.5837631225586, 79.67964935302734, 75.47000122070312, 75.13614654541016, 73.62246704101562, 71.50405883789062, 178.27857971191406, 171.28392028808594, 229.220703125, 182.8577423095703, 215.13031005859375, 109.12432098388672, 305.96942138671875, 105.0470199584961, 119.30415344238281, 94.8837661743164, 109.57180786132812, 96.1453857421875, 165.05377197265625, 164.62954711914062, 156.65802001953125, 147.80563354492188, 136.9741973876953, 134.9600372314453, 124.06248474121094, 115.43868255615234, 96.19658660888672, 84.59966278076172, 84.07596588134766, 75.49112701416016, 66.3887710571289, 66.02172088623047, 63.63959503173828, 62.653751373291016, 58.437278747558594, 57.84619140625, 56.5243034362793, 52.49237823486328, 52.46256637573242, 52.05143737792969, 48.172576904296875, 47.001609802246094, 46.71444320678711, 44.54188919067383, 44.36757278442383, 41.92570495605469, 40.85365676879883, 39.51678466796875, 66.08100128173828, 207.93861389160156, 349.2758483886719, 102.50501251220703, 101.88978576660156, 67.0650863647461, 61.18433380126953, 214.0918731689453, 205.93133544921875, 194.53671264648438, 184.6826934814453, 176.7589111328125, 164.774169921875, 161.2611083984375, 137.53330993652344, 130.0343780517578, 128.26898193359375, 112.16712951660156, 108.61979675292969, 108.57798767089844, 102.49885559082031, 101.63658142089844, 99.58676147460938, 99.5464096069336, 88.22228240966797, 86.78227233886719, 81.45751190185547, 81.21621704101562, 80.02873229980469, 74.61475372314453, 72.38046264648438, 70.44348907470703, 68.69793701171875, 68.09713745117188, 67.88155364990234, 63.016334533691406, 62.457576751708984, 162.85540771484375, 122.20609283447266, 254.51190185546875, 199.84959411621094, 269.2323303222656, 117.54234313964844, 157.555419921875, 155.52674865722656, 105.70633697509766, 118.34286499023438, 98.76885986328125, 112.53549194335938, 92.08914947509766], \"Term\": [\"toronto\", \"happy\", \"would\", \"ontario\", \"general\", \"spring\", \"dispatch\", \"people\", \"really\", \"200319\", \"thanks\", \"canada\", \"street\", \"avenue\", \"tonight\", \"first\", \"check\", \"trump\", \"think\", \"woman\", \"thank\", \"facewithtearsofjoy\", \"alarm\", \"little\", \"great\", \"today\", \"friend\", \"right\", \"world\", \"tweet\", \"toronto\", \"mississauga\", \"might\", \"centre\", \"ready\", \"fucking\", \"medical\", \"apply\", \"cause\", \"click\", \"checkin\", \"latest\", \"downtown\", \"concert\", \"queen\", \"firstdayofspring\", \"artist\", \"opening\", \"dundas\", \"cautionworldtour\", \"green\", \"subway\", \"budget2019\", \"except\", \"sales\", \"beauty\", \"giving\", \"killing\", \"politician\", \"driver\", \"ontario\", \"check\", \"music\", \"canada\", \"hamilton\", \"photo\", \"little\", \"celebrate\", \"tomorrow\", \"child\", \"teacher\", \"weather\", \"surprise\", \"loudlycryingface\", \"stupid\", \"parent\", \"andrew\", \"skill\", \"coffee\", \"million\", \"michael\", \"estate\", \"nowruz\", \"profile\", \"death\", \"dollar\", \"ridiculous\", \"local\", \"oakville\", \"folks\", \"across\", \"tight\", \"campaign\", \"drinking\", \"clappinghands\", \"lovely\", \"water\", \"season\", \"contact\", \"remember\", \"money\", \"project\", \"budget\", \"photo\", \"twitter\", \"player\", \"getting\", \"thanks\", \"tonight\", \"friend\", \"change\", \"since\", \"experience\", \"around\", \"sound\", \"learn\", \"scotiabank\", \"apple\", \"arena\", \"already\", \"business\", \"member\", \"super\", \"exactly\", \"conservative\", \"meeting\", \"thinking\", \"sometimes\", \"leafsforever\", \"piece\", \"spend\", \"opportunity\", \"playing\", \"special\", \"there\", \"phone\", \"choose\", \"start\", \"first\", \"always\", \"night\", \"never\", \"great\", \"today\", \"amaze\", \"looking\", \"forget\", \"working\", \"still\", \"class\", \"years\", \"thank\", \"every\", \"people\", \"family\", \"right\", \"think\", \"trump\", \"wethenorth\", \"crazy\", \"probably\", \"words\", \"attack\", \"light\", \"thinkingface\", \"rollingonthefloorlaughing\", \"action\", \"imprisonthemf\", \"alert\", \"absolutely\", \"kawhi\", \"ufcfy\", \"possible\", \"impeachthemf\", \"receive\", \"period\", \"wearyface\", \"trumpisacriminal\", \"traitortrump\", \"doubt\", \"success\", \"muslim\", \"block\", \"natural\", \"stick\", \"animal\", \"remind\", \"right\", \"brampton\", \"waiting\", \"challenge\", \"general\", \"dispatch\", \"200319\", \"avenue\", \"facewithtearsofjoy\", \"alarm\", \"residential\", \"north\", \"sorry\", \"scarborough\", \"congrats\", \"highrise\", \"president\", \"drive\", \"brother\", \"190319\", \"especially\", \"charge\", \"instagram\", \"facewithtearsofjoyfacewithtearsofjoy\", \"seriously\", \"blame\", \"coach\", \"difference\", \"boulevard\", \"trail\", \"vehicle\", \"worst\", \"distchief31\", \"policy\", \"street\", \"trumpisaliar\", \"etobicoke\", \"young\", \"personal\", \"hahaha\", \"pretty\", \"anything\", \"agree\", \"issue\", \"automatically\", \"reason\", \"health\", \"ticket\", \"allow\", \"episode\", \"wonder\", \"listen\", \"early\", \"others\", \"article\", \"respect\", \"available\", \"increase\", \"american\", \"couple\", \"saturday\", \"outside\", \"return\", \"behind\", \"happiness\", \"inside\", \"youtube\", \"teach\", \"imagine\", \"write\", \"things\", \"morning\", \"please\", \"voice\", \"going\", \"party\", \"video\", \"definitely\", \"believe\", \"support\", \"people\", \"think\", \"program\", \"month\", \"still\", \"saying\", \"right\", \"check\", \"watch\", \"today\", \"happy\", \"woman\", \"birthday\", \"finally\", \"wrong\", \"visit\", \"minutes\", \"either\", \"almost\", \"friday\", \"worth\", \"funny\", \"sweet\", \"finish\", \"throw\", \"fresh\", \"george\", \"series\", \"provide\", \"begin\", \"mccain\", \"record\", \"hindu\", \"network\", \"showing\", \"empty\", \"heritage\", \"wishing\", \"alone\", \"whiteheavycheckmark\", \"country\", \"course\", \"nothing\", \"canada\", \"point\", \"march\", \"redheart\\ufe0f\", \"another\", \"better\", \"wonderful\", \"first\", \"heart\", \"thank\", \"share\", \"would\", \"spring\", \"really\", \"tweet\", \"enough\", \"maybe\", \"question\", \"happen\", \"break\", \"stuff\", \"congratulations\", \"literally\", \"deserve\", \"seeing\", \"means\", \"build\", \"design\", \"given\", \"performing\", \"update\", \"account\", \"answer\", \"single\", \"smilingfacewithhearteyes\", \"culture\", \"practice\", \"truly\", \"appreciate\", \"handle\", \"hello\", \"excite\", \"actually\", \"watch\", \"thought\", \"something\", \"together\", \"think\", \"bring\", \"anyone\", \"whole\", \"could\", \"going\", \"awesome\", \"medium\", \"wanna\", \"white\", \"power\", \"raptor\", \"facewithtearsofjoyfacewithtearsofjoyfacewithtearsofjoy\", \"guess\", \"hours\", \"minister\", \"catch\", \"sleep\", \"bernie\", \"information\", \"court\", \"should\", \"official\", \"evening\", \"finance\", \"address\", \"sander\", \"common\", \"thunderup\", \"generation\", \"content\", \"stage\", \"protect\", \"province\", \"redheart\\ufe0fredheart\\ufe0f\", \"basically\", \"leave\", \"world\", \"people\", \"enjoy\", \"talking\", \"cdnpoli\", \"social\", \"follow\", \"story\", \"house\", \"florida\", \"coming\", \"onpoli\", \"everything\", \"government\", \"cover\", \"public\", \"trudeau\", \"history\", \"feature\", \"political\", \"fight\", \"continue\", \"system\", \"supporter\", \"state\", \"station\", \"matter\", \"manager\", \"control\", \"message\", \"straight\", \"pleasure\", \"interview\", \"training\", \"train\", \"committee\", \"interest\", \"liberal\", \"could\", \"student\", \"thank\", \"welcome\", \"thing\", \"school\", \"point\", \"right\", \"canadian\", \"canada\", \"community\"], \"Total\": [2123.0, 764.0, 821.0, 824.0, 621.0, 643.0, 580.0, 890.0, 550.0, 491.0, 553.0, 687.0, 422.0, 357.0, 487.0, 604.0, 505.0, 285.0, 695.0, 296.0, 634.0, 289.0, 277.0, 256.0, 736.0, 612.0, 357.0, 599.0, 271.0, 277.0, 2123.40625, 275.46923828125, 219.9251708984375, 218.57176208496094, 210.5098876953125, 178.92356872558594, 170.97821044921875, 156.881103515625, 150.41787719726562, 147.1241912841797, 146.8579559326172, 134.1697540283203, 115.4782943725586, 112.79150390625, 109.58233642578125, 108.71773529052734, 107.39598083496094, 99.1343994140625, 78.82848358154297, 77.34952545166016, 70.62794494628906, 68.41728973388672, 67.52911376953125, 64.10782623291016, 63.84463882446289, 62.009521484375, 61.976539611816406, 61.42510223388672, 60.231388092041016, 58.05339813232422, 824.8512573242188, 505.6909484863281, 241.4449462890625, 687.3031005859375, 94.29370880126953, 158.75820922851562, 256.2597351074219, 206.92176818847656, 168.17843627929688, 144.94363403320312, 124.81082153320312, 124.562744140625, 114.59968566894531, 113.070556640625, 109.78904724121094, 105.90742492675781, 93.55781555175781, 87.31763458251953, 73.3847427368164, 71.21192169189453, 69.91517639160156, 69.902587890625, 67.70884704589844, 66.38156127929688, 64.31719970703125, 61.606624603271484, 61.50706481933594, 60.085906982421875, 59.130374908447266, 57.23265838623047, 57.06985855102539, 55.55278396606445, 53.67463302612305, 53.389888763427734, 51.453460693359375, 50.9822998046875, 80.47079467773438, 224.0245819091797, 90.1772689819336, 194.6539764404297, 177.1388702392578, 148.7308349609375, 140.74981689453125, 158.75820922851562, 216.34132385253906, 116.06916046142578, 263.77239990234375, 553.96630859375, 487.5325927734375, 357.4831848144531, 248.2614288330078, 220.9963836669922, 181.7520751953125, 173.31298828125, 168.98919677734375, 168.0944061279297, 160.153564453125, 158.1387939453125, 157.53076171875, 144.74203491210938, 128.06784057617188, 126.84454345703125, 124.52066040039062, 123.04888153076172, 119.58184051513672, 115.87074279785156, 113.9619369506836, 105.79983520507812, 105.1499252319336, 104.42369079589844, 102.9954605102539, 102.296630859375, 102.2123031616211, 97.74768829345703, 91.9437255859375, 91.66312408447266, 91.39290618896484, 426.0580139160156, 604.4515380859375, 390.0857849121094, 359.3622741699219, 431.3813171386719, 736.7775268554688, 612.9812622070312, 300.67730712890625, 295.1442565917969, 160.5111846923828, 193.0074005126953, 503.8719482421875, 245.0294952392578, 330.1145935058594, 634.5032958984375, 330.2091369628906, 890.8531494140625, 282.19171142578125, 599.2022705078125, 695.2264404296875, 285.49725341796875, 135.941162109375, 133.65931701660156, 122.57633209228516, 119.61185455322266, 115.05914306640625, 112.88367462158203, 100.83887481689453, 97.20262145996094, 90.72842407226562, 86.85201263427734, 81.20867156982422, 74.11808013916016, 66.40420532226562, 65.00750732421875, 62.27043533325195, 62.256553649902344, 61.65705108642578, 61.444610595703125, 59.32169723510742, 57.77403259277344, 57.774044036865234, 57.52654266357422, 57.25339126586914, 55.323421478271484, 55.00661849975586, 53.92985153198242, 50.95009994506836, 50.249874114990234, 49.45162582397461, 599.2022705078125, 102.54192352294922, 99.48255157470703, 104.47958374023438, 621.5715942382812, 580.234130859375, 491.7111511230469, 357.9911804199219, 289.2633361816406, 277.00091552734375, 209.4622344970703, 206.26760864257812, 176.59976196289062, 145.31387329101562, 134.48216247558594, 123.72317504882812, 111.9616470336914, 109.01898956298828, 108.43447875976562, 103.39429473876953, 85.84615325927734, 74.65409851074219, 70.23157501220703, 70.14543151855469, 69.87881469726562, 68.01122283935547, 67.49629974365234, 62.059444427490234, 60.36924743652344, 59.708133697509766, 57.87104415893555, 56.783103942871094, 56.73579788208008, 52.86532211303711, 422.1805725097656, 111.86458587646484, 126.9405288696289, 114.47404479980469, 74.82777404785156, 262.3734130859375, 198.54013061523438, 194.93023681640625, 184.86647033691406, 176.12298583984375, 152.91004943847656, 149.5492706298828, 132.88107299804688, 132.8513946533203, 125.31785583496094, 121.43177032470703, 118.93769836425781, 101.22801971435547, 101.0072021484375, 98.11527252197266, 97.96554565429688, 95.00666046142578, 92.16121673583984, 88.73694610595703, 84.87654876708984, 84.50294494628906, 82.55827331542969, 80.32147216796875, 77.59468841552734, 75.95703125, 74.95319366455078, 74.7887954711914, 74.5885238647461, 74.55172729492188, 73.54275512695312, 152.2159881591797, 296.2672424316406, 198.15724182128906, 380.8394775390625, 119.13199615478516, 543.3407592773438, 193.50833129882812, 222.51193237304688, 119.05416870117188, 162.43472290039062, 307.33270263671875, 890.8531494140625, 695.2264404296875, 136.47689819335938, 162.84829711914062, 503.8719482421875, 165.75860595703125, 599.2022705078125, 505.6909484863281, 345.88092041015625, 612.9812622070312, 764.7007446289062, 296.9332580566406, 217.62445068359375, 198.85238647460938, 152.19207763671875, 128.73147583007812, 128.58522033691406, 127.37230682373047, 119.12246704101562, 104.2341537475586, 93.24467468261719, 86.45539093017578, 81.11450958251953, 80.16353607177734, 78.28827667236328, 74.54969024658203, 72.04431915283203, 65.0347900390625, 63.17454528808594, 62.049930572509766, 59.859745025634766, 58.227420806884766, 55.85223388671875, 55.65872573852539, 55.22597885131836, 54.88982009887695, 54.03339767456055, 52.88471984863281, 52.56244659423828, 52.28456497192383, 153.34031677246094, 118.91638946533203, 217.08311462402344, 687.3031005859375, 281.0751953125, 185.88217163085938, 163.61019897460938, 304.5698547363281, 341.44342041015625, 111.2066879272461, 604.4515380859375, 139.31536865234375, 634.5032958984375, 168.104736328125, 821.144287109375, 643.5599365234375, 550.3095092773438, 277.61749267578125, 183.37696838378906, 170.53944396972656, 165.87303161621094, 160.9813995361328, 144.2411651611328, 123.51908111572266, 117.81924438476562, 117.28669738769531, 113.02442932128906, 111.10198974609375, 109.525390625, 103.08478546142578, 99.40184020996094, 96.45280456542969, 92.6743392944336, 89.64801025390625, 88.58972930908203, 86.11396026611328, 84.37028503417969, 82.54975128173828, 82.51959991455078, 80.61540985107422, 76.40570831298828, 76.0718002319336, 74.55828857421875, 72.43972778320312, 205.650390625, 223.68295288085938, 345.88092041015625, 254.27232360839844, 329.50311279296875, 130.77793884277344, 695.2264404296875, 150.9664764404297, 277.8885192871094, 139.76853942871094, 466.32244873046875, 543.3407592773438, 165.99191284179688, 165.5677032470703, 157.59620666503906, 148.74375915527344, 137.9123992919922, 135.89830017089844, 125.0005874633789, 116.37683868408203, 97.13470458984375, 85.53781127929688, 85.01412200927734, 76.42926025390625, 67.32693481445312, 66.95988464355469, 64.5777359008789, 63.5919303894043, 59.37547302246094, 58.78437042236328, 57.46245193481445, 53.4305534362793, 53.401092529296875, 52.98964309692383, 49.11083984375, 47.9398193359375, 47.6525993347168, 45.48004913330078, 45.305789947509766, 42.86393356323242, 41.791866302490234, 40.45497131347656, 72.1670150756836, 271.8058776855469, 890.8531494140625, 154.556884765625, 158.95809936523438, 134.60037231445312, 111.53728485107422, 215.0245819091797, 206.8640594482422, 195.46946716308594, 185.61553955078125, 177.69163513183594, 165.70689392089844, 162.19383239746094, 138.46600341796875, 130.96710205078125, 129.20172119140625, 113.09982299804688, 109.55255889892578, 109.51075744628906, 103.4315414428711, 102.56935119628906, 100.51956176757812, 100.4791030883789, 89.15534210205078, 87.7149658203125, 82.3902816772461, 82.1489486694336, 80.96145629882812, 75.5474853515625, 73.31317901611328, 71.37635803222656, 69.63076782226562, 69.02982330322266, 68.81432342529297, 63.949031829833984, 63.390384674072266, 210.15853881835938, 156.128173828125, 466.32244873046875, 336.4190979003906, 634.5032958984375, 167.02578735351562, 294.4751281738281, 355.6075134277344, 281.0751953125, 599.2022705078125, 254.8047637939453, 687.3031005859375, 193.6389923095703], \"loglift\": [30.0, 29.0, 28.0, 27.0, 26.0, 25.0, 24.0, 23.0, 22.0, 21.0, 20.0, 19.0, 18.0, 17.0, 16.0, 15.0, 14.0, 13.0, 12.0, 11.0, 10.0, 9.0, 8.0, 7.0, 6.0, 5.0, 4.0, 3.0, 2.0, 1.0, 2.2330000400543213, 2.23009991645813, 2.2291998863220215, 2.2291998863220215, 2.2290000915527344, 2.2281999588012695, 2.2279999256134033, 2.2274999618530273, 2.2272000312805176, 2.227099895477295, 2.227099895477295, 2.2265000343322754, 2.2253000736236572, 2.225100040435791, 2.224900007247925, 2.2248001098632812, 2.2246999740600586, 2.2239999771118164, 2.2214999198913574, 2.221299886703491, 2.220099925994873, 2.2197000980377197, 2.2195000648498535, 2.2188000679016113, 2.2186999320983887, 2.2183001041412354, 2.2183001041412354, 2.218100070953369, 2.2177999019622803, 2.2172000408172607, 2.205399990081787, 1.892799973487854, 1.6821000576019287, 1.0822999477386475, 1.9943000078201294, 1.4357999563217163, 2.5460000038146973, 2.545099973678589, 2.544100046157837, 2.5432000160217285, 2.542099952697754, 2.542099952697754, 2.5415000915527344, 2.5413999557495117, 2.541100025177002, 2.540800094604492, 2.539599895477295, 2.5388998985290527, 2.536900043487549, 2.5364999771118164, 2.53629994392395, 2.5362000465393066, 2.535799980163574, 2.5355000495910645, 2.535099983215332, 2.53439998626709, 2.53439998626709, 2.53410005569458, 2.533799886703491, 2.5332999229431152, 2.5332000255584717, 2.5327999591827393, 2.5322000980377197, 2.532099962234497, 2.531399965286255, 2.5313000679016113, 2.4804000854492188, 2.169800043106079, 2.3642001152038574, 2.06030011177063, 1.9771000146865845, 2.047800064086914, 2.04229998588562, 1.94159996509552, 1.6974999904632568, 2.0495998859405518, 1.4160000085830688, 1.7870999574661255, 1.7869000434875488, 1.7862000465393066, 1.784999966621399, 1.784500002861023, 1.7835999727249146, 1.783400058746338, 1.7832000255584717, 1.7832000255584717, 1.7828999757766724, 1.7827999591827393, 1.7827999591827393, 1.7822999954223633, 1.7813999652862549, 1.7813999652862549, 1.7812000513076782, 1.7811000347137451, 1.780900001525879, 1.7806999683380127, 1.780500054359436, 1.7798999547958374, 1.7798000574111938, 1.7798000574111938, 1.7796000242233276, 1.7796000242233276, 1.7796000242233276, 1.779099941253662, 1.778499960899353, 1.778499960899353, 1.778499960899353, 1.6899000406265259, 1.5388000011444092, 1.5878000259399414, 1.5799000263214111, 1.542099952697754, 1.4491000175476074, 1.4740999937057495, 1.5850000381469727, 1.5712000131607056, 1.690999984741211, 1.6431000232696533, 1.3858000040054321, 1.531000018119812, 1.385599970817566, 0.9764999747276306, 1.1849000453948975, 0.5213000178337097, 1.1373000144958496, 0.3968999981880188, 0.24169999361038208, 2.6789000034332275, 2.675299882888794, 2.6751999855041504, 2.674499988555908, 2.674299955368042, 2.6740000247955322, 2.6738998889923096, 2.6728999614715576, 2.672499895095825, 2.671799898147583, 2.6714000701904297, 2.670599937438965, 2.6695001125335693, 2.6679999828338623, 2.6677000522613525, 2.667099952697754, 2.667099952697754, 2.6668999195098877, 2.6668999195098877, 2.666300058364868, 2.6658999919891357, 2.6658999919891357, 2.665800094604492, 2.6656999588012695, 2.6651999950408936, 2.66510009765625, 2.6647000312805176, 2.6637001037597656, 2.6633999347686768, 2.663100004196167, 1.4794000387191772, 2.237299919128418, 2.251800060272217, 2.096100091934204, 2.4870998859405518, 2.486999988555908, 2.4867000579833984, 2.4860000610351562, 2.4853999614715576, 2.4851999282836914, 2.484100103378296, 2.484100103378296, 2.483299970626831, 2.4821999073028564, 2.4816999435424805, 2.4809999465942383, 2.480299949645996, 2.4800000190734863, 2.4800000190734863, 2.479599952697754, 2.4776999950408936, 2.476099967956543, 2.4753000736236572, 2.4751999378204346, 2.4751999378204346, 2.4748001098632812, 2.4746999740600586, 2.4735000133514404, 2.473099946975708, 2.472899913787842, 2.472399950027466, 2.472100019454956, 2.472100019454956, 2.4707999229431152, 2.382200002670288, 2.391200065612793, 2.331899881362915, 2.2871999740600586, 2.385499954223633, 1.957800030708313, 1.9566999673843384, 1.9565999507904053, 1.9563000202178955, 1.9560999870300293, 1.955299973487854, 1.9551000595092773, 1.9543999433517456, 1.9543999433517456, 1.9538999795913696, 1.9536999464035034, 1.9535000324249268, 1.9521000385284424, 1.9521000385284424, 1.9519000053405762, 1.951799988746643, 1.9515000581741333, 1.951200008392334, 1.9507999420166016, 1.9503999948501587, 1.9502999782562256, 1.9500000476837158, 1.9496999979019165, 1.9493000507354736, 1.9491000175476074, 1.9488999843597412, 1.9488999843597412, 1.948799967765808, 1.948799967765808, 1.9486000537872314, 1.923799991607666, 1.7763999700546265, 1.8100999593734741, 1.5938999652862549, 1.8457000255584717, 1.4668999910354614, 1.7077000141143799, 1.639799952507019, 1.8076000213623047, 1.6761000156402588, 1.4031000137329102, 0.8392000198364258, 0.8999999761581421, 1.7194000482559204, 1.604200005531311, 0.8528000116348267, 1.5595999956130981, 0.5849999785423279, 0.7132999897003174, 0.8673999905586243, 0.2222999930381775, 2.4363999366760254, 2.434499979019165, 2.4333999156951904, 2.433000087738037, 2.43149995803833, 2.4303998947143555, 2.4303998947143555, 2.430299997329712, 2.429800033569336, 2.4286999702453613, 2.4275999069213867, 2.426800012588501, 2.426100015640259, 2.4260001182556152, 2.4256999492645264, 2.425100088119507, 2.4245998859405518, 2.4231998920440674, 2.422800064086914, 2.422499895095825, 2.421999931335449, 2.4214999675750732, 2.420799970626831, 2.420799970626831, 2.420599937438965, 2.4205000400543213, 2.420300006866455, 2.4198999404907227, 2.419800043106079, 2.4196999073028564, 2.305000066757202, 2.2952001094818115, 2.074399948120117, 1.7817000150680542, 1.9611999988555908, 2.003499984741211, 1.9562000036239624, 1.5758999586105347, 1.4018000364303589, 2.0251998901367188, 0.9225000143051147, 1.7373000383377075, 0.4025000035762787, 1.562999963760376, 2.2602999210357666, 2.259999990463257, 2.259700059890747, 2.2581000328063965, 2.2562999725341797, 2.2558999061584473, 2.2558000087738037, 2.2555999755859375, 2.2548999786376953, 2.2537999153137207, 2.253499984741211, 2.2534000873565674, 2.2530999183654785, 2.253000020980835, 2.2527999877929688, 2.2523000240325928, 2.252000093460083, 2.251699924468994, 2.251300096511841, 2.2509000301361084, 2.2507998943328857, 2.250499963760376, 2.2502999305725098, 2.25, 2.25, 2.249799966812134, 2.2490999698638916, 2.2490999698638916, 2.248800039291382, 2.2483999729156494, 2.1185998916625977, 1.9945000410079956, 1.850000023841858, 1.9316999912261963, 1.8351000547409058, 2.080399990081787, 1.4407000541687012, 1.898800015449524, 1.4158999919891357, 1.8740999698638916, 0.8130999803543091, 0.5296000242233276, 2.7618000507354736, 2.7618000507354736, 2.7614998817443848, 2.7611000537872314, 2.7606000900268555, 2.760499954223633, 2.7599000930786133, 2.759399890899658, 2.757699966430664, 2.7564001083374023, 2.7564001083374023, 2.7551000118255615, 2.7534000873565674, 2.7532999515533447, 2.7527999877929688, 2.7525999546051025, 2.751499891281128, 2.7513999938964844, 2.750999927520752, 2.7497000694274902, 2.7497000694274902, 2.7495999336242676, 2.748199939727783, 2.7476999759674072, 2.7476000785827637, 2.7465999126434326, 2.746500015258789, 2.745300054550171, 2.7446999549865723, 2.74399995803833, 2.67930006980896, 2.4995999336242676, 1.8310999870300293, 2.356800079345703, 2.322700023651123, 2.0708000659942627, 2.1670000553131104, 2.287600040435791, 2.287400007247925, 2.287100076675415, 2.286900043487549, 2.2867000102996826, 2.28629994392395, 2.2862000465393066, 2.2852001190185547, 2.2848000526428223, 2.2846999168395996, 2.283600091934204, 2.283400058746338, 2.283400058746338, 2.282900094985962, 2.2827999591827393, 2.282599925994873, 2.282599925994873, 2.281399965286255, 2.2811999320983887, 2.2804999351501465, 2.2804999351501465, 2.2802999019622803, 2.2795000076293945, 2.279099941253662, 2.2788000106811523, 2.27839994430542, 2.2783000469207764, 2.2783000469207764, 2.2771999835968018, 2.277100086212158, 2.036900043487549, 2.046999931335449, 1.686400055885315, 1.7711000442504883, 1.4347000122070312, 1.940600037574768, 1.6664999723434448, 1.464900016784668, 1.3140000104904175, 0.6699000000953674, 1.3442000150680542, 0.48240000009536743, 1.548699975013733], \"logprob\": [30.0, 29.0, 28.0, 27.0, 26.0, 25.0, 24.0, 23.0, 22.0, 21.0, 20.0, 19.0, 18.0, 17.0, 16.0, 15.0, 14.0, 13.0, 12.0, 11.0, 10.0, 9.0, 8.0, 7.0, 6.0, 5.0, 4.0, 3.0, 2.0, 1.0, -2.257200002670288, -4.302499771118164, -4.528500080108643, -4.5346999168396, -4.572500228881836, -4.735799789428711, -4.781499862670898, -4.868100166320801, -4.910399913787842, -4.932700157165527, -4.934500217437744, -5.0254998207092285, -5.176599979400635, -5.200300216674805, -5.229499816894531, -5.237400054931641, -5.249800205230713, -5.330599784851074, -5.56220006942749, -5.581399917602539, -5.673500061035156, -5.705699920654297, -5.718900203704834, -5.771699905395508, -5.775899887084961, -5.805500030517578, -5.806000232696533, -5.815100193023682, -5.835000038146973, -5.872399806976318, -3.2304000854492188, -4.032299995422363, -4.9822998046875, -4.535900115966797, -5.610300064086914, -5.647900104522705, -4.058899879455566, -4.273600101470947, -4.481900215148926, -4.631499767303467, -4.782100200653076, -4.78410005569458, -4.868100166320801, -4.8815999031066895, -4.911300182342529, -4.947700023651123, -5.072800159454346, -5.142499923706055, -5.318399906158447, -5.348899841308594, -5.367499828338623, -5.367700099945068, -5.400000095367432, -5.420100212097168, -5.452099800109863, -5.495800018310547, -5.497499942779541, -5.521200180053711, -5.537499904632568, -5.5706000328063965, -5.573500156402588, -5.600900173187256, -5.635900020599365, -5.641300201416016, -5.678899765014648, -5.688300132751465, -5.282700061798096, -4.569499969482422, -5.285099983215332, -4.819499969482422, -4.997000217437744, -5.101099967956543, -5.1616997718811035, -5.142000198364258, -5.076700210571289, -5.3471999168396, -5.159999847412109, -4.046800136566162, -4.174799919128418, -4.485799789428711, -4.851500034332275, -4.968299865722656, -5.16480016708374, -5.212600231170654, -5.23799991607666, -5.243299961090088, -5.291999816894531, -5.304699897766113, -5.308599948883057, -5.393799781799316, -5.517000198364258, -5.526700019836426, -5.545300006866455, -5.557300090789795, -5.586100101470947, -5.6178998947143555, -5.6346001625061035, -5.70959997177124, -5.715799808502197, -5.722799777984619, -5.736700057983398, -5.743599891662598, -5.7444000244140625, -5.7895002365112305, -5.85129976272583, -5.854400157928467, -5.857399940490723, -4.406599998474121, -4.207900047302246, -4.59689998626709, -4.686800003051758, -4.541900157928467, -4.099599838256836, -4.258600234985352, -4.860000133514404, -4.892300128936768, -5.381700038909912, -5.245200157165527, -4.542900085449219, -5.118599891662598, -4.966000080108643, -4.72160005569458, -5.166399955749512, -4.837500095367432, -5.371099948883057, -5.35860013961792, -5.365099906921387, -3.8178999423980713, -4.563499927520752, -4.580599784851074, -4.667799949645996, -4.692399978637695, -4.731599807739258, -4.750800132751465, -4.86460018157959, -4.901700019836426, -4.97130012512207, -5.015399932861328, -5.083399772644043, -5.175899982452393, -5.287199974060059, -5.308800220489502, -5.352499961853027, -5.352700233459473, -5.362500190734863, -5.366000175476074, -5.401700019836426, -5.428599834442139, -5.428599834442139, -5.433000087738037, -5.43779993057251, -5.472700119018555, -5.478499889373779, -5.498600006103516, -5.55649995803833, -5.5706000328063965, -5.586900234222412, -4.276000022888184, -5.2835001945495605, -5.299300193786621, -5.405900001525879, -3.2316999435424805, -3.300600051879883, -3.466399908065796, -3.7844998836517334, -3.998300075531006, -4.041800022125244, -4.322299957275391, -4.337800025939941, -4.493800163269043, -4.690000057220459, -4.767899990081787, -4.851900100708008, -4.952600002288818, -4.979499816894531, -4.984899997711182, -5.032899856567383, -5.220799922943115, -5.362100124359131, -5.423999786376953, -5.42519998550415, -5.429100036621094, -5.456500053405762, -5.464200019836426, -5.5493998527526855, -5.577499866485596, -5.588699817657471, -5.6203999519348145, -5.639699935913086, -5.640500068664551, -5.712399959564209, -3.723400115966797, -5.042500019073486, -4.975399971008301, -5.123499870300293, -5.450300216674805, -4.6234002113342285, -4.903299808502197, -4.921800136566162, -4.974999904632568, -5.023799896240234, -5.165900230407715, -5.188300132751465, -5.307199954986572, -5.307400226593018, -5.366199970245361, -5.3979997634887695, -5.418900012969971, -5.581500053405762, -5.583700180053711, -5.61299991607666, -5.61460018157959, -5.645500183105469, -5.676199913024902, -5.7144999504089355, -5.759500026702881, -5.763899803161621, -5.787499904632568, -5.815299987792969, -5.850200176239014, -5.871799945831299, -5.885300159454346, -5.887499809265137, -5.890200138092041, -5.890699863433838, -5.9045000076293945, -5.202000141143799, -4.6834001541137695, -5.0518999099731445, -4.614699840545654, -5.525100231170654, -4.38640022277832, -5.177999973297119, -5.106200218200684, -5.563799858093262, -5.384699821472168, -5.019999980926514, -4.519599914550781, -4.7067999839782715, -5.515399932861328, -5.453999996185303, -5.075900077819824, -5.480899810791016, -5.170400142669678, -5.2118000984191895, -5.4375, -5.51039981842041, -3.0750999450683594, -4.0229997634887695, -4.33489990234375, -4.42549991607666, -4.694399833679199, -4.8628997802734375, -4.863999843597412, -4.873600006103516, -4.941100120544434, -5.075699806213379, -5.188199996948242, -5.264599800109863, -5.328999996185303, -5.341000080108643, -5.3649001121521, -5.4145002365112305, -5.449100017547607, -5.5528998374938965, -5.582300186157227, -5.600500106811523, -5.63700008392334, -5.66510009765625, -5.707499980926514, -5.710999965667725, -5.718900203704834, -5.725200176239014, -5.741099834442139, -5.763000011444092, -5.769199848175049, -5.774600028991699, -4.813300132751465, -5.077400207519531, -4.696300029754639, -3.8366000652313232, -4.551199913024902, -4.922399997711182, -5.097300052642822, -4.856200218200684, -4.915999889373779, -5.414400100708008, -4.82420015335083, -5.4770002365112305, -5.295599937438965, -5.463399887084961, -3.180000066757202, -3.4240000247955322, -3.5808000564575195, -4.26669979095459, -4.683199882507324, -4.756100177764893, -4.783999919891357, -4.8140997886657715, -4.924600124359131, -5.0808000564575195, -5.128399848937988, -5.132999897003174, -5.170300006866455, -5.187600135803223, -5.202000141143799, -5.263199806213379, -5.299900054931641, -5.3302998542785645, -5.370699882507324, -5.404200077056885, -5.416200160980225, -5.444799900054932, -5.4654998779296875, -5.487599849700928, -5.48799991607666, -5.511600017547607, -5.565899848937988, -5.570300102233887, -5.59060001373291, -5.619800090789795, -4.706200122833252, -4.746300220489502, -4.454899787902832, -4.6809000968933105, -4.5183000564575195, -5.1971001625061035, -4.166100025177002, -5.235199928283691, -5.107900142669678, -5.336900234222412, -5.192999839782715, -5.323699951171875, -4.277299880981445, -4.279900074005127, -4.329500198364258, -4.387700080871582, -4.463799953460693, -4.478600025177002, -4.56279993057251, -4.634799957275391, -4.817200183868408, -4.9456000328063965, -4.951900005340576, -5.059599876403809, -5.188000202178955, -5.193600177764893, -5.230299949645996, -5.2459001541137695, -5.3155999183654785, -5.325799942016602, -5.348899841308594, -5.422900199890137, -5.423500061035156, -5.431300163269043, -5.508800029754639, -5.533400058746338, -5.5395002365112305, -5.587100028991699, -5.591100215911865, -5.64769983291626, -5.673600196838379, -5.7067999839782715, -5.192699909210205, -4.046299934387207, -3.5276999473571777, -4.753699779510498, -4.759699821472168, -5.1778998374938965, -5.269700050354004, -4.492700099945068, -4.531499862670898, -4.588500022888184, -4.640500068664551, -4.684299945831299, -4.754499912261963, -4.776100158691406, -4.935200214385986, -4.991300106048584, -5.005000114440918, -5.139100074768066, -5.171199798583984, -5.171599864959717, -5.2291998863220215, -5.23769998550415, -5.2581000328063965, -5.258500099182129, -5.379199981689453, -5.395699977874756, -5.459000110626221, -5.461999893188477, -5.4766998291015625, -5.546800136566162, -5.577199935913086, -5.604300022125244, -5.62939977645874, -5.638199806213379, -5.641300201416016, -5.715700149536133, -5.724599838256836, -4.766200065612793, -5.053400039672852, -4.319699764251709, -4.561500072479248, -4.263500213623047, -5.092299938201904, -4.799300193786621, -4.812300205230713, -5.198400020599365, -5.0854997634887695, -5.266300201416016, -5.135799884796143, -5.336299896240234]}, \"token.table\": {\"Topic\": [5, 5, 4, 8, 2, 4, 6, 8, 9, 6, 5, 4, 6, 7, 7, 3, 3, 8, 3, 8, 6, 2, 4, 3, 7, 8, 8, 3, 6, 8, 6, 3, 1, 8, 3, 3, 6, 1, 4, 6, 6, 5, 9, 9, 1, 7, 6, 3, 6, 9, 3, 6, 7, 7, 5, 4, 5, 4, 6, 8, 3, 8, 5, 2, 6, 1, 8, 3, 2, 1, 7, 10, 2, 3, 6, 10, 9, 1, 1, 9, 10, 2, 1, 3, 4, 3, 5, 1, 6, 1, 2, 3, 2, 3, 8, 1, 5, 2, 10, 10, 9, 1, 3, 6, 10, 1, 5, 8, 3, 1, 2, 9, 10, 10, 3, 8, 10, 6, 7, 6, 6, 7, 9, 10, 4, 8, 2, 6, 10, 8, 8, 5, 5, 5, 2, 4, 1, 2, 5, 1, 1, 6, 7, 7, 7, 9, 8, 6, 5, 2, 5, 7, 9, 3, 6, 7, 9, 10, 3, 1, 7, 8, 3, 5, 5, 9, 2, 3, 6, 7, 8, 10, 10, 10, 7, 9, 7, 3, 7, 1, 10, 2, 10, 3, 6, 7, 7, 3, 1, 7, 5, 9, 7, 2, 3, 8, 8, 1, 3, 6, 8, 10, 1, 3, 8, 10, 1, 9, 6, 1, 3, 8, 8, 6, 7, 6, 3, 6, 7, 8, 7, 5, 7, 10, 9, 10, 6, 4, 4, 6, 9, 6, 5, 6, 10, 10, 6, 4, 1, 1, 3, 3, 3, 9, 2, 10, 4, 6, 8, 2, 2, 1, 3, 2, 2, 10, 6, 7, 10, 8, 7, 8, 1, 9, 3, 3, 10, 2, 1, 2, 9, 7, 1, 2, 8, 10, 3, 6, 1, 6, 1, 6, 4, 4, 7, 3, 8, 3, 7, 5, 7, 8, 2, 2, 9, 10, 1, 7, 1, 3, 6, 6, 2, 6, 7, 3, 6, 9, 8, 4, 1, 5, 3, 1, 2, 3, 2, 3, 3, 3, 6, 10, 7, 10, 5, 10, 1, 4, 9, 8, 5, 6, 4, 2, 6, 10, 2, 8, 9, 7, 9, 10, 1, 8, 9, 1, 8, 6, 4, 7, 3, 7, 9, 2, 3, 4, 5, 6, 6, 2, 3, 4, 6, 10, 4, 1, 9, 6, 3, 6, 9, 5, 1, 3, 6, 10, 3, 2, 7, 8, 7, 5, 6, 7, 10, 9, 7, 3, 8, 2, 9, 8, 6, 9, 3, 8, 3, 5, 3, 3, 3, 8, 9, 3, 6, 10, 10, 4, 3, 6, 10, 10, 1, 5, 3, 6, 10, 8, 2, 1, 4, 3, 1, 3, 6, 10, 2, 7, 10, 6, 9, 6, 2, 3, 7, 10, 3, 3, 3, 10, 6, 10, 3, 6, 8, 3, 4, 3, 8, 7, 9, 6, 2, 2, 3, 6, 8, 10, 2, 3, 1, 5, 10, 10, 4, 10, 8, 4, 4, 4, 5, 8, 2, 6, 8, 4, 8, 5, 3, 6, 7, 3, 6, 3, 4, 9, 6, 8, 2, 5, 4, 2, 3, 10, 4, 9, 7, 6, 8, 7, 7, 6, 3, 7, 4, 3, 6, 6, 9, 5, 7, 8, 1, 6, 7, 2, 3, 8, 2, 5, 6], \"Freq\": [0.9865148067474365, 0.9985536932945251, 0.9849148988723755, 0.9933431148529053, 0.9812535047531128, 0.9919713735580444, 0.23247189819812775, 0.7644748687744141, 0.9732259511947632, 0.9953129887580872, 0.9963865876197815, 0.9851164817810059, 0.9894838929176331, 0.990577220916748, 0.989299476146698, 0.9948734045028687, 0.8177688121795654, 0.1794477105140686, 0.814827024936676, 0.18292035162448883, 0.9896726608276367, 0.9940377473831177, 0.9751268029212952, 0.40384823083877563, 0.42354816198349, 0.17073258757591248, 0.9870641231536865, 0.3634550869464874, 0.20511822402477264, 0.42822927236557007, 0.9952278733253479, 0.9927987456321716, 0.9943836331367493, 0.9859106540679932, 0.9966307282447815, 0.9924241900444031, 0.9901440143585205, 0.9870015382766724, 0.9907947778701782, 0.9940484762191772, 0.9874001741409302, 0.9972312450408936, 0.9940243363380432, 0.988753616809845, 0.9837198853492737, 0.9830792546272278, 0.9874003529548645, 0.24009644985198975, 0.7510709166526794, 0.9802911877632141, 0.3807365894317627, 0.2606581151485443, 0.3543778955936432, 0.9971306324005127, 0.9851315021514893, 0.98170006275177, 0.9773187637329102, 0.6436392068862915, 0.3510759174823761, 0.9913952350616455, 0.2980794310569763, 0.6955186724662781, 0.9959931969642639, 0.6039084196090698, 0.3907642662525177, 0.992164671421051, 0.98947674036026, 0.9916619062423706, 0.9874310493469238, 0.31572678685188293, 0.5194215178489685, 0.16441072523593903, 0.06279317289590836, 0.17268122732639313, 0.37675905227661133, 0.38853275775909424, 0.9880711436271667, 0.9905737638473511, 0.9825528860092163, 0.4977698028087616, 0.4977698028087616, 0.9955453276634216, 0.9973840713500977, 0.4402773976325989, 0.5551323890686035, 0.994918942451477, 0.9912382960319519, 0.7118972539901733, 0.286736398935318, 0.9941579103469849, 0.9934896230697632, 0.9847591519355774, 0.9911869764328003, 0.7713357210159302, 0.22446277737617493, 0.992358922958374, 0.9926469922065735, 0.9811303615570068, 0.9961076378822327, 0.9780663251876831, 0.9813238382339478, 0.03614974394440651, 0.3873187005519867, 0.09812073409557343, 0.4751109182834625, 0.9929825663566589, 0.9964146614074707, 0.9930465817451477, 0.9951343536376953, 0.15524977445602417, 0.8316951990127563, 0.9863050580024719, 0.9948312640190125, 0.9927530884742737, 0.2187327742576599, 0.23588827252388, 0.5468319058418274, 0.11738596111536026, 0.873873233795166, 0.9940481781959534, 0.12613904476165771, 0.8661547899246216, 0.9910536408424377, 0.9926156997680664, 0.9950671792030334, 0.993703305721283, 0.9795202612876892, 0.856752872467041, 0.1343926042318344, 0.9909362196922302, 0.9858972430229187, 0.9829285740852356, 0.997873067855835, 0.9870311617851257, 0.9901532530784607, 0.9908469319343567, 0.9958581328392029, 0.9739671945571899, 0.9906530976295471, 0.9818546772003174, 0.9894900321960449, 0.990028440952301, 0.9892260432243347, 0.9837889671325684, 0.32997560501098633, 0.6664212942123413, 0.9924910664558411, 0.9964443445205688, 0.990143358707428, 0.9870879054069519, 0.8586698174476624, 0.1417986899614334, 0.9866568446159363, 0.5481374859809875, 0.30283838510513306, 0.08782313019037247, 0.06056767702102661, 0.9926394820213318, 0.9914758801460266, 0.9827193021774292, 0.13129077851772308, 0.8655466437339783, 0.9958620667457581, 0.9956325888633728, 0.9836705923080444, 0.9919953346252441, 0.08504856377840042, 0.5209224820137024, 0.05669904127717018, 0.1488349884748459, 0.11339808255434036, 0.07441749423742294, 0.9953359961509705, 0.9944491386413574, 0.995713472366333, 0.991952121257782, 0.9854854941368103, 0.7792187929153442, 0.2200341820716858, 0.9933981895446777, 0.9966837763786316, 0.9784623384475708, 0.995235025882721, 0.909593939781189, 0.08722133934497833, 0.9926265478134155, 0.9881597757339478, 0.9986483454704285, 0.9948381781578064, 0.994732677936554, 0.9990804195404053, 0.9803958535194397, 0.9855045080184937, 0.3222475051879883, 0.4701022505760193, 0.20472194254398346, 0.9953054189682007, 0.9842433929443359, 0.21165354549884796, 0.6091940999031067, 0.17668470740318298, 0.9966345429420471, 0.0827929675579071, 0.7125624418258667, 0.10858094692230225, 0.09500832855701447, 0.9911091327667236, 0.9881691336631775, 0.9947654008865356, 0.7847819328308105, 0.20149806141853333, 0.992512047290802, 0.993903636932373, 0.9872828125953674, 0.9990836381912231, 0.993369460105896, 0.2942963242530823, 0.20098285377025604, 0.4952791631221771, 0.9939297437667847, 0.9808748364448547, 0.9941548705101013, 0.9847412705421448, 0.9949561953544617, 0.9883182644844055, 0.9975982308387756, 0.9926198720932007, 0.9798164963722229, 0.9901900887489319, 0.9916951656341553, 0.9856647849082947, 0.9894530177116394, 0.982464075088501, 0.21888238191604614, 0.7756049633026123, 0.9850814938545227, 0.9936238527297974, 0.9788536429405212, 0.9767993688583374, 0.9912815093994141, 0.9890639185905457, 0.9934893250465393, 0.06928373128175735, 0.9145452380180359, 0.21136480569839478, 0.7814092636108398, 0.9921718239784241, 0.9878687858581543, 0.9890294671058655, 0.9950841665267944, 0.9819274544715881, 0.1931259036064148, 0.8029971718788147, 0.9905319809913635, 0.9807325601577759, 0.9881244897842407, 0.34968388080596924, 0.6455702781677246, 0.9860138297080994, 0.9968368411064148, 0.985637366771698, 0.9952030181884766, 0.9942787289619446, 0.9965711832046509, 0.9924852252006531, 0.9933419227600098, 0.9820880889892578, 0.9869101643562317, 0.9957932233810425, 0.9829815030097961, 0.9937126040458679, 0.9954487681388855, 0.9982965588569641, 0.5645288228988647, 0.2822644114494324, 0.15242278575897217, 0.2947528660297394, 0.7000380158424377, 0.1362554281949997, 0.8579045534133911, 0.575700581073761, 0.4224565625190735, 0.976078450679779, 0.982758104801178, 0.9881649017333984, 0.7812113761901855, 0.21558652818202972, 0.8125504851341248, 0.18644139170646667, 0.9938545227050781, 0.695586085319519, 0.29942449927330017, 0.9895309805870056, 0.9808833599090576, 0.9768342971801758, 0.9957340955734253, 0.9722965359687805, 0.026671474799513817, 0.988556981086731, 0.9873247742652893, 0.9886330366134644, 0.9835476875305176, 0.9914318919181824, 0.7751604318618774, 0.22221265733242035, 0.2817523777484894, 0.32553064823150635, 0.39175930619239807, 0.9927235841751099, 0.9927640557289124, 0.09354814887046814, 0.8953894376754761, 0.9927656650543213, 0.44722098112106323, 0.5417042970657349, 0.9863662123680115, 0.6030887365341187, 0.3876998722553253, 0.9881393909454346, 0.30459028482437134, 0.6932054758071899, 0.9909412264823914, 0.6226091980934143, 0.37712329626083374, 0.9836315512657166, 0.9861595034599304, 0.9795557260513306, 0.9795981049537659, 0.9933841824531555, 0.9923660755157471, 0.9914109110832214, 0.9972794651985168, 0.9952982068061829, 0.979187548160553, 0.7840154767036438, 0.21249017119407654, 0.6051200032234192, 0.38996621966362, 0.9711782932281494, 0.9814079403877258, 0.9798447489738464, 0.9906988739967346, 0.9946858286857605, 0.9947367310523987, 0.993389904499054, 0.9975778460502625, 0.9976204037666321, 0.9963271617889404, 0.9893434643745422, 0.9789202213287354, 0.37894949316978455, 0.6173209547996521, 0.9810521602630615, 0.6113412380218506, 0.38016176223754883, 0.9908673167228699, 0.9977932572364807, 0.9894043207168579, 0.9923359751701355, 0.9917559623718262, 0.24866394698619843, 0.30039939284324646, 0.25200170278549194, 0.1969284862279892, 0.9876276850700378, 0.9867703914642334, 0.9737628698348999, 0.9932378530502319, 0.2835448682308197, 0.6696484684944153, 0.04223008453845978, 0.9909583926200867, 0.14341653883457184, 0.17434951663017273, 0.24465174973011017, 0.43868589401245117, 0.9927971363067627, 0.6829607486724854, 0.31246569752693176, 0.990081250667572, 0.984088659286499, 0.9874237179756165, 0.44615042209625244, 0.4164070785045624, 0.1308707892894745, 0.9906917214393616, 0.9778006672859192, 0.9954913854598999, 0.9837586879730225, 0.9849098920822144, 0.9812995791435242, 0.9933403730392456, 0.44828060269355774, 0.5469022989273071, 0.34597548842430115, 0.6524976491928101, 0.9924401044845581, 0.9966038465499878, 0.9941464066505432, 0.9923508167266846, 0.9903349280357361, 0.9991299510002136, 0.9894448518753052, 0.9059799313545227, 0.09153682738542557, 0.9918490052223206, 0.9831256866455078, 0.9813523292541504, 0.6688207387924194, 0.32944878935813904, 0.995823085308075, 0.9807168841362, 0.09948349744081497, 0.9000887870788574, 0.13078925013542175, 0.2734684348106384, 0.5944965481758118, 0.9957975745201111, 0.9928130507469177, 0.9792846441268921, 0.9781079888343811, 0.9958186745643616, 0.11713690310716629, 0.30585744976997375, 0.572669267654419, 0.9870412349700928, 0.9947671294212341, 0.9862600564956665, 0.9952318072319031, 0.35229408740997314, 0.641678512096405, 0.9925994277000427, 0.9935035705566406, 0.44444212317466736, 0.13081097602844238, 0.42395368218421936, 0.9982556700706482, 0.9897358417510986, 0.46183866262435913, 0.536547839641571, 0.8303314447402954, 0.1653912216424942, 0.21288028359413147, 0.3466496467590332, 0.4401443600654602, 0.9915591478347778, 0.9916810393333435, 0.27922818064689636, 0.719700813293457, 0.9835444688796997, 0.9773809909820557, 0.9935913681983948, 0.990049421787262, 0.09298816323280334, 0.7292229533195496, 0.17618809640407562, 0.8334739208221436, 0.16057753562927246, 0.9929929375648499, 0.9989075660705566, 0.9993377327919006, 0.9881401062011719, 0.9851595759391785, 0.9881663918495178, 0.986602246761322, 0.9902756214141846, 0.9816020727157593, 0.9982582926750183, 0.9866024255752563, 0.08939379453659058, 0.9028773307800293, 0.9977757334709167, 0.4252539277076721, 0.23111626505851746, 0.3374297618865967, 0.9845016598701477, 0.9927716255187988, 0.9849485158920288, 0.2696484625339508, 0.7235566973686218, 0.9943178296089172, 0.1007286086678505, 0.8897693753242493, 0.3417684733867645, 0.6533809304237366, 0.996216893196106, 0.3353755474090576, 0.6620775461196899, 0.9320151805877686, 0.06213434413075447, 0.9777198433876038, 0.9954822659492493, 0.293367862701416, 0.7064777612686157, 0.9930766820907593, 0.9949997067451477, 0.9754312634468079, 0.314806193113327, 0.679695188999176, 0.9832707643508911, 0.9968569874763489, 0.9921160340309143, 0.3327138125896454, 0.6654276251792908, 0.9948846697807312, 0.8652517795562744, 0.1295287162065506, 0.23178306221961975, 0.7652520537376404, 0.9862088561058044, 0.9866515398025513, 0.9986064434051514, 0.032848060131073, 0.965732991695404, 0.9921672940254211, 0.09087753295898438, 0.6694644689559937, 0.2393108308315277, 0.17471209168434143, 0.8211468458175659, 0.9921097159385681], \"Term\": [\"190319\", \"200319\", \"absolutely\", \"account\", \"across\", \"action\", \"actually\", \"actually\", \"address\", \"agree\", \"alarm\", \"alert\", \"allow\", \"almost\", \"alone\", \"already\", \"always\", \"always\", \"amaze\", \"amaze\", \"american\", \"andrew\", \"animal\", \"another\", \"another\", \"another\", \"answer\", \"anyone\", \"anyone\", \"anyone\", \"anything\", \"apple\", \"apply\", \"appreciate\", \"arena\", \"around\", \"article\", \"artist\", \"attack\", \"automatically\", \"available\", \"avenue\", \"awesome\", \"basically\", \"beauty\", \"begin\", \"behind\", \"believe\", \"believe\", \"bernie\", \"better\", \"better\", \"better\", \"birthday\", \"blame\", \"block\", \"boulevard\", \"brampton\", \"brampton\", \"break\", \"bring\", \"bring\", \"brother\", \"budget\", \"budget\", \"budget2019\", \"build\", \"business\", \"campaign\", \"canada\", \"canada\", \"canada\", \"canadian\", \"canadian\", \"canadian\", \"canadian\", \"catch\", \"cause\", \"cautionworldtour\", \"cdnpoli\", \"cdnpoli\", \"celebrate\", \"centre\", \"challenge\", \"challenge\", \"change\", \"charge\", \"check\", \"check\", \"checkin\", \"child\", \"choose\", \"clappinghands\", \"class\", \"class\", \"click\", \"coach\", \"coffee\", \"coming\", \"committee\", \"common\", \"community\", \"community\", \"community\", \"community\", \"concert\", \"congrats\", \"congratulations\", \"conservative\", \"contact\", \"contact\", \"content\", \"continue\", \"control\", \"could\", \"could\", \"could\", \"country\", \"country\", \"couple\", \"course\", \"course\", \"court\", \"cover\", \"crazy\", \"culture\", \"death\", \"definitely\", \"definitely\", \"deserve\", \"design\", \"difference\", \"dispatch\", \"distchief31\", \"dollar\", \"doubt\", \"downtown\", \"drinking\", \"drive\", \"driver\", \"dundas\", \"early\", \"either\", \"empty\", \"enjoy\", \"enjoy\", \"enough\", \"episode\", \"especially\", \"estate\", \"etobicoke\", \"etobicoke\", \"evening\", \"every\", \"every\", \"every\", \"every\", \"everything\", \"exactly\", \"except\", \"excite\", \"excite\", \"experience\", \"facewithtearsofjoy\", \"facewithtearsofjoyfacewithtearsofjoy\", \"facewithtearsofjoyfacewithtearsofjoyfacewithtearsofjoy\", \"family\", \"family\", \"family\", \"family\", \"family\", \"family\", \"feature\", \"fight\", \"finally\", \"finance\", \"finish\", \"first\", \"first\", \"firstdayofspring\", \"florida\", \"folks\", \"follow\", \"forget\", \"forget\", \"fresh\", \"friday\", \"friend\", \"fucking\", \"funny\", \"general\", \"generation\", \"george\", \"getting\", \"getting\", \"getting\", \"given\", \"giving\", \"going\", \"going\", \"going\", \"government\", \"great\", \"great\", \"great\", \"great\", \"green\", \"guess\", \"hahaha\", \"hamilton\", \"hamilton\", \"handle\", \"happen\", \"happiness\", \"happy\", \"health\", \"heart\", \"heart\", \"heart\", \"hello\", \"heritage\", \"highrise\", \"hindu\", \"history\", \"hours\", \"house\", \"imagine\", \"impeachthemf\", \"imprisonthemf\", \"increase\", \"information\", \"inside\", \"instagram\", \"interest\", \"interest\", \"interview\", \"issue\", \"kawhi\", \"killing\", \"latest\", \"leafsforever\", \"learn\", \"leave\", \"leave\", \"liberal\", \"liberal\", \"light\", \"listen\", \"literally\", \"little\", \"local\", \"looking\", \"looking\", \"loudlycryingface\", \"lovely\", \"manager\", \"march\", \"march\", \"matter\", \"maybe\", \"mccain\", \"means\", \"medical\", \"medium\", \"meeting\", \"member\", \"message\", \"michael\", \"might\", \"million\", \"minister\", \"minutes\", \"mississauga\", \"money\", \"money\", \"money\", \"month\", \"month\", \"morning\", \"morning\", \"music\", \"music\", \"muslim\", \"natural\", \"network\", \"never\", \"never\", \"night\", \"night\", \"north\", \"nothing\", \"nothing\", \"nowruz\", \"oakville\", \"official\", \"onpoli\", \"ontario\", \"ontario\", \"opening\", \"opportunity\", \"others\", \"outside\", \"parent\", \"party\", \"party\", \"people\", \"people\", \"people\", \"performing\", \"period\", \"personal\", \"personal\", \"phone\", \"photo\", \"photo\", \"piece\", \"player\", \"player\", \"playing\", \"please\", \"please\", \"pleasure\", \"point\", \"point\", \"policy\", \"political\", \"politician\", \"possible\", \"power\", \"practice\", \"president\", \"pretty\", \"probably\", \"profile\", \"program\", \"program\", \"project\", \"project\", \"protect\", \"provide\", \"province\", \"public\", \"queen\", \"question\", \"raptor\", \"ready\", \"really\", \"reason\", \"receive\", \"record\", \"redheart\\ufe0f\", \"redheart\\ufe0f\", \"redheart\\ufe0fredheart\\ufe0f\", \"remember\", \"remember\", \"remind\", \"residential\", \"respect\", \"return\", \"ridiculous\", \"right\", \"right\", \"right\", \"right\", \"rollingonthefloorlaughing\", \"sales\", \"sander\", \"saturday\", \"saying\", \"saying\", \"saying\", \"scarborough\", \"school\", \"school\", \"school\", \"school\", \"scotiabank\", \"season\", \"season\", \"seeing\", \"series\", \"seriously\", \"share\", \"share\", \"share\", \"should\", \"showing\", \"since\", \"single\", \"skill\", \"sleep\", \"smilingfacewithhearteyes\", \"social\", \"social\", \"something\", \"something\", \"sometimes\", \"sorry\", \"sound\", \"special\", \"spend\", \"spring\", \"stage\", \"start\", \"start\", \"state\", \"station\", \"stick\", \"still\", \"still\", \"story\", \"straight\", \"street\", \"street\", \"student\", \"student\", \"student\", \"stuff\", \"stupid\", \"subway\", \"success\", \"super\", \"support\", \"support\", \"support\", \"supporter\", \"surprise\", \"sweet\", \"system\", \"talking\", \"talking\", \"teach\", \"teacher\", \"thank\", \"thank\", \"thank\", \"thanks\", \"there\", \"thing\", \"thing\", \"things\", \"things\", \"think\", \"think\", \"think\", \"thinking\", \"thinkingface\", \"thought\", \"thought\", \"throw\", \"thunderup\", \"ticket\", \"tight\", \"today\", \"today\", \"today\", \"together\", \"together\", \"tomorrow\", \"tonight\", \"toronto\", \"trail\", \"train\", \"training\", \"traitortrump\", \"trudeau\", \"truly\", \"trump\", \"trumpisacriminal\", \"trumpisaliar\", \"trumpisaliar\", \"tweet\", \"twitter\", \"twitter\", \"twitter\", \"ufcfy\", \"update\", \"vehicle\", \"video\", \"video\", \"visit\", \"voice\", \"voice\", \"waiting\", \"waiting\", \"wanna\", \"watch\", \"watch\", \"water\", \"water\", \"wearyface\", \"weather\", \"welcome\", \"welcome\", \"wethenorth\", \"white\", \"whiteheavycheckmark\", \"whole\", \"whole\", \"wishing\", \"woman\", \"wonder\", \"wonderful\", \"wonderful\", \"words\", \"working\", \"working\", \"world\", \"world\", \"worst\", \"worth\", \"would\", \"write\", \"write\", \"wrong\", \"years\", \"years\", \"years\", \"young\", \"young\", \"youtube\"]}, \"R\": 30, \"lambda.step\": 0.01, \"plot.opts\": {\"xlab\": \"PC1\", \"ylab\": \"PC2\"}, \"topic.order\": [1, 2, 3, 4, 5, 6, 7, 8, 9, 10]};\n",
       "\n",
       "function LDAvis_load_lib(url, callback){\n",
       "  var s = document.createElement('script');\n",
       "  s.src = url;\n",
       "  s.async = true;\n",
       "  s.onreadystatechange = s.onload = callback;\n",
       "  s.onerror = function(){console.warn(\"failed to load library \" + url);};\n",
       "  document.getElementsByTagName(\"head\")[0].appendChild(s);\n",
       "}\n",
       "\n",
       "if(typeof(LDAvis) !== \"undefined\"){\n",
       "   // already loaded: just create the visualization\n",
       "   !function(LDAvis){\n",
       "       new LDAvis(\"#\" + \"ldavis_el5198423249905339448137244109\", ldavis_el5198423249905339448137244109_data);\n",
       "   }(LDAvis);\n",
       "}else if(typeof define === \"function\" && define.amd){\n",
       "   // require.js is available: use it to load d3/LDAvis\n",
       "   require.config({paths: {d3: \"https://cdnjs.cloudflare.com/ajax/libs/d3/3.5.5/d3.min\"}});\n",
       "   require([\"d3\"], function(d3){\n",
       "      window.d3 = d3;\n",
       "      LDAvis_load_lib(\"https://cdn.rawgit.com/bmabey/pyLDAvis/files/ldavis.v1.0.0.js\", function(){\n",
       "        new LDAvis(\"#\" + \"ldavis_el5198423249905339448137244109\", ldavis_el5198423249905339448137244109_data);\n",
       "      });\n",
       "    });\n",
       "}else{\n",
       "    // require.js not available: dynamically load d3 & LDAvis\n",
       "    LDAvis_load_lib(\"https://cdnjs.cloudflare.com/ajax/libs/d3/3.5.5/d3.min.js\", function(){\n",
       "         LDAvis_load_lib(\"https://cdn.rawgit.com/bmabey/pyLDAvis/files/ldavis.v1.0.0.js\", function(){\n",
       "                 new LDAvis(\"#\" + \"ldavis_el5198423249905339448137244109\", ldavis_el5198423249905339448137244109_data);\n",
       "            })\n",
       "         });\n",
       "}\n",
       "</script>"
      ],
      "text/plain": [
       "<IPython.core.display.HTML object>"
      ]
     },
     "execution_count": 27,
     "metadata": {},
     "output_type": "execute_result"
    }
   ],
   "source": [
    "#pyLDAvis: visualizing topics\n",
    "dictionary = gensim.corpora.Dictionary.load('dictionary.gensim')\n",
    "corpus = pickle.load(open('corpus.pkl', 'rb'))\n",
    "lda = gensim.models.ldamodel.LdaModel.load('model5.gensim')\n",
    "lda_display = pyLDAvis.gensim.prepare(lda, corpus, dictionary, sort_topics=False)\n",
    "pyLDAvis.display(lda_display)"
   ]
  },
  {
   "cell_type": "markdown",
   "metadata": {},
   "source": [
    "#### Topic Analysis for March 19-20, 2019"
   ]
  },
  {
   "cell_type": "markdown",
   "metadata": {},
   "source": [
    "## Period 2"
   ]
  },
  {
   "cell_type": "code",
   "execution_count": 29,
   "metadata": {},
   "outputs": [
    {
     "data": {
      "text/plain": [
       "(64017, 25)"
      ]
     },
     "execution_count": 29,
     "metadata": {},
     "output_type": "execute_result"
    }
   ],
   "source": [
    "start_date = p2_start\n",
    "end_date = p2_end\n",
    "mask = (tweets_df['tweet_date'] > start_date) & (tweets_df['tweet_date'] < end_date)\n",
    "in_range_df = tweets_df.loc[mask]\n",
    "in_range_df.shape"
   ]
  },
  {
   "cell_type": "code",
   "execution_count": 30,
   "metadata": {},
   "outputs": [],
   "source": [
    "text_data = []\n",
    "for index, row in in_range_df.iterrows():\n",
    "    tweet = row['tweet_clean']\n",
    "    tokens = tokenize(tweet)\n",
    "    text_data.append(tokens)"
   ]
  },
  {
   "cell_type": "code",
   "execution_count": 31,
   "metadata": {},
   "outputs": [],
   "source": [
    "dictionary = corpora.Dictionary(text_data)\n",
    "corpus = [dictionary.doc2bow(text) for text in text_data]\n",
    "pickle.dump(corpus, open('corpus.pkl', 'wb'))\n",
    "dictionary.save('dictionary.gensim')"
   ]
  },
  {
   "cell_type": "code",
   "execution_count": 32,
   "metadata": {},
   "outputs": [
    {
     "name": "stdout",
     "output_type": "stream",
     "text": [
      "(0, '0.051*\"ford\" + 0.024*\"purpleday\" + 0.017*\"news\" + 0.014*\"ufc\"')\n",
      "(1, '0.030*\"are\" + 0.024*\"solid\" + 0.023*\"denis\" + 0.023*\"stef\"')\n",
      "(2, '0.029*\"there\" + 0.029*\"na\" + 0.029*\"room\" + 0.028*\"eat\"')\n",
      "(3, '0.462*\"user\" + 0.020*\"url\" + 0.010*\"thank\" + 0.008*\"patient\"')\n",
      "(4, '0.022*\"become\" + 0.019*\"brother\" + 0.019*\"especially\" + 0.018*\"trumpisaliar\"')\n",
      "(5, '0.024*\"’s\" + 0.020*\"wa\" + 0.018*\"n’t\" + 0.014*\"get\"')\n",
      "(6, '0.124*\"url\" + 0.024*\"…\" + 0.023*\"toronto\" + 0.018*\"ontario\"')\n",
      "(7, '0.056*\"url\" + 0.017*\"job\" + 0.015*\"might\" + 0.015*\"toronto\"')\n",
      "(8, '0.039*\"url\" + 0.037*\"photo\" + 0.027*\"area\" + 0.026*\"general\"')\n",
      "(9, '0.089*\"i\" + 0.035*\"m\" + 0.031*\"’m\" + 0.019*\"u\"')\n"
     ]
    }
   ],
   "source": [
    "NUM_TOPICS=10\n",
    "ldamodel = gensim.models.ldamodel.LdaModel(corpus, \n",
    "                                           num_topics=NUM_TOPICS, \n",
    "                                           id2word=dictionary, \n",
    "                                           passes=15\n",
    "                                          )\n",
    "ldamodel.save('model5.gensim')\n",
    "topics = ldamodel.print_topics(num_words=4)\n",
    "for topic in topics:\n",
    "    print(topic)"
   ]
  },
  {
   "cell_type": "code",
   "execution_count": 33,
   "metadata": {},
   "outputs": [
    {
     "name": "stderr",
     "output_type": "stream",
     "text": [
      "C:\\ProgramData\\Anaconda3\\lib\\site-packages\\pyLDAvis\\_prepare.py:257: FutureWarning: Sorting because non-concatenation axis is not aligned. A future version\n",
      "of pandas will change to not sort by default.\n",
      "\n",
      "To accept the future behavior, pass 'sort=False'.\n",
      "\n",
      "To retain the current behavior and silence the warning, pass 'sort=True'.\n",
      "\n",
      "  return pd.concat([default_term_info] + list(topic_dfs))\n"
     ]
    },
    {
     "data": {
      "text/html": [
       "\n",
       "<link rel=\"stylesheet\" type=\"text/css\" href=\"https://cdn.rawgit.com/bmabey/pyLDAvis/files/ldavis.v1.0.0.css\">\n",
       "\n",
       "\n",
       "<div id=\"ldavis_el5198423249243618486756710141\"></div>\n",
       "<script type=\"text/javascript\">\n",
       "\n",
       "var ldavis_el5198423249243618486756710141_data = {\"mdsDat\": {\"x\": [-0.16041776349810208, -0.1707250148201038, -0.16376282774565656, 0.23324430076362626, -0.1493136231337846, 0.2984552303029175, 0.14256501892579607, 0.07277447717332654, -0.07509514714785298, -0.027724650820166022], \"y\": [0.03715088206365572, 0.03482384937938473, 0.030864217476398417, 0.18743592998163844, 0.07876441159025069, 0.08759612956487867, -0.25969967235253005, -0.16955094209313556, -0.15752262773991926, 0.13013782212937786], \"topics\": [1, 2, 3, 4, 5, 6, 7, 8, 9, 10], \"cluster\": [1, 1, 1, 1, 1, 1, 1, 1, 1, 1], \"Freq\": [3.749553918838501, 3.9549834728240967, 3.4921436309814453, 20.633033752441406, 4.335741996765137, 30.097192764282227, 12.856464385986328, 7.576005935668945, 6.891366004943848, 6.413508415222168]}, \"tinfo\": {\"Category\": [\"Default\", \"Default\", \"Default\", \"Default\", \"Default\", \"Default\", \"Default\", \"Default\", \"Default\", \"Default\", \"Default\", \"Default\", \"Default\", \"Default\", \"Default\", \"Default\", \"Default\", \"Default\", \"Default\", \"Default\", \"Default\", \"Default\", \"Default\", \"Default\", \"Default\", \"Default\", \"Default\", \"Default\", \"Default\", \"Default\", \"Topic1\", \"Topic1\", \"Topic1\", \"Topic1\", \"Topic1\", \"Topic1\", \"Topic1\", \"Topic1\", \"Topic1\", \"Topic1\", \"Topic1\", \"Topic1\", \"Topic1\", \"Topic1\", \"Topic1\", \"Topic1\", \"Topic1\", \"Topic1\", \"Topic1\", \"Topic1\", \"Topic1\", \"Topic1\", \"Topic1\", \"Topic1\", \"Topic1\", \"Topic1\", \"Topic1\", \"Topic1\", \"Topic1\", \"Topic1\", \"Topic1\", \"Topic1\", \"Topic1\", \"Topic2\", \"Topic2\", \"Topic2\", \"Topic2\", \"Topic2\", \"Topic2\", \"Topic2\", \"Topic2\", \"Topic2\", \"Topic2\", \"Topic2\", \"Topic2\", \"Topic2\", \"Topic2\", \"Topic2\", \"Topic2\", \"Topic2\", \"Topic2\", \"Topic2\", \"Topic2\", \"Topic2\", \"Topic2\", \"Topic2\", \"Topic2\", \"Topic2\", \"Topic2\", \"Topic2\", \"Topic2\", \"Topic2\", \"Topic2\", \"Topic3\", \"Topic3\", \"Topic3\", \"Topic3\", \"Topic3\", \"Topic3\", \"Topic3\", \"Topic3\", \"Topic3\", \"Topic3\", \"Topic3\", \"Topic3\", \"Topic3\", \"Topic3\", \"Topic3\", \"Topic3\", \"Topic3\", \"Topic3\", \"Topic3\", \"Topic3\", \"Topic3\", \"Topic3\", \"Topic3\", \"Topic3\", \"Topic3\", \"Topic3\", \"Topic3\", \"Topic3\", \"Topic3\", \"Topic3\", \"Topic3\", \"Topic3\", \"Topic4\", \"Topic4\", \"Topic4\", \"Topic4\", \"Topic4\", \"Topic4\", \"Topic4\", \"Topic4\", \"Topic4\", \"Topic4\", \"Topic4\", \"Topic4\", \"Topic4\", \"Topic4\", \"Topic4\", \"Topic4\", \"Topic4\", \"Topic4\", \"Topic4\", \"Topic4\", \"Topic4\", \"Topic4\", \"Topic4\", \"Topic4\", \"Topic4\", \"Topic4\", \"Topic4\", \"Topic4\", \"Topic4\", \"Topic4\", \"Topic4\", \"Topic4\", \"Topic4\", \"Topic4\", \"Topic4\", \"Topic4\", \"Topic4\", \"Topic4\", \"Topic4\", \"Topic5\", \"Topic5\", \"Topic5\", \"Topic5\", \"Topic5\", \"Topic5\", \"Topic5\", \"Topic5\", \"Topic5\", \"Topic5\", \"Topic5\", \"Topic5\", \"Topic5\", \"Topic5\", \"Topic5\", \"Topic5\", \"Topic5\", \"Topic5\", \"Topic5\", \"Topic5\", \"Topic5\", \"Topic5\", \"Topic5\", \"Topic5\", \"Topic5\", \"Topic5\", \"Topic5\", \"Topic5\", \"Topic5\", \"Topic5\", \"Topic6\", \"Topic6\", \"Topic6\", \"Topic6\", \"Topic6\", \"Topic6\", \"Topic6\", \"Topic6\", \"Topic6\", \"Topic6\", \"Topic6\", \"Topic6\", \"Topic6\", \"Topic6\", \"Topic6\", \"Topic6\", \"Topic6\", \"Topic6\", \"Topic6\", \"Topic6\", \"Topic6\", \"Topic6\", \"Topic6\", \"Topic6\", \"Topic6\", \"Topic6\", \"Topic6\", \"Topic6\", \"Topic6\", \"Topic6\", \"Topic6\", \"Topic6\", \"Topic6\", \"Topic6\", \"Topic6\", \"Topic6\", \"Topic6\", \"Topic6\", \"Topic6\", \"Topic6\", \"Topic6\", \"Topic7\", \"Topic7\", \"Topic7\", \"Topic7\", \"Topic7\", \"Topic7\", \"Topic7\", \"Topic7\", \"Topic7\", \"Topic7\", \"Topic7\", \"Topic7\", \"Topic7\", \"Topic7\", \"Topic7\", \"Topic7\", \"Topic7\", \"Topic7\", \"Topic7\", \"Topic7\", \"Topic7\", \"Topic7\", \"Topic7\", \"Topic7\", \"Topic7\", \"Topic7\", \"Topic7\", \"Topic7\", \"Topic7\", \"Topic7\", \"Topic7\", \"Topic7\", \"Topic7\", \"Topic7\", \"Topic7\", \"Topic7\", \"Topic8\", \"Topic8\", \"Topic8\", \"Topic8\", \"Topic8\", \"Topic8\", \"Topic8\", \"Topic8\", \"Topic8\", \"Topic8\", \"Topic8\", \"Topic8\", \"Topic8\", \"Topic8\", \"Topic8\", \"Topic8\", \"Topic8\", \"Topic8\", \"Topic8\", \"Topic8\", \"Topic8\", \"Topic8\", \"Topic8\", \"Topic8\", \"Topic8\", \"Topic8\", \"Topic8\", \"Topic8\", \"Topic8\", \"Topic8\", \"Topic8\", \"Topic8\", \"Topic8\", \"Topic8\", \"Topic8\", \"Topic8\", \"Topic8\", \"Topic8\", \"Topic8\", \"Topic8\", \"Topic8\", \"Topic8\", \"Topic8\", \"Topic8\", \"Topic8\", \"Topic8\", \"Topic8\", \"Topic8\", \"Topic9\", \"Topic9\", \"Topic9\", \"Topic9\", \"Topic9\", \"Topic9\", \"Topic9\", \"Topic9\", \"Topic9\", \"Topic9\", \"Topic9\", \"Topic9\", \"Topic9\", \"Topic9\", \"Topic9\", \"Topic9\", \"Topic9\", \"Topic9\", \"Topic9\", \"Topic9\", \"Topic9\", \"Topic9\", \"Topic9\", \"Topic9\", \"Topic9\", \"Topic9\", \"Topic9\", \"Topic9\", \"Topic9\", \"Topic9\", \"Topic9\", \"Topic9\", \"Topic9\", \"Topic9\", \"Topic10\", \"Topic10\", \"Topic10\", \"Topic10\", \"Topic10\", \"Topic10\", \"Topic10\", \"Topic10\", \"Topic10\", \"Topic10\", \"Topic10\", \"Topic10\", \"Topic10\", \"Topic10\", \"Topic10\", \"Topic10\", \"Topic10\", \"Topic10\", \"Topic10\", \"Topic10\", \"Topic10\", \"Topic10\", \"Topic10\", \"Topic10\", \"Topic10\", \"Topic10\", \"Topic10\", \"Topic10\", \"Topic10\", \"Topic10\", \"Topic10\", \"Topic10\", \"Topic10\", \"Topic10\", \"Topic10\", \"Topic10\", \"Topic10\", \"Topic10\", \"Topic10\", \"Topic10\", \"Topic10\"], \"Freq\": [68385.0, 19363.0, 4088.0, 5118.0, 3868.0, 1833.0, 2248.0, 3835.0, 1377.0, 1595.0, 5096.0, 1417.0, 3077.0, 1349.0, 3001.0, 1305.0, 1691.0, 1286.0, 2876.0, 1258.0, 1258.0, 2678.0, 3572.0, 1125.0, 2437.0, 857.0, 1300.0, 1614.0, 943.0, 1726.0, 1376.825439453125, 640.3325805664062, 470.0548095703125, 365.43304443359375, 315.75103759765625, 309.9018859863281, 265.4996032714844, 198.07449340820312, 175.1105499267578, 169.32191467285156, 153.62022399902344, 153.5684814453125, 146.0384979248047, 145.37384033203125, 142.28897094726562, 129.4850311279297, 123.37718963623047, 116.91268920898438, 113.81429290771484, 110.23826599121094, 108.54872131347656, 107.16999816894531, 99.16781616210938, 94.3328628540039, 93.39407348632812, 92.87395477294922, 92.732177734375, 92.5315170288086, 89.98717498779297, 86.55323028564453, 131.5743865966797, 116.44010925292969, 96.45770263671875, 856.1837158203125, 690.9279174804688, 650.0363159179688, 638.0349731445312, 333.4044189453125, 266.297119140625, 234.72573852539062, 233.72662353515625, 213.01515197753906, 198.57034301757812, 196.8230438232422, 175.32740783691406, 161.1348114013672, 157.25779724121094, 140.1864013671875, 136.62184143066406, 136.11398315429688, 135.5163116455078, 133.2760467529297, 130.56158447265625, 129.6801300048828, 123.843017578125, 122.13700103759766, 116.99284362792969, 115.54452514648438, 114.47518920898438, 110.08769226074219, 103.65538787841797, 102.16048431396484, 101.36504364013672, 733.7408447265625, 728.8933715820312, 722.5488891601562, 713.2623291015625, 562.3161010742188, 393.6479797363281, 295.2242431640625, 273.1162109375, 261.0475769042969, 257.8240051269531, 245.63381958007812, 209.09217834472656, 206.2828369140625, 199.37179565429688, 183.7253875732422, 175.01727294921875, 173.7607421875, 152.78244018554688, 134.4539031982422, 123.82453155517578, 119.7048110961914, 111.16182708740234, 110.15365600585938, 107.64549255371094, 97.50157165527344, 93.81499481201172, 89.80029296875, 87.47315979003906, 84.02620697021484, 83.13626861572266, 180.4755859375, 94.35787963867188, 68384.1640625, 1510.4764404296875, 1129.6668701171875, 741.5169067382812, 714.923583984375, 651.7083129882812, 638.869140625, 622.6174926757812, 621.1159057617188, 619.0676879882812, 614.0146484375, 613.087158203125, 602.7664184570312, 584.943359375, 575.1314086914062, 566.804931640625, 564.4849243164062, 556.7794799804688, 555.4038696289062, 544.87548828125, 536.9469604492188, 531.611083984375, 324.7745666503906, 316.5057067871094, 288.1484069824219, 258.67083740234375, 235.20114135742188, 214.0567169189453, 198.88751220703125, 185.61366271972656, 600.1138305664062, 749.9579467773438, 390.65789794921875, 2987.154296875, 502.7688903808594, 754.0875244140625, 503.45782470703125, 455.499755859375, 439.7104187011719, 670.1510620117188, 601.5433349609375, 576.6903686523438, 553.1222534179688, 543.65576171875, 522.7288818359375, 498.3226318359375, 496.61279296875, 489.93963623046875, 489.3772277832031, 484.41790771484375, 476.25250244140625, 475.8770446777344, 475.6598815917969, 475.6598815917969, 475.6598815917969, 324.5827331542969, 281.18060302734375, 268.9196472167969, 243.11793518066406, 215.05804443359375, 202.8537139892578, 191.1621856689453, 172.2157440185547, 160.6257781982422, 139.67062377929688, 133.67042541503906, 129.9233856201172, 128.27328491210938, 125.73583984375, 5117.69140625, 3834.532470703125, 3076.869140625, 3000.6806640625, 2875.321533203125, 2677.156494140625, 1883.4244384765625, 1792.2572021484375, 1724.09423828125, 1643.52099609375, 1589.7064208984375, 1533.1180419921875, 1503.01171875, 1471.18603515625, 1455.9937744140625, 1454.21630859375, 1406.2276611328125, 1377.8267822265625, 1208.4512939453125, 1124.3961181640625, 1095.4061279296875, 1058.2230224609375, 1018.729736328125, 1009.0036010742188, 985.7719116210938, 963.451904296875, 959.9970092773438, 863.607177734375, 834.695068359375, 805.8040161132812, 1961.1943359375, 4341.1044921875, 1248.3753662109375, 2932.0791015625, 1296.068359375, 1988.0802001953125, 1412.6439208984375, 1324.3985595703125, 1269.0028076171875, 1117.096435546875, 1200.471923828125, 2247.413330078125, 1690.0908203125, 1299.4013671875, 1035.33740234375, 748.5344848632812, 702.321044921875, 679.5462036132812, 655.402587890625, 647.5708618164062, 636.4589233398438, 629.2947387695312, 599.8788452148438, 585.3027954101562, 582.1489868164062, 578.8363037109375, 573.1612548828125, 568.1565551757812, 566.7125854492188, 566.4027709960938, 564.6798095703125, 563.7467651367188, 563.7467651367188, 562.7867431640625, 562.7867431640625, 562.9736328125, 561.8599243164062, 564.5081787109375, 558.5546875, 558.5546875, 558.409912109375, 562.4701538085938, 11418.1181640625, 2094.010498046875, 837.5939331054688, 602.18798828125, 661.0169677734375, 928.648681640625, 654.014892578125, 643.905029296875, 638.4171142578125, 618.407470703125, 618.6957397460938, 614.1837158203125, 613.254638671875, 542.9439086914062, 398.1820983886719, 373.10382080078125, 351.0087890625, 347.5550231933594, 305.6846618652344, 249.11607360839844, 241.7259063720703, 239.4352569580078, 238.20118713378906, 226.4403076171875, 192.61624145507812, 186.57594299316406, 184.96792602539062, 182.23963928222656, 172.0639190673828, 171.0598602294922, 170.33697509765625, 162.48423767089844, 149.23719787597656, 148.11923217773438, 145.48724365234375, 809.8543701171875, 281.56402587890625, 764.7764282226562, 3021.6103515625, 335.8961486816406, 445.25262451171875, 705.987060546875, 798.2277221679688, 246.21092224121094, 250.78311157226562, 287.26068115234375, 336.218994140625, 448.4234313964844, 329.0946960449219, 349.8608093261719, 270.6189270019531, 257.6763610839844, 252.33538818359375, 1832.0672607421875, 1348.6500244140625, 1304.662109375, 1285.2264404296875, 1257.11669921875, 1257.11669921875, 1124.482177734375, 942.3743286132812, 777.47900390625, 729.0123291015625, 726.8389892578125, 691.9000244140625, 554.46142578125, 549.9190673828125, 493.7888488769531, 453.3518371582031, 448.3789367675781, 362.6072692871094, 355.86248779296875, 328.9903259277344, 328.5079040527344, 291.8247375488281, 267.39398193359375, 241.0491485595703, 226.12203979492188, 221.62039184570312, 193.8479766845703, 176.8380584716797, 172.11572265625, 171.11512756347656, 261.48443603515625, 975.8875122070312, 1935.7000732421875, 336.41937255859375, 4087.490234375, 1594.786376953125, 1416.6422119140625, 886.6260375976562, 867.3016967773438, 769.1519165039062, 724.593505859375, 680.10400390625, 660.8980712890625, 611.2647094726562, 372.31597900390625, 366.7197570800781, 294.2563781738281, 293.02984619140625, 290.9702453613281, 280.7049255371094, 267.1163635253906, 233.1992950439453, 230.04110717773438, 227.0771942138672, 207.01966857910156, 191.07435607910156, 189.5221710205078, 183.7196044921875, 172.41317749023438, 170.25360107421875, 165.5252227783203, 150.39292907714844, 146.4854736328125, 142.3180389404297, 782.4644775390625, 258.66790771484375, 202.6824188232422, 336.39599609375, 633.7711181640625, 243.41122436523438, 329.2067565917969, 388.1213073730469, 340.7308654785156, 234.82693481445312, 289.9395751953125], \"Term\": [\"user\", \"url\", \"i\", \"\\u2019s\", \"toronto\", \"photo\", \"\\u2026\", \"n\\u2019t\", \"ford\", \"m\", \"wa\", \"\\u2019m\", \"get\", \"area\", \"make\", \"general\", \"ontario\", \"edt\", \"nt\", \"dispatch\", \"stn\", \"one\", \"like\", \"scarborough\", \"see\", \"are\", \"n\\u00e3o\", \"hear\", \"260319\", \"today\", \"ford\", \"purpleday\", \"news\", \"ufc\", \"event\", \"business\", \"seem\", \"group\", \"omg\", \"update\", \"liberal\", \"ufcfy\", \"tax\", \"playoff\", \"wear\", \"surprise\", \"provide\", \"luck\", \"breaking\", \"running\", \"rich\", \"11\", \"shame\", \"receive\", \"fair\", \"french\", \"\\u00e0\", \"chat\", \"hockey\", \"raise\", \"company\", \"case\", \"add\", \"are\", \"solid\", \"denis\", \"stef\", \"fact\", \"system\", \"have\", \"congrats\", \"line\", \"cute\", \"second\", \"hi\", \"details\", \"three\", \"police\", \"\\u06c1\\u06d2\", \"conference\", \"can\", \"shop\", \"not\", \"truly\", \"subway\", \"markham\", \"rip\", \"generation\", \"\\u06a9\\u06d2\", \"\\u06a9\\u06cc\", \"rule\", \"\\u0627\\u0648\\u0631\", \"content\", \"there\", \"na\", \"room\", \"eat\", \"tonguepeach\", \"gon\", \"wow\", \"sound\", \"yeah\", \"fine\", \"onpoli\", \"store\", \"ko\", \"apple\", \"education\", \"para\", \"close\", \"thinkingface\", \"haha\", \"sa\", \"mo\", \"facewithrollingeyes\", \"ng\", \"si\", \"wtf\", \"healthcare\", \"bed\", \"eh\", \"taste\", \"lack\", \"student\", \"oh\", \"user\", \"thank\", \"patient\", \"course\", \"american\", \"stupid\", \"fund\", \"council\", \"privilege\", \"fantastic\", \"mayor\", \"damage\", \"term\", \"hahaha\", \"image\", \"fully\", \"screw\", \"obamas\", \"ouch\", \"perk\", \"pooch\", \"105\", \"birthday\", \"true\", \"agree\", \"topoli\", \"meet\", \"saying\", \"able\", \"block\", \"loudlycryingface\", \"thanks\", \"yes\", \"url\", \"lol\", \"wa\", \"love\", \"great\", \"good\", \"become\", \"brother\", \"especially\", \"trumpisaliar\", \"k\", \"cap\", \"port\", \"photooftheday\", \"miller\", \"neighbour\", \"contemporary\", \"cayman\", \"photobooth\", \"photoshooting\", \"photogrid\", \"cameracameracameracameracameracameracameracameracameracameracameracameracameracamera\", \"ask\", \"community\", \"imprisonthemf\", \"impeachthemf\", \"trumpresign\", \"\\u2022\", \"meeting\", \"ur\", \"far\", \"challenge\", \"ta\", \"traitortrump\", \"reading\", \"trumpisacriminal\", \"\\u2019s\", \"n\\u2019t\", \"get\", \"make\", \"nt\", \"one\", \"do\", \"think\", \"know\", \"go\", \"really\", \"still\", \"\\u201c\", \"it\", \"\\u201d\", \"people\", \"say\", \"need\", \"give\", \"take\", \"back\", \"did\", \"end\", \"that\", \"ca\", \"lot\", \"happen\", \"left\", \"plan\", \"head\", \"would\", \"wa\", \"try\", \"like\", \"could\", \"see\", \"time\", \"ha\", \"right\", \"last\", \"amp\", \"\\u2026\", \"ontario\", \"n\\u00e3o\", \"de\", \"eu\", \"com\", \"15\", \"como\", \"os\", \"los\", \"que\", \"foldedhandsmediumdarkskintone\", \"flavour\", \"frame\", \"032619\", \"youversion\", \"cap\\u00edtulo\", \"conta\", \"pai\", \"kjv\", \"holybible\", \"verseoftheday\", \"mybiblejournal\", \"kingjamesversion\", \"sparkling\", \"filhos\", \"pushpin\", \"corinthian\", \"2corinthians105\", \"terminei\", \"shotoniphone\", \"url\", \"toronto\", \"2\", \"art\", \"amaze\", \"job\", \"grand\", \"pants\", \"nada\", \"andrew\", \"christ\", \"400\", \"relations\", \"link\", \"bio\", \"click\", \"apply\", \"2019\", \"centre\", \"opening\", \"goal\", \"latest\", \"hire\", \"eyes\", \"view\", \"air\", \"release\", \"sell\", \"behind\", \"opportunity\", \"bitch\", \"album\", \"email\", \"account\", \"retail\", \"might\", \"via\", \"today\", \"url\", \"looking\", \"canada\", \"amp\", \"toronto\", \"open\", \"mississauga\", \"check\", \"work\", \"see\", \"great\", \"like\", \"us\", \"new\", \"team\", \"photo\", \"area\", \"general\", \"edt\", \"stn\", \"dispatch\", \"scarborough\", \"260319\", \"avenue\", \"street\", \"road\", \"bw\", \"north\", \"york\", \"fire\", \"st\", \"alarm\", \"medical\", \"etobicoke\", \"west\", \"\\u2800\", \"residential\", \"east\", \"\\u0648\", \"250319\", \"weather\", \"queen\", \"downtown\", \"hurt\", \"truck\", \"drive\", \"toronto\", \"url\", \"old\", \"i\", \"m\", \"\\u2019m\", \"u\", \"sorry\", \"saw\", \"feeling\", \"lucky\", \"original\", \"crop\", \"fuck\", \"hard\", \"move\", \"w\", \"fucking\", \"different\", \"times\", \"d\", \"found\", \"all\", \"literally\", \"ai\", \"\\u2019d\", \"bro\", \"truth\", \"throw\", \"spend\", \"realize\", \"y\\u2019\", \"shot\", \"shit\", \"pretty\", \"else\", \"\\u2019ve\", \"hear\", \"n\", \"better\", \"always\", \"love\", \"start\", \"like\"], \"Total\": [68385.0, 19363.0, 4088.0, 5118.0, 3868.0, 1833.0, 2248.0, 3835.0, 1377.0, 1595.0, 5096.0, 1417.0, 3077.0, 1349.0, 3001.0, 1305.0, 1691.0, 1286.0, 2876.0, 1258.0, 1258.0, 2678.0, 3572.0, 1125.0, 2437.0, 857.0, 1300.0, 1614.0, 943.0, 1726.0, 1377.7835693359375, 641.291259765625, 471.0123291015625, 366.3904724121094, 316.70855712890625, 310.85943603515625, 266.4571533203125, 199.0320587158203, 176.0680694580078, 170.2794647216797, 154.5777587890625, 154.52597045898438, 146.9960174560547, 146.3314208984375, 143.2465057373047, 130.44256591796875, 124.33475494384766, 117.87026977539062, 114.77178955078125, 111.19581604003906, 109.50626373291016, 108.12760925292969, 100.12538146972656, 95.29043579101562, 94.35164642333984, 93.83150482177734, 93.68970489501953, 93.48907470703125, 90.94471740722656, 87.5107650756836, 172.53359985351562, 150.59840393066406, 174.0834503173828, 857.1337890625, 691.8779296875, 650.98681640625, 638.9873046875, 334.3543701171875, 267.2471008300781, 235.6757049560547, 234.67652893066406, 213.96510314941406, 199.52024841308594, 197.77294921875, 176.27732849121094, 162.08477783203125, 158.207763671875, 141.13636779785156, 137.5717010498047, 137.06396484375, 136.46621704101562, 134.2259979248047, 131.51148986816406, 130.63009643554688, 124.79303741455078, 123.08697509765625, 117.9427719116211, 116.49454498291016, 115.42503356933594, 111.03753662109375, 104.60530853271484, 103.1103286743164, 102.31498718261719, 734.7046508789062, 729.8570556640625, 723.5127563476562, 714.2260131835938, 563.2801513671875, 394.61163330078125, 296.1878662109375, 274.0799255371094, 262.01129150390625, 258.7877197265625, 246.59759521484375, 210.05592346191406, 207.24647521972656, 200.33547973632812, 184.6891326904297, 175.9810028076172, 174.72445678710938, 153.74612426757812, 135.41757202148438, 124.78814697265625, 120.6684341430664, 112.1255111694336, 111.11727142333984, 108.60917663574219, 98.46521759033203, 94.77874755859375, 90.7640380859375, 88.43683624267578, 84.98989868164062, 84.09998321533203, 300.88995361328125, 538.2129516601562, 68385.140625, 1511.4442138671875, 1130.6356201171875, 742.4849243164062, 715.8917846679688, 652.6766357421875, 639.837646484375, 623.5859375, 622.0843505859375, 620.0359497070312, 614.9832153320312, 614.0556640625, 603.7350463867188, 585.9122924804688, 576.1007080078125, 567.7742309570312, 565.4542846679688, 557.7490234375, 556.3717651367188, 545.8485107421875, 537.9241943359375, 532.630615234375, 325.7425842285156, 317.4736633300781, 289.1163635253906, 259.6387634277344, 236.16921997070312, 215.02474975585938, 199.85585021972656, 186.58169555664062, 690.6781616210938, 889.4249877929688, 590.7373046875, 19363.20703125, 929.2109375, 5096.052734375, 1894.0084228515625, 1299.2791748046875, 1490.719482421875, 671.1304321289062, 602.5228881835938, 577.6702880859375, 554.1015014648438, 544.6361083984375, 523.7095336914062, 499.30224609375, 497.5924987792969, 490.92095947265625, 490.3585205078125, 485.39801025390625, 477.2350158691406, 476.8598327636719, 476.64300537109375, 476.64300537109375, 476.64300537109375, 325.56201171875, 282.1599426269531, 269.8988037109375, 244.09710693359375, 216.03721618652344, 203.83294677734375, 192.1415557861328, 173.1950225830078, 161.60504150390625, 140.64990234375, 134.649658203125, 130.90255737304688, 129.25259399414062, 126.71502685546875, 5118.64990234375, 3835.490478515625, 3077.8271484375, 3001.638916015625, 2876.279541015625, 2678.114501953125, 1884.38232421875, 1793.2154541015625, 1725.0521240234375, 1644.4788818359375, 1590.6644287109375, 1534.0760498046875, 1503.9697265625, 1472.1439208984375, 1456.9517822265625, 1455.1741943359375, 1407.185546875, 1378.7847900390625, 1209.4093017578125, 1125.3541259765625, 1096.3641357421875, 1059.1810302734375, 1019.68798828125, 1009.961669921875, 986.72998046875, 964.4100952148438, 960.9552001953125, 864.5653686523438, 835.6534423828125, 806.7623901367188, 1977.5762939453125, 5096.052734375, 1323.2515869140625, 3572.623046875, 1392.7896728515625, 2437.352783203125, 1591.80224609375, 1598.635009765625, 1574.3826904296875, 1303.5927734375, 2559.091552734375, 2248.37744140625, 1691.054931640625, 1300.365478515625, 1036.301513671875, 749.4987182617188, 703.2852783203125, 680.5109252929688, 656.3668212890625, 648.5350952148438, 637.4231567382812, 630.2589111328125, 600.8430786132812, 586.2671508789062, 583.1156616210938, 579.8006591796875, 574.1256103515625, 569.1209716796875, 567.677001953125, 567.3671875, 565.6441650390625, 564.7111206054688, 564.7111206054688, 563.751220703125, 563.751220703125, 563.9385986328125, 562.8245239257812, 565.4793090820312, 559.5194702148438, 559.5194702148438, 559.3748779296875, 563.44287109375, 19363.20703125, 3868.849365234375, 1426.756591796875, 729.0975341796875, 1072.6951904296875, 929.605712890625, 654.978271484375, 644.8622436523438, 639.3777465820312, 619.3667602539062, 619.6605224609375, 615.1433715820312, 614.2142944335938, 543.9009399414062, 399.1390380859375, 374.060791015625, 351.96575927734375, 348.5120849609375, 306.6418151855469, 250.07308959960938, 242.6829833984375, 240.39224243164062, 239.15817260742188, 227.3973388671875, 193.57327270507812, 187.53302001953125, 185.92498779296875, 183.19671630859375, 173.02102661132812, 172.0168914794922, 171.29403686523438, 163.44134521484375, 150.19424438476562, 149.07630920410156, 146.4442138671875, 990.9788208007812, 378.48748779296875, 1726.0914306640625, 19363.20703125, 577.1715698242188, 978.4161376953125, 2559.091552734375, 3868.849365234375, 359.03662109375, 377.7903747558594, 571.80029296875, 961.5113525390625, 2437.352783203125, 1299.2791748046875, 3572.623046875, 1236.0714111328125, 1173.9501953125, 625.5828857421875, 1833.001953125, 1349.583740234375, 1305.5958251953125, 1286.16015625, 1258.0504150390625, 1258.0504150390625, 1125.416748046875, 943.30810546875, 778.4127807617188, 729.9461059570312, 727.7728271484375, 692.8338012695312, 555.3952026367188, 550.8528442382812, 494.7226257324219, 454.28564453125, 449.3126525878906, 363.5410461425781, 356.7962341308594, 329.9241027832031, 329.441650390625, 292.7584533691406, 268.3277587890625, 241.98294067382812, 227.05577087402344, 222.55418395996094, 194.7817840576172, 177.77195739746094, 173.04962158203125, 172.0493621826172, 302.3313903808594, 3868.849365234375, 19363.20703125, 661.2628173828125, 4088.4501953125, 1595.7462158203125, 1417.60205078125, 887.5858764648438, 868.2616577148438, 770.1137084960938, 725.554443359375, 681.0641479492188, 661.8583374023438, 612.2254638671875, 373.2758483886719, 367.6796569824219, 295.2162780761719, 293.9898376464844, 291.9300842285156, 281.66485595703125, 268.0762939453125, 234.1591796875, 231.00103759765625, 228.0370330810547, 207.97955322265625, 192.03424072265625, 190.48202514648438, 184.67947387695312, 173.3731231689453, 171.21351623535156, 166.4851531982422, 151.3528594970703, 147.4453125, 143.27792358398438, 946.982421875, 287.17962646484375, 229.95347595214844, 509.58294677734375, 1614.275390625, 314.8895263671875, 630.7630615234375, 1248.3250732421875, 1894.0084228515625, 560.4778442382812, 3572.623046875], \"loglift\": [30.0, 29.0, 28.0, 27.0, 26.0, 25.0, 24.0, 23.0, 22.0, 21.0, 20.0, 19.0, 18.0, 17.0, 16.0, 15.0, 14.0, 13.0, 12.0, 11.0, 10.0, 9.0, 8.0, 7.0, 6.0, 5.0, 4.0, 3.0, 2.0, 1.0, 3.2827999591827393, 3.2820000648498535, 3.2815001010894775, 3.280900001525879, 3.2804999351501465, 3.280400037765503, 3.279900074005127, 3.278700113296509, 3.27810001373291, 3.277899980545044, 3.2772998809814453, 3.2772998809814453, 3.2769999504089355, 3.2769999504089355, 3.2767999172210693, 3.27620005607605, 3.2757999897003174, 3.275399923324585, 3.2751998901367188, 3.274899959564209, 3.2748000621795654, 3.274600028991699, 3.273900032043457, 3.273400068283081, 3.2732999324798584, 3.2732999324798584, 3.2732999324798584, 3.273200035095215, 3.272900104522705, 3.2725000381469727, 3.012500047683716, 3.0262999534606934, 2.6930999755859375, 3.229099988937378, 3.228800058364868, 3.2286999225616455, 3.2286999225616455, 3.227299928665161, 3.226599931716919, 3.2262001037597656, 3.226099967956543, 3.2256999015808105, 3.225399971008301, 3.225399971008301, 3.2248001098632812, 3.224299907684326, 3.2242000102996826, 3.223400115966797, 3.223299980163574, 3.2232000827789307, 3.2232000827789307, 3.223099946975708, 3.222899913787842, 3.222899913787842, 3.222599983215332, 3.222399950027466, 3.222100019454956, 3.2219998836517334, 3.22189998626709, 3.22160005569458, 3.221100091934204, 3.220900058746338, 3.220900058746338, 3.353300094604492, 3.353300094604492, 3.353300094604492, 3.353300094604492, 3.3529000282287598, 3.3522000312805176, 3.3513998985290527, 3.351099967956543, 3.3510000705718994, 3.3508999347686768, 3.3506999015808105, 3.350100040435791, 3.3499999046325684, 3.3498001098632812, 3.349400043487549, 3.3492000102996826, 3.349100112915039, 3.348400115966797, 3.3475000858306885, 3.34689998626709, 3.34660005569458, 3.3459999561309814, 3.345900058746338, 3.3457000255584717, 3.3447999954223633, 3.344399929046631, 3.3440001010894775, 3.3436999320983887, 3.3433001041412354, 3.343100070953369, 2.8434998989105225, 1.6134999990463257, 1.5782999992370605, 1.5776000022888184, 1.5773999691009521, 1.5770000219345093, 1.5769000053405762, 1.576799988746643, 1.576799988746643, 1.57669997215271, 1.57669997215271, 1.57669997215271, 1.57669997215271, 1.57669997215271, 1.57669997215271, 1.5765999555587769, 1.5765999555587769, 1.5765999555587769, 1.5765999555587769, 1.5765000581741333, 1.5765000581741333, 1.5765000581741333, 1.5765000581741333, 1.5764000415802002, 1.5752999782562256, 1.5751999616622925, 1.5749000310897827, 1.5744999647140503, 1.5742000341415405, 1.573799967765808, 1.5734000205993652, 1.573099970817566, 1.4377000331878662, 1.4076999425888062, 1.1647000312805176, -0.290800005197525, 0.9641000032424927, -0.33239999413490295, 0.2533000111579895, 0.5300999879837036, 0.35740000009536743, 3.1368000507354736, 3.1366000175476074, 3.1366000175476074, 3.1364998817443848, 3.1364998817443848, 3.136399984359741, 3.1363000869750977, 3.1363000869750977, 3.1363000869750977, 3.1363000869750977, 3.1363000869750977, 3.136199951171875, 3.136199951171875, 3.136199951171875, 3.136199951171875, 3.136199951171875, 3.1352999210357666, 3.1347999572753906, 3.1345999240875244, 3.1342999935150146, 3.133699893951416, 3.133500099182129, 3.13319993019104, 3.1326000690460205, 3.132200002670288, 3.1312999725341797, 3.13100004196167, 3.1308000087738037, 3.13070011138916, 3.130500078201294, 1.200600028038025, 1.2005000114440918, 1.2003999948501587, 1.2003999948501587, 1.2003999948501587, 1.2003999948501587, 1.2001999616622925, 1.2001999616622925, 1.2001999616622925, 1.2001999616622925, 1.2000999450683594, 1.2000999450683594, 1.2000999450683594, 1.2000999450683594, 1.2000999450683594, 1.2000999450683594, 1.2000999450683594, 1.2000000476837158, 1.1999000310897827, 1.1999000310897827, 1.1999000310897827, 1.1998000144958496, 1.1998000144958496, 1.1998000144958496, 1.1998000144958496, 1.1996999979019165, 1.1996999979019165, 1.1995999813079834, 1.1995999813079834, 1.1994999647140503, 1.1923999786376953, 1.0404000282287598, 1.1425000429153442, 1.0032000541687012, 1.1288000345230103, 0.996999979019165, 1.0813000202178955, 1.0125000476837158, 0.9850999712944031, 1.0463000535964966, 0.4438000023365021, 2.0508999824523926, 2.050800085067749, 2.050600051879883, 2.0504000186920166, 2.049999952316284, 2.049999952316284, 2.0499000549316406, 2.0499000549316406, 2.049799919128418, 2.049799919128418, 2.049799919128418, 2.0497000217437744, 2.0497000217437744, 2.0497000217437744, 2.0497000217437744, 2.0495998859405518, 2.0495998859405518, 2.0495998859405518, 2.0495998859405518, 2.0495998859405518, 2.0495998859405518, 2.0495998859405518, 2.0495998859405518, 2.0495998859405518, 2.0495998859405518, 2.0495998859405518, 2.0495998859405518, 2.0495998859405518, 2.0495998859405518, 2.0495998859405518, 2.0495998859405518, 1.5232000350952148, 1.437399983406067, 1.5187000036239624, 1.8601000308990479, 1.567199945449829, 2.579200029373169, 2.578700065612793, 2.578700065612793, 2.578700065612793, 2.5785999298095703, 2.5785999298095703, 2.5785999298095703, 2.5785999298095703, 2.578399896621704, 2.5778000354766846, 2.5776000022888184, 2.577500104904175, 2.577399969100952, 2.5771000385284424, 2.5762999057769775, 2.576200008392334, 2.576200008392334, 2.576200008392334, 2.5759999752044678, 2.575200080871582, 2.5750999450683594, 2.575000047683716, 2.574899911880493, 2.5745999813079834, 2.5745999813079834, 2.5745999813079834, 2.5743000507354736, 2.5738000869750977, 2.573699951171875, 2.5736000537872314, 2.3782999515533447, 2.28439998626709, 1.7661999464035034, 0.722599983215332, 2.038800001144409, 1.7928999662399292, 1.2924000024795532, 1.0018999576568604, 2.202899932861328, 2.1703999042510986, 1.891800045967102, 1.5293999910354614, 0.8873000144958496, 1.2070000171661377, 0.2567000091075897, 1.0612000226974487, 1.0637999773025513, 1.6722999811172485, 2.6744000911712646, 2.6742000579833984, 2.6742000579833984, 2.6742000579833984, 2.6742000579833984, 2.6742000579833984, 2.674099922180176, 2.6738998889923096, 2.6737000942230225, 2.6735999584198, 2.6735999584198, 2.6735999584198, 2.6731998920440674, 2.6731998920440674, 2.6730000972747803, 2.672800064086914, 2.672800064086914, 2.672300100326538, 2.672300100326538, 2.672100067138672, 2.672100067138672, 2.6717000007629395, 2.6714000701904297, 2.6710000038146973, 2.670799970626831, 2.6707000732421875, 2.670099973678589, 2.669600009918213, 2.6695001125335693, 2.6695001125335693, 2.5297999382019043, 1.2975000143051147, 0.3720000088214874, 1.9990999698638916, 2.746500015258789, 2.7462000846862793, 2.7460999488830566, 2.745699882507324, 2.745699882507324, 2.745500087738037, 2.7453999519348145, 2.7453999519348145, 2.745300054550171, 2.7451999187469482, 2.7441999912261963, 2.7441000938415527, 2.743499994277954, 2.743499994277954, 2.743499994277954, 2.743299961090088, 2.7432000637054443, 2.7427000999450684, 2.7425999641418457, 2.742500066757202, 2.7421000003814697, 2.74180006980896, 2.7416999340057373, 2.7416000366210938, 2.7411999702453613, 2.7411000728607178, 2.740999937057495, 2.7404000759124756, 2.7402000427246094, 2.740000009536743, 2.5559000968933105, 2.642199993133545, 2.620500087738037, 2.3315000534057617, 1.8118000030517578, 2.489300012588501, 2.0964999198913574, 1.5785000324249268, 1.0313999652862549, 1.8767999410629272, 0.2354000061750412], \"logprob\": [30.0, 29.0, 28.0, 27.0, 26.0, 25.0, 24.0, 23.0, 22.0, 21.0, 20.0, 19.0, 18.0, 17.0, 16.0, 15.0, 14.0, 13.0, 12.0, 11.0, 10.0, 9.0, 8.0, 7.0, 6.0, 5.0, 4.0, 3.0, 2.0, 1.0, -2.9714999198913574, -3.7370998859405518, -4.046199798583984, -4.297999858856201, -4.4440999031066895, -4.462800025939941, -4.617400169372559, -4.910399913787842, -5.033599853515625, -5.067200183868408, -5.164599895477295, -5.164899826049805, -5.215199947357178, -5.219699859619141, -5.241199970245361, -5.3354997634887695, -5.383800029754639, -5.437600135803223, -5.4644999504089355, -5.496399879455566, -5.5117998123168945, -5.524600028991699, -5.602200031280518, -5.652200222015381, -5.662199974060059, -5.667799949645996, -5.669300079345703, -5.671500205993652, -5.699399948120117, -5.73829984664917, -5.319499969482422, -5.441699981689453, -5.629899978637695, -3.4999001026153564, -3.714400053024292, -3.775399923324585, -3.7939999103546143, -4.442999839782715, -4.667799949645996, -4.794000148773193, -4.7982001304626465, -4.890999794006348, -4.96120023727417, -4.970099925994873, -5.085700035095215, -5.170100212097168, -5.194499969482422, -5.3094000816345215, -5.33519983291626, -5.338900089263916, -5.343299865722656, -5.360000133514404, -5.380499839782715, -5.38730001449585, -5.4334001541137695, -5.447199821472168, -5.490300178527832, -5.502699851989746, -5.51200008392334, -5.55109977722168, -5.611299991607666, -5.625800132751465, -5.633699893951416, -3.5297999382019043, -3.536400079727173, -3.545099973678589, -3.5580999851226807, -3.7959001064300537, -4.152500152587891, -4.440199851989746, -4.51800012588501, -4.563199996948242, -4.5756001472473145, -4.624100208282471, -4.785200119018555, -4.798699855804443, -4.832799911499023, -4.9145002365112305, -4.9629998207092285, -4.970200061798096, -5.098899841308594, -5.2266998291015625, -5.309100151062012, -5.342899799346924, -5.416900157928467, -5.426000118255615, -5.449100017547607, -5.548099994659424, -5.586599826812744, -5.630300045013428, -5.656599998474121, -5.696800231933594, -5.707399845123291, -4.932300090789795, -5.5808000564575195, -0.771399974822998, -4.584099769592285, -4.874599933624268, -5.295599937438965, -5.332099914550781, -5.424699783325195, -5.4446001052856445, -5.470399856567383, -5.472799777984619, -5.476099967956543, -5.484300136566162, -5.485799789428711, -5.502799987792969, -5.532800197601318, -5.549699783325195, -5.564300060272217, -5.568399906158447, -5.582099914550781, -5.58459997177124, -5.603700160980225, -5.6184000968933105, -5.628399848937988, -6.121200084686279, -6.146999835968018, -6.240799903869629, -6.348700046539307, -6.443900108337402, -6.538099765777588, -6.611599922180176, -6.680600166320801, -5.507199764251709, -5.284299850463867, -5.936500072479248, -3.9021999835968018, -5.684199810028076, -5.278800010681152, -5.682799816131592, -5.782899856567383, -5.81820011138916, -3.8368000984191895, -3.9447999000549316, -3.986999988555908, -4.02869987487793, -4.046000003814697, -4.08519983291626, -4.1331000328063965, -4.136499881744385, -4.150000095367432, -4.151199817657471, -4.161399841308594, -4.178400039672852, -4.179100036621094, -4.179599761962891, -4.179599761962891, -4.179599761962891, -4.561800003051758, -4.7052998542785645, -4.749899864196777, -4.850800037384033, -4.973400115966797, -5.031799793243408, -5.09119987487793, -5.1956000328063965, -5.265200138092041, -5.40500020980835, -5.44890022277832, -5.477399826049805, -5.490099906921387, -5.5100998878479, -3.7414000034332275, -4.03000020980835, -4.250199794769287, -4.275199890136719, -4.31790018081665, -4.3892998695373535, -4.741000175476074, -4.790599822998047, -4.829400062561035, -4.877200126647949, -4.9105000495910645, -4.946800231933594, -4.966599941253662, -4.98799991607666, -4.9984002113342285, -4.999599933624268, -5.033199787139893, -5.053599834442139, -5.184700012207031, -5.256800174713135, -5.2829999923706055, -5.317500114440918, -5.355500221252441, -5.365099906921387, -5.388400077819824, -5.411300182342529, -5.414899826049805, -5.520699977874756, -5.554800033569336, -5.590000152587891, -4.700500011444092, -3.9059998989105225, -5.152200222015381, -4.298399925231934, -5.114799976348877, -4.6869001388549805, -5.028600215911865, -5.093100070953369, -5.135900020599365, -5.263400077819824, -5.191400051116943, -3.71370005607605, -3.998699903488159, -4.261600017547607, -4.488800048828125, -4.8130998611450195, -4.8769001960754395, -4.909800052642822, -4.946000099182129, -4.958000183105469, -4.975299835205078, -4.986700057983398, -5.0345001220703125, -5.059100151062012, -5.064499855041504, -5.070199966430664, -5.080100059509277, -5.088900089263916, -5.091400146484375, -5.0920000076293945, -5.09499979019165, -5.096700191497803, -5.096700191497803, -5.098400115966797, -5.098400115966797, -5.0980000495910645, -5.099999904632568, -5.095300197601318, -5.105899810791016, -5.105899810791016, -5.106200218200684, -5.098899841308594, -2.0882999897003174, -3.78439998626709, -4.700699806213379, -5.030700206756592, -4.9375, -4.068699836730957, -4.419300079345703, -4.434800148010254, -4.443399906158447, -4.475200176239014, -4.474800109863281, -4.482100009918213, -4.48360013961792, -4.605400085449219, -4.915500164031982, -4.980500221252441, -5.041600227355957, -5.051499843597412, -5.179800033569336, -5.384500026702881, -5.414599895477295, -5.424099922180176, -5.429299831390381, -5.479899883270264, -5.64169979095459, -5.673600196838379, -5.682199954986572, -5.6971001625061035, -5.754499912261963, -5.76039981842041, -5.764599800109863, -5.811800003051758, -5.896900177001953, -5.904399871826172, -5.922299861907959, -4.20550012588501, -5.26200008392334, -4.262800216674805, -2.8889000415802, -5.085599899291992, -4.803800106048584, -4.342800140380859, -4.21999979019165, -5.396200180053711, -5.377799987792969, -5.242000102996826, -5.08459997177124, -4.7967000007629395, -5.106100082397461, -5.044899940490723, -5.301700115203857, -5.3506999015808105, -5.371600151062012, -3.2945001125335693, -3.600800037384033, -3.634000062942505, -3.6489999294281006, -3.671099901199341, -3.671099901199341, -3.782599925994873, -3.9593000411987305, -4.151599884033203, -4.216000080108643, -4.218999862670898, -4.268199920654297, -4.489699840545654, -4.497900009155273, -4.605599880218506, -4.690999984741211, -4.702000141143799, -4.914400100708008, -4.93310022354126, -5.01170015335083, -5.0131001472473145, -5.131499767303467, -5.218999862670898, -5.322700023651123, -5.386600017547607, -5.406700134277344, -5.540599822998047, -5.632400035858154, -5.6595001220703125, -5.665299892425537, -5.241300106048584, -3.924299955368042, -3.239500045776367, -4.989299774169922, -2.420099973678589, -3.361299991607666, -3.47979998588562, -3.9484000205993652, -3.970400094985962, -4.0904998779296875, -4.150199890136719, -4.213600158691406, -4.242199897766113, -4.320300102233887, -4.816100120544434, -4.831200122833252, -5.051400184631348, -5.055500030517578, -5.062600135803223, -5.098499774932861, -5.148099899291992, -5.283899784088135, -5.297599792480469, -5.310500144958496, -5.4029998779296875, -5.4832000732421875, -5.491300106048584, -5.52239990234375, -5.585899829864502, -5.598499774932861, -5.626699924468994, -5.722599983215332, -5.748899936676025, -5.7778000831604, -4.073400020599365, -5.180300235748291, -5.424200057983398, -4.917500019073486, -4.28410005569458, -5.241099834442139, -4.9390997886657715, -4.774499893188477, -4.904699802398682, -5.2769999504089355, -5.066100120544434]}, \"token.table\": {\"Topic\": [7, 4, 1, 7, 6, 7, 9, 8, 9, 9, 7, 8, 4, 8, 1, 8, 4, 10, 8, 9, 8, 10, 4, 6, 10, 6, 7, 4, 4, 6, 7, 8, 10, 8, 3, 8, 2, 9, 7, 8, 5, 9, 6, 5, 3, 8, 4, 8, 10, 8, 4, 8, 4, 1, 10, 5, 1, 9, 6, 5, 2, 4, 6, 7, 8, 5, 7, 1, 10, 5, 8, 5, 1, 6, 7, 8, 9, 8, 8, 3, 7, 5, 7, 1, 5, 2, 2, 7, 5, 2, 7, 6, 8, 4, 4, 10, 2, 10, 4, 7, 2, 2, 6, 10, 9, 6, 9, 6, 9, 9, 3, 9, 3, 3, 5, 10, 8, 6, 5, 9, 7, 1, 8, 3, 2, 1, 4, 5, 10, 7, 3, 9, 7, 7, 1, 10, 7, 1, 10, 10, 4, 4, 9, 2, 6, 6, 6, 8, 3, 4, 6, 7, 8, 4, 6, 8, 1, 4, 6, 7, 3, 4, 6, 10, 2, 6, 3, 4, 6, 10, 2, 8, 1, 7, 9, 10, 4, 5, 5, 6, 8, 5, 7, 7, 6, 3, 3, 6, 7, 8, 6, 1, 6, 8, 10, 2, 8, 10, 4, 6, 6, 8, 7, 6, 4, 6, 4, 6, 7, 10, 1, 10, 10, 6, 2, 4, 9, 4, 5, 6, 8, 5, 7, 8, 3, 10, 7, 7, 9, 10, 3, 8, 6, 5, 6, 7, 8, 1, 3, 9, 2, 6, 7, 6, 4, 3, 4, 6, 6, 9, 1, 6, 3, 7, 7, 8, 8, 8, 10, 7, 4, 7, 8, 3, 4, 6, 4, 9, 5, 5, 5, 5, 6, 1, 2, 4, 5, 7, 10, 4, 1, 1, 7, 7, 9, 1, 5, 10, 6, 1, 8, 8, 9, 8, 1, 4, 6, 2, 9, 3, 2, 1, 3, 10, 6, 4, 9, 4, 2, 6, 8, 1, 8, 1, 6, 10, 2, 10, 7, 3, 2, 10, 3, 7, 10, 9, 4, 7, 8, 10, 2, 6, 9, 3, 9, 3, 7, 4, 2, 1, 2, 5, 6, 3, 1, 4, 6, 8, 10, 4, 7, 4, 4, 6, 6, 3, 6, 3, 2, 10, 6, 8, 10, 6, 7, 8, 3, 4, 7, 8, 9, 5, 9, 4, 2, 5, 5, 5, 10, 6, 10, 10, 1, 1, 1, 5, 4, 7, 8, 9, 4, 6, 7, 8, 4, 7, 7, 8, 8, 10, 4, 6, 1, 9, 9, 6, 8, 10, 4, 6, 3, 3, 3, 4, 6, 9, 7, 10, 1, 2, 9, 2, 2, 2, 10, 10, 6, 6, 10, 6, 6, 5, 7, 9], \"Freq\": [0.9986190795898438, 0.9988160133361816, 0.9895715117454529, 0.9992492198944092, 0.38268616795539856, 0.5873461365699768, 0.029437396675348282, 0.9985306262969971, 0.995350182056427, 0.9986132979393005, 0.9990715980529785, 0.9981412887573242, 0.9957176446914673, 0.9927801489830017, 0.5514596700668335, 0.44231659173965454, 0.9961386919021606, 0.99461430311203, 0.9971577525138855, 0.997078537940979, 0.9911812543869019, 0.995452344417572, 0.32042935490608215, 0.3676926791667938, 0.3108164668083191, 0.38314706087112427, 0.6162048578262329, 0.9987543225288391, 0.15474240481853485, 0.4689163863658905, 0.07815273106098175, 0.2758791446685791, 0.021882764995098114, 0.9977933168411255, 0.9933337569236755, 0.9972561001777649, 0.9986772537231445, 0.999567449092865, 0.825678288936615, 0.17281638085842133, 0.9982737302780151, 0.9981850385665894, 0.9987557530403137, 0.9983156323432922, 0.9915821552276611, 0.9940988421440125, 0.4740290343761444, 0.0015853813383728266, 0.5215904712677002, 0.9971462488174438, 0.9977203607559204, 0.9924455285072327, 0.9968823790550232, 0.9932754635810852, 0.9963207840919495, 0.9991321563720703, 0.9972352981567383, 0.9987965226173401, 0.9992601871490479, 0.9986509680747986, 0.9965836405754089, 0.17783844470977783, 0.1410442739725113, 0.22485320270061493, 0.45481669902801514, 0.9986451864242554, 0.9980303645133972, 0.7702605128288269, 0.21912582218647003, 0.9974121451377869, 0.9979069828987122, 0.9953792691230774, 0.9947686195373535, 0.1434067189693451, 0.2833156883716583, 0.5019235014915466, 0.06995449215173721, 0.9989340305328369, 0.9971641302108765, 0.9958537220954895, 0.9981724619865417, 0.9958890676498413, 0.9979175925254822, 0.7650683522224426, 0.2318388968706131, 0.9922374486923218, 0.9971171617507935, 0.998807430267334, 0.9971198439598083, 0.9871476292610168, 0.9990715980529785, 0.9305065870285034, 0.06892641633749008, 0.9990603923797607, 0.999346911907196, 0.9979983568191528, 0.997392475605011, 0.9950495958328247, 0.9982808232307434, 0.9987440705299377, 0.9984841346740723, 0.99330735206604, 0.9988849759101868, 0.997639536857605, 0.9991650581359863, 0.9992664456367493, 0.9956576228141785, 0.13230514526367188, 0.8632910847663879, 0.9950517416000366, 0.9982834458351135, 0.9990979433059692, 0.9962686896324158, 0.983752965927124, 0.11306634545326233, 0.88278728723526, 0.9920486807823181, 0.9993252754211426, 0.9988396763801575, 0.9977684020996094, 0.9993345737457275, 0.9977627396583557, 0.9938550591468811, 0.9899620413780212, 0.9959492683410645, 0.9856743812561035, 0.998329222202301, 0.9962560534477234, 0.9992358088493347, 0.9985350370407104, 0.9969561100006104, 0.9985393285751343, 0.9978386163711548, 0.9985968470573425, 0.999431312084198, 0.99566650390625, 0.9980867505073547, 0.9911383390426636, 0.99658203125, 0.9968140125274658, 0.9986363649368286, 0.9986908435821533, 0.9995436668395996, 0.9957547783851624, 0.9997312426567078, 0.9988347291946411, 0.9997087717056274, 0.9971857070922852, 0.9984500408172607, 0.2951594889163971, 0.6500216722488403, 0.05433617904782295, 0.9985064268112183, 0.35019418597221375, 0.3956039845943451, 0.25321733951568604, 0.9948146343231201, 0.16076214611530304, 0.8282065391540527, 0.010634072124958038, 0.9895318746566772, 0.9984429478645325, 0.9990059733390808, 0.9981514811515808, 0.9971328973770142, 0.999055027961731, 0.9917834997177124, 0.11955828964710236, 0.48752525448799133, 0.39274588227272034, 0.9927538633346558, 0.9951573014259338, 0.9896121621131897, 0.9987407326698303, 0.9939345717430115, 0.9996452927589417, 0.9980893731117249, 0.9955054521560669, 0.9966698288917542, 0.9992229342460632, 0.9993484020233154, 0.9988320469856262, 0.9986674785614014, 0.9988611936569214, 0.9993900656700134, 0.9939855337142944, 0.9869205355644226, 0.8568626642227173, 0.14268259704113007, 0.9942084550857544, 0.9993460774421692, 0.9962623715400696, 0.8206855058670044, 0.0979672372341156, 0.08117285370826721, 0.9954894185066223, 0.9983435869216919, 0.9952901601791382, 0.5413194894790649, 0.458453506231308, 0.4158208966255188, 0.5821492671966553, 0.9977673292160034, 0.9985378384590149, 0.8687114119529724, 0.13030670583248138, 0.26557430624961853, 0.4450877904891968, 0.10876403748989105, 0.18004143238067627, 0.9926167130470276, 0.9984375238418579, 0.9995324015617371, 0.9997871518135071, 0.9911690354347229, 0.9984012246131897, 0.9985117316246033, 0.995049238204956, 0.9940587878227234, 0.18163859844207764, 0.8173736929893494, 0.9981240034103394, 0.33351829648017883, 0.6643896102905273, 0.9944605827331543, 0.9958800673484802, 0.9986674785614014, 0.0952715054154396, 0.13020439445972443, 0.7716991901397705, 0.99882572889328, 0.9978451728820801, 0.9994308352470398, 0.9972295165061951, 0.4897993206977844, 0.28962045907974243, 0.21977081894874573, 0.9978507161140442, 0.989945113658905, 0.9974879026412964, 0.9961106777191162, 0.9995551109313965, 0.9989499449729919, 0.9998721480369568, 0.9986570477485657, 0.17465205490589142, 0.3790321350097656, 0.44406214356422424, 0.4899716079235077, 0.5081186890602112, 0.9939337968826294, 0.9995838403701782, 0.9975766539573669, 0.9993761777877808, 0.3119458854198456, 0.6851668953895569, 0.9957088828086853, 0.9940884113311768, 0.998703122138977, 0.9991748929023743, 0.997534453868866, 0.9975903034210205, 0.9986628890037537, 0.9944255352020264, 0.9994378089904785, 0.9991930723190308, 0.9984455108642578, 0.9994533658027649, 0.9981968998908997, 0.9986509680747986, 0.998809278011322, 0.9986509680747986, 0.9992180466651917, 0.9909013509750366, 0.9919484257698059, 0.9982818961143494, 0.9973918795585632, 0.09749995172023773, 0.9018745422363281, 0.9982569217681885, 0.9892648458480835, 0.9979864954948425, 0.9991523623466492, 0.9980025291442871, 0.9959863424301147, 0.9941633939743042, 0.990308940410614, 0.9910615682601929, 0.9995822906494141, 0.986457884311676, 0.9980230331420898, 0.9950249195098877, 0.9974092841148376, 0.9901381134986877, 0.9953768253326416, 0.19372671842575073, 0.8060302138328552, 0.9920065402984619, 0.9989380836486816, 0.9992913007736206, 0.9942134022712708, 0.9892458319664001, 0.9936841130256653, 0.9985538125038147, 0.9991574883460999, 0.9952342510223389, 0.9987411499023438, 0.9974281191825867, 0.9960917234420776, 0.8156390190124512, 0.18380597233772278, 0.9945313930511475, 0.9934675693511963, 0.9887602925300598, 0.1731816679239273, 0.8257809281349182, 0.9908661842346191, 0.9910808205604553, 0.9974392056465149, 0.9943910837173462, 0.9987310767173767, 0.9985468983650208, 0.9960598349571228, 0.9983356595039368, 0.9970859289169312, 0.9971699714660645, 0.21410302817821503, 0.21767140924930573, 0.14808791875839233, 0.4192850887775421, 0.9984548687934875, 0.9992985725402832, 0.9991650581359863, 0.9949731230735779, 0.9987038969993591, 0.5982253551483154, 0.39881691336631775, 0.9989632964134216, 0.993645191192627, 0.9889410138130188, 0.9953335523605347, 0.9951751828193665, 0.9987967014312744, 0.9883527755737305, 0.9932242035865784, 0.011189564131200314, 0.527508020401001, 0.4028243124485016, 0.057546332478523254, 0.9987825155258179, 0.997542142868042, 0.9990444779396057, 0.8432414531707764, 0.1562807410955429, 0.9990478157997131, 0.9990409016609192, 0.9993221759796143, 0.9951470494270325, 0.9923659563064575, 0.9929122924804688, 0.8876730799674988, 0.1118229329586029, 0.9959851503372192, 0.3331225514411926, 0.22362662851810455, 0.4431978464126587, 0.9977273344993591, 0.9975398182868958, 0.5412461757659912, 0.20626287162303925, 0.2522713840007782, 0.9931051135063171, 0.9939008355140686, 0.9985080361366272, 0.9951764941215515, 0.9943572282791138, 0.9980120658874512, 0.9951989054679871, 0.9920799732208252, 0.9431313276290894, 0.05592285096645355, 0.9993399381637573, 0.9962049722671509, 0.9965962171554565, 0.9924860596656799, 0.993100106716156, 0.15426163375377655, 0.5896750688552856, 0.15606918931007385, 0.09998343884944916, 0.06310314685106277, 0.5549840927124023, 0.1626119613647461, 0.21924299001693726, 0.9999833106994629, 0.9987407326698303, 0.25364115834236145, 0.7450708746910095, 0.9970384836196899, 0.9966331124305725, 0.14795765280723572, 0.8518357872962952, 0.9912981986999512, 0.9975098967552185, 0.9971990585327148, 0.52833491563797, 0.34944984316825867, 0.12064339965581894, 0.008090712130069733, 0.9916178584098816, 0.9959895014762878, 0.9952753186225891, 0.9961403012275696, 0.6618847250938416, 0.33686715364456177, 0.9984517693519592, 0.9980394244194031, 0.9901976585388184, 0.9926384091377258, 0.9892316460609436, 0.9959380030632019, 0.9906559586524963, 0.9876540303230286, 0.9958443641662598, 0.997469425201416, 0.9995753169059753, 0.9998730421066284, 0.3375309109687805, 0.6593627333641052, 0.9993551969528198, 0.9993467330932617, 0.995913565158844, 0.9993873834609985, 0.9986593723297119], \"Term\": [\"032619\", \"105\", \"11\", \"15\", \"2\", \"2\", \"2\", \"2019\", \"250319\", \"260319\", \"2corinthians105\", \"400\", \"able\", \"account\", \"add\", \"add\", \"agree\", \"ai\", \"air\", \"alarm\", \"album\", \"all\", \"always\", \"always\", \"always\", \"amaze\", \"amaze\", \"american\", \"amp\", \"amp\", \"amp\", \"amp\", \"amp\", \"andrew\", \"apple\", \"apply\", \"are\", \"area\", \"art\", \"art\", \"ask\", \"avenue\", \"back\", \"become\", \"bed\", \"behind\", \"better\", \"better\", \"better\", \"bio\", \"birthday\", \"bitch\", \"block\", \"breaking\", \"bro\", \"brother\", \"business\", \"bw\", \"ca\", \"cameracameracameracameracameracameracameracameracameracameracameracameracameracamera\", \"can\", \"canada\", \"canada\", \"canada\", \"canada\", \"cap\", \"cap\\u00edtulo\", \"case\", \"case\", \"cayman\", \"centre\", \"challenge\", \"chat\", \"check\", \"check\", \"check\", \"check\", \"christ\", \"click\", \"close\", \"com\", \"community\", \"como\", \"company\", \"company\", \"conference\", \"congrats\", \"conta\", \"contemporary\", \"content\", \"corinthian\", \"could\", \"could\", \"council\", \"course\", \"crop\", \"cute\", \"d\", \"damage\", \"de\", \"denis\", \"details\", \"did\", \"different\", \"dispatch\", \"do\", \"downtown\", \"drive\", \"drive\", \"east\", \"eat\", \"edt\", \"education\", \"eh\", \"else\", \"else\", \"email\", \"end\", \"especially\", \"etobicoke\", \"eu\", \"event\", \"eyes\", \"facewithrollingeyes\", \"fact\", \"fair\", \"fantastic\", \"far\", \"feeling\", \"filhos\", \"fine\", \"fire\", \"flavour\", \"foldedhandsmediumdarkskintone\", \"ford\", \"found\", \"frame\", \"french\", \"fuck\", \"fucking\", \"fully\", \"fund\", \"general\", \"generation\", \"get\", \"give\", \"go\", \"goal\", \"gon\", \"good\", \"good\", \"good\", \"grand\", \"great\", \"great\", \"great\", \"group\", \"ha\", \"ha\", \"ha\", \"haha\", \"hahaha\", \"happen\", \"hard\", \"have\", \"head\", \"healthcare\", \"hear\", \"hear\", \"hear\", \"hi\", \"hire\", \"hockey\", \"holybible\", \"hurt\", \"i\", \"image\", \"impeachthemf\", \"imprisonthemf\", \"it\", \"job\", \"k\", \"kingjamesversion\", \"kjv\", \"know\", \"ko\", \"lack\", \"last\", \"last\", \"latest\", \"left\", \"liberal\", \"like\", \"like\", \"like\", \"line\", \"link\", \"literally\", \"lol\", \"lol\", \"looking\", \"looking\", \"los\", \"lot\", \"loudlycryingface\", \"loudlycryingface\", \"love\", \"love\", \"love\", \"love\", \"luck\", \"lucky\", \"m\", \"make\", \"markham\", \"mayor\", \"medical\", \"meet\", \"meeting\", \"might\", \"might\", \"miller\", \"mississauga\", \"mississauga\", \"mo\", \"move\", \"mybiblejournal\", \"n\", \"n\", \"n\", \"na\", \"nada\", \"need\", \"neighbour\", \"new\", \"new\", \"new\", \"news\", \"ng\", \"north\", \"not\", \"nt\", \"n\\u00e3o\", \"n\\u2019t\", \"obamas\", \"oh\", \"oh\", \"oh\", \"old\", \"old\", \"omg\", \"one\", \"onpoli\", \"ontario\", \"open\", \"open\", \"opening\", \"opportunity\", \"original\", \"os\", \"ouch\", \"pai\", \"pants\", \"para\", \"patient\", \"people\", \"perk\", \"photo\", \"photobooth\", \"photogrid\", \"photooftheday\", \"photoshooting\", \"plan\", \"playoff\", \"police\", \"pooch\", \"port\", \"pretty\", \"pretty\", \"privilege\", \"provide\", \"purpleday\", \"pushpin\", \"que\", \"queen\", \"raise\", \"reading\", \"realize\", \"really\", \"receive\", \"relations\", \"release\", \"residential\", \"retail\", \"rich\", \"right\", \"right\", \"rip\", \"road\", \"room\", \"rule\", \"running\", \"sa\", \"saw\", \"say\", \"saying\", \"scarborough\", \"screw\", \"second\", \"see\", \"see\", \"seem\", \"sell\", \"shame\", \"shit\", \"shit\", \"shop\", \"shot\", \"shotoniphone\", \"si\", \"solid\", \"sorry\", \"sound\", \"sparkling\", \"spend\", \"st\", \"start\", \"start\", \"start\", \"start\", \"stef\", \"still\", \"stn\", \"store\", \"street\", \"student\", \"student\", \"stupid\", \"subway\", \"surprise\", \"system\", \"ta\", \"take\", \"taste\", \"tax\", \"team\", \"team\", \"team\", \"team\", \"term\", \"terminei\", \"thank\", \"thanks\", \"thanks\", \"that\", \"there\", \"think\", \"thinkingface\", \"three\", \"throw\", \"time\", \"time\", \"times\", \"today\", \"today\", \"today\", \"tonguepeach\", \"topoli\", \"toronto\", \"toronto\", \"toronto\", \"traitortrump\", \"truck\", \"true\", \"truly\", \"trumpisacriminal\", \"trumpisaliar\", \"trumpresign\", \"truth\", \"try\", \"try\", \"u\", \"ufc\", \"ufcfy\", \"update\", \"ur\", \"url\", \"url\", \"url\", \"url\", \"us\", \"us\", \"us\", \"us\", \"user\", \"verseoftheday\", \"via\", \"via\", \"view\", \"w\", \"wa\", \"wa\", \"wear\", \"weather\", \"west\", \"work\", \"work\", \"work\", \"would\", \"would\", \"wow\", \"wtf\", \"yeah\", \"yes\", \"yes\", \"york\", \"youversion\", \"y\\u2019\", \"\\u00e0\", \"\\u0627\\u0648\\u0631\", \"\\u0648\", \"\\u06a9\\u06cc\", \"\\u06a9\\u06d2\", \"\\u06c1\\u06d2\", \"\\u2019d\", \"\\u2019m\", \"\\u2019s\", \"\\u2019ve\", \"\\u2019ve\", \"\\u201c\", \"\\u201d\", \"\\u2022\", \"\\u2026\", \"\\u2800\"]}, \"R\": 30, \"lambda.step\": 0.01, \"plot.opts\": {\"xlab\": \"PC1\", \"ylab\": \"PC2\"}, \"topic.order\": [1, 2, 3, 4, 5, 6, 7, 8, 9, 10]};\n",
       "\n",
       "function LDAvis_load_lib(url, callback){\n",
       "  var s = document.createElement('script');\n",
       "  s.src = url;\n",
       "  s.async = true;\n",
       "  s.onreadystatechange = s.onload = callback;\n",
       "  s.onerror = function(){console.warn(\"failed to load library \" + url);};\n",
       "  document.getElementsByTagName(\"head\")[0].appendChild(s);\n",
       "}\n",
       "\n",
       "if(typeof(LDAvis) !== \"undefined\"){\n",
       "   // already loaded: just create the visualization\n",
       "   !function(LDAvis){\n",
       "       new LDAvis(\"#\" + \"ldavis_el5198423249243618486756710141\", ldavis_el5198423249243618486756710141_data);\n",
       "   }(LDAvis);\n",
       "}else if(typeof define === \"function\" && define.amd){\n",
       "   // require.js is available: use it to load d3/LDAvis\n",
       "   require.config({paths: {d3: \"https://cdnjs.cloudflare.com/ajax/libs/d3/3.5.5/d3.min\"}});\n",
       "   require([\"d3\"], function(d3){\n",
       "      window.d3 = d3;\n",
       "      LDAvis_load_lib(\"https://cdn.rawgit.com/bmabey/pyLDAvis/files/ldavis.v1.0.0.js\", function(){\n",
       "        new LDAvis(\"#\" + \"ldavis_el5198423249243618486756710141\", ldavis_el5198423249243618486756710141_data);\n",
       "      });\n",
       "    });\n",
       "}else{\n",
       "    // require.js not available: dynamically load d3 & LDAvis\n",
       "    LDAvis_load_lib(\"https://cdnjs.cloudflare.com/ajax/libs/d3/3.5.5/d3.min.js\", function(){\n",
       "         LDAvis_load_lib(\"https://cdn.rawgit.com/bmabey/pyLDAvis/files/ldavis.v1.0.0.js\", function(){\n",
       "                 new LDAvis(\"#\" + \"ldavis_el5198423249243618486756710141\", ldavis_el5198423249243618486756710141_data);\n",
       "            })\n",
       "         });\n",
       "}\n",
       "</script>"
      ],
      "text/plain": [
       "<IPython.core.display.HTML object>"
      ]
     },
     "execution_count": 33,
     "metadata": {},
     "output_type": "execute_result"
    }
   ],
   "source": [
    "#pyLDAvis: visualizing topics\n",
    "dictionary = gensim.corpora.Dictionary.load('dictionary.gensim')\n",
    "corpus = pickle.load(open('corpus.pkl', 'rb'))\n",
    "lda = gensim.models.ldamodel.LdaModel.load('model5.gensim')\n",
    "lda_display = pyLDAvis.gensim.prepare(lda, corpus, dictionary, sort_topics=False)\n",
    "pyLDAvis.display(lda_display)"
   ]
  },
  {
   "cell_type": "markdown",
   "metadata": {},
   "source": [
    "## Period 3"
   ]
  },
  {
   "cell_type": "code",
   "execution_count": 34,
   "metadata": {},
   "outputs": [
    {
     "data": {
      "text/plain": [
       "(153273, 25)"
      ]
     },
     "execution_count": 34,
     "metadata": {},
     "output_type": "execute_result"
    }
   ],
   "source": [
    "start_date = p3_start\n",
    "end_date = p3_end\n",
    "mask = (tweets_df['tweet_date'] > start_date) & (tweets_df['tweet_date'] < end_date)\n",
    "in_range_df = tweets_df.loc[mask]\n",
    "in_range_df.shape"
   ]
  },
  {
   "cell_type": "code",
   "execution_count": null,
   "metadata": {},
   "outputs": [],
   "source": [
    "text_data = []\n",
    "for index, row in in_range_df.iterrows():\n",
    "    tweet = row['tweet_clean']\n",
    "    tokens = tokenize(tweet)\n",
    "    text_data.append(tokens)"
   ]
  },
  {
   "cell_type": "code",
   "execution_count": null,
   "metadata": {},
   "outputs": [],
   "source": [
    "dictionary = corpora.Dictionary(text_data)\n",
    "corpus = [dictionary.doc2bow(text) for text in text_data]\n",
    "pickle.dump(corpus, open('corpus.pkl', 'wb'))\n",
    "dictionary.save('dictionary.gensim')"
   ]
  },
  {
   "cell_type": "code",
   "execution_count": null,
   "metadata": {},
   "outputs": [
    {
     "name": "stdout",
     "output_type": "stream",
     "text": [
      "(0, '0.018*\"e\" + 0.015*\"v\" + 0.014*\"true\" + 0.014*\"player\"')\n",
      "(1, '0.018*\"url\" + 0.011*\"pay\" + 0.011*\"follow\" + 0.010*\"tax\"')\n",
      "(2, '0.583*\"user\" + 0.042*\"url\" + 0.011*\"thanks\" + 0.010*\"thank\"')\n",
      "(3, '0.038*\"area\" + 0.036*\"general\" + 0.035*\"edt\" + 0.035*\"dispatch\"')\n",
      "(4, '0.088*\"i\" + 0.033*\"’m\" + 0.033*\"m\" + 0.032*\"“\"')\n",
      "(5, '0.014*\"medical\" + 0.013*\"he\" + 0.008*\"final\" + 0.008*\"و\"')\n",
      "(6, '0.129*\"url\" + 0.022*\"…\" + 0.018*\"toronto\" + 0.013*\"amp\"')\n",
      "(7, '0.033*\"de\" + 0.020*\"le\" + 0.020*\"la\" + 0.017*\"que\"')\n",
      "(8, '0.029*\"that\" + 0.023*\"s\" + 0.012*\"na\" + 0.012*\"cdnpoli\"')\n",
      "(9, '0.050*\"user\" + 0.017*\"wa\" + 0.017*\"’s\" + 0.014*\"n’t\"')\n"
     ]
    }
   ],
   "source": [
    "NUM_TOPICS=10\n",
    "ldamodel = gensim.models.ldamodel.LdaModel(corpus, \n",
    "                                           num_topics=NUM_TOPICS, \n",
    "                                           id2word=dictionary, \n",
    "                                           passes=15\n",
    "                                          )\n",
    "ldamodel.save('model5.gensim')\n",
    "topics = ldamodel.print_topics(num_words=4)\n",
    "for topic in topics:\n",
    "    print(topic)"
   ]
  },
  {
   "cell_type": "code",
   "execution_count": null,
   "metadata": {},
   "outputs": [],
   "source": [
    "#pyLDAvis: visualizing topics\n",
    "dictionary = gensim.corpora.Dictionary.load('dictionary.gensim')\n",
    "corpus = pickle.load(open('corpus.pkl', 'rb'))\n",
    "lda = gensim.models.ldamodel.LdaModel.load('model5.gensim')\n",
    "lda_display = pyLDAvis.gensim.prepare(lda, corpus, dictionary, sort_topics=False)\n",
    "pyLDAvis.display(lda_display)"
   ]
  },
  {
   "cell_type": "code",
   "execution_count": null,
   "metadata": {},
   "outputs": [],
   "source": []
  },
  {
   "cell_type": "code",
   "execution_count": null,
   "metadata": {},
   "outputs": [],
   "source": []
  }
 ],
 "metadata": {
  "kernelspec": {
   "display_name": "Python 3",
   "language": "python",
   "name": "python3"
  },
  "language_info": {
   "codemirror_mode": {
    "name": "ipython",
    "version": 3
   },
   "file_extension": ".py",
   "mimetype": "text/x-python",
   "name": "python",
   "nbconvert_exporter": "python",
   "pygments_lexer": "ipython3",
   "version": "3.7.3"
  }
 },
 "nbformat": 4,
 "nbformat_minor": 2
}
