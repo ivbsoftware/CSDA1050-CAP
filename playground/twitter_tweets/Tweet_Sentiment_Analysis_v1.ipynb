{
 "cells": [
  {
   "cell_type": "markdown",
   "metadata": {},
   "source": [
    "# Twitter Sentiment Analysis: Toronto Tweets\n",
    "By: Jennifer Johnson\n",
    "\n",
    "Exploratory Data Analysis on Twitter data filtered for Toronto Only"
   ]
  },
  {
   "cell_type": "code",
   "execution_count": 1,
   "metadata": {},
   "outputs": [],
   "source": [
    "import pandas as pd\n",
    "import re\n",
    "import spacy\n",
    "import nltk\n",
    "import string\n",
    "import ast\n",
    "import numpy as np\n",
    "import seaborn as sns\n",
    "\n",
    "import missingno as msno\n",
    "\n",
    "from datetime import datetime\n",
    "from wordcloud import WordCloud\n",
    "import matplotlib.pyplot as plt\n",
    "%matplotlib inline\n",
    "\n",
    "sns.set(style=\"whitegrid\") "
   ]
  },
  {
   "cell_type": "code",
   "execution_count": 2,
   "metadata": {},
   "outputs": [
    {
     "name": "stderr",
     "output_type": "stream",
     "text": [
      "[nltk_data] Downloading package wordnet to\n",
      "[nltk_data]     C:\\Users\\Jennifer\\AppData\\Roaming\\nltk_data...\n",
      "[nltk_data]   Package wordnet is already up-to-date!\n",
      "[nltk_data] Downloading package stopwords to\n",
      "[nltk_data]     C:\\Users\\Jennifer\\AppData\\Roaming\\nltk_data...\n",
      "[nltk_data]   Package stopwords is already up-to-date!\n",
      "[nltk_data] Downloading package punkt to\n",
      "[nltk_data]     C:\\Users\\Jennifer\\AppData\\Roaming\\nltk_data...\n",
      "[nltk_data]   Package punkt is already up-to-date!\n"
     ]
    },
    {
     "data": {
      "text/plain": [
       "True"
      ]
     },
     "execution_count": 2,
     "metadata": {},
     "output_type": "execute_result"
    }
   ],
   "source": [
    "spacy.load('en')\n",
    "nltk.download('wordnet')\n",
    "nltk.download('stopwords')\n",
    "nltk.download('punkt')"
   ]
  },
  {
   "cell_type": "code",
   "execution_count": 3,
   "metadata": {},
   "outputs": [],
   "source": [
    "from spacy.lang.en import English\n",
    "from nltk.corpus import wordnet as wn\n",
    "from nltk.stem.wordnet import WordNetLemmatizer\n",
    "from translate import Translator\n",
    "\n",
    "parser = English()\n",
    "translator = Translator(to_lang=\"English\")"
   ]
  },
  {
   "cell_type": "code",
   "execution_count": 4,
   "metadata": {},
   "outputs": [],
   "source": [
    "def get_lemma(word):\n",
    "    lemma = wn.morphy(word)\n",
    "    if lemma is None:\n",
    "        return word\n",
    "    else:\n",
    "        return lemma"
   ]
  },
  {
   "cell_type": "code",
   "execution_count": 5,
   "metadata": {},
   "outputs": [],
   "source": [
    "# Filter out stopwords\n",
    "en_stop = set(nltk.corpus.stopwords.words('english'))"
   ]
  },
  {
   "cell_type": "code",
   "execution_count": 6,
   "metadata": {},
   "outputs": [],
   "source": [
    "negations_dic = {\"isn't\":\"is not\", \"aren't\":\"are not\", \"wasn't\":\"was not\", \"weren't\":\"were not\",\n",
    "                \"haven't\":\"have not\",\"hasn't\":\"has not\",\"hadn't\":\"had not\",\"won't\":\"will not\",\n",
    "                \"wouldn't\":\"would not\", \"don't\":\"do not\", \"doesn't\":\"does not\",\"didn't\":\"did not\",\n",
    "                \"can't\":\"can not\",\"couldn't\":\"could not\",\"shouldn't\":\"should not\",\"mightn't\":\"might not\",\n",
    "                \"mustn't\":\"must not\"}\n",
    "neg_pattern = re.compile(r'\\b(' + '|'.join(negations_dic.keys()) + r')\\b')"
   ]
  },
  {
   "cell_type": "code",
   "execution_count": 7,
   "metadata": {},
   "outputs": [],
   "source": [
    "def processTweet(tweet):\n",
    "    # process the tweets\n",
    "    translator = str.maketrans('', '', string.punctuation)\n",
    "\n",
    "    #Convert to lower case\n",
    "    tweet = tweet.lower()\n",
    "    \n",
    "    #Convert www.* or https?://* to URL\n",
    "    tweet = re.sub('((www\\.[^\\s]+)|(https?://[^\\s]+))','',tweet)\n",
    "    \n",
    "    #Convert @username to AT_USER\n",
    "    tweet = re.sub('@[^\\s]+','',tweet)\n",
    "    \n",
    "    ## Add\n",
    "    # Update negations (isn't to is not)\n",
    "    tweet = neg_pattern.sub(lambda x: negations_dic[x.group()], tweet)\n",
    "    \n",
    "    # Remove all non-alpha characers\n",
    "    tweet = re.sub(\"[^a-zA-Z]\", \" \", tweet)    \n",
    "    ##\n",
    "    \n",
    "    #Remove additional white spaces\n",
    "    tweet = re.sub('[\\s]+', ' ', tweet)\n",
    "    \n",
    "    #Replace #word with word\n",
    "    tweet = re.sub(r'#([^\\s]+)', r'\\1', tweet)\n",
    "    \n",
    "    #trim\n",
    "    tweet = tweet.strip('\\'\"')\n",
    "    \n",
    "    #remove punctuation from text\n",
    "    tweet = tweet.translate(translator)    \n",
    "    \n",
    "    tweet = tweet.split()\n",
    "    tweet = [get_lemma(token) for token in tweet]\n",
    "    tweet = [token for token in tweet if token not in en_stop]\n",
    "    tweet = ' '.join(tweet)\n",
    "    return tweet"
   ]
  },
  {
   "cell_type": "code",
   "execution_count": 8,
   "metadata": {},
   "outputs": [
    {
     "data": {
      "text/plain": [
       "(299111, 24)"
      ]
     },
     "execution_count": 8,
     "metadata": {},
     "output_type": "execute_result"
    }
   ],
   "source": [
    "# Load dataframe\n",
    "tweets_df = pd.read_csv('D:/development/CSDA1050/playground/twitter_jj/twitter_tweets_new.csv')\n",
    "tweets_df = tweets_df[tweets_df['place_country']=='Canada']\n",
    "tweets_df.shape"
   ]
  },
  {
   "cell_type": "code",
   "execution_count": 9,
   "metadata": {},
   "outputs": [],
   "source": [
    "# changing tweet_text to String column (returned error about 'float')\n",
    "# when full dataset was used\n",
    "tweets_df['tweet_text'] = tweets_df['tweet_text'].astype(str)\n",
    "tweets_df['tweet_clean'] = tweets_df['tweet_text'].apply(processTweet)"
   ]
  },
  {
   "cell_type": "code",
   "execution_count": 10,
   "metadata": {},
   "outputs": [],
   "source": [
    "import pytz"
   ]
  },
  {
   "cell_type": "code",
   "execution_count": 11,
   "metadata": {},
   "outputs": [],
   "source": [
    "def getTZ(tweet_date):\n",
    "    est = pytz.timezone('US/Eastern')\n",
    "    \n",
    "    tweet_date = pd.Timestamp(tweet_date).tz_localize('UTC')\n",
    "    tweet_date = tweet_date.astimezone(est)\n",
    "    \n",
    "    return tweet_date"
   ]
  },
  {
   "cell_type": "code",
   "execution_count": 12,
   "metadata": {},
   "outputs": [],
   "source": [
    "# changing tweet_date to DateTime column\n",
    "tweets_df.tweet_date = pd.to_datetime(tweets_df['tweet_date'])\n",
    "tweets_df['tweet_date'] = tweets_df['tweet_date'].apply(getTZ)"
   ]
  },
  {
   "cell_type": "code",
   "execution_count": 13,
   "metadata": {},
   "outputs": [],
   "source": [
    "# split sentiment\n",
    "tweets_df['sentiment'] = tweets_df['sentiment'].apply(lambda x:dict(eval(x)))\n",
    "tweets_sent = tweets_df['sentiment'].apply(pd.Series)\n",
    "tweets_df = pd.concat([tweets_df, tweets_sent], axis=1).drop('sentiment', axis=1)\n",
    "tweets_df['sentiment'] = None\n",
    "tweets_df.loc[tweets_df['compound'] >= 0.05, 'sentiment'] = 'positive'\n",
    "tweets_df.loc[(tweets_df['compound'] > -0.05) & (tweets_df['compound'] < 0.05), 'sentiment'] = 'neutral'\n",
    "tweets_df.loc[tweets_df['compound'] <= -0.05, 'sentiment'] = 'negative'"
   ]
  },
  {
   "cell_type": "code",
   "execution_count": 14,
   "metadata": {
    "scrolled": true
   },
   "outputs": [
    {
     "data": {
      "text/html": [
       "<div>\n",
       "<style scoped>\n",
       "    .dataframe tbody tr th:only-of-type {\n",
       "        vertical-align: middle;\n",
       "    }\n",
       "\n",
       "    .dataframe tbody tr th {\n",
       "        vertical-align: top;\n",
       "    }\n",
       "\n",
       "    .dataframe thead th {\n",
       "        text-align: right;\n",
       "    }\n",
       "</style>\n",
       "<table border=\"1\" class=\"dataframe\">\n",
       "  <thead>\n",
       "    <tr style=\"text-align: right;\">\n",
       "      <th></th>\n",
       "      <th>emojis</th>\n",
       "      <th>hashtags</th>\n",
       "      <th>id</th>\n",
       "      <th>language</th>\n",
       "      <th>latitude</th>\n",
       "      <th>longitude</th>\n",
       "      <th>mentions</th>\n",
       "      <th>place_bbcoordinates</th>\n",
       "      <th>place_bbtype</th>\n",
       "      <th>place_country</th>\n",
       "      <th>...</th>\n",
       "      <th>tweet_date</th>\n",
       "      <th>tweet_text</th>\n",
       "      <th>user_id</th>\n",
       "      <th>user_name</th>\n",
       "      <th>tweet_clean</th>\n",
       "      <th>neg</th>\n",
       "      <th>neu</th>\n",
       "      <th>pos</th>\n",
       "      <th>compound</th>\n",
       "      <th>sentiment</th>\n",
       "    </tr>\n",
       "  </thead>\n",
       "  <tbody>\n",
       "    <tr>\n",
       "      <th>0</th>\n",
       "      <td>[':red_heart:']</td>\n",
       "      <td>NaN</td>\n",
       "      <td>1107369998148788224</td>\n",
       "      <td>en</td>\n",
       "      <td>NaN</td>\n",
       "      <td>NaN</td>\n",
       "      <td>NaN</td>\n",
       "      <td>[[[-79.583667, 43.550871], [-79.583667, 43.550...</td>\n",
       "      <td>Polygon</td>\n",
       "      <td>Canada</td>\n",
       "      <td>...</td>\n",
       "      <td>2019-03-17 15:55:56.155000-04:00</td>\n",
       "      <td>Loving the vibes :red_heart:️ https://t.co/X8v...</td>\n",
       "      <td>908049944040361984</td>\n",
       "      <td>wikki_87</td>\n",
       "      <td>love vibes red heart</td>\n",
       "      <td>0.000</td>\n",
       "      <td>0.506</td>\n",
       "      <td>0.494</td>\n",
       "      <td>0.5994</td>\n",
       "      <td>positive</td>\n",
       "    </tr>\n",
       "    <tr>\n",
       "      <th>1</th>\n",
       "      <td>[]</td>\n",
       "      <td>NaN</td>\n",
       "      <td>1107370010182324229</td>\n",
       "      <td>und</td>\n",
       "      <td>NaN</td>\n",
       "      <td>NaN</td>\n",
       "      <td>['Rosalestri', 'Cnyari']</td>\n",
       "      <td>[[[-80.248423, 43.050553], [-80.248423, 43.470...</td>\n",
       "      <td>Polygon</td>\n",
       "      <td>Canada</td>\n",
       "      <td>...</td>\n",
       "      <td>2019-03-17 15:55:59.024000-04:00</td>\n",
       "      <td>@Rosalestri @Cnyari Olé</td>\n",
       "      <td>16801721</td>\n",
       "      <td>njsh2008</td>\n",
       "      <td>ol</td>\n",
       "      <td>0.000</td>\n",
       "      <td>1.000</td>\n",
       "      <td>0.000</td>\n",
       "      <td>0.0000</td>\n",
       "      <td>neutral</td>\n",
       "    </tr>\n",
       "    <tr>\n",
       "      <th>4</th>\n",
       "      <td>[':fearful_face:', ':fearful_face:', ':flushed...</td>\n",
       "      <td>NaN</td>\n",
       "      <td>1107370005883023360</td>\n",
       "      <td>ko</td>\n",
       "      <td>NaN</td>\n",
       "      <td>NaN</td>\n",
       "      <td>['BTS_twt']</td>\n",
       "      <td>[[[-95.155898, 41.676329], [-95.155898, 56.852...</td>\n",
       "      <td>Polygon</td>\n",
       "      <td>Canada</td>\n",
       "      <td>...</td>\n",
       "      <td>2019-03-17 15:55:57.999000-04:00</td>\n",
       "      <td>@BTS_twt 김태형, 밴드에이드? :fearful_face::fearful_fa...</td>\n",
       "      <td>828139192035196928</td>\n",
       "      <td>BangtanBabeXO</td>\n",
       "      <td>fearful face fearful face wa cut hope hurt muc...</td>\n",
       "      <td>0.187</td>\n",
       "      <td>0.510</td>\n",
       "      <td>0.304</td>\n",
       "      <td>0.5330</td>\n",
       "      <td>positive</td>\n",
       "    </tr>\n",
       "    <tr>\n",
       "      <th>5</th>\n",
       "      <td>[]</td>\n",
       "      <td>NaN</td>\n",
       "      <td>1107370047134224384</td>\n",
       "      <td>en</td>\n",
       "      <td>NaN</td>\n",
       "      <td>NaN</td>\n",
       "      <td>['MazharAbbasGEO']</td>\n",
       "      <td>[[[-79.810142, 43.373074], [-79.810142, 43.737...</td>\n",
       "      <td>Polygon</td>\n",
       "      <td>Canada</td>\n",
       "      <td>...</td>\n",
       "      <td>2019-03-17 15:56:07.834000-04:00</td>\n",
       "      <td>@MazharAbbasGEO WHAT ABOUT THIS SHAMELESS http...</td>\n",
       "      <td>127687121</td>\n",
       "      <td>ZA_chaudhry</td>\n",
       "      <td>shameless</td>\n",
       "      <td>0.423</td>\n",
       "      <td>0.577</td>\n",
       "      <td>0.000</td>\n",
       "      <td>-0.5670</td>\n",
       "      <td>negative</td>\n",
       "    </tr>\n",
       "    <tr>\n",
       "      <th>6</th>\n",
       "      <td>[]</td>\n",
       "      <td>['torontocontractors', 'renovation', 'interior...</td>\n",
       "      <td>1107370085608538113</td>\n",
       "      <td>en</td>\n",
       "      <td>43.7166</td>\n",
       "      <td>-79.3407</td>\n",
       "      <td>NaN</td>\n",
       "      <td>[[[-79.639319, 43.403221], [-79.639319, 43.855...</td>\n",
       "      <td>Polygon</td>\n",
       "      <td>Canada</td>\n",
       "      <td>...</td>\n",
       "      <td>2019-03-17 15:56:17.007000-04:00</td>\n",
       "      <td>Before and after, big different....\\n.\\n.\\n.\\n...</td>\n",
       "      <td>349291874</td>\n",
       "      <td>905RENO</td>\n",
       "      <td>big different torontocontractors renovation in...</td>\n",
       "      <td>0.000</td>\n",
       "      <td>1.000</td>\n",
       "      <td>0.000</td>\n",
       "      <td>0.0000</td>\n",
       "      <td>neutral</td>\n",
       "    </tr>\n",
       "  </tbody>\n",
       "</table>\n",
       "<p>5 rows × 29 columns</p>\n",
       "</div>"
      ],
      "text/plain": [
       "                                              emojis  \\\n",
       "0                                    [':red_heart:']   \n",
       "1                                                 []   \n",
       "4  [':fearful_face:', ':fearful_face:', ':flushed...   \n",
       "5                                                 []   \n",
       "6                                                 []   \n",
       "\n",
       "                                            hashtags                   id  \\\n",
       "0                                                NaN  1107369998148788224   \n",
       "1                                                NaN  1107370010182324229   \n",
       "4                                                NaN  1107370005883023360   \n",
       "5                                                NaN  1107370047134224384   \n",
       "6  ['torontocontractors', 'renovation', 'interior...  1107370085608538113   \n",
       "\n",
       "  language  latitude  longitude                  mentions  \\\n",
       "0       en       NaN        NaN                       NaN   \n",
       "1      und       NaN        NaN  ['Rosalestri', 'Cnyari']   \n",
       "4       ko       NaN        NaN               ['BTS_twt']   \n",
       "5       en       NaN        NaN        ['MazharAbbasGEO']   \n",
       "6       en   43.7166   -79.3407                       NaN   \n",
       "\n",
       "                                 place_bbcoordinates place_bbtype  \\\n",
       "0  [[[-79.583667, 43.550871], [-79.583667, 43.550...      Polygon   \n",
       "1  [[[-80.248423, 43.050553], [-80.248423, 43.470...      Polygon   \n",
       "4  [[[-95.155898, 41.676329], [-95.155898, 56.852...      Polygon   \n",
       "5  [[[-79.810142, 43.373074], [-79.810142, 43.737...      Polygon   \n",
       "6  [[[-79.639319, 43.403221], [-79.639319, 43.855...      Polygon   \n",
       "\n",
       "  place_country  ...                       tweet_date  \\\n",
       "0        Canada  ... 2019-03-17 15:55:56.155000-04:00   \n",
       "1        Canada  ... 2019-03-17 15:55:59.024000-04:00   \n",
       "4        Canada  ... 2019-03-17 15:55:57.999000-04:00   \n",
       "5        Canada  ... 2019-03-17 15:56:07.834000-04:00   \n",
       "6        Canada  ... 2019-03-17 15:56:17.007000-04:00   \n",
       "\n",
       "                                          tweet_text             user_id  \\\n",
       "0  Loving the vibes :red_heart:️ https://t.co/X8v...  908049944040361984   \n",
       "1                            @Rosalestri @Cnyari Olé            16801721   \n",
       "4  @BTS_twt 김태형, 밴드에이드? :fearful_face::fearful_fa...  828139192035196928   \n",
       "5  @MazharAbbasGEO WHAT ABOUT THIS SHAMELESS http...           127687121   \n",
       "6  Before and after, big different....\\n.\\n.\\n.\\n...           349291874   \n",
       "\n",
       "       user_name                                        tweet_clean    neg  \\\n",
       "0       wikki_87                               love vibes red heart  0.000   \n",
       "1       njsh2008                                                 ol  0.000   \n",
       "4  BangtanBabeXO  fearful face fearful face wa cut hope hurt muc...  0.187   \n",
       "5    ZA_chaudhry                                          shameless  0.423   \n",
       "6        905RENO  big different torontocontractors renovation in...  0.000   \n",
       "\n",
       "     neu    pos compound sentiment  \n",
       "0  0.506  0.494   0.5994  positive  \n",
       "1  1.000  0.000   0.0000   neutral  \n",
       "4  0.510  0.304   0.5330  positive  \n",
       "5  0.577  0.000  -0.5670  negative  \n",
       "6  1.000  0.000   0.0000   neutral  \n",
       "\n",
       "[5 rows x 29 columns]"
      ]
     },
     "execution_count": 14,
     "metadata": {},
     "output_type": "execute_result"
    }
   ],
   "source": [
    "tweets_df.head()"
   ]
  },
  {
   "cell_type": "markdown",
   "metadata": {},
   "source": [
    "## Trend of Sentiment Over Time"
   ]
  },
  {
   "cell_type": "code",
   "execution_count": 15,
   "metadata": {},
   "outputs": [
    {
     "data": {
      "text/html": [
       "<div>\n",
       "<style scoped>\n",
       "    .dataframe tbody tr th:only-of-type {\n",
       "        vertical-align: middle;\n",
       "    }\n",
       "\n",
       "    .dataframe tbody tr th {\n",
       "        vertical-align: top;\n",
       "    }\n",
       "\n",
       "    .dataframe thead th {\n",
       "        text-align: right;\n",
       "    }\n",
       "</style>\n",
       "<table border=\"1\" class=\"dataframe\">\n",
       "  <thead>\n",
       "    <tr style=\"text-align: right;\">\n",
       "      <th></th>\n",
       "      <th>tweet_dt</th>\n",
       "      <th>sentiment</th>\n",
       "      <th>count</th>\n",
       "    </tr>\n",
       "  </thead>\n",
       "  <tbody>\n",
       "    <tr>\n",
       "      <th>0</th>\n",
       "      <td>2019-03-17 00:00:00-04:00</td>\n",
       "      <td>negative</td>\n",
       "      <td>1188</td>\n",
       "    </tr>\n",
       "    <tr>\n",
       "      <th>1</th>\n",
       "      <td>2019-03-17 00:00:00-04:00</td>\n",
       "      <td>neutral</td>\n",
       "      <td>2824</td>\n",
       "    </tr>\n",
       "    <tr>\n",
       "      <th>2</th>\n",
       "      <td>2019-03-17 00:00:00-04:00</td>\n",
       "      <td>positive</td>\n",
       "      <td>2679</td>\n",
       "    </tr>\n",
       "    <tr>\n",
       "      <th>3</th>\n",
       "      <td>2019-03-18 00:00:00-04:00</td>\n",
       "      <td>negative</td>\n",
       "      <td>1796</td>\n",
       "    </tr>\n",
       "    <tr>\n",
       "      <th>4</th>\n",
       "      <td>2019-03-18 00:00:00-04:00</td>\n",
       "      <td>neutral</td>\n",
       "      <td>3630</td>\n",
       "    </tr>\n",
       "  </tbody>\n",
       "</table>\n",
       "</div>"
      ],
      "text/plain": [
       "                   tweet_dt sentiment  count\n",
       "0 2019-03-17 00:00:00-04:00  negative   1188\n",
       "1 2019-03-17 00:00:00-04:00   neutral   2824\n",
       "2 2019-03-17 00:00:00-04:00  positive   2679\n",
       "3 2019-03-18 00:00:00-04:00  negative   1796\n",
       "4 2019-03-18 00:00:00-04:00   neutral   3630"
      ]
     },
     "execution_count": 15,
     "metadata": {},
     "output_type": "execute_result"
    }
   ],
   "source": [
    "tweets_df['tweet_dt']= tweets_df['tweet_date'].dt.normalize()\n",
    "# Number of Tweets by Day and Sentiment\n",
    "tweets_day = tweets_df.groupby(['tweet_dt', 'sentiment'])['id'].count().reset_index(name='count')\n",
    "tweets_day.head()"
   ]
  },
  {
   "cell_type": "code",
   "execution_count": 38,
   "metadata": {},
   "outputs": [
    {
     "data": {
      "image/png": "[encoded data removed]",
      "text/plain": [
       "<Figure size 504x360 with 3 Axes>"
      ]
     },
     "metadata": {
      "needs_background": "light"
     },
     "output_type": "display_data"
    }
   ],
   "source": [
    "f, (ax1, ax2, ax3) =  plt.subplots(3, 1, figsize=(7, 5), sharex=True)\n",
    "sns.barplot(x='tweet_dt', y='count', palette='deep', ax=ax1, \n",
    "            data=tweets_day[tweets_day.sentiment=='negative'])\n",
    "ax1.axhline(0, color=\"k\", clip_on=False)\n",
    "ax1.set_ylabel(\"Negative\")\n",
    "ax1.axes.set_title(\"Tweets by Date and Sentiment\")\n",
    "\n",
    "sns.barplot(x='tweet_dt', y='count', palette='deep', ax=ax2, \n",
    "            data=tweets_day[tweets_day.sentiment=='neutral'])\n",
    "ax2.axhline(0, color=\"k\", clip_on=False)\n",
    "ax2.set_ylabel(\"Neutral\")\n",
    "\n",
    "sns.barplot(x='tweet_dt', y='count', palette='deep', ax=ax3, \n",
    "            data=tweets_day[tweets_day.sentiment=='positive'])\n",
    "ax3.axhline(0, color=\"k\", clip_on=False)\n",
    "ax3.set_ylabel(\"Positive\")\n",
    "\n",
    "x_dates = tweets_df['tweet_dt'].dt.strftime('%Y-%m-%d').sort_values().unique()\n",
    "ax3.set_xticklabels(labels=x_dates, rotation=45, ha='right')\n",
    "\n",
    "sns.despine(bottom=True)\n",
    "plt.setp(f.axes, yticks=[0, 2000, 4000, 6000, 8000])\n",
    "plt.tight_layout(h_pad=2)"
   ]
  },
  {
   "cell_type": "code",
   "execution_count": 39,
   "metadata": {
    "scrolled": true
   },
   "outputs": [
    {
     "data": {
      "text/html": [
       "<div>\n",
       "<style scoped>\n",
       "    .dataframe tbody tr th:only-of-type {\n",
       "        vertical-align: middle;\n",
       "    }\n",
       "\n",
       "    .dataframe tbody tr th {\n",
       "        vertical-align: top;\n",
       "    }\n",
       "\n",
       "    .dataframe thead th {\n",
       "        text-align: right;\n",
       "    }\n",
       "</style>\n",
       "<table border=\"1\" class=\"dataframe\">\n",
       "  <thead>\n",
       "    <tr style=\"text-align: right;\">\n",
       "      <th></th>\n",
       "      <th>tweet_hour</th>\n",
       "      <th>sentiment</th>\n",
       "      <th>count</th>\n",
       "    </tr>\n",
       "  </thead>\n",
       "  <tbody>\n",
       "    <tr>\n",
       "      <th>0</th>\n",
       "      <td>0</td>\n",
       "      <td>negative</td>\n",
       "      <td>1904</td>\n",
       "    </tr>\n",
       "    <tr>\n",
       "      <th>1</th>\n",
       "      <td>0</td>\n",
       "      <td>neutral</td>\n",
       "      <td>4218</td>\n",
       "    </tr>\n",
       "    <tr>\n",
       "      <th>2</th>\n",
       "      <td>0</td>\n",
       "      <td>positive</td>\n",
       "      <td>3427</td>\n",
       "    </tr>\n",
       "    <tr>\n",
       "      <th>3</th>\n",
       "      <td>1</td>\n",
       "      <td>negative</td>\n",
       "      <td>1246</td>\n",
       "    </tr>\n",
       "    <tr>\n",
       "      <th>4</th>\n",
       "      <td>1</td>\n",
       "      <td>neutral</td>\n",
       "      <td>2661</td>\n",
       "    </tr>\n",
       "  </tbody>\n",
       "</table>\n",
       "</div>"
      ],
      "text/plain": [
       "   tweet_hour sentiment  count\n",
       "0           0  negative   1904\n",
       "1           0   neutral   4218\n",
       "2           0  positive   3427\n",
       "3           1  negative   1246\n",
       "4           1   neutral   2661"
      ]
     },
     "execution_count": 39,
     "metadata": {},
     "output_type": "execute_result"
    }
   ],
   "source": [
    "tweets_df['tweet_hour']= tweets_df.tweet_date.dt.hour\n",
    "# Number of Tweets by Time of Day and Sentiment\n",
    "tweets_tod = tweets_df.groupby(['tweet_hour', 'sentiment'])['id'].count().reset_index(name='count')\n",
    "tweets_tod.head()"
   ]
  },
  {
   "cell_type": "code",
   "execution_count": 41,
   "metadata": {
    "scrolled": true
   },
   "outputs": [
    {
     "data": {
      "image/png": "[encoded data removed]",
      "text/plain": [
       "<Figure size 504x360 with 3 Axes>"
      ]
     },
     "metadata": {
      "needs_background": "light"
     },
     "output_type": "display_data"
    }
   ],
   "source": [
    "f, (ax1, ax2, ax3) =  plt.subplots(3, 1, figsize=(7, 5), sharex=True)\n",
    "sns.barplot(x='tweet_hour', y='count', palette='deep', ax=ax1, \n",
    "            data=tweets_tod[tweets_tod.sentiment=='negative'])\n",
    "ax1.axhline(0, color=\"k\", clip_on=False)\n",
    "ax1.set_ylabel(\"Negative\")\n",
    "ax1.axes.set_title(\"Tweets by Time of Day and Sentiment\")\n",
    "\n",
    "sns.barplot(x='tweet_hour', y='count', palette='deep', ax=ax2, \n",
    "            data=tweets_tod[tweets_tod.sentiment=='neutral'])\n",
    "ax2.axhline(0, color=\"k\", clip_on=False)\n",
    "ax2.set_ylabel(\"Neutral\")\n",
    "\n",
    "sns.barplot(x='tweet_hour', y='count', palette='deep', ax=ax3, \n",
    "            data=tweets_tod[tweets_tod.sentiment=='positive'])\n",
    "ax3.axhline(0, color=\"k\", clip_on=False)\n",
    "ax3.set_ylabel(\"Positive\")\n",
    "\n",
    "\n",
    "#ax3.set_xticklabels()\n",
    "\n",
    "sns.despine(bottom=True)\n",
    "plt.setp(f.axes, yticks=[0, 2000, 4000, 6000, 8000])\n",
    "plt.tight_layout(h_pad=2)"
   ]
  },
  {
   "cell_type": "code",
   "execution_count": 53,
   "metadata": {},
   "outputs": [
    {
     "data": {
      "text/plain": [
       "<matplotlib.axes._subplots.AxesSubplot at 0x23cc99e5ba8>"
      ]
     },
     "execution_count": 53,
     "metadata": {},
     "output_type": "execute_result"
    },
    {
     "data": {
      "image/png": "[encoded data removed]",
      "text/plain": [
       "<Figure size 432x288 with 1 Axes>"
      ]
     },
     "metadata": {
      "needs_background": "light"
     },
     "output_type": "display_data"
    }
   ],
   "source": [
    "sns.lineplot(x='tweet_hour', y='count', hue='sentiment',\n",
    "             palette='muted', data=tweets_tod)\n"
   ]
  },
  {
   "cell_type": "code",
   "execution_count": 43,
   "metadata": {
    "scrolled": true
   },
   "outputs": [
    {
     "data": {
      "text/html": [
       "<div>\n",
       "<style scoped>\n",
       "    .dataframe tbody tr th:only-of-type {\n",
       "        vertical-align: middle;\n",
       "    }\n",
       "\n",
       "    .dataframe tbody tr th {\n",
       "        vertical-align: top;\n",
       "    }\n",
       "\n",
       "    .dataframe thead th {\n",
       "        text-align: right;\n",
       "    }\n",
       "</style>\n",
       "<table border=\"1\" class=\"dataframe\">\n",
       "  <thead>\n",
       "    <tr style=\"text-align: right;\">\n",
       "      <th></th>\n",
       "      <th>tweet_dow</th>\n",
       "      <th>sentiment</th>\n",
       "      <th>count</th>\n",
       "    </tr>\n",
       "  </thead>\n",
       "  <tbody>\n",
       "    <tr>\n",
       "      <th>0</th>\n",
       "      <td>0</td>\n",
       "      <td>negative</td>\n",
       "      <td>11093</td>\n",
       "    </tr>\n",
       "    <tr>\n",
       "      <th>1</th>\n",
       "      <td>0</td>\n",
       "      <td>neutral</td>\n",
       "      <td>23948</td>\n",
       "    </tr>\n",
       "    <tr>\n",
       "      <th>2</th>\n",
       "      <td>0</td>\n",
       "      <td>positive</td>\n",
       "      <td>23811</td>\n",
       "    </tr>\n",
       "    <tr>\n",
       "      <th>3</th>\n",
       "      <td>1</td>\n",
       "      <td>negative</td>\n",
       "      <td>12334</td>\n",
       "    </tr>\n",
       "    <tr>\n",
       "      <th>4</th>\n",
       "      <td>1</td>\n",
       "      <td>neutral</td>\n",
       "      <td>27391</td>\n",
       "    </tr>\n",
       "  </tbody>\n",
       "</table>\n",
       "</div>"
      ],
      "text/plain": [
       "   tweet_dow sentiment  count\n",
       "0          0  negative  11093\n",
       "1          0   neutral  23948\n",
       "2          0  positive  23811\n",
       "3          1  negative  12334\n",
       "4          1   neutral  27391"
      ]
     },
     "execution_count": 43,
     "metadata": {},
     "output_type": "execute_result"
    }
   ],
   "source": [
    "tweets_df['tweet_dow']= pd.to_datetime(tweets_df['tweet_date']).dt.dayofweek\n",
    "# Number of Tweets by Day of Week and Sentiment\n",
    "tweets_dow = tweets_df.groupby(['tweet_dow', 'sentiment'])['id'].count().reset_index(name='count')\n",
    "tweets_dow.head()"
   ]
  },
  {
   "cell_type": "code",
   "execution_count": 51,
   "metadata": {
    "scrolled": true
   },
   "outputs": [
    {
     "data": {
      "text/plain": [
       "<seaborn.axisgrid.FacetGrid at 0x23cc9dd5438>"
      ]
     },
     "execution_count": 51,
     "metadata": {},
     "output_type": "execute_result"
    },
    {
     "data": {
      "image/png": "[encoded data removed]",
      "text/plain": [
       "<Figure size 441.35x360 with 1 Axes>"
      ]
     },
     "metadata": {
      "needs_background": "light"
     },
     "output_type": "display_data"
    }
   ],
   "source": [
    "#f, (ax1, ax2, ax3) =  plt.subplots(3, 1, figsize=(7, 5), sharex=True)\n",
    "#lt.figure(figsize=(16,10))\n",
    "g = sns.catplot(x='tweet_dow', y='count', hue='sentiment', \n",
    "            palette='muted', data=tweets_dow, kind='bar')\n",
    "\n",
    "g.despine(left=True)\n",
    "g.set_ylabels('Tweets')\n",
    "g.set_xlabels('Days of Week')\n"
   ]
  },
  {
   "cell_type": "code",
   "execution_count": 66,
   "metadata": {
    "scrolled": true
   },
   "outputs": [
    {
     "name": "stderr",
     "output_type": "stream",
     "text": [
      "C:\\ProgramData\\Anaconda3\\lib\\site-packages\\ipykernel_launcher.py:3: SettingWithCopyWarning: \n",
      "A value is trying to be set on a copy of a slice from a DataFrame.\n",
      "Try using .loc[row_indexer,col_indexer] = value instead\n",
      "\n",
      "See the caveats in the documentation: http://pandas.pydata.org/pandas-docs/stable/indexing.html#indexing-view-versus-copy\n",
      "  This is separate from the ipykernel package so we can avoid doing imports until\n",
      "C:\\ProgramData\\Anaconda3\\lib\\site-packages\\ipykernel_launcher.py:4: SettingWithCopyWarning: \n",
      "A value is trying to be set on a copy of a slice from a DataFrame.\n",
      "Try using .loc[row_indexer,col_indexer] = value instead\n",
      "\n",
      "See the caveats in the documentation: http://pandas.pydata.org/pandas-docs/stable/indexing.html#indexing-view-versus-copy\n",
      "  after removing the cwd from sys.path.\n"
     ]
    },
    {
     "data": {
      "text/html": [
       "<div>\n",
       "<style scoped>\n",
       "    .dataframe tbody tr th:only-of-type {\n",
       "        vertical-align: middle;\n",
       "    }\n",
       "\n",
       "    .dataframe tbody tr th {\n",
       "        vertical-align: top;\n",
       "    }\n",
       "\n",
       "    .dataframe thead th {\n",
       "        text-align: right;\n",
       "    }\n",
       "</style>\n",
       "<table border=\"1\" class=\"dataframe\">\n",
       "  <thead>\n",
       "    <tr style=\"text-align: right;\">\n",
       "      <th></th>\n",
       "      <th>Word</th>\n",
       "      <th>Frequency</th>\n",
       "    </tr>\n",
       "  </thead>\n",
       "  <tbody>\n",
       "    <tr>\n",
       "      <th>1</th>\n",
       "      <td>toronto</td>\n",
       "      <td>3233</td>\n",
       "    </tr>\n",
       "    <tr>\n",
       "      <th>2</th>\n",
       "      <td>mississauga</td>\n",
       "      <td>698</td>\n",
       "    </tr>\n",
       "    <tr>\n",
       "      <th>3</th>\n",
       "      <td>ufc</td>\n",
       "      <td>689</td>\n",
       "    </tr>\n",
       "    <tr>\n",
       "      <th>4</th>\n",
       "      <td>cdnpoli</td>\n",
       "      <td>638</td>\n",
       "    </tr>\n",
       "    <tr>\n",
       "      <th>5</th>\n",
       "      <td>onpoli</td>\n",
       "      <td>575</td>\n",
       "    </tr>\n",
       "  </tbody>\n",
       "</table>\n",
       "</div>"
      ],
      "text/plain": [
       "          Word  Frequency\n",
       "1      toronto       3233\n",
       "2  mississauga        698\n",
       "3          ufc        689\n",
       "4      cdnpoli        638\n",
       "5       onpoli        575"
      ]
     },
     "execution_count": 66,
     "metadata": {},
     "output_type": "execute_result"
    }
   ],
   "source": [
    "all_tweets = tweets_df[tweets_df.hashtags.notnull()]\n",
    "\n",
    "all_tweets['hashtags'] = all_tweets['hashtags'].apply(ast.literal_eval)\n",
    "all_tweets['hash'] = all_tweets['hashtags'].apply(', '.join).str.lower()\n",
    "hash_words = ', '.join([text for text in all_tweets['hash']])\n",
    "words = nltk.tokenize.word_tokenize(hash_words)\n",
    "word_dist = nltk.FreqDist(words)\n",
    "\n",
    "ah = pd.DataFrame(word_dist.most_common(20), columns=['Word', 'Frequency'])\n",
    "ah = ah[ah['Word'].str.len() > 1]\n",
    "ah.head()"
   ]
  },
  {
   "cell_type": "code",
   "execution_count": 65,
   "metadata": {},
   "outputs": [
    {
     "name": "stderr",
     "output_type": "stream",
     "text": [
      "C:\\ProgramData\\Anaconda3\\lib\\site-packages\\ipykernel_launcher.py:2: UserWarning: Boolean Series key will be reindexed to match DataFrame index.\n",
      "  \n"
     ]
    },
    {
     "data": {
      "text/html": [
       "<div>\n",
       "<style scoped>\n",
       "    .dataframe tbody tr th:only-of-type {\n",
       "        vertical-align: middle;\n",
       "    }\n",
       "\n",
       "    .dataframe tbody tr th {\n",
       "        vertical-align: top;\n",
       "    }\n",
       "\n",
       "    .dataframe thead th {\n",
       "        text-align: right;\n",
       "    }\n",
       "</style>\n",
       "<table border=\"1\" class=\"dataframe\">\n",
       "  <thead>\n",
       "    <tr style=\"text-align: right;\">\n",
       "      <th></th>\n",
       "      <th>Word</th>\n",
       "      <th>Frequency</th>\n",
       "    </tr>\n",
       "  </thead>\n",
       "  <tbody>\n",
       "    <tr>\n",
       "      <th>1</th>\n",
       "      <td>cdnpoli</td>\n",
       "      <td>191</td>\n",
       "    </tr>\n",
       "    <tr>\n",
       "      <th>2</th>\n",
       "      <td>toronto</td>\n",
       "      <td>159</td>\n",
       "    </tr>\n",
       "    <tr>\n",
       "      <th>3</th>\n",
       "      <td>ufc</td>\n",
       "      <td>153</td>\n",
       "    </tr>\n",
       "    <tr>\n",
       "      <th>4</th>\n",
       "      <td>onpoli</td>\n",
       "      <td>126</td>\n",
       "    </tr>\n",
       "    <tr>\n",
       "      <th>5</th>\n",
       "      <td>news</td>\n",
       "      <td>83</td>\n",
       "    </tr>\n",
       "  </tbody>\n",
       "</table>\n",
       "</div>"
      ],
      "text/plain": [
       "      Word  Frequency\n",
       "1  cdnpoli        191\n",
       "2  toronto        159\n",
       "3      ufc        153\n",
       "4   onpoli        126\n",
       "5     news         83"
      ]
     },
     "execution_count": 65,
     "metadata": {},
     "output_type": "execute_result"
    }
   ],
   "source": [
    "neg_tweets = tweets_df[tweets_df.hashtags.notnull()]\n",
    "neg_tweets = neg_tweets[tweets_df.sentiment == 'negative']\n",
    "\n",
    "neg_tweets['hashtags'] = neg_tweets['hashtags'].apply(ast.literal_eval)\n",
    "neg_tweets['hash'] = neg_tweets['hashtags'].apply(', '.join).str.lower()\n",
    "hash_words = ', '.join([text for text in neg_tweets['hash']])\n",
    "words = nltk.tokenize.word_tokenize(hash_words)\n",
    "word_dist = nltk.FreqDist(words)\n",
    "\n",
    "neg = pd.DataFrame(word_dist.most_common(20), columns=['Word', 'Frequency'])\n",
    "neg = neg[neg['Word'].str.len() > 1]\n",
    "neg.head()"
   ]
  },
  {
   "cell_type": "code",
   "execution_count": 64,
   "metadata": {},
   "outputs": [
    {
     "name": "stderr",
     "output_type": "stream",
     "text": [
      "C:\\ProgramData\\Anaconda3\\lib\\site-packages\\ipykernel_launcher.py:2: UserWarning: Boolean Series key will be reindexed to match DataFrame index.\n",
      "  \n"
     ]
    },
    {
     "data": {
      "text/html": [
       "<div>\n",
       "<style scoped>\n",
       "    .dataframe tbody tr th:only-of-type {\n",
       "        vertical-align: middle;\n",
       "    }\n",
       "\n",
       "    .dataframe tbody tr th {\n",
       "        vertical-align: top;\n",
       "    }\n",
       "\n",
       "    .dataframe thead th {\n",
       "        text-align: right;\n",
       "    }\n",
       "</style>\n",
       "<table border=\"1\" class=\"dataframe\">\n",
       "  <thead>\n",
       "    <tr style=\"text-align: right;\">\n",
       "      <th></th>\n",
       "      <th>Word</th>\n",
       "      <th>Frequency</th>\n",
       "    </tr>\n",
       "  </thead>\n",
       "  <tbody>\n",
       "    <tr>\n",
       "      <th>1</th>\n",
       "      <td>toronto</td>\n",
       "      <td>1405</td>\n",
       "    </tr>\n",
       "    <tr>\n",
       "      <th>2</th>\n",
       "      <td>mississauga</td>\n",
       "      <td>432</td>\n",
       "    </tr>\n",
       "    <tr>\n",
       "      <th>3</th>\n",
       "      <td>hamont</td>\n",
       "      <td>264</td>\n",
       "    </tr>\n",
       "    <tr>\n",
       "      <th>4</th>\n",
       "      <td>aera19</td>\n",
       "      <td>239</td>\n",
       "    </tr>\n",
       "    <tr>\n",
       "      <th>5</th>\n",
       "      <td>ufc</td>\n",
       "      <td>210</td>\n",
       "    </tr>\n",
       "  </tbody>\n",
       "</table>\n",
       "</div>"
      ],
      "text/plain": [
       "          Word  Frequency\n",
       "1      toronto       1405\n",
       "2  mississauga        432\n",
       "3       hamont        264\n",
       "4       aera19        239\n",
       "5          ufc        210"
      ]
     },
     "execution_count": 64,
     "metadata": {},
     "output_type": "execute_result"
    }
   ],
   "source": [
    "pos_tweets = tweets_df[tweets_df.hashtags.notnull()]\n",
    "pos_tweets = pos_tweets[tweets_df.sentiment == 'positive']\n",
    "\n",
    "pos_tweets['hashtags'] = pos_tweets['hashtags'].apply(ast.literal_eval)\n",
    "pos_tweets['hash'] = pos_tweets['hashtags'].apply(', '.join).str.lower()\n",
    "hash_words = ', '.join([text for text in pos_tweets['hash']])\n",
    "words = nltk.tokenize.word_tokenize(hash_words)\n",
    "word_dist = nltk.FreqDist(words)\n",
    "\n",
    "pos = pd.DataFrame(word_dist.most_common(20), columns=['Word', 'Frequency'])\n",
    "pos = pos[pos['Word'].str.len() > 1]\n",
    "pos.head()"
   ]
  },
  {
   "cell_type": "code",
   "execution_count": 74,
   "metadata": {
    "scrolled": true
   },
   "outputs": [
    {
     "data": {
      "image/png": "[encoded data removed]",
      "text/plain": [
       "<Figure size 432x432 with 1 Axes>"
      ]
     },
     "metadata": {
      "needs_background": "light"
     },
     "output_type": "display_data"
    }
   ],
   "source": [
    "f, ax = plt.subplots(figsize=(6, 6))\n",
    "\n",
    "# Plot the total hashtags\n",
    "sns.set_color_codes(\"pastel\")\n",
    "sns.barplot(x=\"Frequency\", y=\"Word\", data=ah, label=\"Total\", color=\"b\")\n",
    "\n",
    "# Plot the positive hashtags\n",
    "sns.set_color_codes(\"muted\")\n",
    "sns.barplot(x=\"Frequency\", y=\"Word\", data=pos,\n",
    "            label=\"Positive\", color=\"b\")\n",
    "\n",
    "# Add a legend and informative axis label\n",
    "ax.legend(ncol=2, loc=\"lower right\", frameon=True)\n",
    "ax.set(xlim=(0, 3500), ylabel=\"\",\n",
    "       xlabel=\"Hashtags with Positive Sentiment over Total\")\n",
    "sns.despine(left=True, bottom=True)"
   ]
  },
  {
   "cell_type": "code",
   "execution_count": 80,
   "metadata": {},
   "outputs": [
    {
     "data": {
      "image/png": "[encoded data removed]",
      "text/plain": [
       "<Figure size 432x432 with 1 Axes>"
      ]
     },
     "metadata": {
      "needs_background": "light"
     },
     "output_type": "display_data"
    }
   ],
   "source": [
    "f, ax = plt.subplots(figsize=(6, 6))\n",
    "\n",
    "# Plot the total hashtags\n",
    "sns.set_color_codes(\"pastel\")\n",
    "sns.barplot(x=\"Frequency\", y=\"Word\", data=ah, label=\"Total\", color=\"b\")\n",
    "\n",
    "# Plot the positive hashtags\n",
    "sns.set_color_codes(\"deep\")\n",
    "sns.barplot(x=\"Frequency\", y=\"Word\", data=neg,\n",
    "            label=\"Negative\", color=\"r\")\n",
    "\n",
    "# Add a legend and informative axis label\n",
    "ax.legend(ncol=2, loc=\"lower right\", frameon=True)\n",
    "ax.set(xlim=(0, 3500), ylabel=\"\",\n",
    "       xlabel=\"Hashtags with Negative Sentiment over Total\")\n",
    "sns.despine(left=True, bottom=True)"
   ]
  },
  {
   "cell_type": "code",
   "execution_count": 84,
   "metadata": {},
   "outputs": [
    {
     "data": {
      "text/html": [
       "<div>\n",
       "<style scoped>\n",
       "    .dataframe tbody tr th:only-of-type {\n",
       "        vertical-align: middle;\n",
       "    }\n",
       "\n",
       "    .dataframe tbody tr th {\n",
       "        vertical-align: top;\n",
       "    }\n",
       "\n",
       "    .dataframe thead th {\n",
       "        text-align: right;\n",
       "    }\n",
       "</style>\n",
       "<table border=\"1\" class=\"dataframe\">\n",
       "  <thead>\n",
       "    <tr style=\"text-align: right;\">\n",
       "      <th></th>\n",
       "      <th>Word</th>\n",
       "      <th>Frequency</th>\n",
       "    </tr>\n",
       "  </thead>\n",
       "  <tbody>\n",
       "    <tr>\n",
       "      <th>1</th>\n",
       "      <td>face_with_tears_of_joy</td>\n",
       "      <td>13559</td>\n",
       "    </tr>\n",
       "    <tr>\n",
       "      <th>2</th>\n",
       "      <td>loudly_crying_face</td>\n",
       "      <td>5869</td>\n",
       "    </tr>\n",
       "    <tr>\n",
       "      <th>3</th>\n",
       "      <td>red_heart</td>\n",
       "      <td>5707</td>\n",
       "    </tr>\n",
       "    <tr>\n",
       "      <th>4</th>\n",
       "      <td>rolling_on_the_floor_laughing</td>\n",
       "      <td>4849</td>\n",
       "    </tr>\n",
       "    <tr>\n",
       "      <th>5</th>\n",
       "      <td>fire</td>\n",
       "      <td>4368</td>\n",
       "    </tr>\n",
       "  </tbody>\n",
       "</table>\n",
       "</div>"
      ],
      "text/plain": [
       "                            Word  Frequency\n",
       "1         face_with_tears_of_joy      13559\n",
       "2             loudly_crying_face       5869\n",
       "3                      red_heart       5707\n",
       "4  rolling_on_the_floor_laughing       4849\n",
       "5                           fire       4368"
      ]
     },
     "execution_count": 84,
     "metadata": {},
     "output_type": "execute_result"
    }
   ],
   "source": [
    "# Filter for tweets with emojis\n",
    "#tweets_df['emojis'] = tweets_df['emojis'].apply(ast.literal_eval)\n",
    "tweets_df['emo'] = tweets_df['emojis'].apply(', '.join).str.lower()\n",
    "emoji_words = ', '.join([text for text in tweets_df['emo']])\n",
    "tweets_df['emo'] = tweets_df['emo'].str.replace(\":,\", \"\").str.strip()\n",
    "\n",
    "a = tweets_df['emo'].str.lower().str.cat(sep=' ')\n",
    "words = nltk.tokenize.word_tokenize(a)\n",
    "word_dist = nltk.FreqDist(words)\n",
    "\n",
    "emo = pd.DataFrame(word_dist.most_common(20), columns=['Word', 'Frequency'])\n",
    "emo = emo[emo['Word'].str.len() > 1]\n",
    "emo.head()"
   ]
  },
  {
   "cell_type": "code",
   "execution_count": 85,
   "metadata": {},
   "outputs": [
    {
     "data": {
      "text/html": [
       "<div>\n",
       "<style scoped>\n",
       "    .dataframe tbody tr th:only-of-type {\n",
       "        vertical-align: middle;\n",
       "    }\n",
       "\n",
       "    .dataframe tbody tr th {\n",
       "        vertical-align: top;\n",
       "    }\n",
       "\n",
       "    .dataframe thead th {\n",
       "        text-align: right;\n",
       "    }\n",
       "</style>\n",
       "<table border=\"1\" class=\"dataframe\">\n",
       "  <thead>\n",
       "    <tr style=\"text-align: right;\">\n",
       "      <th></th>\n",
       "      <th>Word</th>\n",
       "      <th>Frequency</th>\n",
       "    </tr>\n",
       "  </thead>\n",
       "  <tbody>\n",
       "    <tr>\n",
       "      <th>1</th>\n",
       "      <td>face_with_tears_of_joy</td>\n",
       "      <td>3354</td>\n",
       "    </tr>\n",
       "    <tr>\n",
       "      <th>2</th>\n",
       "      <td>red_heart</td>\n",
       "      <td>3152</td>\n",
       "    </tr>\n",
       "    <tr>\n",
       "      <th>3</th>\n",
       "      <td>smiling_face_with_heart-eyes</td>\n",
       "      <td>1645</td>\n",
       "    </tr>\n",
       "    <tr>\n",
       "      <th>4</th>\n",
       "      <td>loudly_crying_face</td>\n",
       "      <td>1508</td>\n",
       "    </tr>\n",
       "    <tr>\n",
       "      <th>5</th>\n",
       "      <td>folded_hands</td>\n",
       "      <td>1497</td>\n",
       "    </tr>\n",
       "  </tbody>\n",
       "</table>\n",
       "</div>"
      ],
      "text/plain": [
       "                           Word  Frequency\n",
       "1        face_with_tears_of_joy       3354\n",
       "2                     red_heart       3152\n",
       "3  smiling_face_with_heart-eyes       1645\n",
       "4            loudly_crying_face       1508\n",
       "5                  folded_hands       1497"
      ]
     },
     "execution_count": 85,
     "metadata": {},
     "output_type": "execute_result"
    }
   ],
   "source": [
    "pe = tweets_df[tweets_df.sentiment == 'positive']\n",
    "a = pe['emo'].str.lower().str.cat(sep=' ')\n",
    "words = nltk.tokenize.word_tokenize(a)\n",
    "word_dist = nltk.FreqDist(words)\n",
    "\n",
    "pemo = pd.DataFrame(word_dist.most_common(20), columns=['Word', 'Frequency'])\n",
    "pemo = pemo[pemo['Word'].str.len() > 1]\n",
    "pemo.head()"
   ]
  },
  {
   "cell_type": "code",
   "execution_count": 87,
   "metadata": {},
   "outputs": [
    {
     "data": {
      "text/html": [
       "<div>\n",
       "<style scoped>\n",
       "    .dataframe tbody tr th:only-of-type {\n",
       "        vertical-align: middle;\n",
       "    }\n",
       "\n",
       "    .dataframe tbody tr th {\n",
       "        vertical-align: top;\n",
       "    }\n",
       "\n",
       "    .dataframe thead th {\n",
       "        text-align: right;\n",
       "    }\n",
       "</style>\n",
       "<table border=\"1\" class=\"dataframe\">\n",
       "  <thead>\n",
       "    <tr style=\"text-align: right;\">\n",
       "      <th></th>\n",
       "      <th>Word</th>\n",
       "      <th>Frequency</th>\n",
       "    </tr>\n",
       "  </thead>\n",
       "  <tbody>\n",
       "    <tr>\n",
       "      <th>1</th>\n",
       "      <td>face_with_tears_of_joy</td>\n",
       "      <td>1883</td>\n",
       "    </tr>\n",
       "    <tr>\n",
       "      <th>2</th>\n",
       "      <td>loudly_crying_face</td>\n",
       "      <td>1110</td>\n",
       "    </tr>\n",
       "    <tr>\n",
       "      <th>3</th>\n",
       "      <td>rolling_on_the_floor_laughing</td>\n",
       "      <td>662</td>\n",
       "    </tr>\n",
       "    <tr>\n",
       "      <th>4</th>\n",
       "      <td>fire</td>\n",
       "      <td>361</td>\n",
       "    </tr>\n",
       "    <tr>\n",
       "      <th>5</th>\n",
       "      <td>female_sign</td>\n",
       "      <td>351</td>\n",
       "    </tr>\n",
       "  </tbody>\n",
       "</table>\n",
       "</div>"
      ],
      "text/plain": [
       "                            Word  Frequency\n",
       "1         face_with_tears_of_joy       1883\n",
       "2             loudly_crying_face       1110\n",
       "3  rolling_on_the_floor_laughing        662\n",
       "4                           fire        361\n",
       "5                    female_sign        351"
      ]
     },
     "execution_count": 87,
     "metadata": {},
     "output_type": "execute_result"
    }
   ],
   "source": [
    "ne = tweets_df[tweets_df.sentiment == 'negative']\n",
    "a = ne['emo'].str.lower().str.cat(sep=' ')\n",
    "words = nltk.tokenize.word_tokenize(a)\n",
    "word_dist = nltk.FreqDist(words)\n",
    "\n",
    "nemo = pd.DataFrame(word_dist.most_common(20), columns=['Word', 'Frequency'])\n",
    "nemo = nemo[nemo['Word'].str.len() > 1]\n",
    "nemo.head()"
   ]
  },
  {
   "cell_type": "code",
   "execution_count": null,
   "metadata": {},
   "outputs": [],
   "source": []
  },
  {
   "cell_type": "code",
   "execution_count": 89,
   "metadata": {},
   "outputs": [
    {
     "data": {
      "image/png": "[encoded data removed]",
      "text/plain": [
       "<Figure size 432x432 with 1 Axes>"
      ]
     },
     "metadata": {
      "needs_background": "light"
     },
     "output_type": "display_data"
    }
   ],
   "source": [
    "f, ax = plt.subplots(figsize=(6, 6))\n",
    "\n",
    "# Plot the total hashtags\n",
    "sns.set_color_codes(\"pastel\")\n",
    "sns.barplot(x=\"Frequency\", y=\"Word\", data=emo, label=\"Total\", color=\"b\")\n",
    "\n",
    "# Plot the positive hashtags\n",
    "sns.set_color_codes(\"muted\")\n",
    "sns.barplot(x=\"Frequency\", y=\"Word\", data=pemo,\n",
    "            label=\"Positive\", color=\"b\")\n",
    "\n",
    "# Add a legend and informative axis label\n",
    "ax.legend(ncol=2, loc=\"lower right\", frameon=True)\n",
    "ax.set(xlim=(0, 14000), ylabel=\"\",\n",
    "       xlabel=\"Emoji with Positive Sentiment over Total\")\n",
    "sns.despine(left=True, bottom=True)"
   ]
  },
  {
   "cell_type": "code",
   "execution_count": 90,
   "metadata": {},
   "outputs": [
    {
     "data": {
      "image/png": "[encoded data removed]",
      "text/plain": [
       "<Figure size 432x432 with 1 Axes>"
      ]
     },
     "metadata": {
      "needs_background": "light"
     },
     "output_type": "display_data"
    }
   ],
   "source": [
    "f, ax = plt.subplots(figsize=(6, 6))\n",
    "\n",
    "# Plot the total hashtags\n",
    "sns.set_color_codes(\"pastel\")\n",
    "sns.barplot(x=\"Frequency\", y=\"Word\", data=emo, label=\"Total\", color=\"b\")\n",
    "\n",
    "# Plot the positive hashtags\n",
    "sns.set_color_codes(\"deep\")\n",
    "sns.barplot(x=\"Frequency\", y=\"Word\", data=nemo,\n",
    "            label=\"Negative\", color=\"r\")\n",
    "\n",
    "# Add a legend and informative axis label\n",
    "ax.legend(ncol=2, loc=\"lower right\", frameon=True)\n",
    "ax.set(xlim=(0, 14000), ylabel=\"\",\n",
    "       xlabel=\"Emojis with Negative Sentiment over Total\")\n",
    "sns.despine(left=True, bottom=True)"
   ]
  },
  {
   "cell_type": "code",
   "execution_count": 91,
   "metadata": {
    "scrolled": true
   },
   "outputs": [
    {
     "name": "stderr",
     "output_type": "stream",
     "text": [
      "C:\\ProgramData\\Anaconda3\\lib\\site-packages\\ipykernel_launcher.py:3: SettingWithCopyWarning: \n",
      "A value is trying to be set on a copy of a slice from a DataFrame.\n",
      "Try using .loc[row_indexer,col_indexer] = value instead\n",
      "\n",
      "See the caveats in the documentation: http://pandas.pydata.org/pandas-docs/stable/indexing.html#indexing-view-versus-copy\n",
      "  This is separate from the ipykernel package so we can avoid doing imports until\n",
      "C:\\ProgramData\\Anaconda3\\lib\\site-packages\\ipykernel_launcher.py:4: SettingWithCopyWarning: \n",
      "A value is trying to be set on a copy of a slice from a DataFrame.\n",
      "Try using .loc[row_indexer,col_indexer] = value instead\n",
      "\n",
      "See the caveats in the documentation: http://pandas.pydata.org/pandas-docs/stable/indexing.html#indexing-view-versus-copy\n",
      "  after removing the cwd from sys.path.\n"
     ]
    },
    {
     "data": {
      "text/html": [
       "<div>\n",
       "<style scoped>\n",
       "    .dataframe tbody tr th:only-of-type {\n",
       "        vertical-align: middle;\n",
       "    }\n",
       "\n",
       "    .dataframe tbody tr th {\n",
       "        vertical-align: top;\n",
       "    }\n",
       "\n",
       "    .dataframe thead th {\n",
       "        text-align: right;\n",
       "    }\n",
       "</style>\n",
       "<table border=\"1\" class=\"dataframe\">\n",
       "  <thead>\n",
       "    <tr style=\"text-align: right;\">\n",
       "      <th></th>\n",
       "      <th>Word</th>\n",
       "      <th>Frequency</th>\n",
       "    </tr>\n",
       "  </thead>\n",
       "  <tbody>\n",
       "    <tr>\n",
       "      <th>1</th>\n",
       "      <td>fordnation</td>\n",
       "      <td>1515</td>\n",
       "    </tr>\n",
       "    <tr>\n",
       "      <th>2</th>\n",
       "      <td>realdonaldtrump</td>\n",
       "      <td>1383</td>\n",
       "    </tr>\n",
       "    <tr>\n",
       "      <th>3</th>\n",
       "      <td>justintrudeau</td>\n",
       "      <td>1206</td>\n",
       "    </tr>\n",
       "    <tr>\n",
       "      <th>4</th>\n",
       "      <td>andrewscheer</td>\n",
       "      <td>723</td>\n",
       "    </tr>\n",
       "    <tr>\n",
       "      <th>5</th>\n",
       "      <td>p_machor</td>\n",
       "      <td>616</td>\n",
       "    </tr>\n",
       "  </tbody>\n",
       "</table>\n",
       "</div>"
      ],
      "text/plain": [
       "              Word  Frequency\n",
       "1       fordnation       1515\n",
       "2  realdonaldtrump       1383\n",
       "3    justintrudeau       1206\n",
       "4     andrewscheer        723\n",
       "5         p_machor        616"
      ]
     },
     "execution_count": 91,
     "metadata": {},
     "output_type": "execute_result"
    }
   ],
   "source": [
    "tweets_mentions_df = tweets_df[tweets_df.mentions.notnull()]\n",
    "\n",
    "tweets_mentions_df['mentions'] = tweets_mentions_df['mentions'].apply(ast.literal_eval)\n",
    "tweets_mentions_df['ment'] = tweets_mentions_df['mentions'].apply(', '.join).str.lower()\n",
    "mentions_words = ', '.join([text for text in tweets_mentions_df['ment']])\n",
    "words = nltk.tokenize.word_tokenize(mentions_words)\n",
    "word_dist = nltk.FreqDist(words)\n",
    "\n",
    "men = pd.DataFrame(word_dist.most_common(20), columns=['Word', 'Frequency'])\n",
    "men = men[men['Word'].str.len() > 1]\n",
    "men.head()"
   ]
  },
  {
   "cell_type": "code",
   "execution_count": 93,
   "metadata": {},
   "outputs": [
    {
     "data": {
      "text/html": [
       "<div>\n",
       "<style scoped>\n",
       "    .dataframe tbody tr th:only-of-type {\n",
       "        vertical-align: middle;\n",
       "    }\n",
       "\n",
       "    .dataframe tbody tr th {\n",
       "        vertical-align: top;\n",
       "    }\n",
       "\n",
       "    .dataframe thead th {\n",
       "        text-align: right;\n",
       "    }\n",
       "</style>\n",
       "<table border=\"1\" class=\"dataframe\">\n",
       "  <thead>\n",
       "    <tr style=\"text-align: right;\">\n",
       "      <th></th>\n",
       "      <th>Word</th>\n",
       "      <th>Frequency</th>\n",
       "    </tr>\n",
       "  </thead>\n",
       "  <tbody>\n",
       "    <tr>\n",
       "      <th>1</th>\n",
       "      <td>fordnation</td>\n",
       "      <td>556</td>\n",
       "    </tr>\n",
       "    <tr>\n",
       "      <th>2</th>\n",
       "      <td>realdonaldtrump</td>\n",
       "      <td>478</td>\n",
       "    </tr>\n",
       "    <tr>\n",
       "      <th>3</th>\n",
       "      <td>justintrudeau</td>\n",
       "      <td>465</td>\n",
       "    </tr>\n",
       "    <tr>\n",
       "      <th>4</th>\n",
       "      <td>andrewscheer</td>\n",
       "      <td>282</td>\n",
       "    </tr>\n",
       "    <tr>\n",
       "      <th>5</th>\n",
       "      <td>puglaas</td>\n",
       "      <td>192</td>\n",
       "    </tr>\n",
       "  </tbody>\n",
       "</table>\n",
       "</div>"
      ],
      "text/plain": [
       "              Word  Frequency\n",
       "1       fordnation        556\n",
       "2  realdonaldtrump        478\n",
       "3    justintrudeau        465\n",
       "4     andrewscheer        282\n",
       "5          puglaas        192"
      ]
     },
     "execution_count": 93,
     "metadata": {},
     "output_type": "execute_result"
    }
   ],
   "source": [
    "#neg_tweets = tweets_df[tweets_df.mentions.notnull()]\n",
    "neg_tweets = tweets_mentions_df[tweets_mentions_df.sentiment == 'negative']\n",
    "\n",
    "mentions_words = ', '.join([text for text in neg_tweets['ment']])\n",
    "words = nltk.tokenize.word_tokenize(mentions_words)\n",
    "word_dist = nltk.FreqDist(words)\n",
    "\n",
    "nmen = pd.DataFrame(word_dist.most_common(20), columns=['Word', 'Frequency'])\n",
    "nmen = nmen[nmen['Word'].str.len() > 1]\n",
    "nmen.head()"
   ]
  },
  {
   "cell_type": "code",
   "execution_count": 94,
   "metadata": {},
   "outputs": [
    {
     "data": {
      "text/html": [
       "<div>\n",
       "<style scoped>\n",
       "    .dataframe tbody tr th:only-of-type {\n",
       "        vertical-align: middle;\n",
       "    }\n",
       "\n",
       "    .dataframe tbody tr th {\n",
       "        vertical-align: top;\n",
       "    }\n",
       "\n",
       "    .dataframe thead th {\n",
       "        text-align: right;\n",
       "    }\n",
       "</style>\n",
       "<table border=\"1\" class=\"dataframe\">\n",
       "  <thead>\n",
       "    <tr style=\"text-align: right;\">\n",
       "      <th></th>\n",
       "      <th>Word</th>\n",
       "      <th>Frequency</th>\n",
       "    </tr>\n",
       "  </thead>\n",
       "  <tbody>\n",
       "    <tr>\n",
       "      <th>1</th>\n",
       "      <td>fordnation</td>\n",
       "      <td>589</td>\n",
       "    </tr>\n",
       "    <tr>\n",
       "      <th>2</th>\n",
       "      <td>justintrudeau</td>\n",
       "      <td>445</td>\n",
       "    </tr>\n",
       "    <tr>\n",
       "      <th>3</th>\n",
       "      <td>realdonaldtrump</td>\n",
       "      <td>430</td>\n",
       "    </tr>\n",
       "    <tr>\n",
       "      <th>4</th>\n",
       "      <td>p_machor</td>\n",
       "      <td>352</td>\n",
       "    </tr>\n",
       "    <tr>\n",
       "      <th>5</th>\n",
       "      <td>flash_katie237</td>\n",
       "      <td>293</td>\n",
       "    </tr>\n",
       "  </tbody>\n",
       "</table>\n",
       "</div>"
      ],
      "text/plain": [
       "              Word  Frequency\n",
       "1       fordnation        589\n",
       "2    justintrudeau        445\n",
       "3  realdonaldtrump        430\n",
       "4         p_machor        352\n",
       "5   flash_katie237        293"
      ]
     },
     "execution_count": 94,
     "metadata": {},
     "output_type": "execute_result"
    }
   ],
   "source": [
    "pos_tweets = tweets_mentions_df[tweets_mentions_df.sentiment == 'positive']\n",
    "\n",
    "mentions_words = ', '.join([text for text in pos_tweets['ment']])\n",
    "words = nltk.tokenize.word_tokenize(mentions_words)\n",
    "word_dist = nltk.FreqDist(words)\n",
    "\n",
    "pmen = pd.DataFrame(word_dist.most_common(20), columns=['Word', 'Frequency'])\n",
    "pmen = pmen[pmen['Word'].str.len() > 1]\n",
    "pmen.head()"
   ]
  },
  {
   "cell_type": "code",
   "execution_count": 96,
   "metadata": {
    "scrolled": true
   },
   "outputs": [
    {
     "data": {
      "image/png": "[encoded data removed]",
      "text/plain": [
       "<Figure size 432x432 with 1 Axes>"
      ]
     },
     "metadata": {
      "needs_background": "light"
     },
     "output_type": "display_data"
    }
   ],
   "source": [
    "f, ax = plt.subplots(figsize=(6, 6))\n",
    "\n",
    "# Plot the total hashtags\n",
    "sns.set_color_codes(\"pastel\")\n",
    "sns.barplot(x=\"Frequency\", y=\"Word\", data=men, label=\"Total\", color=\"b\")\n",
    "\n",
    "# Plot the positive hashtags\n",
    "sns.set_color_codes(\"muted\")\n",
    "sns.barplot(x=\"Frequency\", y=\"Word\", data=pmen,\n",
    "            label=\"Positive\", color=\"b\")\n",
    "\n",
    "# Add a legend and informative axis label\n",
    "ax.legend(ncol=2, loc=\"lower right\", frameon=True)\n",
    "ax.set(xlim=(0, 2000), ylabel=\"\",\n",
    "       xlabel=\"Mentions with Positive Sentiment over Total\")\n",
    "sns.despine(left=True, bottom=True)"
   ]
  },
  {
   "cell_type": "code",
   "execution_count": 98,
   "metadata": {},
   "outputs": [
    {
     "data": {
      "image/png": "[encoded data removed]",
      "text/plain": [
       "<Figure size 432x432 with 1 Axes>"
      ]
     },
     "metadata": {
      "needs_background": "light"
     },
     "output_type": "display_data"
    }
   ],
   "source": [
    "f, ax = plt.subplots(figsize=(6, 6))\n",
    "\n",
    "# Plot the total hashtags\n",
    "sns.set_color_codes(\"pastel\")\n",
    "sns.barplot(x=\"Frequency\", y=\"Word\", data=men, label=\"Total\", color=\"b\")\n",
    "\n",
    "# Plot the positive hashtags\n",
    "sns.set_color_codes(\"deep\")\n",
    "sns.barplot(x=\"Frequency\", y=\"Word\", data=nmen,\n",
    "            label=\"Negative\", color=\"r\")\n",
    "\n",
    "# Add a legend and informative axis label\n",
    "ax.legend(ncol=2, loc=\"lower right\", frameon=True)\n",
    "ax.set(xlim=(0, 2000), ylabel=\"\",\n",
    "       xlabel=\"Mentions with Negative Sentiment over Total\")\n",
    "sns.despine(left=True, bottom=True)"
   ]
  },
  {
   "cell_type": "code",
   "execution_count": null,
   "metadata": {},
   "outputs": [],
   "source": []
  }
 ],
 "metadata": {
  "kernelspec": {
   "display_name": "Python 3",
   "language": "python",
   "name": "python3"
  },
  "language_info": {
   "codemirror_mode": {
    "name": "ipython",
    "version": 3
   },
   "file_extension": ".py",
   "mimetype": "text/x-python",
   "name": "python",
   "nbconvert_exporter": "python",
   "pygments_lexer": "ipython3",
   "version": "3.7.3"
  }
 },
 "nbformat": 4,
 "nbformat_minor": 2
}
